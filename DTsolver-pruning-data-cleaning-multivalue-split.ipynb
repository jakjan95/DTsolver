{
 "cells": [
  {
   "cell_type": "code",
   "execution_count": 1,
   "id": "improving-hopkins",
   "metadata": {},
   "outputs": [
    {
     "data": {
      "text/html": [
       "<style>.container { width:100% !important; }</style>"
      ],
      "text/plain": [
       "<IPython.core.display.HTML object>"
      ]
     },
     "metadata": {},
     "output_type": "display_data"
    }
   ],
   "source": [
    "from IPython.core.display import display, HTML\n",
    "display(HTML(\"<style>.container { width:100% !important; }</style>\"))"
   ]
  },
  {
   "cell_type": "code",
   "execution_count": 2,
   "id": "sustained-making",
   "metadata": {},
   "outputs": [],
   "source": [
    "import src.data_utils as data_utils\n",
    "import src.tree_build as dt_tree\n",
    "import src.heurestics as dt_heur\n",
    "import src.tree_utils as tree_utils\n",
    "import src.dt_testing_utils as dt_testing\n",
    "import src.tree_pruning as tree_pruning\n",
    "\n",
    "from pprint import pprint\n",
    "import numpy as np\n",
    "import pandas as pd\n",
    "from sklearn.utils import resample\n",
    "#TODO - Add cancer"
   ]
  },
  {
   "cell_type": "markdown",
   "id": "unable-audio",
   "metadata": {},
   "source": [
    "## Utils"
   ]
  },
  {
   "cell_type": "code",
   "execution_count": 3,
   "id": "plastic-leonard",
   "metadata": {},
   "outputs": [],
   "source": [
    "def print_tree_informations(tree, training_data, testing_data):\n",
    "    accuracy_testing = tree_utils.tree_accuracy(testing_data, tree)\n",
    "    accuracy_training = tree_utils.tree_accuracy(training_data, tree)\n",
    "    levels = tree_utils.number_of_levels(tree)\n",
    "    leafs = tree_utils.number_of_leafs(tree)\n",
    "    print(\"Accuracy for: testing {0:.2f}% | training {1:.2f}% | levels {2} | leafs {3}\".format(accuracy_testing, accuracy_training,levels, leafs))"
   ]
  },
  {
   "cell_type": "code",
   "execution_count": 4,
   "id": "hungry-tactics",
   "metadata": {},
   "outputs": [],
   "source": [
    "#heuristics\n",
    "def train_and_prune_tree(heurestic, training_data, testing_data, validation_data):\n",
    "    print(\"Before Pruning - heuristic = {0}\".format(heurestic.__name__))\n",
    "    trained_tree = dt_tree.build_tree_generic(heurestic, training_data)\n",
    "    print_tree_informations(trained_tree, training_data, testing_data)\n",
    "#     pprint(trained_tree)\n",
    "    print(\"After Pruning:\")\n",
    "    pruned_trained_tree = tree_pruning.reduced_error_pruning(trained_tree, validation_data)\n",
    "    print_tree_informations(pruned_trained_tree, training_data, testing_data)\n",
    "    print('\\n')\n",
    "#     pprint(pruned_trained_tree)"
   ]
  },
  {
   "cell_type": "code",
   "execution_count": 5,
   "id": "powered-duncan",
   "metadata": {},
   "outputs": [],
   "source": [
    "default_heuristics = [dt_heur.gini_impurity_weighted, dt_heur.info_gain, dt_heur.information_gain_ratio,\n",
    "                      dt_heur.distance_measure, dt_heur.j_measure, dt_heur.weight_of_evidence,\n",
    "                      dt_heur.gini_pri, dt_heur.relief, dt_heur.relevance, dt_heur.mdl_simple]\n",
    "\n",
    "def train_tree_for_different_heuristics(training_data, testing_data, validation_data, heuristics = default_heuristics):\n",
    "    for heuristic in heuristics:\n",
    "        train_and_prune_tree(heuristic, training_data, testing_data, validation_data)"
   ]
  },
  {
   "cell_type": "markdown",
   "id": "abandoned-satin",
   "metadata": {},
   "source": [
    "# Car dataset"
   ]
  },
  {
   "cell_type": "markdown",
   "id": "sharing-envelope",
   "metadata": {},
   "source": [
    "## Dataset preparation"
   ]
  },
  {
   "cell_type": "code",
   "execution_count": 6,
   "id": "explicit-bermuda",
   "metadata": {},
   "outputs": [
    {
     "data": {
      "text/html": [
       "<div>\n",
       "<style scoped>\n",
       "    .dataframe tbody tr th:only-of-type {\n",
       "        vertical-align: middle;\n",
       "    }\n",
       "\n",
       "    .dataframe tbody tr th {\n",
       "        vertical-align: top;\n",
       "    }\n",
       "\n",
       "    .dataframe thead th {\n",
       "        text-align: right;\n",
       "    }\n",
       "</style>\n",
       "<table border=\"1\" class=\"dataframe\">\n",
       "  <thead>\n",
       "    <tr style=\"text-align: right;\">\n",
       "      <th></th>\n",
       "      <th>buying</th>\n",
       "      <th>maint</th>\n",
       "      <th>doors</th>\n",
       "      <th>persons</th>\n",
       "      <th>lug_boot</th>\n",
       "      <th>safety</th>\n",
       "      <th>CLASS</th>\n",
       "    </tr>\n",
       "  </thead>\n",
       "  <tbody>\n",
       "    <tr>\n",
       "      <th>0</th>\n",
       "      <td>low</td>\n",
       "      <td>high</td>\n",
       "      <td>5more</td>\n",
       "      <td>2</td>\n",
       "      <td>med</td>\n",
       "      <td>low</td>\n",
       "      <td>unacc</td>\n",
       "    </tr>\n",
       "    <tr>\n",
       "      <th>1</th>\n",
       "      <td>med</td>\n",
       "      <td>low</td>\n",
       "      <td>4</td>\n",
       "      <td>2</td>\n",
       "      <td>small</td>\n",
       "      <td>high</td>\n",
       "      <td>unacc</td>\n",
       "    </tr>\n",
       "    <tr>\n",
       "      <th>2</th>\n",
       "      <td>low</td>\n",
       "      <td>med</td>\n",
       "      <td>2</td>\n",
       "      <td>4</td>\n",
       "      <td>big</td>\n",
       "      <td>high</td>\n",
       "      <td>vgood</td>\n",
       "    </tr>\n",
       "    <tr>\n",
       "      <th>3</th>\n",
       "      <td>low</td>\n",
       "      <td>vhigh</td>\n",
       "      <td>2</td>\n",
       "      <td>2</td>\n",
       "      <td>big</td>\n",
       "      <td>low</td>\n",
       "      <td>unacc</td>\n",
       "    </tr>\n",
       "    <tr>\n",
       "      <th>4</th>\n",
       "      <td>vhigh</td>\n",
       "      <td>vhigh</td>\n",
       "      <td>5more</td>\n",
       "      <td>more</td>\n",
       "      <td>small</td>\n",
       "      <td>high</td>\n",
       "      <td>unacc</td>\n",
       "    </tr>\n",
       "    <tr>\n",
       "      <th>...</th>\n",
       "      <td>...</td>\n",
       "      <td>...</td>\n",
       "      <td>...</td>\n",
       "      <td>...</td>\n",
       "      <td>...</td>\n",
       "      <td>...</td>\n",
       "      <td>...</td>\n",
       "    </tr>\n",
       "    <tr>\n",
       "      <th>1723</th>\n",
       "      <td>high</td>\n",
       "      <td>med</td>\n",
       "      <td>3</td>\n",
       "      <td>more</td>\n",
       "      <td>small</td>\n",
       "      <td>med</td>\n",
       "      <td>unacc</td>\n",
       "    </tr>\n",
       "    <tr>\n",
       "      <th>1724</th>\n",
       "      <td>med</td>\n",
       "      <td>low</td>\n",
       "      <td>2</td>\n",
       "      <td>2</td>\n",
       "      <td>small</td>\n",
       "      <td>low</td>\n",
       "      <td>unacc</td>\n",
       "    </tr>\n",
       "    <tr>\n",
       "      <th>1725</th>\n",
       "      <td>vhigh</td>\n",
       "      <td>med</td>\n",
       "      <td>2</td>\n",
       "      <td>more</td>\n",
       "      <td>big</td>\n",
       "      <td>med</td>\n",
       "      <td>acc</td>\n",
       "    </tr>\n",
       "    <tr>\n",
       "      <th>1726</th>\n",
       "      <td>low</td>\n",
       "      <td>vhigh</td>\n",
       "      <td>3</td>\n",
       "      <td>2</td>\n",
       "      <td>big</td>\n",
       "      <td>med</td>\n",
       "      <td>unacc</td>\n",
       "    </tr>\n",
       "    <tr>\n",
       "      <th>1727</th>\n",
       "      <td>high</td>\n",
       "      <td>high</td>\n",
       "      <td>5more</td>\n",
       "      <td>2</td>\n",
       "      <td>big</td>\n",
       "      <td>high</td>\n",
       "      <td>unacc</td>\n",
       "    </tr>\n",
       "  </tbody>\n",
       "</table>\n",
       "<p>1728 rows × 7 columns</p>\n",
       "</div>"
      ],
      "text/plain": [
       "     buying  maint  doors persons lug_boot safety  CLASS\n",
       "0       low   high  5more       2      med    low  unacc\n",
       "1       med    low      4       2    small   high  unacc\n",
       "2       low    med      2       4      big   high  vgood\n",
       "3       low  vhigh      2       2      big    low  unacc\n",
       "4     vhigh  vhigh  5more    more    small   high  unacc\n",
       "...     ...    ...    ...     ...      ...    ...    ...\n",
       "1723   high    med      3    more    small    med  unacc\n",
       "1724    med    low      2       2    small    low  unacc\n",
       "1725  vhigh    med      2    more      big    med    acc\n",
       "1726    low  vhigh      3       2      big    med  unacc\n",
       "1727   high   high  5more       2      big   high  unacc\n",
       "\n",
       "[1728 rows x 7 columns]"
      ]
     },
     "execution_count": 6,
     "metadata": {},
     "output_type": "execute_result"
    }
   ],
   "source": [
    "car_dataset_path = 'data/car.data'\n",
    "car_dataset_labels = ['buying','maint','doors','persons','lug_boot','safety','CLASS']\n",
    "car_dataset = data_utils.preapare_dataset(car_dataset_path, car_dataset_labels)\n",
    "# car_dataset.head()\n",
    "car_dataset"
   ]
  },
  {
   "cell_type": "markdown",
   "id": "careful-karma",
   "metadata": {},
   "source": [
    "### Dataset 70%"
   ]
  },
  {
   "cell_type": "code",
   "execution_count": 7,
   "id": "invalid-holly",
   "metadata": {},
   "outputs": [
    {
     "name": "stdout",
     "output_type": "stream",
     "text": [
      "unacc    844\n",
      "acc      269\n",
      "vgood     51\n",
      "good      45\n",
      "Name: CLASS, dtype: int64\n"
     ]
    },
    {
     "data": {
      "text/plain": [
       "<AxesSubplot:title={'center':'class'}>"
      ]
     },
     "execution_count": 7,
     "metadata": {},
     "output_type": "execute_result"
    },
    {
     "data": {
      "image/png": "[encoded data removed]",
      "text/plain": [
       "<Figure size 432x288 with 1 Axes>"
      ]
     },
     "metadata": {
      "needs_background": "light"
     },
     "output_type": "display_data"
    }
   ],
   "source": [
    "car_set_for_training70, car_testing70 = data_utils.data_split(car_dataset, 70)\n",
    "car_training70, car_validation70 = data_utils.split_training_data_for_pruning(car_set_for_training70)\n",
    "print(car_set_for_training70['CLASS'].value_counts())\n",
    "car_training70['CLASS'].value_counts().plot(kind='bar', title='class')"
   ]
  },
  {
   "cell_type": "code",
   "execution_count": null,
   "id": "complicated-traffic",
   "metadata": {},
   "outputs": [],
   "source": [
    "car_training70"
   ]
  },
  {
   "cell_type": "code",
   "execution_count": 11,
   "id": "affiliated-possible",
   "metadata": {},
   "outputs": [
    {
     "name": "stdout",
     "output_type": "stream",
     "text": [
      "172\n"
     ]
    },
    {
     "data": {
      "text/plain": [
       "<AxesSubplot:title={'center':'class'}>"
      ]
     },
     "execution_count": 11,
     "metadata": {},
     "output_type": "execute_result"
    },
    {
     "data": {
      "image/png": "[encoded data removed]",
      "text/plain": [
       "<Figure size 432x288 with 1 Axes>"
      ]
     },
     "metadata": {
      "needs_background": "light"
     },
     "output_type": "display_data"
    }
   ],
   "source": [
    "#Target for all 174\n",
    "resampling_car70 = car_training70.copy()\n",
    "unacc_part70 = resampling_car70[resampling_car70['CLASS'] == 'unacc']\n",
    "acc_part70 = resampling_car70[resampling_car70['CLASS'] == 'acc'] \n",
    "print(len(acc_part70))\n",
    "vgood_part70 = resampling_car70[resampling_car70['CLASS'] == 'vgood'] \n",
    "good_part70 = resampling_car70[resampling_car70['CLASS'] == 'good'] \n",
    "\n",
    "\n",
    "unacc_downsample70 = resample(unacc_part70, \n",
    "                                 replace=False,     \n",
    "                                 n_samples=172)\n",
    "\n",
    "vgood_part_upsampled70 = resample(vgood_part70, \n",
    "                                 replace=True,     \n",
    "                                 n_samples=172)\n",
    "good_part_upsampled70 = resample(good_part70, \n",
    "                                 replace=True,     \n",
    "                                 n_samples=172)\n",
    "\n",
    "# Combine majority class with upsamplet minority class\n",
    "balanced_car_training70 = pd.concat([unacc_downsample70, acc_part70, vgood_part_upsampled70, good_part_upsampled70])\n",
    "balanced_car_training70 = balanced_car_training70.reset_index(level=None, drop=True, inplace=False, col_level=0, col_fill='')\n",
    "balanced_car_training70 = balanced_car_training70.sample(frac=1).reset_index(drop=True)\n",
    "\n",
    "car_training70 = balanced_car_training70.copy()\n",
    "car_training70['CLASS'].value_counts().plot(kind='bar', title='class')"
   ]
  },
  {
   "cell_type": "code",
   "execution_count": null,
   "id": "early-insertion",
   "metadata": {},
   "outputs": [],
   "source": [
    "car_training70.head()"
   ]
  },
  {
   "cell_type": "markdown",
   "id": "grand-dispute",
   "metadata": {},
   "source": [
    "### Dataset 80%"
   ]
  },
  {
   "cell_type": "code",
   "execution_count": 12,
   "id": "electrical-hearing",
   "metadata": {},
   "outputs": [
    {
     "name": "stdout",
     "output_type": "stream",
     "text": [
      "unacc    964\n",
      "acc      305\n",
      "vgood     57\n",
      "good      56\n",
      "Name: CLASS, dtype: int64\n"
     ]
    },
    {
     "data": {
      "text/plain": [
       "<AxesSubplot:title={'center':'class'}>"
      ]
     },
     "execution_count": 12,
     "metadata": {},
     "output_type": "execute_result"
    },
    {
     "data": {
      "image/png": "[encoded data removed]",
      "text/plain": [
       "<Figure size 432x288 with 1 Axes>"
      ]
     },
     "metadata": {
      "needs_background": "light"
     },
     "output_type": "display_data"
    }
   ],
   "source": [
    "car_set_for_training80, car_testing80 = data_utils.data_split(car_dataset, 80)\n",
    "car_training80, car_validation80 = data_utils.split_training_data_for_pruning(car_set_for_training80)\n",
    "print(car_set_for_training80['CLASS'].value_counts())\n",
    "car_training80['CLASS'].value_counts().plot(kind='bar', title='class')"
   ]
  },
  {
   "cell_type": "code",
   "execution_count": null,
   "id": "given-sending",
   "metadata": {},
   "outputs": [],
   "source": [
    "car_training80"
   ]
  },
  {
   "cell_type": "code",
   "execution_count": 15,
   "id": "functioning-thought",
   "metadata": {},
   "outputs": [
    {
     "name": "stdout",
     "output_type": "stream",
     "text": [
      "200\n"
     ]
    },
    {
     "data": {
      "text/plain": [
       "<AxesSubplot:title={'center':'class'}>"
      ]
     },
     "execution_count": 15,
     "metadata": {},
     "output_type": "execute_result"
    },
    {
     "data": {
      "image/png": "[encoded data removed]",
      "text/plain": [
       "<Figure size 432x288 with 1 Axes>"
      ]
     },
     "metadata": {
      "needs_background": "light"
     },
     "output_type": "display_data"
    }
   ],
   "source": [
    "#Target for all 318\n",
    "resampling_car80 = car_training80.copy()\n",
    "unacc_part80 = resampling_car80[resampling_car80['CLASS'] == 'unacc']\n",
    "acc_part80 = resampling_car80[resampling_car80['CLASS'] == 'acc'] \n",
    "print(len(acc_part80))\n",
    "vgood_part80 = resampling_car80[resampling_car80['CLASS'] == 'vgood'] \n",
    "good_part80 = resampling_car80[resampling_car80['CLASS'] == 'good'] \n",
    "\n",
    "\n",
    "unacc_downsample80 = resample(unacc_part80, \n",
    "                                 replace=False,     \n",
    "                                 n_samples=200)\n",
    "\n",
    "vgood_part_upsampled80 = resample(vgood_part80, \n",
    "                                 replace=True,     \n",
    "                                 n_samples=200)\n",
    "good_part_upsampled80 = resample(good_part80, \n",
    "                                 replace=True,     \n",
    "                                 n_samples=200)\n",
    "\n",
    "# Combine majority class with upsamplet minority class\n",
    "balanced_car_training80 = pd.concat([unacc_downsample80, acc_part80, vgood_part_upsampled80, good_part_upsampled80])\n",
    "balanced_car_training80 = balanced_car_training80.reset_index(level=None, drop=True, inplace=False, col_level=0, col_fill='')\n",
    "balanced_car_training80 = balanced_car_training80.sample(frac=1).reset_index(drop=True)\n",
    "\n",
    "car_training80 = balanced_car_training80.copy()\n",
    "car_training80['CLASS'].value_counts().plot(kind='bar', title='class')"
   ]
  },
  {
   "cell_type": "code",
   "execution_count": null,
   "id": "assisted-breakfast",
   "metadata": {},
   "outputs": [],
   "source": [
    "car_training80.head()"
   ]
  },
  {
   "cell_type": "markdown",
   "id": "vanilla-banks",
   "metadata": {},
   "source": [
    "## Model Training"
   ]
  },
  {
   "cell_type": "markdown",
   "id": "governing-jesus",
   "metadata": {},
   "source": [
    "### Dataset 90%"
   ]
  },
  {
   "cell_type": "code",
   "execution_count": 16,
   "id": "classified-dublin",
   "metadata": {},
   "outputs": [
    {
     "name": "stdout",
     "output_type": "stream",
     "text": [
      "unacc    1088\n",
      "acc       344\n",
      "vgood      62\n",
      "good       61\n",
      "Name: CLASS, dtype: int64\n"
     ]
    },
    {
     "data": {
      "text/plain": [
       "<AxesSubplot:title={'center':'class'}>"
      ]
     },
     "execution_count": 16,
     "metadata": {},
     "output_type": "execute_result"
    },
    {
     "data": {
      "image/png": "[encoded data removed]",
      "text/plain": [
       "<Figure size 432x288 with 1 Axes>"
      ]
     },
     "metadata": {
      "needs_background": "light"
     },
     "output_type": "display_data"
    }
   ],
   "source": [
    "car_set_for_training90, car_testing90 = data_utils.data_split(car_dataset, 90)\n",
    "car_training90, car_validation90 = data_utils.split_training_data_for_pruning(car_set_for_training90)\n",
    "print(car_set_for_training90['CLASS'].value_counts())\n",
    "car_training90['CLASS'].value_counts().plot(kind='bar', title='class')"
   ]
  },
  {
   "cell_type": "code",
   "execution_count": null,
   "id": "valuable-cover",
   "metadata": {},
   "outputs": [],
   "source": [
    "# car_training90"
   ]
  },
  {
   "cell_type": "code",
   "execution_count": 18,
   "id": "organized-debate",
   "metadata": {},
   "outputs": [
    {
     "name": "stdout",
     "output_type": "stream",
     "text": [
      "220\n"
     ]
    },
    {
     "data": {
      "text/plain": [
       "<AxesSubplot:title={'center':'class'}>"
      ]
     },
     "execution_count": 18,
     "metadata": {},
     "output_type": "execute_result"
    },
    {
     "data": {
      "image/png": "[encoded data removed]",
      "text/plain": [
       "<Figure size 432x288 with 1 Axes>"
      ]
     },
     "metadata": {
      "needs_background": "light"
     },
     "output_type": "display_data"
    }
   ],
   "source": [
    "#Target for all 352?\n",
    "resampling_car90 = car_training90.copy()\n",
    "unacc_part90 = resampling_car90[resampling_car90['CLASS'] == 'unacc']\n",
    "acc_part90 = resampling_car90[resampling_car90['CLASS'] == 'acc']\n",
    "print(len(acc_part90))\n",
    "vgood_part90 = resampling_car90[resampling_car90['CLASS'] == 'vgood'] \n",
    "good_part90 = resampling_car90[resampling_car90['CLASS'] == 'good'] \n",
    "\n",
    "\n",
    "unacc_downsample90 = resample(unacc_part90, \n",
    "                                 replace=False,     \n",
    "                                 n_samples=220)\n",
    "\n",
    "vgood_part_upsampled90 = resample(vgood_part90, \n",
    "                                 replace=True,     \n",
    "                                 n_samples=220)\n",
    "good_part_upsampled90 = resample(good_part90, \n",
    "                                 replace=True,     \n",
    "                                 n_samples=220)\n",
    "\n",
    "# Combine majority class with upsamplet minority class\n",
    "balanced_car_training90 = pd.concat([unacc_downsample90, acc_part90, vgood_part_upsampled90, good_part_upsampled90])\n",
    "balanced_car_training90 = balanced_car_training90.reset_index(level=None, drop=True, inplace=False, col_level=0, col_fill='')\n",
    "balanced_car_training90 = balanced_car_training90.sample(frac=1).reset_index(drop=True)\n",
    "\n",
    "car_training90 = balanced_car_training90.copy()\n",
    "car_training90['CLASS'].value_counts().plot(kind='bar', title='class')"
   ]
  },
  {
   "cell_type": "code",
   "execution_count": null,
   "id": "preceding-basics",
   "metadata": {},
   "outputs": [],
   "source": [
    "car_training90"
   ]
  },
  {
   "cell_type": "code",
   "execution_count": null,
   "id": "duplicate-translator",
   "metadata": {},
   "outputs": [],
   "source": [
    "# trained_tree_car = dt_tree.build_tree_generic(dt_heur.information_gain_ratio, car_training)"
   ]
  },
  {
   "cell_type": "code",
   "execution_count": null,
   "id": "dying-genetics",
   "metadata": {},
   "outputs": [],
   "source": [
    "# # print(trained_tree_car)\n",
    "# pprint(trained_tree_car)"
   ]
  },
  {
   "cell_type": "code",
   "execution_count": null,
   "id": "convenient-advertising",
   "metadata": {},
   "outputs": [],
   "source": [
    "train_tree_for_different_heuristics(car_training70, car_testing70, car_validation70)"
   ]
  },
  {
   "cell_type": "code",
   "execution_count": null,
   "id": "powered-stanford",
   "metadata": {},
   "outputs": [],
   "source": [
    "train_tree_for_different_heuristics(car_training80, car_testing80, car_validation80)"
   ]
  },
  {
   "cell_type": "code",
   "execution_count": null,
   "id": "relevant-bryan",
   "metadata": {},
   "outputs": [],
   "source": [
    "train_tree_for_different_heuristics(car_training90, car_testing90, car_validation90)"
   ]
  },
  {
   "cell_type": "markdown",
   "id": "complimentary-library",
   "metadata": {},
   "source": [
    "# Cancer Dataset"
   ]
  },
  {
   "cell_type": "markdown",
   "id": "foster-commodity",
   "metadata": {},
   "source": [
    "# Dataset preparation"
   ]
  },
  {
   "cell_type": "code",
   "execution_count": 19,
   "id": "floating-jefferson",
   "metadata": {},
   "outputs": [
    {
     "data": {
      "text/html": [
       "<div>\n",
       "<style scoped>\n",
       "    .dataframe tbody tr th:only-of-type {\n",
       "        vertical-align: middle;\n",
       "    }\n",
       "\n",
       "    .dataframe tbody tr th {\n",
       "        vertical-align: top;\n",
       "    }\n",
       "\n",
       "    .dataframe thead th {\n",
       "        text-align: right;\n",
       "    }\n",
       "</style>\n",
       "<table border=\"1\" class=\"dataframe\">\n",
       "  <thead>\n",
       "    <tr style=\"text-align: right;\">\n",
       "      <th></th>\n",
       "      <th>age</th>\n",
       "      <th>menopause</th>\n",
       "      <th>tumor-size</th>\n",
       "      <th>inv-nodes</th>\n",
       "      <th>node-caps</th>\n",
       "      <th>deg-malig</th>\n",
       "      <th>breast</th>\n",
       "      <th>breast-quad</th>\n",
       "      <th>irradiat</th>\n",
       "      <th>CLASS</th>\n",
       "    </tr>\n",
       "  </thead>\n",
       "  <tbody>\n",
       "    <tr>\n",
       "      <th>0</th>\n",
       "      <td>40-49</td>\n",
       "      <td>premeno</td>\n",
       "      <td>25-29</td>\n",
       "      <td>9-11</td>\n",
       "      <td>yes</td>\n",
       "      <td>3</td>\n",
       "      <td>right</td>\n",
       "      <td>left_up</td>\n",
       "      <td>no</td>\n",
       "      <td>recurrence-events</td>\n",
       "    </tr>\n",
       "    <tr>\n",
       "      <th>1</th>\n",
       "      <td>50-59</td>\n",
       "      <td>ge40</td>\n",
       "      <td>10-14</td>\n",
       "      <td>0-2</td>\n",
       "      <td>no</td>\n",
       "      <td>2</td>\n",
       "      <td>right</td>\n",
       "      <td>left_low</td>\n",
       "      <td>no</td>\n",
       "      <td>no-recurrence-events</td>\n",
       "    </tr>\n",
       "    <tr>\n",
       "      <th>2</th>\n",
       "      <td>60-69</td>\n",
       "      <td>ge40</td>\n",
       "      <td>45-49</td>\n",
       "      <td>6-8</td>\n",
       "      <td>yes</td>\n",
       "      <td>3</td>\n",
       "      <td>left</td>\n",
       "      <td>central</td>\n",
       "      <td>no</td>\n",
       "      <td>no-recurrence-events</td>\n",
       "    </tr>\n",
       "    <tr>\n",
       "      <th>3</th>\n",
       "      <td>30-39</td>\n",
       "      <td>premeno</td>\n",
       "      <td>25-29</td>\n",
       "      <td>0-2</td>\n",
       "      <td>no</td>\n",
       "      <td>2</td>\n",
       "      <td>right</td>\n",
       "      <td>left_low</td>\n",
       "      <td>no</td>\n",
       "      <td>no-recurrence-events</td>\n",
       "    </tr>\n",
       "    <tr>\n",
       "      <th>4</th>\n",
       "      <td>50-59</td>\n",
       "      <td>ge40</td>\n",
       "      <td>30-34</td>\n",
       "      <td>0-2</td>\n",
       "      <td>no</td>\n",
       "      <td>1</td>\n",
       "      <td>right</td>\n",
       "      <td>central</td>\n",
       "      <td>no</td>\n",
       "      <td>no-recurrence-events</td>\n",
       "    </tr>\n",
       "    <tr>\n",
       "      <th>...</th>\n",
       "      <td>...</td>\n",
       "      <td>...</td>\n",
       "      <td>...</td>\n",
       "      <td>...</td>\n",
       "      <td>...</td>\n",
       "      <td>...</td>\n",
       "      <td>...</td>\n",
       "      <td>...</td>\n",
       "      <td>...</td>\n",
       "      <td>...</td>\n",
       "    </tr>\n",
       "    <tr>\n",
       "      <th>281</th>\n",
       "      <td>50-59</td>\n",
       "      <td>ge40</td>\n",
       "      <td>20-24</td>\n",
       "      <td>0-2</td>\n",
       "      <td>no</td>\n",
       "      <td>3</td>\n",
       "      <td>left</td>\n",
       "      <td>left_up</td>\n",
       "      <td>no</td>\n",
       "      <td>no-recurrence-events</td>\n",
       "    </tr>\n",
       "    <tr>\n",
       "      <th>282</th>\n",
       "      <td>40-49</td>\n",
       "      <td>premeno</td>\n",
       "      <td>30-34</td>\n",
       "      <td>6-8</td>\n",
       "      <td>no</td>\n",
       "      <td>2</td>\n",
       "      <td>left</td>\n",
       "      <td>left_up</td>\n",
       "      <td>no</td>\n",
       "      <td>no-recurrence-events</td>\n",
       "    </tr>\n",
       "    <tr>\n",
       "      <th>283</th>\n",
       "      <td>50-59</td>\n",
       "      <td>premeno</td>\n",
       "      <td>25-29</td>\n",
       "      <td>0-2</td>\n",
       "      <td>no</td>\n",
       "      <td>1</td>\n",
       "      <td>right</td>\n",
       "      <td>left_up</td>\n",
       "      <td>no</td>\n",
       "      <td>recurrence-events</td>\n",
       "    </tr>\n",
       "    <tr>\n",
       "      <th>284</th>\n",
       "      <td>50-59</td>\n",
       "      <td>premeno</td>\n",
       "      <td>10-14</td>\n",
       "      <td>0-2</td>\n",
       "      <td>no</td>\n",
       "      <td>1</td>\n",
       "      <td>left</td>\n",
       "      <td>left_low</td>\n",
       "      <td>no</td>\n",
       "      <td>no-recurrence-events</td>\n",
       "    </tr>\n",
       "    <tr>\n",
       "      <th>285</th>\n",
       "      <td>60-69</td>\n",
       "      <td>ge40</td>\n",
       "      <td>30-34</td>\n",
       "      <td>0-2</td>\n",
       "      <td>no</td>\n",
       "      <td>1</td>\n",
       "      <td>left</td>\n",
       "      <td>left_up</td>\n",
       "      <td>no</td>\n",
       "      <td>no-recurrence-events</td>\n",
       "    </tr>\n",
       "  </tbody>\n",
       "</table>\n",
       "<p>286 rows × 10 columns</p>\n",
       "</div>"
      ],
      "text/plain": [
       "       age menopause tumor-size inv-nodes node-caps  deg-malig breast  \\\n",
       "0    40-49   premeno      25-29      9-11       yes          3  right   \n",
       "1    50-59      ge40      10-14       0-2        no          2  right   \n",
       "2    60-69      ge40      45-49       6-8       yes          3   left   \n",
       "3    30-39   premeno      25-29       0-2        no          2  right   \n",
       "4    50-59      ge40      30-34       0-2        no          1  right   \n",
       "..     ...       ...        ...       ...       ...        ...    ...   \n",
       "281  50-59      ge40      20-24       0-2        no          3   left   \n",
       "282  40-49   premeno      30-34       6-8        no          2   left   \n",
       "283  50-59   premeno      25-29       0-2        no          1  right   \n",
       "284  50-59   premeno      10-14       0-2        no          1   left   \n",
       "285  60-69      ge40      30-34       0-2        no          1   left   \n",
       "\n",
       "    breast-quad irradiat                 CLASS  \n",
       "0       left_up       no     recurrence-events  \n",
       "1      left_low       no  no-recurrence-events  \n",
       "2       central       no  no-recurrence-events  \n",
       "3      left_low       no  no-recurrence-events  \n",
       "4       central       no  no-recurrence-events  \n",
       "..          ...      ...                   ...  \n",
       "281     left_up       no  no-recurrence-events  \n",
       "282     left_up       no  no-recurrence-events  \n",
       "283     left_up       no     recurrence-events  \n",
       "284    left_low       no  no-recurrence-events  \n",
       "285     left_up       no  no-recurrence-events  \n",
       "\n",
       "[286 rows x 10 columns]"
      ]
     },
     "execution_count": 19,
     "metadata": {},
     "output_type": "execute_result"
    }
   ],
   "source": [
    "cancer_dataset_path = 'data/breast-cancer.data'\n",
    "cancer_dataset_labels = ['CLASS','age','menopause','tumor-size','inv-nodes','node-caps','deg-malig','breast', 'breast-quad', 'irradiat']\n",
    "cancer_dataset = data_utils.preapare_dataset(cancer_dataset_path, cancer_dataset_labels)\n",
    "cancer_dataset = cancer_dataset[['age','menopause','tumor-size','inv-nodes', 'node-caps','deg-malig','breast', 'breast-quad', 'irradiat', 'CLASS']]\n",
    "# cancer_dataset.head()\n",
    "cancer_dataset"
   ]
  },
  {
   "cell_type": "markdown",
   "id": "electronic-clear",
   "metadata": {},
   "source": [
    "### Cancer 70%"
   ]
  },
  {
   "cell_type": "code",
   "execution_count": 20,
   "id": "posted-bunny",
   "metadata": {},
   "outputs": [
    {
     "name": "stdout",
     "output_type": "stream",
     "text": [
      "no-recurrence-events    84\n",
      "recurrence-events       49\n",
      "Name: CLASS, dtype: int64\n"
     ]
    },
    {
     "data": {
      "text/plain": [
       "<AxesSubplot:title={'center':'class'}>"
      ]
     },
     "execution_count": 20,
     "metadata": {},
     "output_type": "execute_result"
    },
    {
     "data": {
      "image/png": "[encoded data removed]",
      "text/plain": [
       "<Figure size 432x288 with 1 Axes>"
      ]
     },
     "metadata": {
      "needs_background": "light"
     },
     "output_type": "display_data"
    }
   ],
   "source": [
    "cancer_set_for_training70, cancer_testing70 = data_utils.data_split(cancer_dataset, 70)\n",
    "cancer_training70, cancer_validation70 = data_utils.split_training_data_for_pruning(cancer_set_for_training70)\n",
    "print(cancer_training70['CLASS'].value_counts())\n",
    "cancer_training70['CLASS'].value_counts().plot(kind='bar', title='class')"
   ]
  },
  {
   "cell_type": "code",
   "execution_count": 21,
   "id": "dominican-frontier",
   "metadata": {},
   "outputs": [
    {
     "data": {
      "text/plain": [
       "<AxesSubplot:title={'center':'class'}>"
      ]
     },
     "execution_count": 21,
     "metadata": {},
     "output_type": "execute_result"
    },
    {
     "data": {
      "image/png": "[encoded data removed]",
      "text/plain": [
       "<Figure size 432x288 with 1 Axes>"
      ]
     },
     "metadata": {
      "needs_background": "light"
     },
     "output_type": "display_data"
    }
   ],
   "source": [
    "#Target for all 174\n",
    "resampling_cancer70 = cancer_training70.copy()\n",
    "recurrence_events_part70 = resampling_cancer70[resampling_cancer70['CLASS'] == 'recurrence-events']\n",
    "no_recurrence_events_part70 = resampling_cancer70[resampling_cancer70['CLASS'] == 'no-recurrence-events'] \n",
    "\n",
    "recurrence_events_part_upsampled70 = resample(recurrence_events_part70, \n",
    "                                 replace=True,     \n",
    "                                 n_samples=84)\n",
    "\n",
    "# Combine majority class with upsamplet minority class\n",
    "balanced_cnacer_training70 = pd.concat([recurrence_events_part_upsampled70, no_recurrence_events_part70])\n",
    "balanced_cnacer_training70 = balanced_cnacer_training70.reset_index(level=None, drop=True, inplace=False, col_level=0, col_fill='')\n",
    "balanced_cnacer_training70 = balanced_cnacer_training70.sample(frac=1).reset_index(drop=True)\n",
    "\n",
    "cancer_training70 = balanced_cnacer_training70.copy()\n",
    "cancer_training70['CLASS'].value_counts().plot(kind='bar', title='class')"
   ]
  },
  {
   "cell_type": "markdown",
   "id": "about-blind",
   "metadata": {},
   "source": [
    "### Cancer 80%"
   ]
  },
  {
   "cell_type": "code",
   "execution_count": 22,
   "id": "earlier-trade",
   "metadata": {},
   "outputs": [
    {
     "name": "stdout",
     "output_type": "stream",
     "text": [
      "no-recurrence-events    99\n",
      "recurrence-events       52\n",
      "Name: CLASS, dtype: int64\n"
     ]
    },
    {
     "data": {
      "text/plain": [
       "<AxesSubplot:title={'center':'class'}>"
      ]
     },
     "execution_count": 22,
     "metadata": {},
     "output_type": "execute_result"
    },
    {
     "data": {
      "image/png": "[encoded data removed]",
      "text/plain": [
       "<Figure size 432x288 with 1 Axes>"
      ]
     },
     "metadata": {
      "needs_background": "light"
     },
     "output_type": "display_data"
    }
   ],
   "source": [
    "cancer_set_for_training80, cancer_testing80 = data_utils.data_split(cancer_dataset, 80)\n",
    "cancer_training80, cancer_validation80 = data_utils.split_training_data_for_pruning(cancer_set_for_training80)\n",
    "print(cancer_training80['CLASS'].value_counts())\n",
    "cancer_training80['CLASS'].value_counts().plot(kind='bar', title='class')"
   ]
  },
  {
   "cell_type": "code",
   "execution_count": 23,
   "id": "valuable-coordinate",
   "metadata": {},
   "outputs": [
    {
     "data": {
      "text/plain": [
       "<AxesSubplot:title={'center':'class'}>"
      ]
     },
     "execution_count": 23,
     "metadata": {},
     "output_type": "execute_result"
    },
    {
     "data": {
      "image/png": "[encoded data removed]",
      "text/plain": [
       "<Figure size 432x288 with 1 Axes>"
      ]
     },
     "metadata": {
      "needs_background": "light"
     },
     "output_type": "display_data"
    }
   ],
   "source": [
    "#Target for all 174\n",
    "resampling_cancer80 = cancer_training80.copy()\n",
    "recurrence_events_part80 = resampling_cancer80[resampling_cancer80['CLASS'] == 'recurrence-events']\n",
    "no_recurrence_events_part80 = resampling_cancer80[resampling_cancer80['CLASS'] == 'no-recurrence-events'] \n",
    "\n",
    "recurrence_events_part_upsampled80 = resample(recurrence_events_part80, \n",
    "                                 replace=True,     \n",
    "                                 n_samples=99)\n",
    "\n",
    "# Combine majority class with upsamplet minority class\n",
    "balanced_cnacer_training80 = pd.concat([recurrence_events_part_upsampled80, no_recurrence_events_part80])\n",
    "balanced_cnacer_training80 = balanced_cnacer_training80.reset_index(level=None, drop=True, inplace=False, col_level=0, col_fill='')\n",
    "balanced_cnacer_training80 = balanced_cnacer_training80.sample(frac=1).reset_index(drop=True)\n",
    "\n",
    "cancer_training80 = balanced_cnacer_training80.copy()\n",
    "cancer_training80['CLASS'].value_counts().plot(kind='bar', title='class')"
   ]
  },
  {
   "cell_type": "markdown",
   "id": "forced-turkish",
   "metadata": {},
   "source": [
    "### Cancer 90%"
   ]
  },
  {
   "cell_type": "code",
   "execution_count": 24,
   "id": "graphic-vacation",
   "metadata": {},
   "outputs": [
    {
     "name": "stdout",
     "output_type": "stream",
     "text": [
      "no-recurrence-events    116\n",
      "recurrence-events        55\n",
      "Name: CLASS, dtype: int64\n"
     ]
    },
    {
     "data": {
      "text/plain": [
       "<AxesSubplot:title={'center':'class'}>"
      ]
     },
     "execution_count": 24,
     "metadata": {},
     "output_type": "execute_result"
    },
    {
     "data": {
      "image/png": "[encoded data removed]",
      "text/plain": [
       "<Figure size 432x288 with 1 Axes>"
      ]
     },
     "metadata": {
      "needs_background": "light"
     },
     "output_type": "display_data"
    }
   ],
   "source": [
    "cancer_set_for_training90, cancer_testing90 = data_utils.data_split(cancer_dataset, 90)\n",
    "cancer_training90, cancer_validation90 = data_utils.split_training_data_for_pruning(cancer_set_for_training90)\n",
    "print(cancer_training90['CLASS'].value_counts())\n",
    "cancer_training90['CLASS'].value_counts().plot(kind='bar', title='class')"
   ]
  },
  {
   "cell_type": "code",
   "execution_count": 25,
   "id": "fewer-supplier",
   "metadata": {},
   "outputs": [
    {
     "data": {
      "text/plain": [
       "<AxesSubplot:title={'center':'class'}>"
      ]
     },
     "execution_count": 25,
     "metadata": {},
     "output_type": "execute_result"
    },
    {
     "data": {
      "image/png": "[encoded data removed]",
      "text/plain": [
       "<Figure size 432x288 with 1 Axes>"
      ]
     },
     "metadata": {
      "needs_background": "light"
     },
     "output_type": "display_data"
    }
   ],
   "source": [
    "\n",
    "#Target for all 174\n",
    "resampling_cancer90 = cancer_training90.copy()\n",
    "recurrence_events_part90 = resampling_cancer90[resampling_cancer90['CLASS'] == 'recurrence-events']\n",
    "no_recurrence_events_part90 = resampling_cancer90[resampling_cancer90['CLASS'] == 'no-recurrence-events'] \n",
    "\n",
    "recurrence_events_part_upsampled90 = resample(recurrence_events_part90, \n",
    "                                 replace=True,     \n",
    "                                 n_samples=116)\n",
    "\n",
    "# Combine majority class with upsamplet minority class\n",
    "balanced_cnacer_training90 = pd.concat([recurrence_events_part_upsampled90, no_recurrence_events_part90])\n",
    "balanced_cnacer_training90 = balanced_cnacer_training90.reset_index(level=None, drop=True, inplace=False, col_level=0, col_fill='')\n",
    "balanced_cnacer_training90 = balanced_cnacer_training90.sample(frac=1).reset_index(drop=True)\n",
    "\n",
    "cancer_training90 = balanced_cnacer_training90.copy()\n",
    "cancer_training90['CLASS'].value_counts().plot(kind='bar', title='class')"
   ]
  },
  {
   "cell_type": "markdown",
   "id": "velvet-bridal",
   "metadata": {},
   "source": [
    "## Model Training"
   ]
  },
  {
   "cell_type": "code",
   "execution_count": null,
   "id": "attractive-sheet",
   "metadata": {},
   "outputs": [],
   "source": [
    "train_tree_for_different_heuristics(cancer_training70, cancer_testing70, cancer_validation70)"
   ]
  },
  {
   "cell_type": "code",
   "execution_count": null,
   "id": "northern-strength",
   "metadata": {},
   "outputs": [],
   "source": [
    "train_tree_for_different_heuristics(cancer_training80, cancer_testing80, cancer_validation80)"
   ]
  },
  {
   "cell_type": "code",
   "execution_count": null,
   "id": "painful-owner",
   "metadata": {},
   "outputs": [],
   "source": [
    "train_tree_for_different_heuristics(cancer_training90, cancer_testing90, cancer_validation90)"
   ]
  },
  {
   "cell_type": "markdown",
   "id": "automated-tulsa",
   "metadata": {},
   "source": [
    "# CMC Dataset"
   ]
  },
  {
   "cell_type": "markdown",
   "id": "loving-accreditation",
   "metadata": {},
   "source": [
    "## Dataset preparation"
   ]
  },
  {
   "cell_type": "code",
   "execution_count": 26,
   "id": "forbidden-museum",
   "metadata": {},
   "outputs": [
    {
     "data": {
      "text/html": [
       "<div>\n",
       "<style scoped>\n",
       "    .dataframe tbody tr th:only-of-type {\n",
       "        vertical-align: middle;\n",
       "    }\n",
       "\n",
       "    .dataframe tbody tr th {\n",
       "        vertical-align: top;\n",
       "    }\n",
       "\n",
       "    .dataframe thead th {\n",
       "        text-align: right;\n",
       "    }\n",
       "</style>\n",
       "<table border=\"1\" class=\"dataframe\">\n",
       "  <thead>\n",
       "    <tr style=\"text-align: right;\">\n",
       "      <th></th>\n",
       "      <th>age</th>\n",
       "      <th>education</th>\n",
       "      <th>husbandEducation</th>\n",
       "      <th>noChildren</th>\n",
       "      <th>religion</th>\n",
       "      <th>isWorking</th>\n",
       "      <th>husbandOccupation</th>\n",
       "      <th>livingStandard</th>\n",
       "      <th>mediaExposure</th>\n",
       "      <th>CLASS</th>\n",
       "    </tr>\n",
       "  </thead>\n",
       "  <tbody>\n",
       "    <tr>\n",
       "      <th>0</th>\n",
       "      <td>28</td>\n",
       "      <td>3</td>\n",
       "      <td>4</td>\n",
       "      <td>2</td>\n",
       "      <td>0</td>\n",
       "      <td>1</td>\n",
       "      <td>2</td>\n",
       "      <td>3</td>\n",
       "      <td>0</td>\n",
       "      <td>2</td>\n",
       "    </tr>\n",
       "    <tr>\n",
       "      <th>1</th>\n",
       "      <td>41</td>\n",
       "      <td>4</td>\n",
       "      <td>4</td>\n",
       "      <td>8</td>\n",
       "      <td>1</td>\n",
       "      <td>1</td>\n",
       "      <td>1</td>\n",
       "      <td>4</td>\n",
       "      <td>0</td>\n",
       "      <td>2</td>\n",
       "    </tr>\n",
       "    <tr>\n",
       "      <th>2</th>\n",
       "      <td>29</td>\n",
       "      <td>3</td>\n",
       "      <td>4</td>\n",
       "      <td>4</td>\n",
       "      <td>1</td>\n",
       "      <td>0</td>\n",
       "      <td>1</td>\n",
       "      <td>3</td>\n",
       "      <td>0</td>\n",
       "      <td>1</td>\n",
       "    </tr>\n",
       "    <tr>\n",
       "      <th>3</th>\n",
       "      <td>35</td>\n",
       "      <td>3</td>\n",
       "      <td>3</td>\n",
       "      <td>4</td>\n",
       "      <td>1</td>\n",
       "      <td>1</td>\n",
       "      <td>3</td>\n",
       "      <td>2</td>\n",
       "      <td>0</td>\n",
       "      <td>2</td>\n",
       "    </tr>\n",
       "    <tr>\n",
       "      <th>4</th>\n",
       "      <td>42</td>\n",
       "      <td>2</td>\n",
       "      <td>4</td>\n",
       "      <td>8</td>\n",
       "      <td>1</td>\n",
       "      <td>1</td>\n",
       "      <td>1</td>\n",
       "      <td>4</td>\n",
       "      <td>0</td>\n",
       "      <td>2</td>\n",
       "    </tr>\n",
       "    <tr>\n",
       "      <th>...</th>\n",
       "      <td>...</td>\n",
       "      <td>...</td>\n",
       "      <td>...</td>\n",
       "      <td>...</td>\n",
       "      <td>...</td>\n",
       "      <td>...</td>\n",
       "      <td>...</td>\n",
       "      <td>...</td>\n",
       "      <td>...</td>\n",
       "      <td>...</td>\n",
       "    </tr>\n",
       "    <tr>\n",
       "      <th>1468</th>\n",
       "      <td>25</td>\n",
       "      <td>3</td>\n",
       "      <td>3</td>\n",
       "      <td>1</td>\n",
       "      <td>1</td>\n",
       "      <td>1</td>\n",
       "      <td>2</td>\n",
       "      <td>1</td>\n",
       "      <td>0</td>\n",
       "      <td>3</td>\n",
       "    </tr>\n",
       "    <tr>\n",
       "      <th>1469</th>\n",
       "      <td>32</td>\n",
       "      <td>3</td>\n",
       "      <td>3</td>\n",
       "      <td>6</td>\n",
       "      <td>1</td>\n",
       "      <td>0</td>\n",
       "      <td>3</td>\n",
       "      <td>3</td>\n",
       "      <td>0</td>\n",
       "      <td>2</td>\n",
       "    </tr>\n",
       "    <tr>\n",
       "      <th>1470</th>\n",
       "      <td>31</td>\n",
       "      <td>2</td>\n",
       "      <td>2</td>\n",
       "      <td>8</td>\n",
       "      <td>1</td>\n",
       "      <td>1</td>\n",
       "      <td>2</td>\n",
       "      <td>2</td>\n",
       "      <td>1</td>\n",
       "      <td>1</td>\n",
       "    </tr>\n",
       "    <tr>\n",
       "      <th>1471</th>\n",
       "      <td>25</td>\n",
       "      <td>2</td>\n",
       "      <td>3</td>\n",
       "      <td>2</td>\n",
       "      <td>1</td>\n",
       "      <td>1</td>\n",
       "      <td>3</td>\n",
       "      <td>2</td>\n",
       "      <td>0</td>\n",
       "      <td>1</td>\n",
       "    </tr>\n",
       "    <tr>\n",
       "      <th>1472</th>\n",
       "      <td>22</td>\n",
       "      <td>2</td>\n",
       "      <td>4</td>\n",
       "      <td>1</td>\n",
       "      <td>1</td>\n",
       "      <td>1</td>\n",
       "      <td>3</td>\n",
       "      <td>3</td>\n",
       "      <td>0</td>\n",
       "      <td>3</td>\n",
       "    </tr>\n",
       "  </tbody>\n",
       "</table>\n",
       "<p>1473 rows × 10 columns</p>\n",
       "</div>"
      ],
      "text/plain": [
       "      age  education  husbandEducation  noChildren  religion  isWorking  \\\n",
       "0      28          3                 4           2         0          1   \n",
       "1      41          4                 4           8         1          1   \n",
       "2      29          3                 4           4         1          0   \n",
       "3      35          3                 3           4         1          1   \n",
       "4      42          2                 4           8         1          1   \n",
       "...   ...        ...               ...         ...       ...        ...   \n",
       "1468   25          3                 3           1         1          1   \n",
       "1469   32          3                 3           6         1          0   \n",
       "1470   31          2                 2           8         1          1   \n",
       "1471   25          2                 3           2         1          1   \n",
       "1472   22          2                 4           1         1          1   \n",
       "\n",
       "      husbandOccupation  livingStandard  mediaExposure  CLASS  \n",
       "0                     2               3              0      2  \n",
       "1                     1               4              0      2  \n",
       "2                     1               3              0      1  \n",
       "3                     3               2              0      2  \n",
       "4                     1               4              0      2  \n",
       "...                 ...             ...            ...    ...  \n",
       "1468                  2               1              0      3  \n",
       "1469                  3               3              0      2  \n",
       "1470                  2               2              1      1  \n",
       "1471                  3               2              0      1  \n",
       "1472                  3               3              0      3  \n",
       "\n",
       "[1473 rows x 10 columns]"
      ]
     },
     "execution_count": 26,
     "metadata": {},
     "output_type": "execute_result"
    }
   ],
   "source": [
    "cmc_dataset_path = 'data/cmc.data'\n",
    "cmc_dataset_labels = ['age','education','husbandEducation','noChildren','religion','isWorking','husbandOccupation','livingStandard', 'mediaExposure', 'CLASS']\n",
    "cmc_dataset = data_utils.preapare_dataset(cmc_dataset_path, cmc_dataset_labels)\n",
    "# cmc_dataset['CLASS'] = cmc_dataset['CLASS'].apply(str)\n",
    "# cmc_dataset.head()\n",
    "cmc_dataset"
   ]
  },
  {
   "cell_type": "code",
   "execution_count": 27,
   "id": "modern-range",
   "metadata": {},
   "outputs": [],
   "source": [
    "vals_to_replace_education = {1: 'low', 2:'medium', 3:'normal', 4:'high'}\n",
    "vals_to_replace_husbandEducation = {1: 'low', 2:'medium', 3:'normal', 4:'high'}\n",
    "vals_to_replace_religion = {0: 'Non-Islam', 1:'Islam'}\n",
    "vals_to_replace_isWorking = {0: 'Yes', 1:'No'}\n",
    "vals_to_replace_livingStandard= {1: 'low', 2:'medium', 3:'normal', 4:'high'}\n",
    "vals_to_replace_mediaExposure = {0: 'Good', 1:'Not good'}\n",
    "vals_to_replace_CLASS = {1: 'No-use', 2:'Long-term', 3: 'Short-term'}\n",
    "cmc_dataset['education'] = cmc_dataset['education'].map(vals_to_replace_education)\n",
    "cmc_dataset['husbandEducation'] = cmc_dataset['husbandEducation'].map(vals_to_replace_husbandEducation)\n",
    "cmc_dataset['religion'] = cmc_dataset['religion'].map(vals_to_replace_religion)\n",
    "cmc_dataset['isWorking'] = cmc_dataset['isWorking'].map(vals_to_replace_isWorking)\n",
    "cmc_dataset['livingStandard'] = cmc_dataset['livingStandard'].map(vals_to_replace_livingStandard)\n",
    "cmc_dataset['mediaExposure'] = cmc_dataset['mediaExposure'].map(vals_to_replace_mediaExposure)\n",
    "cmc_dataset['CLASS'] = cmc_dataset['CLASS'].map(vals_to_replace_CLASS)"
   ]
  },
  {
   "cell_type": "code",
   "execution_count": null,
   "id": "attended-cooling",
   "metadata": {},
   "outputs": [],
   "source": [
    "# cmc_dataset.head()\n",
    "cmc_dataset"
   ]
  },
  {
   "cell_type": "markdown",
   "id": "revolutionary-canadian",
   "metadata": {},
   "source": [
    "### Cmc 70%"
   ]
  },
  {
   "cell_type": "code",
   "execution_count": 28,
   "id": "guilty-hypothetical",
   "metadata": {},
   "outputs": [
    {
     "name": "stdout",
     "output_type": "stream",
     "text": [
      "No-use        311\n",
      "Short-term    227\n",
      "Long-term     149\n",
      "Name: CLASS, dtype: int64\n"
     ]
    },
    {
     "data": {
      "text/plain": [
       "<AxesSubplot:title={'center':'class'}>"
      ]
     },
     "execution_count": 28,
     "metadata": {},
     "output_type": "execute_result"
    },
    {
     "data": {
      "image/png": "[encoded data removed]",
      "text/plain": [
       "<Figure size 432x288 with 1 Axes>"
      ]
     },
     "metadata": {
      "needs_background": "light"
     },
     "output_type": "display_data"
    }
   ],
   "source": [
    "cmc_set_for_training70, cmc_testing70 = data_utils.data_split(cmc_dataset, 70)\n",
    "cmc_training70, cmc_validation70 = data_utils.split_training_data_for_pruning(cmc_set_for_training70)\n",
    "print(cmc_training70['CLASS'].value_counts())\n",
    "#This data seems to be balanced so dont need aditional balancing\n",
    "cmc_training70['CLASS'].value_counts().plot(kind='bar', title='class')"
   ]
  },
  {
   "cell_type": "markdown",
   "id": "substantial-granny",
   "metadata": {},
   "source": [
    "## Cmc 80%"
   ]
  },
  {
   "cell_type": "code",
   "execution_count": 29,
   "id": "considered-colleague",
   "metadata": {},
   "outputs": [
    {
     "name": "stdout",
     "output_type": "stream",
     "text": [
      "No-use        350\n",
      "Short-term    263\n",
      "Long-term     172\n",
      "Name: CLASS, dtype: int64\n"
     ]
    },
    {
     "data": {
      "text/plain": [
       "<AxesSubplot:title={'center':'class'}>"
      ]
     },
     "execution_count": 29,
     "metadata": {},
     "output_type": "execute_result"
    },
    {
     "data": {
      "image/png": "[encoded data removed]",
      "text/plain": [
       "<Figure size 432x288 with 1 Axes>"
      ]
     },
     "metadata": {
      "needs_background": "light"
     },
     "output_type": "display_data"
    }
   ],
   "source": [
    "cmc_set_for_training80, cmc_testing80 = data_utils.data_split(cmc_dataset, 80)\n",
    "cmc_training80, cmc_validation80 = data_utils.split_training_data_for_pruning(cmc_set_for_training80)\n",
    "print(cmc_training80['CLASS'].value_counts())\n",
    "#This data seems to be balanced so dont need aditional balancing\n",
    "cmc_training80['CLASS'].value_counts().plot(kind='bar', title='class')"
   ]
  },
  {
   "cell_type": "markdown",
   "id": "requested-multimedia",
   "metadata": {},
   "source": [
    "## Cmc 90%"
   ]
  },
  {
   "cell_type": "code",
   "execution_count": 30,
   "id": "rapid-sunset",
   "metadata": {},
   "outputs": [
    {
     "name": "stdout",
     "output_type": "stream",
     "text": [
      "No-use        390\n",
      "Short-term    298\n",
      "Long-term     195\n",
      "Name: CLASS, dtype: int64\n"
     ]
    },
    {
     "data": {
      "text/plain": [
       "<AxesSubplot:title={'center':'class'}>"
      ]
     },
     "execution_count": 30,
     "metadata": {},
     "output_type": "execute_result"
    },
    {
     "data": {
      "image/png": "[encoded data removed]",
      "text/plain": [
       "<Figure size 432x288 with 1 Axes>"
      ]
     },
     "metadata": {
      "needs_background": "light"
     },
     "output_type": "display_data"
    }
   ],
   "source": [
    "cmc_set_for_training90, cmc_testing90 = data_utils.data_split(cmc_dataset, 90)\n",
    "cmc_training90, cmc_validation90 = data_utils.split_training_data_for_pruning(cmc_set_for_training90)\n",
    "print(cmc_training90['CLASS'].value_counts())\n",
    "#This data seems to be balanced so dont need aditional balancing\n",
    "cmc_training90['CLASS'].value_counts().plot(kind='bar', title='class')"
   ]
  },
  {
   "cell_type": "markdown",
   "id": "blind-response",
   "metadata": {},
   "source": [
    "## Model Training"
   ]
  },
  {
   "cell_type": "code",
   "execution_count": null,
   "id": "extraordinary-range",
   "metadata": {},
   "outputs": [],
   "source": [
    "train_tree_for_different_heuristics(cmc_training70, cmc_testing70, cmc_validation70)"
   ]
  },
  {
   "cell_type": "code",
   "execution_count": null,
   "id": "aerial-shareware",
   "metadata": {},
   "outputs": [],
   "source": [
    "train_tree_for_different_heuristics(cmc_training80, cmc_testing80, cmc_validation80)"
   ]
  },
  {
   "cell_type": "code",
   "execution_count": null,
   "id": "younger-royalty",
   "metadata": {},
   "outputs": [],
   "source": [
    "\n",
    "train_tree_for_different_heuristics(cmc_training90, cmc_testing90, cmc_validation90)"
   ]
  },
  {
   "cell_type": "markdown",
   "id": "likely-accountability",
   "metadata": {},
   "source": [
    "# Adult Dataset"
   ]
  },
  {
   "cell_type": "markdown",
   "id": "egyptian-graphics",
   "metadata": {},
   "source": [
    "## Data preparation"
   ]
  },
  {
   "cell_type": "code",
   "execution_count": 31,
   "id": "heavy-homeless",
   "metadata": {},
   "outputs": [
    {
     "data": {
      "text/html": [
       "<div>\n",
       "<style scoped>\n",
       "    .dataframe tbody tr th:only-of-type {\n",
       "        vertical-align: middle;\n",
       "    }\n",
       "\n",
       "    .dataframe tbody tr th {\n",
       "        vertical-align: top;\n",
       "    }\n",
       "\n",
       "    .dataframe thead th {\n",
       "        text-align: right;\n",
       "    }\n",
       "</style>\n",
       "<table border=\"1\" class=\"dataframe\">\n",
       "  <thead>\n",
       "    <tr style=\"text-align: right;\">\n",
       "      <th></th>\n",
       "      <th>age</th>\n",
       "      <th>workclass</th>\n",
       "      <th>fnlwgt</th>\n",
       "      <th>education</th>\n",
       "      <th>education-num</th>\n",
       "      <th>marital-status</th>\n",
       "      <th>occupation</th>\n",
       "      <th>relationship</th>\n",
       "      <th>race</th>\n",
       "      <th>sex</th>\n",
       "      <th>capital-gain</th>\n",
       "      <th>capital-loss</th>\n",
       "      <th>hourse-per-week</th>\n",
       "      <th>native-country</th>\n",
       "      <th>CLASS</th>\n",
       "    </tr>\n",
       "  </thead>\n",
       "  <tbody>\n",
       "    <tr>\n",
       "      <th>0</th>\n",
       "      <td>23</td>\n",
       "      <td>Private</td>\n",
       "      <td>269687</td>\n",
       "      <td>Assoc-voc</td>\n",
       "      <td>11</td>\n",
       "      <td>Never-married</td>\n",
       "      <td>Tech-support</td>\n",
       "      <td>Not-in-family</td>\n",
       "      <td>White</td>\n",
       "      <td>Male</td>\n",
       "      <td>0</td>\n",
       "      <td>0</td>\n",
       "      <td>40</td>\n",
       "      <td>United-States</td>\n",
       "      <td>&lt;=50K</td>\n",
       "    </tr>\n",
       "    <tr>\n",
       "      <th>1</th>\n",
       "      <td>48</td>\n",
       "      <td>Private</td>\n",
       "      <td>126754</td>\n",
       "      <td>Masters</td>\n",
       "      <td>14</td>\n",
       "      <td>Married-civ-spouse</td>\n",
       "      <td>Prof-specialty</td>\n",
       "      <td>Husband</td>\n",
       "      <td>White</td>\n",
       "      <td>Male</td>\n",
       "      <td>15024</td>\n",
       "      <td>0</td>\n",
       "      <td>40</td>\n",
       "      <td>United-States</td>\n",
       "      <td>&gt;50K</td>\n",
       "    </tr>\n",
       "    <tr>\n",
       "      <th>2</th>\n",
       "      <td>43</td>\n",
       "      <td>Self-emp-inc</td>\n",
       "      <td>33729</td>\n",
       "      <td>Bachelors</td>\n",
       "      <td>13</td>\n",
       "      <td>Married-civ-spouse</td>\n",
       "      <td>Sales</td>\n",
       "      <td>Husband</td>\n",
       "      <td>White</td>\n",
       "      <td>Male</td>\n",
       "      <td>0</td>\n",
       "      <td>0</td>\n",
       "      <td>45</td>\n",
       "      <td>United-States</td>\n",
       "      <td>&gt;50K</td>\n",
       "    </tr>\n",
       "    <tr>\n",
       "      <th>3</th>\n",
       "      <td>50</td>\n",
       "      <td>State-gov</td>\n",
       "      <td>307392</td>\n",
       "      <td>Masters</td>\n",
       "      <td>14</td>\n",
       "      <td>Divorced</td>\n",
       "      <td>Prof-specialty</td>\n",
       "      <td>Unmarried</td>\n",
       "      <td>White</td>\n",
       "      <td>Female</td>\n",
       "      <td>0</td>\n",
       "      <td>0</td>\n",
       "      <td>40</td>\n",
       "      <td>United-States</td>\n",
       "      <td>&lt;=50K</td>\n",
       "    </tr>\n",
       "    <tr>\n",
       "      <th>4</th>\n",
       "      <td>25</td>\n",
       "      <td>Private</td>\n",
       "      <td>19214</td>\n",
       "      <td>HS-grad</td>\n",
       "      <td>9</td>\n",
       "      <td>Never-married</td>\n",
       "      <td>Handlers-cleaners</td>\n",
       "      <td>Not-in-family</td>\n",
       "      <td>White</td>\n",
       "      <td>Male</td>\n",
       "      <td>0</td>\n",
       "      <td>0</td>\n",
       "      <td>40</td>\n",
       "      <td>United-States</td>\n",
       "      <td>&lt;=50K</td>\n",
       "    </tr>\n",
       "  </tbody>\n",
       "</table>\n",
       "</div>"
      ],
      "text/plain": [
       "   age      workclass  fnlwgt   education  education-num       marital-status  \\\n",
       "0   23        Private  269687   Assoc-voc             11        Never-married   \n",
       "1   48        Private  126754     Masters             14   Married-civ-spouse   \n",
       "2   43   Self-emp-inc   33729   Bachelors             13   Married-civ-spouse   \n",
       "3   50      State-gov  307392     Masters             14             Divorced   \n",
       "4   25        Private   19214     HS-grad              9        Never-married   \n",
       "\n",
       "           occupation    relationship    race      sex  capital-gain  \\\n",
       "0        Tech-support   Not-in-family   White     Male             0   \n",
       "1      Prof-specialty         Husband   White     Male         15024   \n",
       "2               Sales         Husband   White     Male             0   \n",
       "3      Prof-specialty       Unmarried   White   Female             0   \n",
       "4   Handlers-cleaners   Not-in-family   White     Male             0   \n",
       "\n",
       "   capital-loss  hourse-per-week  native-country   CLASS  \n",
       "0             0               40   United-States   <=50K  \n",
       "1             0               40   United-States    >50K  \n",
       "2             0               45   United-States    >50K  \n",
       "3             0               40   United-States   <=50K  \n",
       "4             0               40   United-States   <=50K  "
      ]
     },
     "execution_count": 31,
     "metadata": {},
     "output_type": "execute_result"
    }
   ],
   "source": [
    "adult_dataset_path = 'data/adult.data'\n",
    "adult_dataset_labels = ['age','workclass','fnlwgt','education','education-num','marital-status','occupation','relationship','race','sex','capital-gain','capital-loss','hourse-per-week','native-country','CLASS']\n",
    "adult_dataset = data_utils.preapare_dataset(adult_dataset_path, adult_dataset_labels)\n",
    "adult_dataset.head()\n",
    "# adult_dataset"
   ]
  },
  {
   "cell_type": "code",
   "execution_count": 32,
   "id": "beneficial-devil",
   "metadata": {},
   "outputs": [
    {
     "data": {
      "text/html": [
       "<div>\n",
       "<style scoped>\n",
       "    .dataframe tbody tr th:only-of-type {\n",
       "        vertical-align: middle;\n",
       "    }\n",
       "\n",
       "    .dataframe tbody tr th {\n",
       "        vertical-align: top;\n",
       "    }\n",
       "\n",
       "    .dataframe thead th {\n",
       "        text-align: right;\n",
       "    }\n",
       "</style>\n",
       "<table border=\"1\" class=\"dataframe\">\n",
       "  <thead>\n",
       "    <tr style=\"text-align: right;\">\n",
       "      <th></th>\n",
       "      <th>age</th>\n",
       "      <th>workclass</th>\n",
       "      <th>education</th>\n",
       "      <th>education-num</th>\n",
       "      <th>marital-status</th>\n",
       "      <th>occupation</th>\n",
       "      <th>relationship</th>\n",
       "      <th>race</th>\n",
       "      <th>sex</th>\n",
       "      <th>hourse-per-week</th>\n",
       "      <th>native-country</th>\n",
       "      <th>CLASS</th>\n",
       "    </tr>\n",
       "  </thead>\n",
       "  <tbody>\n",
       "    <tr>\n",
       "      <th>0</th>\n",
       "      <td>23</td>\n",
       "      <td>Private</td>\n",
       "      <td>Assoc-voc</td>\n",
       "      <td>11</td>\n",
       "      <td>Never-married</td>\n",
       "      <td>Tech-support</td>\n",
       "      <td>Not-in-family</td>\n",
       "      <td>White</td>\n",
       "      <td>Male</td>\n",
       "      <td>40</td>\n",
       "      <td>United-States</td>\n",
       "      <td>&lt;=50K</td>\n",
       "    </tr>\n",
       "    <tr>\n",
       "      <th>1</th>\n",
       "      <td>48</td>\n",
       "      <td>Private</td>\n",
       "      <td>Masters</td>\n",
       "      <td>14</td>\n",
       "      <td>Married-civ-spouse</td>\n",
       "      <td>Prof-specialty</td>\n",
       "      <td>Husband</td>\n",
       "      <td>White</td>\n",
       "      <td>Male</td>\n",
       "      <td>40</td>\n",
       "      <td>United-States</td>\n",
       "      <td>&gt;50K</td>\n",
       "    </tr>\n",
       "    <tr>\n",
       "      <th>2</th>\n",
       "      <td>43</td>\n",
       "      <td>Self-emp-inc</td>\n",
       "      <td>Bachelors</td>\n",
       "      <td>13</td>\n",
       "      <td>Married-civ-spouse</td>\n",
       "      <td>Sales</td>\n",
       "      <td>Husband</td>\n",
       "      <td>White</td>\n",
       "      <td>Male</td>\n",
       "      <td>45</td>\n",
       "      <td>United-States</td>\n",
       "      <td>&gt;50K</td>\n",
       "    </tr>\n",
       "    <tr>\n",
       "      <th>3</th>\n",
       "      <td>50</td>\n",
       "      <td>State-gov</td>\n",
       "      <td>Masters</td>\n",
       "      <td>14</td>\n",
       "      <td>Divorced</td>\n",
       "      <td>Prof-specialty</td>\n",
       "      <td>Unmarried</td>\n",
       "      <td>White</td>\n",
       "      <td>Female</td>\n",
       "      <td>40</td>\n",
       "      <td>United-States</td>\n",
       "      <td>&lt;=50K</td>\n",
       "    </tr>\n",
       "    <tr>\n",
       "      <th>4</th>\n",
       "      <td>25</td>\n",
       "      <td>Private</td>\n",
       "      <td>HS-grad</td>\n",
       "      <td>9</td>\n",
       "      <td>Never-married</td>\n",
       "      <td>Handlers-cleaners</td>\n",
       "      <td>Not-in-family</td>\n",
       "      <td>White</td>\n",
       "      <td>Male</td>\n",
       "      <td>40</td>\n",
       "      <td>United-States</td>\n",
       "      <td>&lt;=50K</td>\n",
       "    </tr>\n",
       "    <tr>\n",
       "      <th>...</th>\n",
       "      <td>...</td>\n",
       "      <td>...</td>\n",
       "      <td>...</td>\n",
       "      <td>...</td>\n",
       "      <td>...</td>\n",
       "      <td>...</td>\n",
       "      <td>...</td>\n",
       "      <td>...</td>\n",
       "      <td>...</td>\n",
       "      <td>...</td>\n",
       "      <td>...</td>\n",
       "      <td>...</td>\n",
       "    </tr>\n",
       "    <tr>\n",
       "      <th>32556</th>\n",
       "      <td>44</td>\n",
       "      <td>Private</td>\n",
       "      <td>Bachelors</td>\n",
       "      <td>13</td>\n",
       "      <td>Never-married</td>\n",
       "      <td>Prof-specialty</td>\n",
       "      <td>Not-in-family</td>\n",
       "      <td>White</td>\n",
       "      <td>Female</td>\n",
       "      <td>45</td>\n",
       "      <td>Mexico</td>\n",
       "      <td>&lt;=50K</td>\n",
       "    </tr>\n",
       "    <tr>\n",
       "      <th>32557</th>\n",
       "      <td>54</td>\n",
       "      <td>Private</td>\n",
       "      <td>Some-college</td>\n",
       "      <td>10</td>\n",
       "      <td>Married-civ-spouse</td>\n",
       "      <td>Sales</td>\n",
       "      <td>Husband</td>\n",
       "      <td>White</td>\n",
       "      <td>Male</td>\n",
       "      <td>50</td>\n",
       "      <td>United-States</td>\n",
       "      <td>&gt;50K</td>\n",
       "    </tr>\n",
       "    <tr>\n",
       "      <th>32558</th>\n",
       "      <td>25</td>\n",
       "      <td>Private</td>\n",
       "      <td>HS-grad</td>\n",
       "      <td>9</td>\n",
       "      <td>Divorced</td>\n",
       "      <td>Adm-clerical</td>\n",
       "      <td>Not-in-family</td>\n",
       "      <td>White</td>\n",
       "      <td>Female</td>\n",
       "      <td>40</td>\n",
       "      <td>United-States</td>\n",
       "      <td>&lt;=50K</td>\n",
       "    </tr>\n",
       "    <tr>\n",
       "      <th>32559</th>\n",
       "      <td>20</td>\n",
       "      <td>Private</td>\n",
       "      <td>Some-college</td>\n",
       "      <td>10</td>\n",
       "      <td>Never-married</td>\n",
       "      <td>Sales</td>\n",
       "      <td>Own-child</td>\n",
       "      <td>Asian-Pac-Islander</td>\n",
       "      <td>Male</td>\n",
       "      <td>8</td>\n",
       "      <td>India</td>\n",
       "      <td>&lt;=50K</td>\n",
       "    </tr>\n",
       "    <tr>\n",
       "      <th>32560</th>\n",
       "      <td>28</td>\n",
       "      <td>Private</td>\n",
       "      <td>Some-college</td>\n",
       "      <td>10</td>\n",
       "      <td>Never-married</td>\n",
       "      <td>Adm-clerical</td>\n",
       "      <td>Not-in-family</td>\n",
       "      <td>White</td>\n",
       "      <td>Female</td>\n",
       "      <td>40</td>\n",
       "      <td>United-States</td>\n",
       "      <td>&lt;=50K</td>\n",
       "    </tr>\n",
       "  </tbody>\n",
       "</table>\n",
       "<p>32561 rows × 12 columns</p>\n",
       "</div>"
      ],
      "text/plain": [
       "       age     workclass     education  education-num      marital-status  \\\n",
       "0       23       Private     Assoc-voc             11       Never-married   \n",
       "1       48       Private       Masters             14  Married-civ-spouse   \n",
       "2       43  Self-emp-inc     Bachelors             13  Married-civ-spouse   \n",
       "3       50     State-gov       Masters             14            Divorced   \n",
       "4       25       Private       HS-grad              9       Never-married   \n",
       "...    ...           ...           ...            ...                 ...   \n",
       "32556   44       Private     Bachelors             13       Never-married   \n",
       "32557   54       Private  Some-college             10  Married-civ-spouse   \n",
       "32558   25       Private       HS-grad              9            Divorced   \n",
       "32559   20       Private  Some-college             10       Never-married   \n",
       "32560   28       Private  Some-college             10       Never-married   \n",
       "\n",
       "              occupation   relationship                race     sex  \\\n",
       "0           Tech-support  Not-in-family               White    Male   \n",
       "1         Prof-specialty        Husband               White    Male   \n",
       "2                  Sales        Husband               White    Male   \n",
       "3         Prof-specialty      Unmarried               White  Female   \n",
       "4      Handlers-cleaners  Not-in-family               White    Male   \n",
       "...                  ...            ...                 ...     ...   \n",
       "32556     Prof-specialty  Not-in-family               White  Female   \n",
       "32557              Sales        Husband               White    Male   \n",
       "32558       Adm-clerical  Not-in-family               White  Female   \n",
       "32559              Sales      Own-child  Asian-Pac-Islander    Male   \n",
       "32560       Adm-clerical  Not-in-family               White  Female   \n",
       "\n",
       "       hourse-per-week native-country  CLASS  \n",
       "0                   40  United-States  <=50K  \n",
       "1                   40  United-States   >50K  \n",
       "2                   45  United-States   >50K  \n",
       "3                   40  United-States  <=50K  \n",
       "4                   40  United-States  <=50K  \n",
       "...                ...            ...    ...  \n",
       "32556               45         Mexico  <=50K  \n",
       "32557               50  United-States   >50K  \n",
       "32558               40  United-States  <=50K  \n",
       "32559                8          India  <=50K  \n",
       "32560               40  United-States  <=50K  \n",
       "\n",
       "[32561 rows x 12 columns]"
      ]
     },
     "execution_count": 32,
     "metadata": {},
     "output_type": "execute_result"
    }
   ],
   "source": [
    "adult_dataset = adult_dataset[['age','workclass','education','education-num','marital-status','occupation','relationship','race','sex','hourse-per-week', 'native-country' ,'CLASS']]\n",
    "\n",
    "for element in list(adult_dataset):\n",
    "    if adult_dataset[element].dtype not in [np.float64, np.int64]:\n",
    "        adult_dataset[element] = adult_dataset[element].str.strip()\n",
    "\n",
    "adult_dataset['CLASS'] = adult_dataset['CLASS'].str.strip()\n",
    "adult_dataset.head()\n",
    "adult_dataset"
   ]
  },
  {
   "cell_type": "code",
   "execution_count": 34,
   "id": "aquatic-angel",
   "metadata": {},
   "outputs": [
    {
     "data": {
      "text/html": [
       "<div>\n",
       "<style scoped>\n",
       "    .dataframe tbody tr th:only-of-type {\n",
       "        vertical-align: middle;\n",
       "    }\n",
       "\n",
       "    .dataframe tbody tr th {\n",
       "        vertical-align: top;\n",
       "    }\n",
       "\n",
       "    .dataframe thead th {\n",
       "        text-align: right;\n",
       "    }\n",
       "</style>\n",
       "<table border=\"1\" class=\"dataframe\">\n",
       "  <thead>\n",
       "    <tr style=\"text-align: right;\">\n",
       "      <th></th>\n",
       "      <th>level_0</th>\n",
       "      <th>index</th>\n",
       "      <th>age</th>\n",
       "      <th>workclass</th>\n",
       "      <th>education</th>\n",
       "      <th>education-num</th>\n",
       "      <th>marital-status</th>\n",
       "      <th>occupation</th>\n",
       "      <th>relationship</th>\n",
       "      <th>race</th>\n",
       "      <th>sex</th>\n",
       "      <th>hourse-per-week</th>\n",
       "      <th>native-country</th>\n",
       "      <th>CLASS</th>\n",
       "    </tr>\n",
       "  </thead>\n",
       "  <tbody>\n",
       "    <tr>\n",
       "      <th>0</th>\n",
       "      <td>0</td>\n",
       "      <td>0</td>\n",
       "      <td>23</td>\n",
       "      <td>Private</td>\n",
       "      <td>Assoc-voc</td>\n",
       "      <td>11</td>\n",
       "      <td>Never-married</td>\n",
       "      <td>Tech-support</td>\n",
       "      <td>Not-in-family</td>\n",
       "      <td>White</td>\n",
       "      <td>Male</td>\n",
       "      <td>40</td>\n",
       "      <td>United-States</td>\n",
       "      <td>&lt;=50K</td>\n",
       "    </tr>\n",
       "    <tr>\n",
       "      <th>1</th>\n",
       "      <td>1</td>\n",
       "      <td>1</td>\n",
       "      <td>48</td>\n",
       "      <td>Private</td>\n",
       "      <td>Masters</td>\n",
       "      <td>14</td>\n",
       "      <td>Married-civ-spouse</td>\n",
       "      <td>Prof-specialty</td>\n",
       "      <td>Husband</td>\n",
       "      <td>White</td>\n",
       "      <td>Male</td>\n",
       "      <td>40</td>\n",
       "      <td>United-States</td>\n",
       "      <td>&gt;50K</td>\n",
       "    </tr>\n",
       "    <tr>\n",
       "      <th>2</th>\n",
       "      <td>2</td>\n",
       "      <td>2</td>\n",
       "      <td>43</td>\n",
       "      <td>Self-emp-inc</td>\n",
       "      <td>Bachelors</td>\n",
       "      <td>13</td>\n",
       "      <td>Married-civ-spouse</td>\n",
       "      <td>Sales</td>\n",
       "      <td>Husband</td>\n",
       "      <td>White</td>\n",
       "      <td>Male</td>\n",
       "      <td>45</td>\n",
       "      <td>United-States</td>\n",
       "      <td>&gt;50K</td>\n",
       "    </tr>\n",
       "    <tr>\n",
       "      <th>3</th>\n",
       "      <td>3</td>\n",
       "      <td>3</td>\n",
       "      <td>50</td>\n",
       "      <td>State-gov</td>\n",
       "      <td>Masters</td>\n",
       "      <td>14</td>\n",
       "      <td>Divorced</td>\n",
       "      <td>Prof-specialty</td>\n",
       "      <td>Unmarried</td>\n",
       "      <td>White</td>\n",
       "      <td>Female</td>\n",
       "      <td>40</td>\n",
       "      <td>United-States</td>\n",
       "      <td>&lt;=50K</td>\n",
       "    </tr>\n",
       "    <tr>\n",
       "      <th>4</th>\n",
       "      <td>4</td>\n",
       "      <td>4</td>\n",
       "      <td>25</td>\n",
       "      <td>Private</td>\n",
       "      <td>HS-grad</td>\n",
       "      <td>9</td>\n",
       "      <td>Never-married</td>\n",
       "      <td>Handlers-cleaners</td>\n",
       "      <td>Not-in-family</td>\n",
       "      <td>White</td>\n",
       "      <td>Male</td>\n",
       "      <td>40</td>\n",
       "      <td>United-States</td>\n",
       "      <td>&lt;=50K</td>\n",
       "    </tr>\n",
       "    <tr>\n",
       "      <th>...</th>\n",
       "      <td>...</td>\n",
       "      <td>...</td>\n",
       "      <td>...</td>\n",
       "      <td>...</td>\n",
       "      <td>...</td>\n",
       "      <td>...</td>\n",
       "      <td>...</td>\n",
       "      <td>...</td>\n",
       "      <td>...</td>\n",
       "      <td>...</td>\n",
       "      <td>...</td>\n",
       "      <td>...</td>\n",
       "      <td>...</td>\n",
       "      <td>...</td>\n",
       "    </tr>\n",
       "    <tr>\n",
       "      <th>30157</th>\n",
       "      <td>30157</td>\n",
       "      <td>32556</td>\n",
       "      <td>44</td>\n",
       "      <td>Private</td>\n",
       "      <td>Bachelors</td>\n",
       "      <td>13</td>\n",
       "      <td>Never-married</td>\n",
       "      <td>Prof-specialty</td>\n",
       "      <td>Not-in-family</td>\n",
       "      <td>White</td>\n",
       "      <td>Female</td>\n",
       "      <td>45</td>\n",
       "      <td>Mexico</td>\n",
       "      <td>&lt;=50K</td>\n",
       "    </tr>\n",
       "    <tr>\n",
       "      <th>30158</th>\n",
       "      <td>30158</td>\n",
       "      <td>32557</td>\n",
       "      <td>54</td>\n",
       "      <td>Private</td>\n",
       "      <td>Some-college</td>\n",
       "      <td>10</td>\n",
       "      <td>Married-civ-spouse</td>\n",
       "      <td>Sales</td>\n",
       "      <td>Husband</td>\n",
       "      <td>White</td>\n",
       "      <td>Male</td>\n",
       "      <td>50</td>\n",
       "      <td>United-States</td>\n",
       "      <td>&gt;50K</td>\n",
       "    </tr>\n",
       "    <tr>\n",
       "      <th>30159</th>\n",
       "      <td>30159</td>\n",
       "      <td>32558</td>\n",
       "      <td>25</td>\n",
       "      <td>Private</td>\n",
       "      <td>HS-grad</td>\n",
       "      <td>9</td>\n",
       "      <td>Divorced</td>\n",
       "      <td>Adm-clerical</td>\n",
       "      <td>Not-in-family</td>\n",
       "      <td>White</td>\n",
       "      <td>Female</td>\n",
       "      <td>40</td>\n",
       "      <td>United-States</td>\n",
       "      <td>&lt;=50K</td>\n",
       "    </tr>\n",
       "    <tr>\n",
       "      <th>30160</th>\n",
       "      <td>30160</td>\n",
       "      <td>32559</td>\n",
       "      <td>20</td>\n",
       "      <td>Private</td>\n",
       "      <td>Some-college</td>\n",
       "      <td>10</td>\n",
       "      <td>Never-married</td>\n",
       "      <td>Sales</td>\n",
       "      <td>Own-child</td>\n",
       "      <td>Asian-Pac-Islander</td>\n",
       "      <td>Male</td>\n",
       "      <td>8</td>\n",
       "      <td>India</td>\n",
       "      <td>&lt;=50K</td>\n",
       "    </tr>\n",
       "    <tr>\n",
       "      <th>30161</th>\n",
       "      <td>30161</td>\n",
       "      <td>32560</td>\n",
       "      <td>28</td>\n",
       "      <td>Private</td>\n",
       "      <td>Some-college</td>\n",
       "      <td>10</td>\n",
       "      <td>Never-married</td>\n",
       "      <td>Adm-clerical</td>\n",
       "      <td>Not-in-family</td>\n",
       "      <td>White</td>\n",
       "      <td>Female</td>\n",
       "      <td>40</td>\n",
       "      <td>United-States</td>\n",
       "      <td>&lt;=50K</td>\n",
       "    </tr>\n",
       "  </tbody>\n",
       "</table>\n",
       "<p>30162 rows × 14 columns</p>\n",
       "</div>"
      ],
      "text/plain": [
       "       level_0  index  age     workclass     education  education-num  \\\n",
       "0            0      0   23       Private     Assoc-voc             11   \n",
       "1            1      1   48       Private       Masters             14   \n",
       "2            2      2   43  Self-emp-inc     Bachelors             13   \n",
       "3            3      3   50     State-gov       Masters             14   \n",
       "4            4      4   25       Private       HS-grad              9   \n",
       "...        ...    ...  ...           ...           ...            ...   \n",
       "30157    30157  32556   44       Private     Bachelors             13   \n",
       "30158    30158  32557   54       Private  Some-college             10   \n",
       "30159    30159  32558   25       Private       HS-grad              9   \n",
       "30160    30160  32559   20       Private  Some-college             10   \n",
       "30161    30161  32560   28       Private  Some-college             10   \n",
       "\n",
       "           marital-status         occupation   relationship  \\\n",
       "0           Never-married       Tech-support  Not-in-family   \n",
       "1      Married-civ-spouse     Prof-specialty        Husband   \n",
       "2      Married-civ-spouse              Sales        Husband   \n",
       "3                Divorced     Prof-specialty      Unmarried   \n",
       "4           Never-married  Handlers-cleaners  Not-in-family   \n",
       "...                   ...                ...            ...   \n",
       "30157       Never-married     Prof-specialty  Not-in-family   \n",
       "30158  Married-civ-spouse              Sales        Husband   \n",
       "30159            Divorced       Adm-clerical  Not-in-family   \n",
       "30160       Never-married              Sales      Own-child   \n",
       "30161       Never-married       Adm-clerical  Not-in-family   \n",
       "\n",
       "                     race     sex  hourse-per-week native-country  CLASS  \n",
       "0                   White    Male               40  United-States  <=50K  \n",
       "1                   White    Male               40  United-States   >50K  \n",
       "2                   White    Male               45  United-States   >50K  \n",
       "3                   White  Female               40  United-States  <=50K  \n",
       "4                   White    Male               40  United-States  <=50K  \n",
       "...                   ...     ...              ...            ...    ...  \n",
       "30157               White  Female               45         Mexico  <=50K  \n",
       "30158               White    Male               50  United-States   >50K  \n",
       "30159               White  Female               40  United-States  <=50K  \n",
       "30160  Asian-Pac-Islander    Male                8          India  <=50K  \n",
       "30161               White  Female               40  United-States  <=50K  \n",
       "\n",
       "[30162 rows x 14 columns]"
      ]
     },
     "execution_count": 34,
     "metadata": {},
     "output_type": "execute_result"
    }
   ],
   "source": [
    "adult_dataset.dropna(how='any', axis=0)\n",
    "indexNames = adult_dataset[(adult_dataset['workclass'] == '?') | (adult_dataset['education'] == '?') | (adult_dataset['marital-status'] == '?') | (adult_dataset['occupation'] == '?') | (adult_dataset['relationship'] == '?') | (adult_dataset['race'] == '?') | (adult_dataset['sex'] == '?') | (adult_dataset['native-country'] == '?') ].index\n",
    "# print(indexNames)\n",
    "adult_dataset.drop(indexNames, inplace=True)\n",
    "adult_dataset.head()\n",
    "adult_dataset.reset_index(inplace=True)\n",
    "adult_dataset"
   ]
  },
  {
   "cell_type": "code",
   "execution_count": null,
   "id": "placed-bubble",
   "metadata": {},
   "outputs": [],
   "source": [
    "# adult_dataset['education-num'].where(adult_dataset['education-num'] > 10)"
   ]
  },
  {
   "cell_type": "markdown",
   "id": "earned-instrumentation",
   "metadata": {},
   "source": [
    "### Adult 70%"
   ]
  },
  {
   "cell_type": "code",
   "execution_count": 35,
   "id": "excellent-central",
   "metadata": {},
   "outputs": [
    {
     "name": "stdout",
     "output_type": "stream",
     "text": [
      "<=50K    10556\n",
      ">50K      3519\n",
      "Name: CLASS, dtype: int64\n"
     ]
    },
    {
     "data": {
      "text/plain": [
       "<AxesSubplot:title={'center':'class'}>"
      ]
     },
     "execution_count": 35,
     "metadata": {},
     "output_type": "execute_result"
    },
    {
     "data": {
      "image/png": "[encoded data removed]",
      "text/plain": [
       "<Figure size 432x288 with 1 Axes>"
      ]
     },
     "metadata": {
      "needs_background": "light"
     },
     "output_type": "display_data"
    }
   ],
   "source": [
    "adult_set_for_training70, adult_testing70 = data_utils.data_split(adult_dataset, 70)\n",
    "adult_training70, adult_validation70 = data_utils.split_training_data_for_pruning(adult_set_for_training70)\n",
    "\n",
    "print(adult_training70['CLASS'].value_counts())\n",
    "adult_training70['CLASS'].value_counts().plot(kind='bar', title='class')"
   ]
  },
  {
   "cell_type": "code",
   "execution_count": 36,
   "id": "mature-cologne",
   "metadata": {},
   "outputs": [
    {
     "data": {
      "text/plain": [
       "<AxesSubplot:title={'center':'class'}>"
      ]
     },
     "execution_count": 36,
     "metadata": {},
     "output_type": "execute_result"
    },
    {
     "data": {
      "image/png": "[encoded data removed]",
      "text/plain": [
       "<Figure size 432x288 with 1 Axes>"
      ]
     },
     "metadata": {
      "needs_background": "light"
     },
     "output_type": "display_data"
    }
   ],
   "source": [
    "resampling_adult70 = adult_training70.copy()\n",
    "less_50k_part70 = resampling_adult70[resampling_adult70['CLASS'] == '<=50K']\n",
    "more_50k_part70 = resampling_adult70[resampling_adult70['CLASS'] == '>50K'] \n",
    "\n",
    "less_50k_part_downsampled70 = resample(less_50k_part70, \n",
    "                                 replace=False,    \n",
    "                                 n_samples=3528)\n",
    "\n",
    "# Combine minority class with downsampled majority class\n",
    "balanced_adult_training70 = pd.concat([less_50k_part_downsampled70, more_50k_part70])\n",
    "balanced_adult_training70 = balanced_adult_training70.reset_index(level=None, drop=True, inplace=False, col_level=0, col_fill='')\n",
    "balanced_adult_training70 = balanced_adult_training70.sample(frac=1).reset_index(drop=True)\n",
    "\n",
    "adult_training70 = balanced_adult_training70.copy()\n",
    "adult_training70['CLASS'].value_counts().plot(kind='bar', title='class')"
   ]
  },
  {
   "cell_type": "markdown",
   "id": "noted-beach",
   "metadata": {},
   "source": [
    "### Adult 80%"
   ]
  },
  {
   "cell_type": "code",
   "execution_count": 37,
   "id": "ecological-offense",
   "metadata": {},
   "outputs": [
    {
     "name": "stdout",
     "output_type": "stream",
     "text": [
      "<=50K    12095\n",
      ">50K      3990\n",
      "Name: CLASS, dtype: int64\n"
     ]
    },
    {
     "data": {
      "text/plain": [
       "<AxesSubplot:title={'center':'class'}>"
      ]
     },
     "execution_count": 37,
     "metadata": {},
     "output_type": "execute_result"
    },
    {
     "data": {
      "image/png": "[encoded data removed]",
      "text/plain": [
       "<Figure size 432x288 with 1 Axes>"
      ]
     },
     "metadata": {
      "needs_background": "light"
     },
     "output_type": "display_data"
    }
   ],
   "source": [
    "adult_set_for_training80, adult_testing80 = data_utils.data_split(adult_dataset, 80)\n",
    "adult_training80, adult_validation80 = data_utils.split_training_data_for_pruning(adult_set_for_training80)\n",
    "\n",
    "print(adult_training80['CLASS'].value_counts())\n",
    "adult_training80['CLASS'].value_counts().plot(kind='bar', title='class')"
   ]
  },
  {
   "cell_type": "code",
   "execution_count": 38,
   "id": "earlier-benchmark",
   "metadata": {},
   "outputs": [
    {
     "data": {
      "text/plain": [
       "<AxesSubplot:title={'center':'class'}>"
      ]
     },
     "execution_count": 38,
     "metadata": {},
     "output_type": "execute_result"
    },
    {
     "data": {
      "image/png": "[encoded data removed]",
      "text/plain": [
       "<Figure size 432x288 with 1 Axes>"
      ]
     },
     "metadata": {
      "needs_background": "light"
     },
     "output_type": "display_data"
    }
   ],
   "source": [
    "resampling_adult80 = adult_training80.copy()\n",
    "less_50k_part80 = resampling_adult80[resampling_adult80['CLASS'] == '<=50K']\n",
    "more_50k_part80 = resampling_adult80[resampling_adult80['CLASS'] == '>50K'] \n",
    "\n",
    "less_50k_part_downsampled80 = resample(less_50k_part80, \n",
    "                                 replace=False,    \n",
    "                                 n_samples=3980)\n",
    "\n",
    "# Combine minority class with downsampled majority class\n",
    "balanced_adult_training80 = pd.concat([less_50k_part_downsampled80, more_50k_part80])\n",
    "balanced_adult_training80 = balanced_adult_training80.reset_index(level=None, drop=True, inplace=False, col_level=0, col_fill='')\n",
    "balanced_adult_training80 = balanced_adult_training80.sample(frac=1).reset_index(drop=True)\n",
    "\n",
    "adult_training80 = balanced_adult_training80.copy()\n",
    "adult_training80['CLASS'].value_counts().plot(kind='bar', title='class')"
   ]
  },
  {
   "cell_type": "markdown",
   "id": "secure-upset",
   "metadata": {},
   "source": [
    "### Adult 90%"
   ]
  },
  {
   "cell_type": "code",
   "execution_count": 39,
   "id": "committed-mortality",
   "metadata": {},
   "outputs": [
    {
     "name": "stdout",
     "output_type": "stream",
     "text": [
      "<=50K    13604\n",
      ">50K      4492\n",
      "Name: CLASS, dtype: int64\n"
     ]
    },
    {
     "data": {
      "text/plain": [
       "<AxesSubplot:title={'center':'class'}>"
      ]
     },
     "execution_count": 39,
     "metadata": {},
     "output_type": "execute_result"
    },
    {
     "data": {
      "image/png": "[encoded data removed]",
      "text/plain": [
       "<Figure size 432x288 with 1 Axes>"
      ]
     },
     "metadata": {
      "needs_background": "light"
     },
     "output_type": "display_data"
    }
   ],
   "source": [
    "adult_set_for_training90, adult_testing90 = data_utils.data_split(adult_dataset, 90)\n",
    "adult_training90, adult_validation90 = data_utils.split_training_data_for_pruning(adult_set_for_training90)\n",
    "\n",
    "print(adult_training90['CLASS'].value_counts())\n",
    "adult_training90['CLASS'].value_counts().plot(kind='bar', title='class')"
   ]
  },
  {
   "cell_type": "code",
   "execution_count": 40,
   "id": "sensitive-nursery",
   "metadata": {},
   "outputs": [
    {
     "data": {
      "text/plain": [
       "<AxesSubplot:title={'center':'class'}>"
      ]
     },
     "execution_count": 40,
     "metadata": {},
     "output_type": "execute_result"
    },
    {
     "data": {
      "image/png": "[encoded data removed]",
      "text/plain": [
       "<Figure size 432x288 with 1 Axes>"
      ]
     },
     "metadata": {
      "needs_background": "light"
     },
     "output_type": "display_data"
    }
   ],
   "source": [
    "resampling_adult90 = adult_training90.copy()\n",
    "less_50k_part90 = resampling_adult90[resampling_adult90['CLASS'] == '<=50K']\n",
    "more_50k_part90 = resampling_adult90[resampling_adult90['CLASS'] == '>50K'] \n",
    "\n",
    "less_50k_part_downsampled90 = resample(less_50k_part90, \n",
    "                                 replace=False,    \n",
    "                                 n_samples=4469)\n",
    "\n",
    "# Combine minority class with downsampled majority class\n",
    "balanced_adult_training90 = pd.concat([less_50k_part_downsampled90, more_50k_part90])\n",
    "balanced_adult_training90 = balanced_adult_training90.reset_index(level=None, drop=True, inplace=False, col_level=0, col_fill='')\n",
    "balanced_adult_training90 = balanced_adult_training90.sample(frac=1).reset_index(drop=True)\n",
    "\n",
    "adult_training90 = balanced_adult_training90.copy()\n",
    "adult_training90['CLASS'].value_counts().plot(kind='bar', title='class')"
   ]
  },
  {
   "cell_type": "markdown",
   "id": "periodic-pressing",
   "metadata": {},
   "source": [
    "## Model Training"
   ]
  },
  {
   "cell_type": "code",
   "execution_count": null,
   "id": "spoken-attack",
   "metadata": {},
   "outputs": [],
   "source": [
    "train_tree_for_different_heuristics(adult_training70, adult_testing70, adult_validation70)"
   ]
  },
  {
   "cell_type": "code",
   "execution_count": null,
   "id": "innocent-study",
   "metadata": {},
   "outputs": [],
   "source": [
    "train_tree_for_different_heuristics(adult_training80, adult_testing80, adult_validation80)"
   ]
  },
  {
   "cell_type": "code",
   "execution_count": null,
   "id": "spare-usage",
   "metadata": {},
   "outputs": [],
   "source": [
    "train_tree_for_different_heuristics(adult_training90, adult_testing90, adult_validation90)"
   ]
  }
 ],
 "metadata": {
  "kernelspec": {
   "display_name": "Python 3",
   "language": "python",
   "name": "python3"
  },
  "language_info": {
   "codemirror_mode": {
    "name": "ipython",
    "version": 3
   },
   "file_extension": ".py",
   "mimetype": "text/x-python",
   "name": "python",
   "nbconvert_exporter": "python",
   "pygments_lexer": "ipython3",
   "version": "3.8.10"
  }
 },
 "nbformat": 4,
 "nbformat_minor": 5
}
