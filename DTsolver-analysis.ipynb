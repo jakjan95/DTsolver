{
 "cells": [
  {
   "cell_type": "code",
   "execution_count": 1,
   "id": "improving-hopkins",
   "metadata": {},
   "outputs": [
    {
     "data": {
      "text/html": [
       "<style>.container { width:100% !important; }</style>"
      ],
      "text/plain": [
       "<IPython.core.display.HTML object>"
      ]
     },
     "metadata": {},
     "output_type": "display_data"
    }
   ],
   "source": [
    "from IPython.core.display import display, HTML\n",
    "display(HTML(\"<style>.container { width:100% !important; }</style>\"))"
   ]
  },
  {
   "cell_type": "code",
   "execution_count": 2,
   "id": "sustained-making",
   "metadata": {},
   "outputs": [],
   "source": [
    "import src.data_utils as data_utils\n",
    "import src.tree_build as dt_tree\n",
    "import src.heurestics as dt_heur\n",
    "import src.tree_utils as tree_utils\n",
    "import src.dt_testing_utils as dt_testing\n",
    "import src.tree_pruning as tree_pruning\n",
    "\n",
    "from pprint import pprint\n",
    "import numpy as np\n",
    "import pandas as pd\n",
    "from sklearn.utils import resample"
   ]
  },
  {
   "cell_type": "markdown",
   "id": "unable-audio",
   "metadata": {},
   "source": [
    "## Utils"
   ]
  },
  {
   "cell_type": "code",
   "execution_count": 3,
   "id": "tamil-providence",
   "metadata": {},
   "outputs": [],
   "source": [
    "def confusion_matrix(data,tree,class_label='CLASS'):\n",
    "    #or set?\n",
    "    #binary_problem\n",
    "    positive_value = '>50K'\n",
    "    negative_value = '<=50K'\n",
    "    #[Actual >50k and predicted >50k, Actual 50k but predicted <50k][Actual<50k and predicted <50k, Actual <50k and predicted >50k]\n",
    "    confusion_matrix=[[0,0],[0,0]]\n",
    "    queries = data.iloc[:, :-1].to_dict(orient=\"records\")\n",
    "    for i in range(len(data)):\n",
    "        prediction = tree_utils.predict(queries[i], tree)\n",
    "        if data[class_label][i] == '>50K' and prediction == '>50K':\n",
    "            #true_positive\n",
    "            confusion_matrix[0][0]+=1\n",
    "        if data[class_label][i] == '<=50K' and prediction == '<=50K':\n",
    "            #true negative\n",
    "            confusion_matrix[1][1]+=1\n",
    "        if data[class_label][i] == '<=50K' and prediction == '>50K':\n",
    "            #false_negative\n",
    "            confusion_matrix[1][0]+=1\n",
    "        if data[class_label][i] == '>50K' and prediction == '<=50K':\n",
    "            #false_positive\n",
    "            confusion_matrix[0][1]+=1\n",
    "            \n",
    "    print('data len=', len(data))\n",
    "    return confusion_matrix"
   ]
  },
  {
   "cell_type": "code",
   "execution_count": 4,
   "id": "plastic-leonard",
   "metadata": {},
   "outputs": [],
   "source": [
    "def print_tree_informations(tree, training_data, testing_data):\n",
    "    accuracy_testing = tree_utils.tree_accuracy(testing_data, tree)\n",
    "    accuracy_training = tree_utils.tree_accuracy(training_data, tree)\n",
    "    levels = tree_utils.number_of_levels(tree)\n",
    "    leafs = tree_utils.number_of_leafs(tree)\n",
    "    print(\"Accuracy for: testing {0:.2f}% | training {1:.2f}% | levels {2} | leafs {3}\".format(accuracy_testing, accuracy_training,levels, leafs))"
   ]
  },
  {
   "cell_type": "code",
   "execution_count": 5,
   "id": "hungry-tactics",
   "metadata": {},
   "outputs": [],
   "source": [
    "#heuristics\n",
    "def train_and_prune_tree(heurestic, training_data, testing_data, validation_data):\n",
    "    print(\"Before Pruning - heuristic = {0}\".format(heurestic.__name__))\n",
    "    trained_tree = dt_tree.build_tree_generic(heurestic, training_data)\n",
    "    print_tree_informations(trained_tree, training_data, testing_data)\n",
    "    print(\"confusion-matrix:\", confusion_matrix(testing_data, trained_tree))\n",
    "    print(\"confusion-matrix-training:\", confusion_matrix(training_data, trained_tree))\n",
    "    \n",
    "#     pprint(trained_tree)\n",
    "    print(\"After Pruning:\")\n",
    "    pruned_trained_tree = tree_pruning.reduced_error_pruning(trained_tree, validation_data)\n",
    "    print_tree_informations(pruned_trained_tree, training_data, testing_data)\n",
    "    print(\"confusion-matrix:\", confusion_matrix(testing_data, pruned_trained_tree))\n",
    "    print(\"confusion-matrix-training:\", confusion_matrix(training_data, pruned_trained_tree))\n",
    "    print('\\n')\n",
    "#     pprint(pruned_trained_tree)"
   ]
  },
  {
   "cell_type": "code",
   "execution_count": 6,
   "id": "powered-duncan",
   "metadata": {},
   "outputs": [],
   "source": [
    "# default_heuristics = [dt_heur.gini_impurity_weighted, dt_heur.info_gain, dt_heur.information_gain_ratio,\n",
    "#                       dt_heur.distance_measure, dt_heur.j_measure, dt_heur.weight_of_evidence,\n",
    "#                       dt_heur.gini_pri, dt_heur.relief, dt_heur.relevance, dt_heur.mdl_simple]\n",
    "default_heuristics = [dt_heur.mdl_simple]\n",
    "def train_tree_for_different_heuristics(training_data, testing_data, validation_data, heuristics = default_heuristics):\n",
    "    for heuristic in heuristics:\n",
    "        train_and_prune_tree(heuristic, training_data, testing_data, validation_data)"
   ]
  },
  {
   "cell_type": "markdown",
   "id": "likely-accountability",
   "metadata": {},
   "source": [
    "# Adult Dataset"
   ]
  },
  {
   "cell_type": "markdown",
   "id": "egyptian-graphics",
   "metadata": {},
   "source": [
    "## Data preparation"
   ]
  },
  {
   "cell_type": "code",
   "execution_count": 7,
   "id": "heavy-homeless",
   "metadata": {},
   "outputs": [
    {
     "data": {
      "text/html": [
       "<div>\n",
       "<style scoped>\n",
       "    .dataframe tbody tr th:only-of-type {\n",
       "        vertical-align: middle;\n",
       "    }\n",
       "\n",
       "    .dataframe tbody tr th {\n",
       "        vertical-align: top;\n",
       "    }\n",
       "\n",
       "    .dataframe thead th {\n",
       "        text-align: right;\n",
       "    }\n",
       "</style>\n",
       "<table border=\"1\" class=\"dataframe\">\n",
       "  <thead>\n",
       "    <tr style=\"text-align: right;\">\n",
       "      <th></th>\n",
       "      <th>age</th>\n",
       "      <th>workclass</th>\n",
       "      <th>fnlwgt</th>\n",
       "      <th>education</th>\n",
       "      <th>education-num</th>\n",
       "      <th>marital-status</th>\n",
       "      <th>occupation</th>\n",
       "      <th>relationship</th>\n",
       "      <th>race</th>\n",
       "      <th>sex</th>\n",
       "      <th>capital-gain</th>\n",
       "      <th>capital-loss</th>\n",
       "      <th>hourse-per-week</th>\n",
       "      <th>native-country</th>\n",
       "      <th>CLASS</th>\n",
       "    </tr>\n",
       "  </thead>\n",
       "  <tbody>\n",
       "    <tr>\n",
       "      <th>0</th>\n",
       "      <td>68</td>\n",
       "      <td>Local-gov</td>\n",
       "      <td>144761</td>\n",
       "      <td>HS-grad</td>\n",
       "      <td>9</td>\n",
       "      <td>Widowed</td>\n",
       "      <td>Protective-serv</td>\n",
       "      <td>Not-in-family</td>\n",
       "      <td>White</td>\n",
       "      <td>Male</td>\n",
       "      <td>0</td>\n",
       "      <td>1668</td>\n",
       "      <td>20</td>\n",
       "      <td>United-States</td>\n",
       "      <td>&lt;=50K</td>\n",
       "    </tr>\n",
       "    <tr>\n",
       "      <th>1</th>\n",
       "      <td>38</td>\n",
       "      <td>Private</td>\n",
       "      <td>275338</td>\n",
       "      <td>Bachelors</td>\n",
       "      <td>13</td>\n",
       "      <td>Divorced</td>\n",
       "      <td>Sales</td>\n",
       "      <td>Unmarried</td>\n",
       "      <td>White</td>\n",
       "      <td>Female</td>\n",
       "      <td>1151</td>\n",
       "      <td>0</td>\n",
       "      <td>40</td>\n",
       "      <td>United-States</td>\n",
       "      <td>&lt;=50K</td>\n",
       "    </tr>\n",
       "    <tr>\n",
       "      <th>2</th>\n",
       "      <td>47</td>\n",
       "      <td>State-gov</td>\n",
       "      <td>123219</td>\n",
       "      <td>Masters</td>\n",
       "      <td>14</td>\n",
       "      <td>Married-civ-spouse</td>\n",
       "      <td>Prof-specialty</td>\n",
       "      <td>Husband</td>\n",
       "      <td>White</td>\n",
       "      <td>Male</td>\n",
       "      <td>0</td>\n",
       "      <td>0</td>\n",
       "      <td>38</td>\n",
       "      <td>United-States</td>\n",
       "      <td>&gt;50K</td>\n",
       "    </tr>\n",
       "    <tr>\n",
       "      <th>3</th>\n",
       "      <td>62</td>\n",
       "      <td>Private</td>\n",
       "      <td>197918</td>\n",
       "      <td>HS-grad</td>\n",
       "      <td>9</td>\n",
       "      <td>Divorced</td>\n",
       "      <td>Adm-clerical</td>\n",
       "      <td>Unmarried</td>\n",
       "      <td>White</td>\n",
       "      <td>Female</td>\n",
       "      <td>0</td>\n",
       "      <td>0</td>\n",
       "      <td>40</td>\n",
       "      <td>United-States</td>\n",
       "      <td>&lt;=50K</td>\n",
       "    </tr>\n",
       "    <tr>\n",
       "      <th>4</th>\n",
       "      <td>42</td>\n",
       "      <td>Self-emp-not-inc</td>\n",
       "      <td>37618</td>\n",
       "      <td>Some-college</td>\n",
       "      <td>10</td>\n",
       "      <td>Married-civ-spouse</td>\n",
       "      <td>Farming-fishing</td>\n",
       "      <td>Husband</td>\n",
       "      <td>White</td>\n",
       "      <td>Male</td>\n",
       "      <td>0</td>\n",
       "      <td>0</td>\n",
       "      <td>60</td>\n",
       "      <td>United-States</td>\n",
       "      <td>&lt;=50K</td>\n",
       "    </tr>\n",
       "  </tbody>\n",
       "</table>\n",
       "</div>"
      ],
      "text/plain": [
       "   age          workclass  fnlwgt      education  education-num  \\\n",
       "0   68          Local-gov  144761        HS-grad              9   \n",
       "1   38            Private  275338      Bachelors             13   \n",
       "2   47          State-gov  123219        Masters             14   \n",
       "3   62            Private  197918        HS-grad              9   \n",
       "4   42   Self-emp-not-inc   37618   Some-college             10   \n",
       "\n",
       "        marital-status        occupation    relationship    race      sex  \\\n",
       "0              Widowed   Protective-serv   Not-in-family   White     Male   \n",
       "1             Divorced             Sales       Unmarried   White   Female   \n",
       "2   Married-civ-spouse    Prof-specialty         Husband   White     Male   \n",
       "3             Divorced      Adm-clerical       Unmarried   White   Female   \n",
       "4   Married-civ-spouse   Farming-fishing         Husband   White     Male   \n",
       "\n",
       "   capital-gain  capital-loss  hourse-per-week  native-country   CLASS  \n",
       "0             0          1668               20   United-States   <=50K  \n",
       "1          1151             0               40   United-States   <=50K  \n",
       "2             0             0               38   United-States    >50K  \n",
       "3             0             0               40   United-States   <=50K  \n",
       "4             0             0               60   United-States   <=50K  "
      ]
     },
     "execution_count": 7,
     "metadata": {},
     "output_type": "execute_result"
    }
   ],
   "source": [
    "adult_dataset_path = 'data/adult.data'\n",
    "adult_dataset_labels = ['age','workclass','fnlwgt','education','education-num','marital-status','occupation','relationship','race','sex','capital-gain','capital-loss','hourse-per-week','native-country','CLASS']\n",
    "adult_dataset = data_utils.preapare_dataset(adult_dataset_path, adult_dataset_labels)\n",
    "adult_dataset.head()"
   ]
  },
  {
   "cell_type": "code",
   "execution_count": 8,
   "id": "beneficial-devil",
   "metadata": {},
   "outputs": [
    {
     "data": {
      "text/html": [
       "<div>\n",
       "<style scoped>\n",
       "    .dataframe tbody tr th:only-of-type {\n",
       "        vertical-align: middle;\n",
       "    }\n",
       "\n",
       "    .dataframe tbody tr th {\n",
       "        vertical-align: top;\n",
       "    }\n",
       "\n",
       "    .dataframe thead th {\n",
       "        text-align: right;\n",
       "    }\n",
       "</style>\n",
       "<table border=\"1\" class=\"dataframe\">\n",
       "  <thead>\n",
       "    <tr style=\"text-align: right;\">\n",
       "      <th></th>\n",
       "      <th>age</th>\n",
       "      <th>workclass</th>\n",
       "      <th>education</th>\n",
       "      <th>education-num</th>\n",
       "      <th>marital-status</th>\n",
       "      <th>occupation</th>\n",
       "      <th>relationship</th>\n",
       "      <th>race</th>\n",
       "      <th>sex</th>\n",
       "      <th>hourse-per-week</th>\n",
       "      <th>native-country</th>\n",
       "      <th>CLASS</th>\n",
       "    </tr>\n",
       "  </thead>\n",
       "  <tbody>\n",
       "    <tr>\n",
       "      <th>0</th>\n",
       "      <td>68</td>\n",
       "      <td>Local-gov</td>\n",
       "      <td>HS-grad</td>\n",
       "      <td>9</td>\n",
       "      <td>Widowed</td>\n",
       "      <td>Protective-serv</td>\n",
       "      <td>Not-in-family</td>\n",
       "      <td>White</td>\n",
       "      <td>Male</td>\n",
       "      <td>20</td>\n",
       "      <td>United-States</td>\n",
       "      <td>&lt;=50K</td>\n",
       "    </tr>\n",
       "    <tr>\n",
       "      <th>1</th>\n",
       "      <td>38</td>\n",
       "      <td>Private</td>\n",
       "      <td>Bachelors</td>\n",
       "      <td>13</td>\n",
       "      <td>Divorced</td>\n",
       "      <td>Sales</td>\n",
       "      <td>Unmarried</td>\n",
       "      <td>White</td>\n",
       "      <td>Female</td>\n",
       "      <td>40</td>\n",
       "      <td>United-States</td>\n",
       "      <td>&lt;=50K</td>\n",
       "    </tr>\n",
       "    <tr>\n",
       "      <th>2</th>\n",
       "      <td>47</td>\n",
       "      <td>State-gov</td>\n",
       "      <td>Masters</td>\n",
       "      <td>14</td>\n",
       "      <td>Married-civ-spouse</td>\n",
       "      <td>Prof-specialty</td>\n",
       "      <td>Husband</td>\n",
       "      <td>White</td>\n",
       "      <td>Male</td>\n",
       "      <td>38</td>\n",
       "      <td>United-States</td>\n",
       "      <td>&gt;50K</td>\n",
       "    </tr>\n",
       "    <tr>\n",
       "      <th>3</th>\n",
       "      <td>62</td>\n",
       "      <td>Private</td>\n",
       "      <td>HS-grad</td>\n",
       "      <td>9</td>\n",
       "      <td>Divorced</td>\n",
       "      <td>Adm-clerical</td>\n",
       "      <td>Unmarried</td>\n",
       "      <td>White</td>\n",
       "      <td>Female</td>\n",
       "      <td>40</td>\n",
       "      <td>United-States</td>\n",
       "      <td>&lt;=50K</td>\n",
       "    </tr>\n",
       "    <tr>\n",
       "      <th>4</th>\n",
       "      <td>42</td>\n",
       "      <td>Self-emp-not-inc</td>\n",
       "      <td>Some-college</td>\n",
       "      <td>10</td>\n",
       "      <td>Married-civ-spouse</td>\n",
       "      <td>Farming-fishing</td>\n",
       "      <td>Husband</td>\n",
       "      <td>White</td>\n",
       "      <td>Male</td>\n",
       "      <td>60</td>\n",
       "      <td>United-States</td>\n",
       "      <td>&lt;=50K</td>\n",
       "    </tr>\n",
       "    <tr>\n",
       "      <th>...</th>\n",
       "      <td>...</td>\n",
       "      <td>...</td>\n",
       "      <td>...</td>\n",
       "      <td>...</td>\n",
       "      <td>...</td>\n",
       "      <td>...</td>\n",
       "      <td>...</td>\n",
       "      <td>...</td>\n",
       "      <td>...</td>\n",
       "      <td>...</td>\n",
       "      <td>...</td>\n",
       "      <td>...</td>\n",
       "    </tr>\n",
       "    <tr>\n",
       "      <th>32556</th>\n",
       "      <td>36</td>\n",
       "      <td>Private</td>\n",
       "      <td>Bachelors</td>\n",
       "      <td>13</td>\n",
       "      <td>Married-civ-spouse</td>\n",
       "      <td>Sales</td>\n",
       "      <td>Husband</td>\n",
       "      <td>White</td>\n",
       "      <td>Male</td>\n",
       "      <td>40</td>\n",
       "      <td>United-States</td>\n",
       "      <td>&gt;50K</td>\n",
       "    </tr>\n",
       "    <tr>\n",
       "      <th>32557</th>\n",
       "      <td>34</td>\n",
       "      <td>Private</td>\n",
       "      <td>11th</td>\n",
       "      <td>7</td>\n",
       "      <td>Married-civ-spouse</td>\n",
       "      <td>Handlers-cleaners</td>\n",
       "      <td>Husband</td>\n",
       "      <td>White</td>\n",
       "      <td>Male</td>\n",
       "      <td>40</td>\n",
       "      <td>Mexico</td>\n",
       "      <td>&lt;=50K</td>\n",
       "    </tr>\n",
       "    <tr>\n",
       "      <th>32558</th>\n",
       "      <td>27</td>\n",
       "      <td>Private</td>\n",
       "      <td>HS-grad</td>\n",
       "      <td>9</td>\n",
       "      <td>Separated</td>\n",
       "      <td>Machine-op-inspct</td>\n",
       "      <td>Not-in-family</td>\n",
       "      <td>White</td>\n",
       "      <td>Male</td>\n",
       "      <td>43</td>\n",
       "      <td>United-States</td>\n",
       "      <td>&lt;=50K</td>\n",
       "    </tr>\n",
       "    <tr>\n",
       "      <th>32559</th>\n",
       "      <td>41</td>\n",
       "      <td>Self-emp-not-inc</td>\n",
       "      <td>HS-grad</td>\n",
       "      <td>9</td>\n",
       "      <td>Married-civ-spouse</td>\n",
       "      <td>Farming-fishing</td>\n",
       "      <td>Wife</td>\n",
       "      <td>White</td>\n",
       "      <td>Female</td>\n",
       "      <td>40</td>\n",
       "      <td>United-States</td>\n",
       "      <td>&lt;=50K</td>\n",
       "    </tr>\n",
       "    <tr>\n",
       "      <th>32560</th>\n",
       "      <td>23</td>\n",
       "      <td>Private</td>\n",
       "      <td>Bachelors</td>\n",
       "      <td>13</td>\n",
       "      <td>Never-married</td>\n",
       "      <td>Tech-support</td>\n",
       "      <td>Not-in-family</td>\n",
       "      <td>Black</td>\n",
       "      <td>Female</td>\n",
       "      <td>45</td>\n",
       "      <td>United-States</td>\n",
       "      <td>&lt;=50K</td>\n",
       "    </tr>\n",
       "  </tbody>\n",
       "</table>\n",
       "<p>32561 rows × 12 columns</p>\n",
       "</div>"
      ],
      "text/plain": [
       "       age         workclass     education  education-num      marital-status  \\\n",
       "0       68         Local-gov       HS-grad              9             Widowed   \n",
       "1       38           Private     Bachelors             13            Divorced   \n",
       "2       47         State-gov       Masters             14  Married-civ-spouse   \n",
       "3       62           Private       HS-grad              9            Divorced   \n",
       "4       42  Self-emp-not-inc  Some-college             10  Married-civ-spouse   \n",
       "...    ...               ...           ...            ...                 ...   \n",
       "32556   36           Private     Bachelors             13  Married-civ-spouse   \n",
       "32557   34           Private          11th              7  Married-civ-spouse   \n",
       "32558   27           Private       HS-grad              9           Separated   \n",
       "32559   41  Self-emp-not-inc       HS-grad              9  Married-civ-spouse   \n",
       "32560   23           Private     Bachelors             13       Never-married   \n",
       "\n",
       "              occupation   relationship   race     sex  hourse-per-week  \\\n",
       "0        Protective-serv  Not-in-family  White    Male               20   \n",
       "1                  Sales      Unmarried  White  Female               40   \n",
       "2         Prof-specialty        Husband  White    Male               38   \n",
       "3           Adm-clerical      Unmarried  White  Female               40   \n",
       "4        Farming-fishing        Husband  White    Male               60   \n",
       "...                  ...            ...    ...     ...              ...   \n",
       "32556              Sales        Husband  White    Male               40   \n",
       "32557  Handlers-cleaners        Husband  White    Male               40   \n",
       "32558  Machine-op-inspct  Not-in-family  White    Male               43   \n",
       "32559    Farming-fishing           Wife  White  Female               40   \n",
       "32560       Tech-support  Not-in-family  Black  Female               45   \n",
       "\n",
       "      native-country  CLASS  \n",
       "0      United-States  <=50K  \n",
       "1      United-States  <=50K  \n",
       "2      United-States   >50K  \n",
       "3      United-States  <=50K  \n",
       "4      United-States  <=50K  \n",
       "...              ...    ...  \n",
       "32556  United-States   >50K  \n",
       "32557         Mexico  <=50K  \n",
       "32558  United-States  <=50K  \n",
       "32559  United-States  <=50K  \n",
       "32560  United-States  <=50K  \n",
       "\n",
       "[32561 rows x 12 columns]"
      ]
     },
     "execution_count": 8,
     "metadata": {},
     "output_type": "execute_result"
    }
   ],
   "source": [
    "adult_dataset = adult_dataset[['age','workclass','education','education-num','marital-status','occupation','relationship','race','sex','hourse-per-week', 'native-country' ,'CLASS']]\n",
    "\n",
    "for element in list(adult_dataset):\n",
    "    if adult_dataset[element].dtype not in [np.float64, np.int64]:\n",
    "        adult_dataset[element] = adult_dataset[element].str.strip()\n",
    "\n",
    "adult_dataset['CLASS'] = adult_dataset['CLASS'].str.strip()\n",
    "adult_dataset.head()\n",
    "adult_dataset"
   ]
  },
  {
   "cell_type": "code",
   "execution_count": 9,
   "id": "dietary-shame",
   "metadata": {},
   "outputs": [
    {
     "data": {
      "text/html": [
       "<div>\n",
       "<style scoped>\n",
       "    .dataframe tbody tr th:only-of-type {\n",
       "        vertical-align: middle;\n",
       "    }\n",
       "\n",
       "    .dataframe tbody tr th {\n",
       "        vertical-align: top;\n",
       "    }\n",
       "\n",
       "    .dataframe thead th {\n",
       "        text-align: right;\n",
       "    }\n",
       "</style>\n",
       "<table border=\"1\" class=\"dataframe\">\n",
       "  <thead>\n",
       "    <tr style=\"text-align: right;\">\n",
       "      <th></th>\n",
       "      <th>age</th>\n",
       "      <th>workclass</th>\n",
       "      <th>education</th>\n",
       "      <th>education-num</th>\n",
       "      <th>marital-status</th>\n",
       "      <th>occupation</th>\n",
       "      <th>relationship</th>\n",
       "      <th>race</th>\n",
       "      <th>sex</th>\n",
       "      <th>hourse-per-week</th>\n",
       "      <th>native-country</th>\n",
       "      <th>CLASS</th>\n",
       "    </tr>\n",
       "  </thead>\n",
       "  <tbody>\n",
       "    <tr>\n",
       "      <th>0</th>\n",
       "      <td>68</td>\n",
       "      <td>Local-gov</td>\n",
       "      <td>HS-grad</td>\n",
       "      <td>9</td>\n",
       "      <td>Widowed</td>\n",
       "      <td>Protective-serv</td>\n",
       "      <td>Not-in-family</td>\n",
       "      <td>White</td>\n",
       "      <td>Male</td>\n",
       "      <td>20</td>\n",
       "      <td>United-States</td>\n",
       "      <td>&lt;=50K</td>\n",
       "    </tr>\n",
       "    <tr>\n",
       "      <th>1</th>\n",
       "      <td>38</td>\n",
       "      <td>Private</td>\n",
       "      <td>Bachelors</td>\n",
       "      <td>13</td>\n",
       "      <td>Divorced</td>\n",
       "      <td>Sales</td>\n",
       "      <td>Unmarried</td>\n",
       "      <td>White</td>\n",
       "      <td>Female</td>\n",
       "      <td>40</td>\n",
       "      <td>United-States</td>\n",
       "      <td>&lt;=50K</td>\n",
       "    </tr>\n",
       "    <tr>\n",
       "      <th>2</th>\n",
       "      <td>47</td>\n",
       "      <td>State-gov</td>\n",
       "      <td>Masters</td>\n",
       "      <td>14</td>\n",
       "      <td>Married-civ-spouse</td>\n",
       "      <td>Prof-specialty</td>\n",
       "      <td>Husband</td>\n",
       "      <td>White</td>\n",
       "      <td>Male</td>\n",
       "      <td>38</td>\n",
       "      <td>United-States</td>\n",
       "      <td>&gt;50K</td>\n",
       "    </tr>\n",
       "    <tr>\n",
       "      <th>3</th>\n",
       "      <td>62</td>\n",
       "      <td>Private</td>\n",
       "      <td>HS-grad</td>\n",
       "      <td>9</td>\n",
       "      <td>Divorced</td>\n",
       "      <td>Adm-clerical</td>\n",
       "      <td>Unmarried</td>\n",
       "      <td>White</td>\n",
       "      <td>Female</td>\n",
       "      <td>40</td>\n",
       "      <td>United-States</td>\n",
       "      <td>&lt;=50K</td>\n",
       "    </tr>\n",
       "    <tr>\n",
       "      <th>4</th>\n",
       "      <td>42</td>\n",
       "      <td>Self-emp-not-inc</td>\n",
       "      <td>Some-college</td>\n",
       "      <td>10</td>\n",
       "      <td>Married-civ-spouse</td>\n",
       "      <td>Farming-fishing</td>\n",
       "      <td>Husband</td>\n",
       "      <td>White</td>\n",
       "      <td>Male</td>\n",
       "      <td>60</td>\n",
       "      <td>United-States</td>\n",
       "      <td>&lt;=50K</td>\n",
       "    </tr>\n",
       "    <tr>\n",
       "      <th>...</th>\n",
       "      <td>...</td>\n",
       "      <td>...</td>\n",
       "      <td>...</td>\n",
       "      <td>...</td>\n",
       "      <td>...</td>\n",
       "      <td>...</td>\n",
       "      <td>...</td>\n",
       "      <td>...</td>\n",
       "      <td>...</td>\n",
       "      <td>...</td>\n",
       "      <td>...</td>\n",
       "      <td>...</td>\n",
       "    </tr>\n",
       "    <tr>\n",
       "      <th>32556</th>\n",
       "      <td>36</td>\n",
       "      <td>Private</td>\n",
       "      <td>Bachelors</td>\n",
       "      <td>13</td>\n",
       "      <td>Married-civ-spouse</td>\n",
       "      <td>Sales</td>\n",
       "      <td>Husband</td>\n",
       "      <td>White</td>\n",
       "      <td>Male</td>\n",
       "      <td>40</td>\n",
       "      <td>United-States</td>\n",
       "      <td>&gt;50K</td>\n",
       "    </tr>\n",
       "    <tr>\n",
       "      <th>32557</th>\n",
       "      <td>34</td>\n",
       "      <td>Private</td>\n",
       "      <td>11th</td>\n",
       "      <td>7</td>\n",
       "      <td>Married-civ-spouse</td>\n",
       "      <td>Handlers-cleaners</td>\n",
       "      <td>Husband</td>\n",
       "      <td>White</td>\n",
       "      <td>Male</td>\n",
       "      <td>40</td>\n",
       "      <td>Mexico</td>\n",
       "      <td>&lt;=50K</td>\n",
       "    </tr>\n",
       "    <tr>\n",
       "      <th>32558</th>\n",
       "      <td>27</td>\n",
       "      <td>Private</td>\n",
       "      <td>HS-grad</td>\n",
       "      <td>9</td>\n",
       "      <td>Separated</td>\n",
       "      <td>Machine-op-inspct</td>\n",
       "      <td>Not-in-family</td>\n",
       "      <td>White</td>\n",
       "      <td>Male</td>\n",
       "      <td>43</td>\n",
       "      <td>United-States</td>\n",
       "      <td>&lt;=50K</td>\n",
       "    </tr>\n",
       "    <tr>\n",
       "      <th>32559</th>\n",
       "      <td>41</td>\n",
       "      <td>Self-emp-not-inc</td>\n",
       "      <td>HS-grad</td>\n",
       "      <td>9</td>\n",
       "      <td>Married-civ-spouse</td>\n",
       "      <td>Farming-fishing</td>\n",
       "      <td>Wife</td>\n",
       "      <td>White</td>\n",
       "      <td>Female</td>\n",
       "      <td>40</td>\n",
       "      <td>United-States</td>\n",
       "      <td>&lt;=50K</td>\n",
       "    </tr>\n",
       "    <tr>\n",
       "      <th>32560</th>\n",
       "      <td>23</td>\n",
       "      <td>Private</td>\n",
       "      <td>Bachelors</td>\n",
       "      <td>13</td>\n",
       "      <td>Never-married</td>\n",
       "      <td>Tech-support</td>\n",
       "      <td>Not-in-family</td>\n",
       "      <td>Black</td>\n",
       "      <td>Female</td>\n",
       "      <td>45</td>\n",
       "      <td>United-States</td>\n",
       "      <td>&lt;=50K</td>\n",
       "    </tr>\n",
       "  </tbody>\n",
       "</table>\n",
       "<p>30162 rows × 12 columns</p>\n",
       "</div>"
      ],
      "text/plain": [
       "       age         workclass     education  education-num      marital-status  \\\n",
       "0       68         Local-gov       HS-grad              9             Widowed   \n",
       "1       38           Private     Bachelors             13            Divorced   \n",
       "2       47         State-gov       Masters             14  Married-civ-spouse   \n",
       "3       62           Private       HS-grad              9            Divorced   \n",
       "4       42  Self-emp-not-inc  Some-college             10  Married-civ-spouse   \n",
       "...    ...               ...           ...            ...                 ...   \n",
       "32556   36           Private     Bachelors             13  Married-civ-spouse   \n",
       "32557   34           Private          11th              7  Married-civ-spouse   \n",
       "32558   27           Private       HS-grad              9           Separated   \n",
       "32559   41  Self-emp-not-inc       HS-grad              9  Married-civ-spouse   \n",
       "32560   23           Private     Bachelors             13       Never-married   \n",
       "\n",
       "              occupation   relationship   race     sex  hourse-per-week  \\\n",
       "0        Protective-serv  Not-in-family  White    Male               20   \n",
       "1                  Sales      Unmarried  White  Female               40   \n",
       "2         Prof-specialty        Husband  White    Male               38   \n",
       "3           Adm-clerical      Unmarried  White  Female               40   \n",
       "4        Farming-fishing        Husband  White    Male               60   \n",
       "...                  ...            ...    ...     ...              ...   \n",
       "32556              Sales        Husband  White    Male               40   \n",
       "32557  Handlers-cleaners        Husband  White    Male               40   \n",
       "32558  Machine-op-inspct  Not-in-family  White    Male               43   \n",
       "32559    Farming-fishing           Wife  White  Female               40   \n",
       "32560       Tech-support  Not-in-family  Black  Female               45   \n",
       "\n",
       "      native-country  CLASS  \n",
       "0      United-States  <=50K  \n",
       "1      United-States  <=50K  \n",
       "2      United-States   >50K  \n",
       "3      United-States  <=50K  \n",
       "4      United-States  <=50K  \n",
       "...              ...    ...  \n",
       "32556  United-States   >50K  \n",
       "32557         Mexico  <=50K  \n",
       "32558  United-States  <=50K  \n",
       "32559  United-States  <=50K  \n",
       "32560  United-States  <=50K  \n",
       "\n",
       "[30162 rows x 12 columns]"
      ]
     },
     "execution_count": 9,
     "metadata": {},
     "output_type": "execute_result"
    }
   ],
   "source": [
    "adult_dataset.dropna(how='any', axis=0)\n",
    "indexNames = adult_dataset[(adult_dataset['workclass'] == '?') | (adult_dataset['education'] == '?') | (adult_dataset['marital-status'] == '?') | (adult_dataset['occupation'] == '?') | (adult_dataset['relationship'] == '?') | (adult_dataset['race'] == '?') | (adult_dataset['sex'] == '?') | (adult_dataset['native-country'] == '?') ].index\n",
    "# print(indexNames)\n",
    "adult_dataset.drop(indexNames, inplace=True)\n",
    "adult_dataset.head()\n",
    "adult_dataset.reset_index(inplace=False)\n",
    "adult_dataset"
   ]
  },
  {
   "cell_type": "markdown",
   "id": "occupational-canyon",
   "metadata": {},
   "source": [
    "### Adult 70%"
   ]
  },
  {
   "cell_type": "code",
   "execution_count": 10,
   "id": "excellent-central",
   "metadata": {},
   "outputs": [
    {
     "name": "stdout",
     "output_type": "stream",
     "text": [
      "<=50K    10598\n",
      ">50K      3477\n",
      "Name: CLASS, dtype: int64\n"
     ]
    },
    {
     "data": {
      "text/plain": [
       "<AxesSubplot:title={'center':'class'}>"
      ]
     },
     "execution_count": 10,
     "metadata": {},
     "output_type": "execute_result"
    },
    {
     "data": {
      "image/png": "[encoded data removed]",
      "text/plain": [
       "<Figure size 432x288 with 1 Axes>"
      ]
     },
     "metadata": {
      "needs_background": "light"
     },
     "output_type": "display_data"
    }
   ],
   "source": [
    "adult_set_for_training70, adult_testing70 = data_utils.data_split(adult_dataset, 70)\n",
    "adult_training70, adult_validation70 = data_utils.split_training_data_for_pruning(adult_set_for_training70)\n",
    "\n",
    "print(adult_training70['CLASS'].value_counts())\n",
    "adult_training70['CLASS'].value_counts().plot(kind='bar', title='class')"
   ]
  },
  {
   "cell_type": "code",
   "execution_count": 11,
   "id": "mature-cologne",
   "metadata": {},
   "outputs": [
    {
     "data": {
      "text/plain": [
       "<AxesSubplot:title={'center':'class'}>"
      ]
     },
     "execution_count": 11,
     "metadata": {},
     "output_type": "execute_result"
    },
    {
     "data": {
      "image/png": "[encoded data removed]",
      "text/plain": [
       "<Figure size 432x288 with 1 Axes>"
      ]
     },
     "metadata": {
      "needs_background": "light"
     },
     "output_type": "display_data"
    }
   ],
   "source": [
    "resampling_adult70 = adult_training70.copy()\n",
    "less_50k_part70 = resampling_adult70[resampling_adult70['CLASS'] == '<=50K']\n",
    "more_50k_part70 = resampling_adult70[resampling_adult70['CLASS'] == '>50K'] \n",
    "\n",
    "less_50k_part_downsampled70 = resample(less_50k_part70, \n",
    "                                 replace=False,    \n",
    "                                 n_samples=3532)\n",
    "\n",
    "# Combine minority class with downsampled majority class\n",
    "balanced_adult_training70 = pd.concat([less_50k_part_downsampled70, more_50k_part70])\n",
    "balanced_adult_training70 = balanced_adult_training70.reset_index(level=None, drop=True, inplace=False, col_level=0, col_fill='')\n",
    "balanced_adult_training70 = balanced_adult_training70.sample(frac=1).reset_index(drop=True)\n",
    "\n",
    "adult_training70 = balanced_adult_training70.copy()\n",
    "adult_training70['CLASS'].value_counts().plot(kind='bar', title='class')"
   ]
  },
  {
   "cell_type": "markdown",
   "id": "alternate-canberra",
   "metadata": {},
   "source": [
    "### Adult 80%"
   ]
  },
  {
   "cell_type": "code",
   "execution_count": 12,
   "id": "completed-liechtenstein",
   "metadata": {},
   "outputs": [
    {
     "name": "stdout",
     "output_type": "stream",
     "text": [
      "<=50K    12074\n",
      ">50K      4011\n",
      "Name: CLASS, dtype: int64\n"
     ]
    },
    {
     "data": {
      "text/plain": [
       "<AxesSubplot:title={'center':'class'}>"
      ]
     },
     "execution_count": 12,
     "metadata": {},
     "output_type": "execute_result"
    },
    {
     "data": {
      "image/png": "[encoded data removed]",
      "text/plain": [
       "<Figure size 432x288 with 1 Axes>"
      ]
     },
     "metadata": {
      "needs_background": "light"
     },
     "output_type": "display_data"
    }
   ],
   "source": [
    "adult_set_for_training80, adult_testing80 = data_utils.data_split(adult_dataset, 80)\n",
    "adult_training80, adult_validation80 = data_utils.split_training_data_for_pruning(adult_set_for_training80)\n",
    "\n",
    "print(adult_training80['CLASS'].value_counts())\n",
    "adult_training80['CLASS'].value_counts().plot(kind='bar', title='class')"
   ]
  },
  {
   "cell_type": "code",
   "execution_count": 13,
   "id": "stretch-northwest",
   "metadata": {},
   "outputs": [
    {
     "data": {
      "text/plain": [
       "<AxesSubplot:title={'center':'class'}>"
      ]
     },
     "execution_count": 13,
     "metadata": {},
     "output_type": "execute_result"
    },
    {
     "data": {
      "image/png": "[encoded data removed]",
      "text/plain": [
       "<Figure size 432x288 with 1 Axes>"
      ]
     },
     "metadata": {
      "needs_background": "light"
     },
     "output_type": "display_data"
    }
   ],
   "source": [
    "resampling_adult80 = adult_training80.copy()\n",
    "less_50k_part80 = resampling_adult80[resampling_adult80['CLASS'] == '<=50K']\n",
    "more_50k_part80 = resampling_adult80[resampling_adult80['CLASS'] == '>50K'] \n",
    "\n",
    "less_50k_part_downsampled80 = resample(less_50k_part80, \n",
    "                                 replace=False,    \n",
    "                                 n_samples=4002)\n",
    "\n",
    "# Combine minority class with downsampled majority class\n",
    "balanced_adult_training80 = pd.concat([less_50k_part_downsampled80, more_50k_part80])\n",
    "balanced_adult_training80 = balanced_adult_training80.reset_index(level=None, drop=True, inplace=False, col_level=0, col_fill='')\n",
    "balanced_adult_training80 = balanced_adult_training80.sample(frac=1).reset_index(drop=True)\n",
    "\n",
    "adult_training80 = balanced_adult_training80.copy()\n",
    "adult_training80['CLASS'].value_counts().plot(kind='bar', title='class')"
   ]
  },
  {
   "cell_type": "markdown",
   "id": "regular-journal",
   "metadata": {},
   "source": [
    "### Adult 90%"
   ]
  },
  {
   "cell_type": "code",
   "execution_count": 14,
   "id": "informal-tunnel",
   "metadata": {},
   "outputs": [
    {
     "name": "stdout",
     "output_type": "stream",
     "text": [
      "<=50K    13593\n",
      ">50K      4503\n",
      "Name: CLASS, dtype: int64\n"
     ]
    },
    {
     "data": {
      "text/plain": [
       "<AxesSubplot:title={'center':'class'}>"
      ]
     },
     "execution_count": 14,
     "metadata": {},
     "output_type": "execute_result"
    },
    {
     "data": {
      "image/png": "[encoded data removed]",
      "text/plain": [
       "<Figure size 432x288 with 1 Axes>"
      ]
     },
     "metadata": {
      "needs_background": "light"
     },
     "output_type": "display_data"
    }
   ],
   "source": [
    "adult_set_for_training90, adult_testing90 = data_utils.data_split(adult_dataset, 90)\n",
    "adult_training90, adult_validation90 = data_utils.split_training_data_for_pruning(adult_set_for_training90)\n",
    "\n",
    "print(adult_training90['CLASS'].value_counts())\n",
    "adult_training90['CLASS'].value_counts().plot(kind='bar', title='class')"
   ]
  },
  {
   "cell_type": "code",
   "execution_count": 15,
   "id": "egyptian-train",
   "metadata": {},
   "outputs": [
    {
     "data": {
      "text/plain": [
       "<AxesSubplot:title={'center':'class'}>"
      ]
     },
     "execution_count": 15,
     "metadata": {},
     "output_type": "execute_result"
    },
    {
     "data": {
      "image/png": "[encoded data removed]",
      "text/plain": [
       "<Figure size 432x288 with 1 Axes>"
      ]
     },
     "metadata": {
      "needs_background": "light"
     },
     "output_type": "display_data"
    }
   ],
   "source": [
    "resampling_adult90 = adult_training90.copy()\n",
    "less_50k_part90 = resampling_adult90[resampling_adult90['CLASS'] == '<=50K']\n",
    "more_50k_part90 = resampling_adult90[resampling_adult90['CLASS'] == '>50K'] \n",
    "\n",
    "less_50k_part_downsampled90 = resample(less_50k_part90, \n",
    "                                 replace=False,    \n",
    "                                 n_samples=4469)\n",
    "\n",
    "# Combine minority class with downsampled majority class\n",
    "balanced_adult_training90 = pd.concat([less_50k_part_downsampled90, more_50k_part90])\n",
    "balanced_adult_training90 = balanced_adult_training90.reset_index(level=None, drop=True, inplace=False, col_level=0, col_fill='')\n",
    "balanced_adult_training90 = balanced_adult_training90.sample(frac=1).reset_index(drop=True)\n",
    "\n",
    "adult_training90 = balanced_adult_training90.copy()\n",
    "adult_training90['CLASS'].value_counts().plot(kind='bar', title='class')"
   ]
  },
  {
   "cell_type": "markdown",
   "id": "periodic-pressing",
   "metadata": {},
   "source": [
    "## Model Training"
   ]
  },
  {
   "cell_type": "code",
   "execution_count": 16,
   "id": "spoken-attack",
   "metadata": {},
   "outputs": [
    {
     "name": "stdout",
     "output_type": "stream",
     "text": [
      "Before Pruning - heuristic = mdl_simple\n",
      "Accuracy for: testing 74.99% | training 80.14% | levels 14 | leafs 546\n",
      "data len= 9049\n",
      "confusion-matrix: [[1759, 416], [1669, 5027]]\n",
      "data len= 7009\n",
      "confusion-matrix-training: [[2866, 611], [781, 2751]]\n",
      "After Pruning:\n",
      "Accuracy for: testing 81.40% | training 73.59% | levels 12 | leafs 105\n",
      "data len= 9049\n",
      "confusion-matrix: [[1336, 901], [773, 6030]]\n",
      "data len= 7009\n",
      "confusion-matrix-training: [[2011, 1466], [385, 3147]]\n",
      "\n",
      "\n"
     ]
    }
   ],
   "source": [
    "# train_tree_for_different_heuristics(adult_training70, adult_testing70, adult_validation70)"
   ]
  },
  {
   "cell_type": "code",
   "execution_count": 17,
   "id": "checked-lightweight",
   "metadata": {},
   "outputs": [
    {
     "name": "stdout",
     "output_type": "stream",
     "text": [
      "Before Pruning - heuristic = mdl_simple\n",
      "Accuracy for: testing 76.38% | training 80.61% | levels 14 | leafs 470\n",
      "data len= 6033\n",
      "confusion-matrix: [[1250, 229], [1130, 3358]]\n",
      "data len= 8013\n",
      "confusion-matrix-training: [[3351, 660], [894, 3108]]\n",
      "After Pruning:\n",
      "Accuracy for: testing 80.28% | training 70.47% | levels 6 | leafs 64\n",
      "data len= 6033\n",
      "confusion-matrix: [[721, 784], [404, 4122]]\n",
      "data len= 8013\n",
      "confusion-matrix-training: [[1941, 2070], [296, 3706]]\n",
      "\n",
      "\n"
     ]
    }
   ],
   "source": [
    "train_tree_for_different_heuristics(adult_training80, adult_testing80, adult_validation80)"
   ]
  },
  {
   "cell_type": "code",
   "execution_count": 18,
   "id": "loose-sapphire",
   "metadata": {},
   "outputs": [
    {
     "name": "stdout",
     "output_type": "stream",
     "text": [
      "Before Pruning - heuristic = mdl_simple\n",
      "Accuracy for: testing 77.96% | training 80.06% | levels 14 | leafs 511\n",
      "data len= 3017\n",
      "confusion-matrix: [[594, 128], [507, 1758]]\n",
      "data len= 8972\n",
      "confusion-matrix-training: [[3685, 818], [971, 3498]]\n",
      "After Pruning:\n",
      "Accuracy for: testing 82.13% | training 71.11% | levels 6 | leafs 99\n",
      "data len= 3017\n",
      "confusion-matrix: [[380, 353], [185, 2098]]\n",
      "data len= 8972\n",
      "confusion-matrix-training: [[2289, 2214], [378, 4091]]\n",
      "\n",
      "\n"
     ]
    }
   ],
   "source": [
    "# train_tree_for_different_heuristics(adult_training90, adult_testing90, adult_validation90)"
   ]
  }
 ],
 "metadata": {
  "kernelspec": {
   "display_name": "Python 3",
   "language": "python",
   "name": "python3"
  },
  "language_info": {
   "codemirror_mode": {
    "name": "ipython",
    "version": 3
   },
   "file_extension": ".py",
   "mimetype": "text/x-python",
   "name": "python",
   "nbconvert_exporter": "python",
   "pygments_lexer": "ipython3",
   "version": "3.8.10"
  }
 },
 "nbformat": 4,
 "nbformat_minor": 5
}
