{
 "cells": [
  {
   "cell_type": "code",
   "execution_count": 1,
   "id": "improving-hopkins",
   "metadata": {},
   "outputs": [
    {
     "data": {
      "text/html": [
       "<style>.container { width:100% !important; }</style>"
      ],
      "text/plain": [
       "<IPython.core.display.HTML object>"
      ]
     },
     "metadata": {},
     "output_type": "display_data"
    }
   ],
   "source": [
    "from IPython.core.display import display, HTML\n",
    "display(HTML(\"<style>.container { width:100% !important; }</style>\"))"
   ]
  },
  {
   "cell_type": "code",
   "execution_count": 2,
   "id": "sustained-making",
   "metadata": {},
   "outputs": [],
   "source": [
    "import src.data_utils as data_utils\n",
    "import src.tree_build as dt_tree\n",
    "import src.heurestics as dt_heur\n",
    "import src.tree_utils as tree_utils\n",
    "import src.dt_testing_utils as dt_testing\n",
    "import src.tree_pruning as tree_pruning\n",
    "\n",
    "from pprint import pprint\n",
    "import numpy as np\n",
    "import pandas as pd\n",
    "from sklearn.utils import resample"
   ]
  },
  {
   "cell_type": "markdown",
   "id": "unable-audio",
   "metadata": {},
   "source": [
    "## Utils"
   ]
  },
  {
   "cell_type": "code",
   "execution_count": 3,
   "id": "tamil-providence",
   "metadata": {},
   "outputs": [],
   "source": [
    "def confusion_matrix(data,tree,class_label='CLASS'):\n",
    "    #or set?\n",
    "    #binary_problem\n",
    "    positive_value = '>50K'\n",
    "    negative_value = '<=50K'\n",
    "    #[Actual >50k and predicted >50k, Actual 50k but predicted <50k][Actual<50k and predicted <50k, Actual <50k and predicted >50k]\n",
    "    confusion_matrix=[[0,0],[0,0]]\n",
    "    queries = data.iloc[:, :-1].to_dict(orient=\"records\")\n",
    "    for i in range(len(data)):\n",
    "        prediction = tree_utils.predict(queries[i], tree)\n",
    "        if data[class_label][i] == '>50K' and prediction == '>50K':\n",
    "            #true_positive\n",
    "            confusion_matrix[0][0]+=1\n",
    "        if data[class_label][i] == '<=50K' and prediction == '<=50K':\n",
    "            #true negative\n",
    "            confusion_matrix[1][1]+=1\n",
    "        if data[class_label][i] == '<=50K' and prediction == '>50K':\n",
    "            #false_negative\n",
    "            confusion_matrix[1][0]+=1\n",
    "        if data[class_label][i] == '>50K' and prediction == '<=50K':\n",
    "            #false_positive\n",
    "            confusion_matrix[0][1]+=1\n",
    "            \n",
    "    print('data len=', len(data))\n",
    "    return confusion_matrix"
   ]
  },
  {
   "cell_type": "code",
   "execution_count": 4,
   "id": "plastic-leonard",
   "metadata": {},
   "outputs": [],
   "source": [
    "def print_tree_informations(tree, training_data, testing_data):\n",
    "    accuracy_testing = tree_utils.tree_accuracy(testing_data, tree)\n",
    "    accuracy_training = tree_utils.tree_accuracy(training_data, tree)\n",
    "    levels = tree_utils.number_of_levels(tree)\n",
    "    leafs = tree_utils.number_of_leafs(tree)\n",
    "    print(\"Accuracy for: testing {0:.2f}% | training {1:.2f}% | levels {2} | leafs {3}\".format(accuracy_testing, accuracy_training,levels, leafs))"
   ]
  },
  {
   "cell_type": "code",
   "execution_count": 5,
   "id": "hungry-tactics",
   "metadata": {},
   "outputs": [],
   "source": [
    "#heuristics\n",
    "def train_and_prune_tree(heurestic, training_data, testing_data, validation_data):\n",
    "    print(\"Before Pruning - heuristic = {0}\".format(heurestic.__name__))\n",
    "    trained_tree = dt_tree.build_tree_generic(heurestic, training_data)\n",
    "    print_tree_informations(trained_tree, training_data, testing_data)\n",
    "    print(\"confusion-matrix:\", confusion_matrix(testing_data, trained_tree))\n",
    "    print(\"confusion-matrix-training:\", confusion_matrix(training_data, trained_tree))\n",
    "    \n",
    "#     pprint(trained_tree)\n",
    "    print(\"After Pruning:\")\n",
    "    pruned_trained_tree = tree_pruning.reduced_error_pruning(trained_tree, validation_data)\n",
    "    print_tree_informations(pruned_trained_tree, training_data, testing_data)\n",
    "    print(\"confusion-matrix:\", confusion_matrix(testing_data, pruned_trained_tree))\n",
    "    print(\"confusion-matrix-training:\", confusion_matrix(training_data, pruned_trained_tree))\n",
    "    print('\\n')\n",
    "#     return pruned_trained_tree\n",
    "    pprint(pruned_trained_tree)\n",
    "#     pprint(pruned_trained_tree)"
   ]
  },
  {
   "cell_type": "code",
   "execution_count": 6,
   "id": "powered-duncan",
   "metadata": {},
   "outputs": [],
   "source": [
    "# default_heuristics = [dt_heur.gini_impurity_weighted, dt_heur.info_gain, dt_heur.information_gain_ratio,\n",
    "#                       dt_heur.distance_measure, dt_heur.j_measure, dt_heur.weight_of_evidence,\n",
    "#                       dt_heur.gini_pri, dt_heur.relief, dt_heur.relevance, dt_heur.mdl_simple]\n",
    "# default_heuristics = [dt_heur.mdl_simple,  dt_heur.j_measure]\n",
    "default_heuristics = [dt_heur.mdl_simple]\n",
    "\n",
    "def train_tree_for_different_heuristics(training_data, testing_data, validation_data, heuristics = default_heuristics):\n",
    "    for heuristic in heuristics:\n",
    "        train_and_prune_tree(heuristic, training_data, testing_data, validation_data)"
   ]
  },
  {
   "cell_type": "markdown",
   "id": "likely-accountability",
   "metadata": {},
   "source": [
    "# Adult Dataset"
   ]
  },
  {
   "cell_type": "markdown",
   "id": "egyptian-graphics",
   "metadata": {},
   "source": [
    "## Data preparation"
   ]
  },
  {
   "cell_type": "code",
   "execution_count": 7,
   "id": "heavy-homeless",
   "metadata": {},
   "outputs": [
    {
     "data": {
      "text/html": [
       "<div>\n",
       "<style scoped>\n",
       "    .dataframe tbody tr th:only-of-type {\n",
       "        vertical-align: middle;\n",
       "    }\n",
       "\n",
       "    .dataframe tbody tr th {\n",
       "        vertical-align: top;\n",
       "    }\n",
       "\n",
       "    .dataframe thead th {\n",
       "        text-align: right;\n",
       "    }\n",
       "</style>\n",
       "<table border=\"1\" class=\"dataframe\">\n",
       "  <thead>\n",
       "    <tr style=\"text-align: right;\">\n",
       "      <th></th>\n",
       "      <th>age</th>\n",
       "      <th>workclass</th>\n",
       "      <th>fnlwgt</th>\n",
       "      <th>education</th>\n",
       "      <th>education-num</th>\n",
       "      <th>marital-status</th>\n",
       "      <th>occupation</th>\n",
       "      <th>relationship</th>\n",
       "      <th>race</th>\n",
       "      <th>sex</th>\n",
       "      <th>capital-gain</th>\n",
       "      <th>capital-loss</th>\n",
       "      <th>hourse-per-week</th>\n",
       "      <th>native-country</th>\n",
       "      <th>CLASS</th>\n",
       "    </tr>\n",
       "  </thead>\n",
       "  <tbody>\n",
       "    <tr>\n",
       "      <th>0</th>\n",
       "      <td>29</td>\n",
       "      <td>Private</td>\n",
       "      <td>178551</td>\n",
       "      <td>HS-grad</td>\n",
       "      <td>9</td>\n",
       "      <td>Married-civ-spouse</td>\n",
       "      <td>Transport-moving</td>\n",
       "      <td>Husband</td>\n",
       "      <td>White</td>\n",
       "      <td>Male</td>\n",
       "      <td>0</td>\n",
       "      <td>0</td>\n",
       "      <td>40</td>\n",
       "      <td>United-States</td>\n",
       "      <td>&lt;=50K</td>\n",
       "    </tr>\n",
       "    <tr>\n",
       "      <th>1</th>\n",
       "      <td>26</td>\n",
       "      <td>Private</td>\n",
       "      <td>137367</td>\n",
       "      <td>Some-college</td>\n",
       "      <td>10</td>\n",
       "      <td>Never-married</td>\n",
       "      <td>Handlers-cleaners</td>\n",
       "      <td>Other-relative</td>\n",
       "      <td>Asian-Pac-Islander</td>\n",
       "      <td>Male</td>\n",
       "      <td>0</td>\n",
       "      <td>0</td>\n",
       "      <td>44</td>\n",
       "      <td>Philippines</td>\n",
       "      <td>&lt;=50K</td>\n",
       "    </tr>\n",
       "    <tr>\n",
       "      <th>2</th>\n",
       "      <td>37</td>\n",
       "      <td>Local-gov</td>\n",
       "      <td>108320</td>\n",
       "      <td>Bachelors</td>\n",
       "      <td>13</td>\n",
       "      <td>Married-civ-spouse</td>\n",
       "      <td>Tech-support</td>\n",
       "      <td>Husband</td>\n",
       "      <td>White</td>\n",
       "      <td>Male</td>\n",
       "      <td>0</td>\n",
       "      <td>0</td>\n",
       "      <td>45</td>\n",
       "      <td>United-States</td>\n",
       "      <td>&gt;50K</td>\n",
       "    </tr>\n",
       "    <tr>\n",
       "      <th>3</th>\n",
       "      <td>40</td>\n",
       "      <td>Private</td>\n",
       "      <td>130834</td>\n",
       "      <td>Some-college</td>\n",
       "      <td>10</td>\n",
       "      <td>Never-married</td>\n",
       "      <td>Adm-clerical</td>\n",
       "      <td>Not-in-family</td>\n",
       "      <td>White</td>\n",
       "      <td>Female</td>\n",
       "      <td>0</td>\n",
       "      <td>0</td>\n",
       "      <td>40</td>\n",
       "      <td>United-States</td>\n",
       "      <td>&lt;=50K</td>\n",
       "    </tr>\n",
       "    <tr>\n",
       "      <th>4</th>\n",
       "      <td>19</td>\n",
       "      <td>Private</td>\n",
       "      <td>475028</td>\n",
       "      <td>HS-grad</td>\n",
       "      <td>9</td>\n",
       "      <td>Never-married</td>\n",
       "      <td>Sales</td>\n",
       "      <td>Own-child</td>\n",
       "      <td>White</td>\n",
       "      <td>Female</td>\n",
       "      <td>0</td>\n",
       "      <td>0</td>\n",
       "      <td>20</td>\n",
       "      <td>United-States</td>\n",
       "      <td>&lt;=50K</td>\n",
       "    </tr>\n",
       "  </tbody>\n",
       "</table>\n",
       "</div>"
      ],
      "text/plain": [
       "   age   workclass  fnlwgt      education  education-num       marital-status  \\\n",
       "0   29     Private  178551        HS-grad              9   Married-civ-spouse   \n",
       "1   26     Private  137367   Some-college             10        Never-married   \n",
       "2   37   Local-gov  108320      Bachelors             13   Married-civ-spouse   \n",
       "3   40     Private  130834   Some-college             10        Never-married   \n",
       "4   19     Private  475028        HS-grad              9        Never-married   \n",
       "\n",
       "           occupation     relationship                 race      sex  \\\n",
       "0    Transport-moving          Husband                White     Male   \n",
       "1   Handlers-cleaners   Other-relative   Asian-Pac-Islander     Male   \n",
       "2        Tech-support          Husband                White     Male   \n",
       "3        Adm-clerical    Not-in-family                White   Female   \n",
       "4               Sales        Own-child                White   Female   \n",
       "\n",
       "   capital-gain  capital-loss  hourse-per-week  native-country   CLASS  \n",
       "0             0             0               40   United-States   <=50K  \n",
       "1             0             0               44     Philippines   <=50K  \n",
       "2             0             0               45   United-States    >50K  \n",
       "3             0             0               40   United-States   <=50K  \n",
       "4             0             0               20   United-States   <=50K  "
      ]
     },
     "execution_count": 7,
     "metadata": {},
     "output_type": "execute_result"
    }
   ],
   "source": [
    "adult_dataset_path = 'data/adult.data'\n",
    "adult_dataset_labels = ['age','workclass','fnlwgt','education','education-num','marital-status','occupation','relationship','race','sex','capital-gain','capital-loss','hourse-per-week','native-country','CLASS']\n",
    "adult_dataset = data_utils.preapare_dataset(adult_dataset_path, adult_dataset_labels)\n",
    "adult_dataset.head()"
   ]
  },
  {
   "cell_type": "code",
   "execution_count": 8,
   "id": "beneficial-devil",
   "metadata": {},
   "outputs": [
    {
     "data": {
      "text/html": [
       "<div>\n",
       "<style scoped>\n",
       "    .dataframe tbody tr th:only-of-type {\n",
       "        vertical-align: middle;\n",
       "    }\n",
       "\n",
       "    .dataframe tbody tr th {\n",
       "        vertical-align: top;\n",
       "    }\n",
       "\n",
       "    .dataframe thead th {\n",
       "        text-align: right;\n",
       "    }\n",
       "</style>\n",
       "<table border=\"1\" class=\"dataframe\">\n",
       "  <thead>\n",
       "    <tr style=\"text-align: right;\">\n",
       "      <th></th>\n",
       "      <th>age</th>\n",
       "      <th>workclass</th>\n",
       "      <th>education</th>\n",
       "      <th>education-num</th>\n",
       "      <th>marital-status</th>\n",
       "      <th>occupation</th>\n",
       "      <th>relationship</th>\n",
       "      <th>race</th>\n",
       "      <th>sex</th>\n",
       "      <th>hourse-per-week</th>\n",
       "      <th>native-country</th>\n",
       "      <th>CLASS</th>\n",
       "    </tr>\n",
       "  </thead>\n",
       "  <tbody>\n",
       "    <tr>\n",
       "      <th>0</th>\n",
       "      <td>29</td>\n",
       "      <td>Private</td>\n",
       "      <td>HS-grad</td>\n",
       "      <td>9</td>\n",
       "      <td>Married-civ-spouse</td>\n",
       "      <td>Transport-moving</td>\n",
       "      <td>Husband</td>\n",
       "      <td>White</td>\n",
       "      <td>Male</td>\n",
       "      <td>40</td>\n",
       "      <td>United-States</td>\n",
       "      <td>&lt;=50K</td>\n",
       "    </tr>\n",
       "    <tr>\n",
       "      <th>1</th>\n",
       "      <td>26</td>\n",
       "      <td>Private</td>\n",
       "      <td>Some-college</td>\n",
       "      <td>10</td>\n",
       "      <td>Never-married</td>\n",
       "      <td>Handlers-cleaners</td>\n",
       "      <td>Other-relative</td>\n",
       "      <td>Asian-Pac-Islander</td>\n",
       "      <td>Male</td>\n",
       "      <td>44</td>\n",
       "      <td>Philippines</td>\n",
       "      <td>&lt;=50K</td>\n",
       "    </tr>\n",
       "    <tr>\n",
       "      <th>2</th>\n",
       "      <td>37</td>\n",
       "      <td>Local-gov</td>\n",
       "      <td>Bachelors</td>\n",
       "      <td>13</td>\n",
       "      <td>Married-civ-spouse</td>\n",
       "      <td>Tech-support</td>\n",
       "      <td>Husband</td>\n",
       "      <td>White</td>\n",
       "      <td>Male</td>\n",
       "      <td>45</td>\n",
       "      <td>United-States</td>\n",
       "      <td>&gt;50K</td>\n",
       "    </tr>\n",
       "    <tr>\n",
       "      <th>3</th>\n",
       "      <td>40</td>\n",
       "      <td>Private</td>\n",
       "      <td>Some-college</td>\n",
       "      <td>10</td>\n",
       "      <td>Never-married</td>\n",
       "      <td>Adm-clerical</td>\n",
       "      <td>Not-in-family</td>\n",
       "      <td>White</td>\n",
       "      <td>Female</td>\n",
       "      <td>40</td>\n",
       "      <td>United-States</td>\n",
       "      <td>&lt;=50K</td>\n",
       "    </tr>\n",
       "    <tr>\n",
       "      <th>4</th>\n",
       "      <td>19</td>\n",
       "      <td>Private</td>\n",
       "      <td>HS-grad</td>\n",
       "      <td>9</td>\n",
       "      <td>Never-married</td>\n",
       "      <td>Sales</td>\n",
       "      <td>Own-child</td>\n",
       "      <td>White</td>\n",
       "      <td>Female</td>\n",
       "      <td>20</td>\n",
       "      <td>United-States</td>\n",
       "      <td>&lt;=50K</td>\n",
       "    </tr>\n",
       "    <tr>\n",
       "      <th>...</th>\n",
       "      <td>...</td>\n",
       "      <td>...</td>\n",
       "      <td>...</td>\n",
       "      <td>...</td>\n",
       "      <td>...</td>\n",
       "      <td>...</td>\n",
       "      <td>...</td>\n",
       "      <td>...</td>\n",
       "      <td>...</td>\n",
       "      <td>...</td>\n",
       "      <td>...</td>\n",
       "      <td>...</td>\n",
       "    </tr>\n",
       "    <tr>\n",
       "      <th>32556</th>\n",
       "      <td>24</td>\n",
       "      <td>Private</td>\n",
       "      <td>Some-college</td>\n",
       "      <td>10</td>\n",
       "      <td>Never-married</td>\n",
       "      <td>Adm-clerical</td>\n",
       "      <td>Not-in-family</td>\n",
       "      <td>Black</td>\n",
       "      <td>Female</td>\n",
       "      <td>35</td>\n",
       "      <td>United-States</td>\n",
       "      <td>&lt;=50K</td>\n",
       "    </tr>\n",
       "    <tr>\n",
       "      <th>32557</th>\n",
       "      <td>45</td>\n",
       "      <td>Private</td>\n",
       "      <td>10th</td>\n",
       "      <td>6</td>\n",
       "      <td>Divorced</td>\n",
       "      <td>Sales</td>\n",
       "      <td>Not-in-family</td>\n",
       "      <td>White</td>\n",
       "      <td>Female</td>\n",
       "      <td>40</td>\n",
       "      <td>United-States</td>\n",
       "      <td>&lt;=50K</td>\n",
       "    </tr>\n",
       "    <tr>\n",
       "      <th>32558</th>\n",
       "      <td>24</td>\n",
       "      <td>Private</td>\n",
       "      <td>Bachelors</td>\n",
       "      <td>13</td>\n",
       "      <td>Married-civ-spouse</td>\n",
       "      <td>Sales</td>\n",
       "      <td>Husband</td>\n",
       "      <td>Black</td>\n",
       "      <td>Male</td>\n",
       "      <td>30</td>\n",
       "      <td>United-States</td>\n",
       "      <td>&lt;=50K</td>\n",
       "    </tr>\n",
       "    <tr>\n",
       "      <th>32559</th>\n",
       "      <td>44</td>\n",
       "      <td>Private</td>\n",
       "      <td>Some-college</td>\n",
       "      <td>10</td>\n",
       "      <td>Separated</td>\n",
       "      <td>Prof-specialty</td>\n",
       "      <td>Unmarried</td>\n",
       "      <td>Black</td>\n",
       "      <td>Female</td>\n",
       "      <td>40</td>\n",
       "      <td>United-States</td>\n",
       "      <td>&lt;=50K</td>\n",
       "    </tr>\n",
       "    <tr>\n",
       "      <th>32560</th>\n",
       "      <td>30</td>\n",
       "      <td>Private</td>\n",
       "      <td>Prof-school</td>\n",
       "      <td>15</td>\n",
       "      <td>Divorced</td>\n",
       "      <td>Sales</td>\n",
       "      <td>Own-child</td>\n",
       "      <td>White</td>\n",
       "      <td>Male</td>\n",
       "      <td>55</td>\n",
       "      <td>United-States</td>\n",
       "      <td>&lt;=50K</td>\n",
       "    </tr>\n",
       "  </tbody>\n",
       "</table>\n",
       "<p>32561 rows × 12 columns</p>\n",
       "</div>"
      ],
      "text/plain": [
       "       age  workclass     education  education-num      marital-status  \\\n",
       "0       29    Private       HS-grad              9  Married-civ-spouse   \n",
       "1       26    Private  Some-college             10       Never-married   \n",
       "2       37  Local-gov     Bachelors             13  Married-civ-spouse   \n",
       "3       40    Private  Some-college             10       Never-married   \n",
       "4       19    Private       HS-grad              9       Never-married   \n",
       "...    ...        ...           ...            ...                 ...   \n",
       "32556   24    Private  Some-college             10       Never-married   \n",
       "32557   45    Private          10th              6            Divorced   \n",
       "32558   24    Private     Bachelors             13  Married-civ-spouse   \n",
       "32559   44    Private  Some-college             10           Separated   \n",
       "32560   30    Private   Prof-school             15            Divorced   \n",
       "\n",
       "              occupation    relationship                race     sex  \\\n",
       "0       Transport-moving         Husband               White    Male   \n",
       "1      Handlers-cleaners  Other-relative  Asian-Pac-Islander    Male   \n",
       "2           Tech-support         Husband               White    Male   \n",
       "3           Adm-clerical   Not-in-family               White  Female   \n",
       "4                  Sales       Own-child               White  Female   \n",
       "...                  ...             ...                 ...     ...   \n",
       "32556       Adm-clerical   Not-in-family               Black  Female   \n",
       "32557              Sales   Not-in-family               White  Female   \n",
       "32558              Sales         Husband               Black    Male   \n",
       "32559     Prof-specialty       Unmarried               Black  Female   \n",
       "32560              Sales       Own-child               White    Male   \n",
       "\n",
       "       hourse-per-week native-country  CLASS  \n",
       "0                   40  United-States  <=50K  \n",
       "1                   44    Philippines  <=50K  \n",
       "2                   45  United-States   >50K  \n",
       "3                   40  United-States  <=50K  \n",
       "4                   20  United-States  <=50K  \n",
       "...                ...            ...    ...  \n",
       "32556               35  United-States  <=50K  \n",
       "32557               40  United-States  <=50K  \n",
       "32558               30  United-States  <=50K  \n",
       "32559               40  United-States  <=50K  \n",
       "32560               55  United-States  <=50K  \n",
       "\n",
       "[32561 rows x 12 columns]"
      ]
     },
     "execution_count": 8,
     "metadata": {},
     "output_type": "execute_result"
    }
   ],
   "source": [
    "adult_dataset = adult_dataset[['age','workclass','education','education-num','marital-status','occupation','relationship','race','sex','hourse-per-week', 'native-country' ,'CLASS']]\n",
    "\n",
    "for element in list(adult_dataset):\n",
    "    if adult_dataset[element].dtype not in [np.float64, np.int64]:\n",
    "        adult_dataset[element] = adult_dataset[element].str.strip()\n",
    "\n",
    "adult_dataset['CLASS'] = adult_dataset['CLASS'].str.strip()\n",
    "adult_dataset.head()\n",
    "adult_dataset"
   ]
  },
  {
   "cell_type": "code",
   "execution_count": 9,
   "id": "dietary-shame",
   "metadata": {},
   "outputs": [
    {
     "data": {
      "text/html": [
       "<div>\n",
       "<style scoped>\n",
       "    .dataframe tbody tr th:only-of-type {\n",
       "        vertical-align: middle;\n",
       "    }\n",
       "\n",
       "    .dataframe tbody tr th {\n",
       "        vertical-align: top;\n",
       "    }\n",
       "\n",
       "    .dataframe thead th {\n",
       "        text-align: right;\n",
       "    }\n",
       "</style>\n",
       "<table border=\"1\" class=\"dataframe\">\n",
       "  <thead>\n",
       "    <tr style=\"text-align: right;\">\n",
       "      <th></th>\n",
       "      <th>age</th>\n",
       "      <th>workclass</th>\n",
       "      <th>education</th>\n",
       "      <th>education-num</th>\n",
       "      <th>marital-status</th>\n",
       "      <th>occupation</th>\n",
       "      <th>relationship</th>\n",
       "      <th>race</th>\n",
       "      <th>sex</th>\n",
       "      <th>hourse-per-week</th>\n",
       "      <th>native-country</th>\n",
       "      <th>CLASS</th>\n",
       "    </tr>\n",
       "  </thead>\n",
       "  <tbody>\n",
       "    <tr>\n",
       "      <th>0</th>\n",
       "      <td>29</td>\n",
       "      <td>Private</td>\n",
       "      <td>HS-grad</td>\n",
       "      <td>9</td>\n",
       "      <td>Married-civ-spouse</td>\n",
       "      <td>Transport-moving</td>\n",
       "      <td>Husband</td>\n",
       "      <td>White</td>\n",
       "      <td>Male</td>\n",
       "      <td>40</td>\n",
       "      <td>United-States</td>\n",
       "      <td>&lt;=50K</td>\n",
       "    </tr>\n",
       "    <tr>\n",
       "      <th>1</th>\n",
       "      <td>26</td>\n",
       "      <td>Private</td>\n",
       "      <td>Some-college</td>\n",
       "      <td>10</td>\n",
       "      <td>Never-married</td>\n",
       "      <td>Handlers-cleaners</td>\n",
       "      <td>Other-relative</td>\n",
       "      <td>Asian-Pac-Islander</td>\n",
       "      <td>Male</td>\n",
       "      <td>44</td>\n",
       "      <td>Philippines</td>\n",
       "      <td>&lt;=50K</td>\n",
       "    </tr>\n",
       "    <tr>\n",
       "      <th>2</th>\n",
       "      <td>37</td>\n",
       "      <td>Local-gov</td>\n",
       "      <td>Bachelors</td>\n",
       "      <td>13</td>\n",
       "      <td>Married-civ-spouse</td>\n",
       "      <td>Tech-support</td>\n",
       "      <td>Husband</td>\n",
       "      <td>White</td>\n",
       "      <td>Male</td>\n",
       "      <td>45</td>\n",
       "      <td>United-States</td>\n",
       "      <td>&gt;50K</td>\n",
       "    </tr>\n",
       "    <tr>\n",
       "      <th>3</th>\n",
       "      <td>40</td>\n",
       "      <td>Private</td>\n",
       "      <td>Some-college</td>\n",
       "      <td>10</td>\n",
       "      <td>Never-married</td>\n",
       "      <td>Adm-clerical</td>\n",
       "      <td>Not-in-family</td>\n",
       "      <td>White</td>\n",
       "      <td>Female</td>\n",
       "      <td>40</td>\n",
       "      <td>United-States</td>\n",
       "      <td>&lt;=50K</td>\n",
       "    </tr>\n",
       "    <tr>\n",
       "      <th>4</th>\n",
       "      <td>19</td>\n",
       "      <td>Private</td>\n",
       "      <td>HS-grad</td>\n",
       "      <td>9</td>\n",
       "      <td>Never-married</td>\n",
       "      <td>Sales</td>\n",
       "      <td>Own-child</td>\n",
       "      <td>White</td>\n",
       "      <td>Female</td>\n",
       "      <td>20</td>\n",
       "      <td>United-States</td>\n",
       "      <td>&lt;=50K</td>\n",
       "    </tr>\n",
       "    <tr>\n",
       "      <th>...</th>\n",
       "      <td>...</td>\n",
       "      <td>...</td>\n",
       "      <td>...</td>\n",
       "      <td>...</td>\n",
       "      <td>...</td>\n",
       "      <td>...</td>\n",
       "      <td>...</td>\n",
       "      <td>...</td>\n",
       "      <td>...</td>\n",
       "      <td>...</td>\n",
       "      <td>...</td>\n",
       "      <td>...</td>\n",
       "    </tr>\n",
       "    <tr>\n",
       "      <th>32556</th>\n",
       "      <td>24</td>\n",
       "      <td>Private</td>\n",
       "      <td>Some-college</td>\n",
       "      <td>10</td>\n",
       "      <td>Never-married</td>\n",
       "      <td>Adm-clerical</td>\n",
       "      <td>Not-in-family</td>\n",
       "      <td>Black</td>\n",
       "      <td>Female</td>\n",
       "      <td>35</td>\n",
       "      <td>United-States</td>\n",
       "      <td>&lt;=50K</td>\n",
       "    </tr>\n",
       "    <tr>\n",
       "      <th>32557</th>\n",
       "      <td>45</td>\n",
       "      <td>Private</td>\n",
       "      <td>10th</td>\n",
       "      <td>6</td>\n",
       "      <td>Divorced</td>\n",
       "      <td>Sales</td>\n",
       "      <td>Not-in-family</td>\n",
       "      <td>White</td>\n",
       "      <td>Female</td>\n",
       "      <td>40</td>\n",
       "      <td>United-States</td>\n",
       "      <td>&lt;=50K</td>\n",
       "    </tr>\n",
       "    <tr>\n",
       "      <th>32558</th>\n",
       "      <td>24</td>\n",
       "      <td>Private</td>\n",
       "      <td>Bachelors</td>\n",
       "      <td>13</td>\n",
       "      <td>Married-civ-spouse</td>\n",
       "      <td>Sales</td>\n",
       "      <td>Husband</td>\n",
       "      <td>Black</td>\n",
       "      <td>Male</td>\n",
       "      <td>30</td>\n",
       "      <td>United-States</td>\n",
       "      <td>&lt;=50K</td>\n",
       "    </tr>\n",
       "    <tr>\n",
       "      <th>32559</th>\n",
       "      <td>44</td>\n",
       "      <td>Private</td>\n",
       "      <td>Some-college</td>\n",
       "      <td>10</td>\n",
       "      <td>Separated</td>\n",
       "      <td>Prof-specialty</td>\n",
       "      <td>Unmarried</td>\n",
       "      <td>Black</td>\n",
       "      <td>Female</td>\n",
       "      <td>40</td>\n",
       "      <td>United-States</td>\n",
       "      <td>&lt;=50K</td>\n",
       "    </tr>\n",
       "    <tr>\n",
       "      <th>32560</th>\n",
       "      <td>30</td>\n",
       "      <td>Private</td>\n",
       "      <td>Prof-school</td>\n",
       "      <td>15</td>\n",
       "      <td>Divorced</td>\n",
       "      <td>Sales</td>\n",
       "      <td>Own-child</td>\n",
       "      <td>White</td>\n",
       "      <td>Male</td>\n",
       "      <td>55</td>\n",
       "      <td>United-States</td>\n",
       "      <td>&lt;=50K</td>\n",
       "    </tr>\n",
       "  </tbody>\n",
       "</table>\n",
       "<p>30162 rows × 12 columns</p>\n",
       "</div>"
      ],
      "text/plain": [
       "       age  workclass     education  education-num      marital-status  \\\n",
       "0       29    Private       HS-grad              9  Married-civ-spouse   \n",
       "1       26    Private  Some-college             10       Never-married   \n",
       "2       37  Local-gov     Bachelors             13  Married-civ-spouse   \n",
       "3       40    Private  Some-college             10       Never-married   \n",
       "4       19    Private       HS-grad              9       Never-married   \n",
       "...    ...        ...           ...            ...                 ...   \n",
       "32556   24    Private  Some-college             10       Never-married   \n",
       "32557   45    Private          10th              6            Divorced   \n",
       "32558   24    Private     Bachelors             13  Married-civ-spouse   \n",
       "32559   44    Private  Some-college             10           Separated   \n",
       "32560   30    Private   Prof-school             15            Divorced   \n",
       "\n",
       "              occupation    relationship                race     sex  \\\n",
       "0       Transport-moving         Husband               White    Male   \n",
       "1      Handlers-cleaners  Other-relative  Asian-Pac-Islander    Male   \n",
       "2           Tech-support         Husband               White    Male   \n",
       "3           Adm-clerical   Not-in-family               White  Female   \n",
       "4                  Sales       Own-child               White  Female   \n",
       "...                  ...             ...                 ...     ...   \n",
       "32556       Adm-clerical   Not-in-family               Black  Female   \n",
       "32557              Sales   Not-in-family               White  Female   \n",
       "32558              Sales         Husband               Black    Male   \n",
       "32559     Prof-specialty       Unmarried               Black  Female   \n",
       "32560              Sales       Own-child               White    Male   \n",
       "\n",
       "       hourse-per-week native-country  CLASS  \n",
       "0                   40  United-States  <=50K  \n",
       "1                   44    Philippines  <=50K  \n",
       "2                   45  United-States   >50K  \n",
       "3                   40  United-States  <=50K  \n",
       "4                   20  United-States  <=50K  \n",
       "...                ...            ...    ...  \n",
       "32556               35  United-States  <=50K  \n",
       "32557               40  United-States  <=50K  \n",
       "32558               30  United-States  <=50K  \n",
       "32559               40  United-States  <=50K  \n",
       "32560               55  United-States  <=50K  \n",
       "\n",
       "[30162 rows x 12 columns]"
      ]
     },
     "execution_count": 9,
     "metadata": {},
     "output_type": "execute_result"
    }
   ],
   "source": [
    "adult_dataset.dropna(how='any', axis=0)\n",
    "indexNames = adult_dataset[(adult_dataset['workclass'] == '?') | (adult_dataset['education'] == '?') | (adult_dataset['marital-status'] == '?') | (adult_dataset['occupation'] == '?') | (adult_dataset['relationship'] == '?') | (adult_dataset['race'] == '?') | (adult_dataset['sex'] == '?') | (adult_dataset['native-country'] == '?') ].index\n",
    "# print(indexNames)\n",
    "adult_dataset.drop(indexNames, inplace=True)\n",
    "adult_dataset.head()\n",
    "adult_dataset.reset_index(inplace=False)\n",
    "adult_dataset"
   ]
  },
  {
   "cell_type": "markdown",
   "id": "occupational-canyon",
   "metadata": {},
   "source": [
    "### Adult 70%"
   ]
  },
  {
   "cell_type": "code",
   "execution_count": 10,
   "id": "excellent-central",
   "metadata": {},
   "outputs": [
    {
     "name": "stdout",
     "output_type": "stream",
     "text": [
      "<=50K    10586\n",
      ">50K      3489\n",
      "Name: CLASS, dtype: int64\n"
     ]
    },
    {
     "data": {
      "text/plain": [
       "<AxesSubplot:title={'center':'class'}>"
      ]
     },
     "execution_count": 10,
     "metadata": {},
     "output_type": "execute_result"
    },
    {
     "data": {
      "image/png": "[encoded data removed]",
      "text/plain": [
       "<Figure size 432x288 with 1 Axes>"
      ]
     },
     "metadata": {
      "needs_background": "light"
     },
     "output_type": "display_data"
    }
   ],
   "source": [
    "adult_set_for_training70, adult_testing70 = data_utils.data_split(adult_dataset, 70)\n",
    "adult_training70, adult_validation70 = data_utils.split_training_data_for_pruning(adult_set_for_training70)\n",
    "\n",
    "print(adult_training70['CLASS'].value_counts())\n",
    "adult_training70['CLASS'].value_counts().plot(kind='bar', title='class')"
   ]
  },
  {
   "cell_type": "code",
   "execution_count": 11,
   "id": "mature-cologne",
   "metadata": {},
   "outputs": [
    {
     "data": {
      "text/plain": [
       "<AxesSubplot:title={'center':'class'}>"
      ]
     },
     "execution_count": 11,
     "metadata": {},
     "output_type": "execute_result"
    },
    {
     "data": {
      "image/png": "[encoded data removed]",
      "text/plain": [
       "<Figure size 432x288 with 1 Axes>"
      ]
     },
     "metadata": {
      "needs_background": "light"
     },
     "output_type": "display_data"
    }
   ],
   "source": [
    "resampling_adult70 = adult_training70.copy()\n",
    "less_50k_part70 = resampling_adult70[resampling_adult70['CLASS'] == '<=50K']\n",
    "more_50k_part70 = resampling_adult70[resampling_adult70['CLASS'] == '>50K'] \n",
    "\n",
    "less_50k_part_downsampled70 = resample(less_50k_part70, \n",
    "                                 replace=False,    \n",
    "                                 n_samples=3532)\n",
    "\n",
    "# Combine minority class with downsampled majority class\n",
    "balanced_adult_training70 = pd.concat([less_50k_part_downsampled70, more_50k_part70])\n",
    "balanced_adult_training70 = balanced_adult_training70.reset_index(level=None, drop=True, inplace=False, col_level=0, col_fill='')\n",
    "balanced_adult_training70 = balanced_adult_training70.sample(frac=1).reset_index(drop=True)\n",
    "\n",
    "adult_training70 = balanced_adult_training70.copy()\n",
    "adult_training70['CLASS'].value_counts().plot(kind='bar', title='class')"
   ]
  },
  {
   "cell_type": "markdown",
   "id": "alternate-canberra",
   "metadata": {},
   "source": [
    "### Adult 80%"
   ]
  },
  {
   "cell_type": "code",
   "execution_count": 12,
   "id": "completed-liechtenstein",
   "metadata": {},
   "outputs": [
    {
     "name": "stdout",
     "output_type": "stream",
     "text": [
      "<=50K    12088\n",
      ">50K      3997\n",
      "Name: CLASS, dtype: int64\n"
     ]
    },
    {
     "data": {
      "text/plain": [
       "<AxesSubplot:title={'center':'class'}>"
      ]
     },
     "execution_count": 12,
     "metadata": {},
     "output_type": "execute_result"
    },
    {
     "data": {
      "image/png": "[encoded data removed]",
      "text/plain": [
       "<Figure size 432x288 with 1 Axes>"
      ]
     },
     "metadata": {
      "needs_background": "light"
     },
     "output_type": "display_data"
    }
   ],
   "source": [
    "adult_set_for_training80, adult_testing80 = data_utils.data_split(adult_dataset, 80)\n",
    "adult_training80, adult_validation80 = data_utils.split_training_data_for_pruning(adult_set_for_training80)\n",
    "\n",
    "print(adult_training80['CLASS'].value_counts())\n",
    "adult_training80['CLASS'].value_counts().plot(kind='bar', title='class')"
   ]
  },
  {
   "cell_type": "code",
   "execution_count": 13,
   "id": "stretch-northwest",
   "metadata": {},
   "outputs": [
    {
     "data": {
      "text/plain": [
       "<AxesSubplot:title={'center':'class'}>"
      ]
     },
     "execution_count": 13,
     "metadata": {},
     "output_type": "execute_result"
    },
    {
     "data": {
      "image/png": "[encoded data removed]",
      "text/plain": [
       "<Figure size 432x288 with 1 Axes>"
      ]
     },
     "metadata": {
      "needs_background": "light"
     },
     "output_type": "display_data"
    }
   ],
   "source": [
    "resampling_adult80 = adult_training80.copy()\n",
    "less_50k_part80 = resampling_adult80[resampling_adult80['CLASS'] == '<=50K']\n",
    "more_50k_part80 = resampling_adult80[resampling_adult80['CLASS'] == '>50K'] \n",
    "\n",
    "less_50k_part_downsampled80 = resample(less_50k_part80, \n",
    "                                 replace=False,    \n",
    "                                 n_samples=4002)\n",
    "\n",
    "# Combine minority class with downsampled majority class\n",
    "balanced_adult_training80 = pd.concat([less_50k_part_downsampled80, more_50k_part80])\n",
    "balanced_adult_training80 = balanced_adult_training80.reset_index(level=None, drop=True, inplace=False, col_level=0, col_fill='')\n",
    "balanced_adult_training80 = balanced_adult_training80.sample(frac=1).reset_index(drop=True)\n",
    "\n",
    "adult_training80 = balanced_adult_training80.copy()\n",
    "adult_training80['CLASS'].value_counts().plot(kind='bar', title='class')"
   ]
  },
  {
   "cell_type": "markdown",
   "id": "regular-journal",
   "metadata": {},
   "source": [
    "### Adult 90%"
   ]
  },
  {
   "cell_type": "code",
   "execution_count": 14,
   "id": "informal-tunnel",
   "metadata": {},
   "outputs": [
    {
     "name": "stdout",
     "output_type": "stream",
     "text": [
      "<=50K    13615\n",
      ">50K      4481\n",
      "Name: CLASS, dtype: int64\n"
     ]
    },
    {
     "data": {
      "text/plain": [
       "<AxesSubplot:title={'center':'class'}>"
      ]
     },
     "execution_count": 14,
     "metadata": {},
     "output_type": "execute_result"
    },
    {
     "data": {
      "image/png": "[encoded data removed]",
      "text/plain": [
       "<Figure size 432x288 with 1 Axes>"
      ]
     },
     "metadata": {
      "needs_background": "light"
     },
     "output_type": "display_data"
    }
   ],
   "source": [
    "adult_set_for_training90, adult_testing90 = data_utils.data_split(adult_dataset, 90)\n",
    "adult_training90, adult_validation90 = data_utils.split_training_data_for_pruning(adult_set_for_training90)\n",
    "\n",
    "print(adult_training90['CLASS'].value_counts())\n",
    "adult_training90['CLASS'].value_counts().plot(kind='bar', title='class')"
   ]
  },
  {
   "cell_type": "code",
   "execution_count": 15,
   "id": "egyptian-train",
   "metadata": {},
   "outputs": [
    {
     "data": {
      "text/plain": [
       "<AxesSubplot:title={'center':'class'}>"
      ]
     },
     "execution_count": 15,
     "metadata": {},
     "output_type": "execute_result"
    },
    {
     "data": {
      "image/png": "[encoded data removed]",
      "text/plain": [
       "<Figure size 432x288 with 1 Axes>"
      ]
     },
     "metadata": {
      "needs_background": "light"
     },
     "output_type": "display_data"
    }
   ],
   "source": [
    "resampling_adult90 = adult_training90.copy()\n",
    "less_50k_part90 = resampling_adult90[resampling_adult90['CLASS'] == '<=50K']\n",
    "more_50k_part90 = resampling_adult90[resampling_adult90['CLASS'] == '>50K'] \n",
    "\n",
    "less_50k_part_downsampled90 = resample(less_50k_part90, \n",
    "                                 replace=False,    \n",
    "                                 n_samples=4469)\n",
    "\n",
    "# Combine minority class with downsampled majority class\n",
    "balanced_adult_training90 = pd.concat([less_50k_part_downsampled90, more_50k_part90])\n",
    "balanced_adult_training90 = balanced_adult_training90.reset_index(level=None, drop=True, inplace=False, col_level=0, col_fill='')\n",
    "balanced_adult_training90 = balanced_adult_training90.sample(frac=1).reset_index(drop=True)\n",
    "\n",
    "adult_training90 = balanced_adult_training90.copy()\n",
    "adult_training90['CLASS'].value_counts().plot(kind='bar', title='class')"
   ]
  },
  {
   "cell_type": "markdown",
   "id": "periodic-pressing",
   "metadata": {},
   "source": [
    "## Model Training"
   ]
  },
  {
   "cell_type": "code",
   "execution_count": 16,
   "id": "spoken-attack",
   "metadata": {},
   "outputs": [],
   "source": [
    "# train_tree_for_different_heuristics(adult_training70, adult_testing70, adult_validation70)"
   ]
  },
  {
   "cell_type": "code",
   "execution_count": 17,
   "id": "checked-lightweight",
   "metadata": {},
   "outputs": [
    {
     "name": "stdout",
     "output_type": "stream",
     "text": [
      "Before Pruning - heuristic = mdl_simple\n",
      "Accuracy for: testing 74.64% | training 79.78% | levels 38 | leafs 133\n",
      "data len= 6033\n",
      "confusion-matrix: [[1276, 239], [1240, 3227]]\n",
      "data len= 7999\n",
      "confusion-matrix-training: [[3402, 595], [1022, 2980]]\n",
      "After Pruning:\n",
      "Accuracy for: testing 81.12% | training 70.36% | levels 4 | leafs 3\n",
      "data len= 6033\n",
      "confusion-matrix: [[711, 813], [326, 4183]]\n",
      "data len= 7999\n",
      "confusion-matrix-training: [[1928, 2069], [302, 3700]]\n",
      "\n",
      "\n",
      "{<education(-14.11)>: 10th[158] 11th[215] 12th[70] 1st-4th[26] 5th-6th[52] 7th-8th[124] 9th[85] Assoc-acdm[265] Assoc-voc[377] Bachelors[1655] Doctorate[170] HS-grad[2290] Masters[643] Preschool[5] Prof-school[234] Some-college[1630] : {'Bachelors,Assoc-voc,Masters,Assoc-acdm,Prof-school,Doctorate': {<relationship(-7.67)>: Husband[1982] Not-in-family[738] Other-relative[28] Own-child[150] Unmarried[198] Wife[248] : {'Husband,Wife': '>50K',\n",
      "                                                                                                                                                                                                                                                                                                                                                                                                                                    'Not-in-family,Unmarried,Own-child,Other-relative': '<=50K'}},\n",
      "                                                                                                                                                                                                                                             'HS-grad,Some-college,11th,10th,7th-8th,9th,12th,5th-6th,1st-4th,Preschool': '<=50K'}}\n"
     ]
    }
   ],
   "source": [
    "tree_pruned = train_tree_for_different_heuristics(adult_training80, adult_testing80, adult_validation80)"
   ]
  },
  {
   "cell_type": "code",
   "execution_count": 18,
   "id": "loose-sapphire",
   "metadata": {},
   "outputs": [],
   "source": [
    "# train_tree_for_different_heuristics(adult_training90, adult_testing90, adult_validation90)"
   ]
  },
  {
   "cell_type": "code",
   "execution_count": 19,
   "id": "present-sender",
   "metadata": {},
   "outputs": [
    {
     "name": "stdout",
     "output_type": "stream",
     "text": [
      "None\n"
     ]
    }
   ],
   "source": [
    "print(tree_pruned)"
   ]
  },
  {
   "cell_type": "code",
   "execution_count": 20,
   "id": "appropriate-mining",
   "metadata": {},
   "outputs": [
    {
     "data": {
      "text/html": [
       "<div>\n",
       "<style scoped>\n",
       "    .dataframe tbody tr th:only-of-type {\n",
       "        vertical-align: middle;\n",
       "    }\n",
       "\n",
       "    .dataframe tbody tr th {\n",
       "        vertical-align: top;\n",
       "    }\n",
       "\n",
       "    .dataframe thead th {\n",
       "        text-align: right;\n",
       "    }\n",
       "</style>\n",
       "<table border=\"1\" class=\"dataframe\">\n",
       "  <thead>\n",
       "    <tr style=\"text-align: right;\">\n",
       "      <th></th>\n",
       "      <th>age</th>\n",
       "      <th>workclass</th>\n",
       "      <th>education</th>\n",
       "      <th>education-num</th>\n",
       "      <th>marital-status</th>\n",
       "      <th>occupation</th>\n",
       "      <th>relationship</th>\n",
       "      <th>race</th>\n",
       "      <th>sex</th>\n",
       "      <th>hourse-per-week</th>\n",
       "      <th>native-country</th>\n",
       "      <th>CLASS</th>\n",
       "    </tr>\n",
       "  </thead>\n",
       "  <tbody>\n",
       "  </tbody>\n",
       "</table>\n",
       "</div>"
      ],
      "text/plain": [
       "Empty DataFrame\n",
       "Columns: [age, workclass, education, education-num, marital-status, occupation, relationship, race, sex, hourse-per-week, native-country, CLASS]\n",
       "Index: []"
      ]
     },
     "execution_count": 20,
     "metadata": {},
     "output_type": "execute_result"
    }
   ],
   "source": [
    "adult_training80[adult_training80['occupation']=='?']"
   ]
  }
 ],
 "metadata": {
  "kernelspec": {
   "display_name": "Python 3",
   "language": "python",
   "name": "python3"
  },
  "language_info": {
   "codemirror_mode": {
    "name": "ipython",
    "version": 3
   },
   "file_extension": ".py",
   "mimetype": "text/x-python",
   "name": "python",
   "nbconvert_exporter": "python",
   "pygments_lexer": "ipython3",
   "version": "3.8.10"
  }
 },
 "nbformat": 4,
 "nbformat_minor": 5
}
