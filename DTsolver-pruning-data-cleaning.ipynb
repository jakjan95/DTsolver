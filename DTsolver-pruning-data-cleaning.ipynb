{
 "cells": [
  {
   "cell_type": "code",
   "execution_count": 1,
   "id": "improving-hopkins",
   "metadata": {},
   "outputs": [
    {
     "data": {
      "text/html": [
       "<style>.container { width:100% !important; }</style>"
      ],
      "text/plain": [
       "<IPython.core.display.HTML object>"
      ]
     },
     "metadata": {},
     "output_type": "display_data"
    }
   ],
   "source": [
    "from IPython.core.display import display, HTML\n",
    "display(HTML(\"<style>.container { width:100% !important; }</style>\"))"
   ]
  },
  {
   "cell_type": "code",
   "execution_count": 2,
   "id": "sustained-making",
   "metadata": {},
   "outputs": [],
   "source": [
    "import src.data_utils as data_utils\n",
    "import src.tree_build as dt_tree\n",
    "import src.heurestics as dt_heur\n",
    "import src.tree_utils as tree_utils\n",
    "import src.dt_testing_utils as dt_testing\n",
    "import src.tree_pruning as tree_pruning\n",
    "\n",
    "from pprint import pprint\n",
    "import numpy as np\n",
    "import pandas as pd\n",
    "from sklearn.utils import resample"
   ]
  },
  {
   "cell_type": "markdown",
   "id": "unable-audio",
   "metadata": {},
   "source": [
    "## Utils"
   ]
  },
  {
   "cell_type": "code",
   "execution_count": 3,
   "id": "plastic-leonard",
   "metadata": {},
   "outputs": [],
   "source": [
    "def print_tree_informations(tree, training_data, testing_data):\n",
    "    accuracy_testing = tree_utils.tree_accuracy(testing_data, tree)\n",
    "    accuracy_training = tree_utils.tree_accuracy(training_data, tree)\n",
    "    levels = tree_utils.number_of_levels(tree)\n",
    "    leafs = tree_utils.number_of_leafs(tree)\n",
    "    print(\"Accuracy for: testing {0:.2f}% | training {1:.2f}% | levels {2} | leafs {3}\".format(accuracy_testing, accuracy_training,levels, leafs))"
   ]
  },
  {
   "cell_type": "code",
   "execution_count": 4,
   "id": "hungry-tactics",
   "metadata": {},
   "outputs": [],
   "source": [
    "#heuristics\n",
    "def train_and_prune_tree(heurestic, training_data, testing_data, validation_data):\n",
    "    print(\"Before Pruning - heuristic = {0}\".format(heurestic.__name__))\n",
    "    trained_tree = dt_tree.build_tree_generic(heurestic, training_data)\n",
    "    print_tree_informations(trained_tree, training_data, testing_data)\n",
    "#     pprint(trained_tree)\n",
    "    print(\"After Pruning:\")\n",
    "    pruned_trained_tree = tree_pruning.reduced_error_pruning(trained_tree, validation_data)\n",
    "    print_tree_informations(pruned_trained_tree, training_data, testing_data)\n",
    "    print('\\n')\n",
    "#     pprint(pruned_trained_tree)"
   ]
  },
  {
   "cell_type": "code",
   "execution_count": 5,
   "id": "powered-duncan",
   "metadata": {},
   "outputs": [],
   "source": [
    "default_heuristics = [dt_heur.gini_impurity_weighted, dt_heur.info_gain, dt_heur.information_gain_ratio,\n",
    "                      dt_heur.distance_measure, dt_heur.j_measure, dt_heur.weight_of_evidence,\n",
    "                      dt_heur.gini_pri, dt_heur.relief, dt_heur.relevance, dt_heur.mdl_simple]\n",
    "\n",
    "def train_tree_for_different_heuristics(training_data, testing_data, validation_data, heuristics = default_heuristics):\n",
    "    for heuristic in heuristics:\n",
    "        train_and_prune_tree(heuristic, training_data, testing_data, validation_data)"
   ]
  },
  {
   "cell_type": "markdown",
   "id": "abandoned-satin",
   "metadata": {},
   "source": [
    "# Car dataset"
   ]
  },
  {
   "cell_type": "markdown",
   "id": "sharing-envelope",
   "metadata": {},
   "source": [
    "## Dataset preparation"
   ]
  },
  {
   "cell_type": "code",
   "execution_count": 6,
   "id": "explicit-bermuda",
   "metadata": {},
   "outputs": [
    {
     "data": {
      "text/html": [
       "<div>\n",
       "<style scoped>\n",
       "    .dataframe tbody tr th:only-of-type {\n",
       "        vertical-align: middle;\n",
       "    }\n",
       "\n",
       "    .dataframe tbody tr th {\n",
       "        vertical-align: top;\n",
       "    }\n",
       "\n",
       "    .dataframe thead th {\n",
       "        text-align: right;\n",
       "    }\n",
       "</style>\n",
       "<table border=\"1\" class=\"dataframe\">\n",
       "  <thead>\n",
       "    <tr style=\"text-align: right;\">\n",
       "      <th></th>\n",
       "      <th>buying</th>\n",
       "      <th>maint</th>\n",
       "      <th>doors</th>\n",
       "      <th>persons</th>\n",
       "      <th>lug_boot</th>\n",
       "      <th>safety</th>\n",
       "      <th>CLASS</th>\n",
       "    </tr>\n",
       "  </thead>\n",
       "  <tbody>\n",
       "    <tr>\n",
       "      <th>0</th>\n",
       "      <td>vhigh</td>\n",
       "      <td>low</td>\n",
       "      <td>3</td>\n",
       "      <td>more</td>\n",
       "      <td>small</td>\n",
       "      <td>high</td>\n",
       "      <td>acc</td>\n",
       "    </tr>\n",
       "    <tr>\n",
       "      <th>1</th>\n",
       "      <td>vhigh</td>\n",
       "      <td>vhigh</td>\n",
       "      <td>3</td>\n",
       "      <td>4</td>\n",
       "      <td>med</td>\n",
       "      <td>high</td>\n",
       "      <td>unacc</td>\n",
       "    </tr>\n",
       "    <tr>\n",
       "      <th>2</th>\n",
       "      <td>med</td>\n",
       "      <td>low</td>\n",
       "      <td>5more</td>\n",
       "      <td>more</td>\n",
       "      <td>small</td>\n",
       "      <td>low</td>\n",
       "      <td>unacc</td>\n",
       "    </tr>\n",
       "    <tr>\n",
       "      <th>3</th>\n",
       "      <td>low</td>\n",
       "      <td>low</td>\n",
       "      <td>2</td>\n",
       "      <td>more</td>\n",
       "      <td>big</td>\n",
       "      <td>low</td>\n",
       "      <td>unacc</td>\n",
       "    </tr>\n",
       "    <tr>\n",
       "      <th>4</th>\n",
       "      <td>high</td>\n",
       "      <td>med</td>\n",
       "      <td>4</td>\n",
       "      <td>4</td>\n",
       "      <td>small</td>\n",
       "      <td>med</td>\n",
       "      <td>unacc</td>\n",
       "    </tr>\n",
       "  </tbody>\n",
       "</table>\n",
       "</div>"
      ],
      "text/plain": [
       "  buying  maint  doors persons lug_boot safety  CLASS\n",
       "0  vhigh    low      3    more    small   high    acc\n",
       "1  vhigh  vhigh      3       4      med   high  unacc\n",
       "2    med    low  5more    more    small    low  unacc\n",
       "3    low    low      2    more      big    low  unacc\n",
       "4   high    med      4       4    small    med  unacc"
      ]
     },
     "execution_count": 6,
     "metadata": {},
     "output_type": "execute_result"
    }
   ],
   "source": [
    "car_dataset_path = 'data/car.data'\n",
    "car_dataset_labels = ['buying','maint','doors','persons','lug_boot','safety','CLASS']\n",
    "car_dataset = data_utils.preapare_dataset(car_dataset_path, car_dataset_labels)\n",
    "car_dataset.head()"
   ]
  },
  {
   "cell_type": "markdown",
   "id": "enormous-faith",
   "metadata": {},
   "source": [
    "### Car 70%"
   ]
  },
  {
   "cell_type": "code",
   "execution_count": 7,
   "id": "invalid-holly",
   "metadata": {},
   "outputs": [
    {
     "name": "stdout",
     "output_type": "stream",
     "text": [
      "unacc    560\n",
      "acc      186\n",
      "vgood     33\n",
      "good      26\n",
      "Name: CLASS, dtype: int64\n"
     ]
    },
    {
     "data": {
      "text/plain": [
       "<AxesSubplot:title={'center':'class'}>"
      ]
     },
     "execution_count": 7,
     "metadata": {},
     "output_type": "execute_result"
    },
    {
     "data": {
      "image/png": "[encoded data removed]",
      "text/plain": [
       "<Figure size 432x288 with 1 Axes>"
      ]
     },
     "metadata": {
      "needs_background": "light"
     },
     "output_type": "display_data"
    }
   ],
   "source": [
    "car_set_for_training70, car_testing70 = data_utils.data_split(car_dataset, 70)\n",
    "car_training70, car_validation70 = data_utils.split_training_data_for_pruning(car_set_for_training70)\n",
    "print(car_training70['CLASS'].value_counts())\n",
    "car_training70['CLASS'].value_counts().plot(kind='bar', title='class')"
   ]
  },
  {
   "cell_type": "code",
   "execution_count": 8,
   "id": "complicated-traffic",
   "metadata": {},
   "outputs": [],
   "source": [
    "# car_training"
   ]
  },
  {
   "cell_type": "code",
   "execution_count": 9,
   "id": "affiliated-possible",
   "metadata": {},
   "outputs": [
    {
     "name": "stdout",
     "output_type": "stream",
     "text": [
      "186\n"
     ]
    },
    {
     "data": {
      "text/plain": [
       "<AxesSubplot:title={'center':'class'}>"
      ]
     },
     "execution_count": 9,
     "metadata": {},
     "output_type": "execute_result"
    },
    {
     "data": {
      "image/png": "[encoded data removed]",
      "text/plain": [
       "<Figure size 432x288 with 1 Axes>"
      ]
     },
     "metadata": {
      "needs_background": "light"
     },
     "output_type": "display_data"
    }
   ],
   "source": [
    "#Target for all 174\n",
    "resampling_car70 = car_training70.copy()\n",
    "unacc_part70 = resampling_car70[resampling_car70['CLASS'] == 'unacc']\n",
    "acc_part70 = resampling_car70[resampling_car70['CLASS'] == 'acc'] \n",
    "print(len(acc_part70))\n",
    "vgood_part70 = resampling_car70[resampling_car70['CLASS'] == 'vgood'] \n",
    "good_part70 = resampling_car70[resampling_car70['CLASS'] == 'good'] \n",
    "\n",
    "\n",
    "unacc_downsample70 = resample(unacc_part70, \n",
    "                                 replace=False,     \n",
    "                                 n_samples=179)\n",
    "\n",
    "vgood_part_upsampled70 = resample(vgood_part70, \n",
    "                                 replace=True,     \n",
    "                                 n_samples=179)\n",
    "good_part_upsampled70 = resample(good_part70, \n",
    "                                 replace=True,     \n",
    "                                 n_samples=179)\n",
    "\n",
    "# Combine majority class with upsamplet minority class\n",
    "balanced_car_training70 = pd.concat([unacc_downsample70, acc_part70, vgood_part_upsampled70, good_part_upsampled70])\n",
    "balanced_car_training70 = balanced_car_training70.reset_index(level=None, drop=True, inplace=False, col_level=0, col_fill='')\n",
    "balanced_car_training70 = balanced_car_training70.sample(frac=1).reset_index(drop=True)\n",
    "\n",
    "car_training70 = balanced_car_training70.copy()\n",
    "car_training70['CLASS'].value_counts().plot(kind='bar', title='class')"
   ]
  },
  {
   "cell_type": "code",
   "execution_count": 10,
   "id": "early-insertion",
   "metadata": {},
   "outputs": [
    {
     "data": {
      "text/html": [
       "<div>\n",
       "<style scoped>\n",
       "    .dataframe tbody tr th:only-of-type {\n",
       "        vertical-align: middle;\n",
       "    }\n",
       "\n",
       "    .dataframe tbody tr th {\n",
       "        vertical-align: top;\n",
       "    }\n",
       "\n",
       "    .dataframe thead th {\n",
       "        text-align: right;\n",
       "    }\n",
       "</style>\n",
       "<table border=\"1\" class=\"dataframe\">\n",
       "  <thead>\n",
       "    <tr style=\"text-align: right;\">\n",
       "      <th></th>\n",
       "      <th>buying</th>\n",
       "      <th>maint</th>\n",
       "      <th>doors</th>\n",
       "      <th>persons</th>\n",
       "      <th>lug_boot</th>\n",
       "      <th>safety</th>\n",
       "      <th>CLASS</th>\n",
       "    </tr>\n",
       "  </thead>\n",
       "  <tbody>\n",
       "    <tr>\n",
       "      <th>0</th>\n",
       "      <td>med</td>\n",
       "      <td>med</td>\n",
       "      <td>4</td>\n",
       "      <td>more</td>\n",
       "      <td>med</td>\n",
       "      <td>med</td>\n",
       "      <td>acc</td>\n",
       "    </tr>\n",
       "    <tr>\n",
       "      <th>1</th>\n",
       "      <td>vhigh</td>\n",
       "      <td>med</td>\n",
       "      <td>3</td>\n",
       "      <td>4</td>\n",
       "      <td>big</td>\n",
       "      <td>high</td>\n",
       "      <td>acc</td>\n",
       "    </tr>\n",
       "    <tr>\n",
       "      <th>2</th>\n",
       "      <td>high</td>\n",
       "      <td>low</td>\n",
       "      <td>5more</td>\n",
       "      <td>2</td>\n",
       "      <td>med</td>\n",
       "      <td>med</td>\n",
       "      <td>unacc</td>\n",
       "    </tr>\n",
       "    <tr>\n",
       "      <th>3</th>\n",
       "      <td>med</td>\n",
       "      <td>med</td>\n",
       "      <td>4</td>\n",
       "      <td>2</td>\n",
       "      <td>big</td>\n",
       "      <td>low</td>\n",
       "      <td>unacc</td>\n",
       "    </tr>\n",
       "    <tr>\n",
       "      <th>4</th>\n",
       "      <td>high</td>\n",
       "      <td>high</td>\n",
       "      <td>3</td>\n",
       "      <td>4</td>\n",
       "      <td>med</td>\n",
       "      <td>high</td>\n",
       "      <td>acc</td>\n",
       "    </tr>\n",
       "  </tbody>\n",
       "</table>\n",
       "</div>"
      ],
      "text/plain": [
       "  buying maint  doors persons lug_boot safety  CLASS\n",
       "0    med   med      4    more      med    med    acc\n",
       "1  vhigh   med      3       4      big   high    acc\n",
       "2   high   low  5more       2      med    med  unacc\n",
       "3    med   med      4       2      big    low  unacc\n",
       "4   high  high      3       4      med   high    acc"
      ]
     },
     "execution_count": 10,
     "metadata": {},
     "output_type": "execute_result"
    }
   ],
   "source": [
    "car_training70.head()"
   ]
  },
  {
   "cell_type": "markdown",
   "id": "wireless-thermal",
   "metadata": {},
   "source": [
    "### Dataset 80%"
   ]
  },
  {
   "cell_type": "code",
   "execution_count": 11,
   "id": "second-index",
   "metadata": {},
   "outputs": [
    {
     "name": "stdout",
     "output_type": "stream",
     "text": [
      "unacc    644\n",
      "acc      209\n",
      "vgood     36\n",
      "good      32\n",
      "Name: CLASS, dtype: int64\n"
     ]
    },
    {
     "data": {
      "text/plain": [
       "<AxesSubplot:title={'center':'class'}>"
      ]
     },
     "execution_count": 11,
     "metadata": {},
     "output_type": "execute_result"
    },
    {
     "data": {
      "image/png": "[encoded data removed]",
      "text/plain": [
       "<Figure size 432x288 with 1 Axes>"
      ]
     },
     "metadata": {
      "needs_background": "light"
     },
     "output_type": "display_data"
    }
   ],
   "source": [
    "car_set_for_training80, car_testing80 = data_utils.data_split(car_dataset, 80)\n",
    "car_training80, car_validation80 = data_utils.split_training_data_for_pruning(car_set_for_training80)\n",
    "print(car_training80['CLASS'].value_counts())\n",
    "car_training80['CLASS'].value_counts().plot(kind='bar', title='class')"
   ]
  },
  {
   "cell_type": "code",
   "execution_count": 12,
   "id": "applied-component",
   "metadata": {},
   "outputs": [],
   "source": [
    "# car_training80"
   ]
  },
  {
   "cell_type": "code",
   "execution_count": 13,
   "id": "interracial-basic",
   "metadata": {},
   "outputs": [
    {
     "data": {
      "text/plain": [
       "<AxesSubplot:title={'center':'class'}>"
      ]
     },
     "execution_count": 13,
     "metadata": {},
     "output_type": "execute_result"
    },
    {
     "data": {
      "image/png": "[encoded data removed]",
      "text/plain": [
       "<Figure size 432x288 with 1 Axes>"
      ]
     },
     "metadata": {
      "needs_background": "light"
     },
     "output_type": "display_data"
    }
   ],
   "source": [
    "#Target for all 318\n",
    "resampling_car80 = car_training80.copy()\n",
    "unacc_part80 = resampling_car80[resampling_car80['CLASS'] == 'unacc']\n",
    "acc_part80 = resampling_car80[resampling_car80['CLASS'] == 'acc'] \n",
    "vgood_part80 = resampling_car80[resampling_car80['CLASS'] == 'vgood'] \n",
    "good_part80 = resampling_car80[resampling_car80['CLASS'] == 'good'] \n",
    "\n",
    "\n",
    "unacc_downsample80 = resample(unacc_part80, \n",
    "                                 replace=False,     \n",
    "                                 n_samples=200)\n",
    "\n",
    "vgood_part_upsampled80 = resample(vgood_part80, \n",
    "                                 replace=True,     \n",
    "                                 n_samples=200)\n",
    "good_part_upsampled80 = resample(good_part80, \n",
    "                                 replace=True,     \n",
    "                                 n_samples=200)\n",
    "\n",
    "# Combine majority class with upsamplet minority class\n",
    "balanced_car_training80 = pd.concat([unacc_downsample80, acc_part80, vgood_part_upsampled80, good_part_upsampled80])\n",
    "balanced_car_training80 = balanced_car_training80.reset_index(level=None, drop=True, inplace=False, col_level=0, col_fill='')\n",
    "balanced_car_training80 = balanced_car_training80.sample(frac=1).reset_index(drop=True)\n",
    "\n",
    "car_training80 = balanced_car_training80.copy()\n",
    "car_training80['CLASS'].value_counts().plot(kind='bar', title='class')"
   ]
  },
  {
   "cell_type": "code",
   "execution_count": 14,
   "id": "consecutive-purchase",
   "metadata": {},
   "outputs": [],
   "source": [
    "# car_training80.head()"
   ]
  },
  {
   "cell_type": "markdown",
   "id": "broadband-cleveland",
   "metadata": {},
   "source": [
    "### Dataset 90%"
   ]
  },
  {
   "cell_type": "code",
   "execution_count": 15,
   "id": "meaningful-plumbing",
   "metadata": {},
   "outputs": [
    {
     "name": "stdout",
     "output_type": "stream",
     "text": [
      "unacc    728\n",
      "acc      230\n",
      "vgood     44\n",
      "good      34\n",
      "Name: CLASS, dtype: int64\n"
     ]
    },
    {
     "data": {
      "text/plain": [
       "<AxesSubplot:title={'center':'class'}>"
      ]
     },
     "execution_count": 15,
     "metadata": {},
     "output_type": "execute_result"
    },
    {
     "data": {
      "image/png": "[encoded data removed]",
      "text/plain": [
       "<Figure size 432x288 with 1 Axes>"
      ]
     },
     "metadata": {
      "needs_background": "light"
     },
     "output_type": "display_data"
    }
   ],
   "source": [
    "car_set_for_training90, car_testing90 = data_utils.data_split(car_dataset, 90)\n",
    "car_training90, car_validation90 = data_utils.split_training_data_for_pruning(car_set_for_training90)\n",
    "print(car_training90['CLASS'].value_counts())\n",
    "car_training90['CLASS'].value_counts().plot(kind='bar', title='class')"
   ]
  },
  {
   "cell_type": "code",
   "execution_count": 16,
   "id": "identical-spider",
   "metadata": {},
   "outputs": [
    {
     "data": {
      "text/plain": [
       "<AxesSubplot:title={'center':'class'}>"
      ]
     },
     "execution_count": 16,
     "metadata": {},
     "output_type": "execute_result"
    },
    {
     "data": {
      "image/png": "[encoded data removed]",
      "text/plain": [
       "<Figure size 432x288 with 1 Axes>"
      ]
     },
     "metadata": {
      "needs_background": "light"
     },
     "output_type": "display_data"
    }
   ],
   "source": [
    "#Target for all 352?\n",
    "resampling_car90 = car_training90.copy()\n",
    "unacc_part90 = resampling_car90[resampling_car90['CLASS'] == 'unacc']\n",
    "acc_part90 = resampling_car90[resampling_car90['CLASS'] == 'acc']\n",
    "vgood_part90 = resampling_car90[resampling_car90['CLASS'] == 'vgood'] \n",
    "good_part90 = resampling_car90[resampling_car90['CLASS'] == 'good'] \n",
    "\n",
    "\n",
    "unacc_downsample90 = resample(unacc_part90, \n",
    "                                 replace=False,     \n",
    "                                 n_samples=227)\n",
    "\n",
    "vgood_part_upsampled90 = resample(vgood_part90, \n",
    "                                 replace=True,     \n",
    "                                 n_samples=227)\n",
    "good_part_upsampled90 = resample(good_part90, \n",
    "                                 replace=True,     \n",
    "                                 n_samples=227)\n",
    "\n",
    "# Combine majority class with upsamplet minority class\n",
    "balanced_car_training90 = pd.concat([unacc_downsample90, acc_part90, vgood_part_upsampled90, good_part_upsampled90])\n",
    "balanced_car_training90 = balanced_car_training90.reset_index(level=None, drop=True, inplace=False, col_level=0, col_fill='')\n",
    "balanced_car_training90 = balanced_car_training90.sample(frac=1).reset_index(drop=True)\n",
    "\n",
    "car_training90 = balanced_car_training90.copy()\n",
    "car_training90['CLASS'].value_counts().plot(kind='bar', title='class')"
   ]
  },
  {
   "cell_type": "code",
   "execution_count": 17,
   "id": "going-journal",
   "metadata": {},
   "outputs": [],
   "source": [
    "# car_training90"
   ]
  },
  {
   "cell_type": "markdown",
   "id": "vanilla-banks",
   "metadata": {},
   "source": [
    "## Model Training"
   ]
  },
  {
   "cell_type": "code",
   "execution_count": 18,
   "id": "convenient-advertising",
   "metadata": {},
   "outputs": [
    {
     "name": "stdout",
     "output_type": "stream",
     "text": [
      "Before Pruning - heuristic = gini_impurity_weighted\n",
      "Accuracy for: testing 80.15% | training 96.27% | levels 10 | leafs 93\n",
      "After Pruning:\n",
      "Accuracy for: testing 80.73% | training 92.95% | levels 10 | leafs 73\n",
      "\n",
      "\n",
      "Before Pruning - heuristic = info_gain\n",
      "Accuracy for: testing 80.73% | training 96.27% | levels 10 | leafs 90\n",
      "After Pruning:\n",
      "Accuracy for: testing 81.12% | training 90.73% | levels 10 | leafs 64\n",
      "\n",
      "\n",
      "Before Pruning - heuristic = information_gain_ratio\n",
      "Accuracy for: testing 80.35% | training 96.96% | levels 10 | leafs 110\n",
      "After Pruning:\n",
      "Accuracy for: testing 80.54% | training 94.19% | levels 10 | leafs 95\n",
      "\n",
      "\n",
      "Before Pruning - heuristic = distance_measure\n",
      "Accuracy for: testing 60.31% | training 76.49% | levels 10 | leafs 161\n",
      "After Pruning:\n",
      "Accuracy for: testing 63.01% | training 60.44% | levels 10 | leafs 94\n",
      "\n",
      "\n",
      "Before Pruning - heuristic = j_measure\n",
      "Accuracy for: testing 81.31% | training 96.27% | levels 10 | leafs 90\n",
      "After Pruning:\n",
      "Accuracy for: testing 81.31% | training 90.87% | levels 10 | leafs 66\n",
      "\n",
      "\n",
      "Before Pruning - heuristic = weight_of_evidence\n",
      "Accuracy for: testing 71.48% | training 90.59% | levels 10 | leafs 126\n",
      "After Pruning:\n",
      "Accuracy for: testing 70.71% | training 89.76% | levels 10 | leafs 121\n",
      "\n",
      "\n",
      "Before Pruning - heuristic = gini_pri\n",
      "Accuracy for: testing 59.92% | training 80.64% | levels 10 | leafs 147\n",
      "After Pruning:\n",
      "Accuracy for: testing 59.73% | training 72.34% | levels 10 | leafs 114\n",
      "\n",
      "\n",
      "Before Pruning - heuristic = relief\n",
      "Accuracy for: testing 63.78% | training 78.28% | levels 10 | leafs 160\n",
      "After Pruning:\n",
      "Accuracy for: testing 62.43% | training 59.47% | levels 10 | leafs 82\n",
      "\n",
      "\n",
      "Before Pruning - heuristic = relevance\n",
      "Accuracy for: testing 60.50% | training 78.70% | levels 10 | leafs 154\n",
      "After Pruning:\n",
      "Accuracy for: testing 61.27% | training 60.17% | levels 10 | leafs 79\n",
      "\n",
      "\n",
      "Before Pruning - heuristic = mdl_simple\n",
      "Accuracy for: testing 80.15% | training 95.85% | levels 10 | leafs 94\n",
      "After Pruning:\n",
      "Accuracy for: testing 80.15% | training 93.08% | levels 10 | leafs 77\n",
      "\n",
      "\n"
     ]
    }
   ],
   "source": [
    "train_tree_for_different_heuristics(car_training70, car_testing70, car_validation70)"
   ]
  },
  {
   "cell_type": "code",
   "execution_count": 19,
   "id": "opponent-outreach",
   "metadata": {},
   "outputs": [
    {
     "name": "stdout",
     "output_type": "stream",
     "text": [
      "Before Pruning - heuristic = gini_impurity_weighted\n",
      "Accuracy for: testing 86.71% | training 97.03% | levels 10 | leafs 112\n",
      "After Pruning:\n",
      "Accuracy for: testing 87.28% | training 96.29% | levels 10 | leafs 105\n",
      "\n",
      "\n",
      "Before Pruning - heuristic = info_gain\n",
      "Accuracy for: testing 86.99% | training 96.91% | levels 10 | leafs 110\n",
      "After Pruning:\n",
      "Accuracy for: testing 87.57% | training 96.17% | levels 10 | leafs 103\n",
      "\n",
      "\n",
      "Before Pruning - heuristic = information_gain_ratio\n",
      "Accuracy for: testing 83.53% | training 96.29% | levels 10 | leafs 117\n",
      "After Pruning:\n",
      "Accuracy for: testing 83.82% | training 95.92% | levels 10 | leafs 112\n",
      "\n",
      "\n",
      "Before Pruning - heuristic = distance_measure\n",
      "Accuracy for: testing 52.31% | training 74.78% | levels 10 | leafs 173\n",
      "After Pruning:\n",
      "Accuracy for: testing 53.47% | training 69.84% | levels 10 | leafs 149\n",
      "\n",
      "\n",
      "Before Pruning - heuristic = j_measure\n",
      "Accuracy for: testing 87.86% | training 96.91% | levels 10 | leafs 111\n",
      "After Pruning:\n",
      "Accuracy for: testing 87.86% | training 96.29% | levels 10 | leafs 105\n",
      "\n",
      "\n",
      "Before Pruning - heuristic = weight_of_evidence\n",
      "Accuracy for: testing 72.54% | training 90.36% | levels 10 | leafs 126\n",
      "After Pruning:\n",
      "Accuracy for: testing 72.54% | training 87.39% | levels 10 | leafs 109\n",
      "\n",
      "\n",
      "Before Pruning - heuristic = gini_pri\n",
      "Accuracy for: testing 60.98% | training 77.01% | levels 10 | leafs 169\n",
      "After Pruning:\n",
      "Accuracy for: testing 59.83% | training 76.14% | levels 10 | leafs 163\n",
      "\n",
      "\n",
      "Before Pruning - heuristic = relief\n",
      "Accuracy for: testing 53.47% | training 76.14% | levels 10 | leafs 179\n",
      "After Pruning:\n",
      "Accuracy for: testing 53.47% | training 73.05% | levels 10 | leafs 166\n",
      "\n",
      "\n",
      "Before Pruning - heuristic = relevance\n",
      "Accuracy for: testing 52.89% | training 78.74% | levels 10 | leafs 176\n",
      "After Pruning:\n",
      "Accuracy for: testing 55.20% | training 74.66% | levels 10 | leafs 148\n",
      "\n",
      "\n",
      "Before Pruning - heuristic = mdl_simple\n",
      "Accuracy for: testing 83.82% | training 96.29% | levels 10 | leafs 117\n",
      "After Pruning:\n",
      "Accuracy for: testing 83.24% | training 95.30% | levels 10 | leafs 107\n",
      "\n",
      "\n"
     ]
    }
   ],
   "source": [
    "train_tree_for_different_heuristics(car_training80, car_testing80, car_validation80)"
   ]
  },
  {
   "cell_type": "code",
   "execution_count": 20,
   "id": "corresponding-beauty",
   "metadata": {},
   "outputs": [
    {
     "name": "stdout",
     "output_type": "stream",
     "text": [
      "Before Pruning - heuristic = gini_impurity_weighted\n",
      "Accuracy for: testing 80.35% | training 96.49% | levels 10 | leafs 114\n",
      "After Pruning:\n",
      "Accuracy for: testing 80.35% | training 96.05% | levels 10 | leafs 107\n",
      "\n",
      "\n",
      "Before Pruning - heuristic = info_gain\n",
      "Accuracy for: testing 79.77% | training 96.16% | levels 10 | leafs 116\n",
      "After Pruning:\n",
      "Accuracy for: testing 79.77% | training 95.72% | levels 10 | leafs 109\n",
      "\n",
      "\n",
      "Before Pruning - heuristic = information_gain_ratio\n",
      "Accuracy for: testing 76.88% | training 96.38% | levels 10 | leafs 124\n",
      "After Pruning:\n",
      "Accuracy for: testing 76.30% | training 96.05% | levels 10 | leafs 118\n",
      "\n",
      "\n",
      "Before Pruning - heuristic = distance_measure\n",
      "Accuracy for: testing 56.07% | training 74.31% | levels 10 | leafs 191\n",
      "After Pruning:\n",
      "Accuracy for: testing 61.27% | training 66.41% | levels 10 | leafs 136\n",
      "\n",
      "\n",
      "Before Pruning - heuristic = j_measure\n",
      "Accuracy for: testing 79.77% | training 96.16% | levels 10 | leafs 116\n",
      "After Pruning:\n",
      "Accuracy for: testing 79.77% | training 95.72% | levels 10 | leafs 109\n",
      "\n",
      "\n",
      "Before Pruning - heuristic = weight_of_evidence\n",
      "Accuracy for: testing 75.14% | training 89.68% | levels 10 | leafs 143\n",
      "After Pruning:\n",
      "Accuracy for: testing 75.14% | training 86.72% | levels 10 | leafs 128\n",
      "\n",
      "\n",
      "Before Pruning - heuristic = gini_pri\n",
      "Accuracy for: testing 63.01% | training 75.74% | levels 10 | leafs 164\n",
      "After Pruning:\n",
      "Accuracy for: testing 66.47% | training 69.05% | levels 10 | leafs 118\n",
      "\n",
      "\n",
      "Before Pruning - heuristic = relief\n",
      "Accuracy for: testing 55.49% | training 74.97% | levels 10 | leafs 188\n",
      "After Pruning:\n",
      "Accuracy for: testing 61.27% | training 69.15% | levels 10 | leafs 149\n",
      "\n",
      "\n",
      "Before Pruning - heuristic = relevance\n",
      "Accuracy for: testing 60.69% | training 78.05% | levels 10 | leafs 171\n",
      "After Pruning:\n",
      "Accuracy for: testing 61.85% | training 74.31% | levels 10 | leafs 144\n",
      "\n",
      "\n",
      "Before Pruning - heuristic = mdl_simple\n",
      "Accuracy for: testing 82.08% | training 96.16% | levels 10 | leafs 126\n",
      "After Pruning:\n",
      "Accuracy for: testing 81.50% | training 95.83% | levels 10 | leafs 120\n",
      "\n",
      "\n"
     ]
    }
   ],
   "source": [
    "train_tree_for_different_heuristics(car_training90, car_testing90, car_validation90)"
   ]
  },
  {
   "cell_type": "markdown",
   "id": "seven-passage",
   "metadata": {},
   "source": [
    "# Cancer Dataset"
   ]
  },
  {
   "cell_type": "markdown",
   "id": "serious-ancient",
   "metadata": {},
   "source": [
    "# Dataset preparation"
   ]
  },
  {
   "cell_type": "code",
   "execution_count": 21,
   "id": "smart-steam",
   "metadata": {},
   "outputs": [
    {
     "data": {
      "text/html": [
       "<div>\n",
       "<style scoped>\n",
       "    .dataframe tbody tr th:only-of-type {\n",
       "        vertical-align: middle;\n",
       "    }\n",
       "\n",
       "    .dataframe tbody tr th {\n",
       "        vertical-align: top;\n",
       "    }\n",
       "\n",
       "    .dataframe thead th {\n",
       "        text-align: right;\n",
       "    }\n",
       "</style>\n",
       "<table border=\"1\" class=\"dataframe\">\n",
       "  <thead>\n",
       "    <tr style=\"text-align: right;\">\n",
       "      <th></th>\n",
       "      <th>age</th>\n",
       "      <th>menopause</th>\n",
       "      <th>tumor-size</th>\n",
       "      <th>inv-nodes</th>\n",
       "      <th>node-caps</th>\n",
       "      <th>deg-malig</th>\n",
       "      <th>breast</th>\n",
       "      <th>breast-quad</th>\n",
       "      <th>irradiat</th>\n",
       "      <th>CLASS</th>\n",
       "    </tr>\n",
       "  </thead>\n",
       "  <tbody>\n",
       "    <tr>\n",
       "      <th>0</th>\n",
       "      <td>50-59</td>\n",
       "      <td>ge40</td>\n",
       "      <td>20-24</td>\n",
       "      <td>0-2</td>\n",
       "      <td>no</td>\n",
       "      <td>3</td>\n",
       "      <td>left</td>\n",
       "      <td>left_up</td>\n",
       "      <td>no</td>\n",
       "      <td>no-recurrence-events</td>\n",
       "    </tr>\n",
       "    <tr>\n",
       "      <th>1</th>\n",
       "      <td>50-59</td>\n",
       "      <td>lt40</td>\n",
       "      <td>15-19</td>\n",
       "      <td>0-2</td>\n",
       "      <td>no</td>\n",
       "      <td>2</td>\n",
       "      <td>left</td>\n",
       "      <td>left_low</td>\n",
       "      <td>no</td>\n",
       "      <td>no-recurrence-events</td>\n",
       "    </tr>\n",
       "    <tr>\n",
       "      <th>2</th>\n",
       "      <td>70-79</td>\n",
       "      <td>ge40</td>\n",
       "      <td>0-4</td>\n",
       "      <td>0-2</td>\n",
       "      <td>no</td>\n",
       "      <td>1</td>\n",
       "      <td>left</td>\n",
       "      <td>right_low</td>\n",
       "      <td>no</td>\n",
       "      <td>no-recurrence-events</td>\n",
       "    </tr>\n",
       "    <tr>\n",
       "      <th>3</th>\n",
       "      <td>30-39</td>\n",
       "      <td>premeno</td>\n",
       "      <td>30-34</td>\n",
       "      <td>0-2</td>\n",
       "      <td>no</td>\n",
       "      <td>1</td>\n",
       "      <td>right</td>\n",
       "      <td>left_up</td>\n",
       "      <td>no</td>\n",
       "      <td>recurrence-events</td>\n",
       "    </tr>\n",
       "    <tr>\n",
       "      <th>4</th>\n",
       "      <td>40-49</td>\n",
       "      <td>premeno</td>\n",
       "      <td>30-34</td>\n",
       "      <td>0-2</td>\n",
       "      <td>no</td>\n",
       "      <td>1</td>\n",
       "      <td>right</td>\n",
       "      <td>left_up</td>\n",
       "      <td>no</td>\n",
       "      <td>no-recurrence-events</td>\n",
       "    </tr>\n",
       "    <tr>\n",
       "      <th>...</th>\n",
       "      <td>...</td>\n",
       "      <td>...</td>\n",
       "      <td>...</td>\n",
       "      <td>...</td>\n",
       "      <td>...</td>\n",
       "      <td>...</td>\n",
       "      <td>...</td>\n",
       "      <td>...</td>\n",
       "      <td>...</td>\n",
       "      <td>...</td>\n",
       "    </tr>\n",
       "    <tr>\n",
       "      <th>281</th>\n",
       "      <td>40-49</td>\n",
       "      <td>premeno</td>\n",
       "      <td>20-24</td>\n",
       "      <td>3-5</td>\n",
       "      <td>no</td>\n",
       "      <td>2</td>\n",
       "      <td>right</td>\n",
       "      <td>left_up</td>\n",
       "      <td>no</td>\n",
       "      <td>no-recurrence-events</td>\n",
       "    </tr>\n",
       "    <tr>\n",
       "      <th>282</th>\n",
       "      <td>60-69</td>\n",
       "      <td>ge40</td>\n",
       "      <td>30-34</td>\n",
       "      <td>3-5</td>\n",
       "      <td>yes</td>\n",
       "      <td>2</td>\n",
       "      <td>left</td>\n",
       "      <td>central</td>\n",
       "      <td>yes</td>\n",
       "      <td>recurrence-events</td>\n",
       "    </tr>\n",
       "    <tr>\n",
       "      <th>283</th>\n",
       "      <td>30-39</td>\n",
       "      <td>premeno</td>\n",
       "      <td>30-34</td>\n",
       "      <td>6-8</td>\n",
       "      <td>yes</td>\n",
       "      <td>2</td>\n",
       "      <td>right</td>\n",
       "      <td>right_up</td>\n",
       "      <td>no</td>\n",
       "      <td>no-recurrence-events</td>\n",
       "    </tr>\n",
       "    <tr>\n",
       "      <th>284</th>\n",
       "      <td>60-69</td>\n",
       "      <td>ge40</td>\n",
       "      <td>20-24</td>\n",
       "      <td>0-2</td>\n",
       "      <td>no</td>\n",
       "      <td>3</td>\n",
       "      <td>right</td>\n",
       "      <td>left_low</td>\n",
       "      <td>no</td>\n",
       "      <td>recurrence-events</td>\n",
       "    </tr>\n",
       "    <tr>\n",
       "      <th>285</th>\n",
       "      <td>50-59</td>\n",
       "      <td>ge40</td>\n",
       "      <td>30-34</td>\n",
       "      <td>9-11</td>\n",
       "      <td>yes</td>\n",
       "      <td>3</td>\n",
       "      <td>left</td>\n",
       "      <td>right_low</td>\n",
       "      <td>yes</td>\n",
       "      <td>recurrence-events</td>\n",
       "    </tr>\n",
       "  </tbody>\n",
       "</table>\n",
       "<p>286 rows × 10 columns</p>\n",
       "</div>"
      ],
      "text/plain": [
       "       age menopause tumor-size inv-nodes node-caps  deg-malig breast  \\\n",
       "0    50-59      ge40      20-24       0-2        no          3   left   \n",
       "1    50-59      lt40      15-19       0-2        no          2   left   \n",
       "2    70-79      ge40        0-4       0-2        no          1   left   \n",
       "3    30-39   premeno      30-34       0-2        no          1  right   \n",
       "4    40-49   premeno      30-34       0-2        no          1  right   \n",
       "..     ...       ...        ...       ...       ...        ...    ...   \n",
       "281  40-49   premeno      20-24       3-5        no          2  right   \n",
       "282  60-69      ge40      30-34       3-5       yes          2   left   \n",
       "283  30-39   premeno      30-34       6-8       yes          2  right   \n",
       "284  60-69      ge40      20-24       0-2        no          3  right   \n",
       "285  50-59      ge40      30-34      9-11       yes          3   left   \n",
       "\n",
       "    breast-quad irradiat                 CLASS  \n",
       "0       left_up       no  no-recurrence-events  \n",
       "1      left_low       no  no-recurrence-events  \n",
       "2     right_low       no  no-recurrence-events  \n",
       "3       left_up       no     recurrence-events  \n",
       "4       left_up       no  no-recurrence-events  \n",
       "..          ...      ...                   ...  \n",
       "281     left_up       no  no-recurrence-events  \n",
       "282     central      yes     recurrence-events  \n",
       "283    right_up       no  no-recurrence-events  \n",
       "284    left_low       no     recurrence-events  \n",
       "285   right_low      yes     recurrence-events  \n",
       "\n",
       "[286 rows x 10 columns]"
      ]
     },
     "execution_count": 21,
     "metadata": {},
     "output_type": "execute_result"
    }
   ],
   "source": [
    "cancer_dataset_path = 'data/breast-cancer.data'\n",
    "cancer_dataset_labels = ['CLASS','age','menopause','tumor-size','inv-nodes','node-caps','deg-malig','breast', 'breast-quad', 'irradiat']\n",
    "cancer_dataset = data_utils.preapare_dataset(cancer_dataset_path, cancer_dataset_labels)\n",
    "cancer_dataset = cancer_dataset[['age','menopause','tumor-size','inv-nodes', 'node-caps','deg-malig','breast', 'breast-quad', 'irradiat', 'CLASS']]\n",
    "# cancer_dataset.head()\n",
    "cancer_dataset"
   ]
  },
  {
   "cell_type": "markdown",
   "id": "annual-utilization",
   "metadata": {},
   "source": [
    "### Cancer 70%"
   ]
  },
  {
   "cell_type": "code",
   "execution_count": 22,
   "id": "welcome-consultation",
   "metadata": {},
   "outputs": [
    {
     "name": "stdout",
     "output_type": "stream",
     "text": [
      "no-recurrence-events    94\n",
      "recurrence-events       39\n",
      "Name: CLASS, dtype: int64\n"
     ]
    },
    {
     "data": {
      "text/plain": [
       "<AxesSubplot:title={'center':'class'}>"
      ]
     },
     "execution_count": 22,
     "metadata": {},
     "output_type": "execute_result"
    },
    {
     "data": {
      "image/png": "[encoded data removed]",
      "text/plain": [
       "<Figure size 432x288 with 1 Axes>"
      ]
     },
     "metadata": {
      "needs_background": "light"
     },
     "output_type": "display_data"
    }
   ],
   "source": [
    "cancer_set_for_training70, cancer_testing70 = data_utils.data_split(cancer_dataset, 70)\n",
    "cancer_training70, cancer_validation70 = data_utils.split_training_data_for_pruning(cancer_set_for_training70)\n",
    "print(cancer_training70['CLASS'].value_counts())\n",
    "cancer_training70['CLASS'].value_counts().plot(kind='bar', title='class')"
   ]
  },
  {
   "cell_type": "code",
   "execution_count": 23,
   "id": "complete-certification",
   "metadata": {},
   "outputs": [
    {
     "data": {
      "text/plain": [
       "<AxesSubplot:title={'center':'class'}>"
      ]
     },
     "execution_count": 23,
     "metadata": {},
     "output_type": "execute_result"
    },
    {
     "data": {
      "image/png": "[encoded data removed]",
      "text/plain": [
       "<Figure size 432x288 with 1 Axes>"
      ]
     },
     "metadata": {
      "needs_background": "light"
     },
     "output_type": "display_data"
    }
   ],
   "source": [
    "#Target for all 174\n",
    "resampling_cancer70 = cancer_training70.copy()\n",
    "recurrence_events_part70 = resampling_cancer70[resampling_cancer70['CLASS'] == 'recurrence-events']\n",
    "no_recurrence_events_part70 = resampling_cancer70[resampling_cancer70['CLASS'] == 'no-recurrence-events'] \n",
    "\n",
    "recurrence_events_part_upsampled70 = resample(recurrence_events_part70, \n",
    "                                 replace=True,     \n",
    "                                 n_samples=96)\n",
    "\n",
    "# Combine majority class with upsamplet minority class\n",
    "balanced_cnacer_training70 = pd.concat([recurrence_events_part_upsampled70, no_recurrence_events_part70])\n",
    "balanced_cnacer_training70 = balanced_cnacer_training70.reset_index(level=None, drop=True, inplace=False, col_level=0, col_fill='')\n",
    "balanced_cnacer_training70 = balanced_cnacer_training70.sample(frac=1).reset_index(drop=True)\n",
    "\n",
    "cancer_training70 = balanced_cnacer_training70.copy()\n",
    "cancer_training70['CLASS'].value_counts().plot(kind='bar', title='class')"
   ]
  },
  {
   "cell_type": "markdown",
   "id": "preliminary-macro",
   "metadata": {},
   "source": [
    "### Cancer 80%"
   ]
  },
  {
   "cell_type": "code",
   "execution_count": 24,
   "id": "significant-outside",
   "metadata": {},
   "outputs": [
    {
     "name": "stdout",
     "output_type": "stream",
     "text": [
      "no-recurrence-events    104\n",
      "recurrence-events        47\n",
      "Name: CLASS, dtype: int64\n"
     ]
    },
    {
     "data": {
      "text/plain": [
       "<AxesSubplot:title={'center':'class'}>"
      ]
     },
     "execution_count": 24,
     "metadata": {},
     "output_type": "execute_result"
    },
    {
     "data": {
      "image/png": "[encoded data removed]",
      "text/plain": [
       "<Figure size 432x288 with 1 Axes>"
      ]
     },
     "metadata": {
      "needs_background": "light"
     },
     "output_type": "display_data"
    }
   ],
   "source": [
    "cancer_set_for_training80, cancer_testing80 = data_utils.data_split(cancer_dataset, 80)\n",
    "cancer_training80, cancer_validation80 = data_utils.split_training_data_for_pruning(cancer_set_for_training80)\n",
    "print(cancer_training80['CLASS'].value_counts())\n",
    "cancer_training80['CLASS'].value_counts().plot(kind='bar', title='class')"
   ]
  },
  {
   "cell_type": "code",
   "execution_count": 25,
   "id": "black-lindsay",
   "metadata": {},
   "outputs": [
    {
     "data": {
      "text/plain": [
       "<AxesSubplot:title={'center':'class'}>"
      ]
     },
     "execution_count": 25,
     "metadata": {},
     "output_type": "execute_result"
    },
    {
     "data": {
      "image/png": "[encoded data removed]",
      "text/plain": [
       "<Figure size 432x288 with 1 Axes>"
      ]
     },
     "metadata": {
      "needs_background": "light"
     },
     "output_type": "display_data"
    }
   ],
   "source": [
    "#Target for all 174\n",
    "resampling_cancer80 = cancer_training80.copy()\n",
    "recurrence_events_part80 = resampling_cancer80[resampling_cancer80['CLASS'] == 'recurrence-events']\n",
    "no_recurrence_events_part80 = resampling_cancer80[resampling_cancer80['CLASS'] == 'no-recurrence-events'] \n",
    "\n",
    "recurrence_events_part_upsampled80 = resample(recurrence_events_part80, \n",
    "                                 replace=True,     \n",
    "                                 n_samples=99)\n",
    "\n",
    "# Combine majority class with upsamplet minority class\n",
    "balanced_cnacer_training80 = pd.concat([recurrence_events_part_upsampled80, no_recurrence_events_part80])\n",
    "balanced_cnacer_training80 = balanced_cnacer_training80.reset_index(level=None, drop=True, inplace=False, col_level=0, col_fill='')\n",
    "balanced_cnacer_training80 = balanced_cnacer_training80.sample(frac=1).reset_index(drop=True)\n",
    "\n",
    "cancer_training80 = balanced_cnacer_training80.copy()\n",
    "cancer_training80['CLASS'].value_counts().plot(kind='bar', title='class')"
   ]
  },
  {
   "cell_type": "markdown",
   "id": "micro-volume",
   "metadata": {},
   "source": [
    "### Cancer 90%"
   ]
  },
  {
   "cell_type": "code",
   "execution_count": 26,
   "id": "broken-eagle",
   "metadata": {},
   "outputs": [
    {
     "name": "stdout",
     "output_type": "stream",
     "text": [
      "no-recurrence-events    118\n",
      "recurrence-events        53\n",
      "Name: CLASS, dtype: int64\n"
     ]
    },
    {
     "data": {
      "text/plain": [
       "<AxesSubplot:title={'center':'class'}>"
      ]
     },
     "execution_count": 26,
     "metadata": {},
     "output_type": "execute_result"
    },
    {
     "data": {
      "image/png": "[encoded data removed]",
      "text/plain": [
       "<Figure size 432x288 with 1 Axes>"
      ]
     },
     "metadata": {
      "needs_background": "light"
     },
     "output_type": "display_data"
    }
   ],
   "source": [
    "cancer_set_for_training90, cancer_testing90 = data_utils.data_split(cancer_dataset, 90)\n",
    "cancer_training90, cancer_validation90 = data_utils.split_training_data_for_pruning(cancer_set_for_training90)\n",
    "print(cancer_training90['CLASS'].value_counts())\n",
    "cancer_training90['CLASS'].value_counts().plot(kind='bar', title='class')"
   ]
  },
  {
   "cell_type": "code",
   "execution_count": 27,
   "id": "stupid-netscape",
   "metadata": {},
   "outputs": [
    {
     "data": {
      "text/plain": [
       "<AxesSubplot:title={'center':'class'}>"
      ]
     },
     "execution_count": 27,
     "metadata": {},
     "output_type": "execute_result"
    },
    {
     "data": {
      "image/png": "[encoded data removed]",
      "text/plain": [
       "<Figure size 432x288 with 1 Axes>"
      ]
     },
     "metadata": {
      "needs_background": "light"
     },
     "output_type": "display_data"
    }
   ],
   "source": [
    "\n",
    "#Target for all 174\n",
    "resampling_cancer90 = cancer_training90.copy()\n",
    "recurrence_events_part90 = resampling_cancer90[resampling_cancer90['CLASS'] == 'recurrence-events']\n",
    "no_recurrence_events_part90 = resampling_cancer90[resampling_cancer90['CLASS'] == 'no-recurrence-events'] \n",
    "\n",
    "recurrence_events_part_upsampled90 = resample(recurrence_events_part90, \n",
    "                                 replace=True,     \n",
    "                                 n_samples=116)\n",
    "\n",
    "# Combine majority class with upsamplet minority class\n",
    "balanced_cnacer_training90 = pd.concat([recurrence_events_part_upsampled90, no_recurrence_events_part90])\n",
    "balanced_cnacer_training90 = balanced_cnacer_training90.reset_index(level=None, drop=True, inplace=False, col_level=0, col_fill='')\n",
    "balanced_cnacer_training90 = balanced_cnacer_training90.sample(frac=1).reset_index(drop=True)\n",
    "\n",
    "cancer_training90 = balanced_cnacer_training90.copy()\n",
    "cancer_training90['CLASS'].value_counts().plot(kind='bar', title='class')"
   ]
  },
  {
   "cell_type": "markdown",
   "id": "military-shadow",
   "metadata": {},
   "source": [
    "## Model Training"
   ]
  },
  {
   "cell_type": "code",
   "execution_count": 28,
   "id": "hungry-carter",
   "metadata": {},
   "outputs": [
    {
     "name": "stdout",
     "output_type": "stream",
     "text": [
      "Before Pruning - heuristic = gini_impurity_weighted\n",
      "Accuracy for: testing 60.47% | training 98.95% | levels 12 | leafs 75\n",
      "After Pruning:\n",
      "Accuracy for: testing 61.63% | training 88.42% | levels 10 | leafs 47\n",
      "\n",
      "\n",
      "Before Pruning - heuristic = info_gain\n",
      "Accuracy for: testing 55.81% | training 98.95% | levels 14 | leafs 70\n",
      "After Pruning:\n",
      "Accuracy for: testing 56.98% | training 83.16% | levels 14 | leafs 40\n",
      "\n",
      "\n",
      "Before Pruning - heuristic = information_gain_ratio\n",
      "Accuracy for: testing 52.33% | training 98.95% | levels 14 | leafs 71\n",
      "After Pruning:\n",
      "Accuracy for: testing 77.91% | training 62.63% | levels 4 | leafs 3\n",
      "\n",
      "\n",
      "Before Pruning - heuristic = distance_measure\n",
      "Accuracy for: testing 46.51% | training 74.74% | levels 16 | leafs 68\n",
      "After Pruning:\n",
      "Accuracy for: testing 73.26% | training 51.58% | levels 2 | leafs 2\n",
      "\n",
      "\n",
      "Before Pruning - heuristic = j_measure\n",
      "Accuracy for: testing 56.98% | training 98.95% | levels 14 | leafs 69\n",
      "After Pruning:\n",
      "Accuracy for: testing 56.98% | training 83.16% | levels 14 | leafs 40\n",
      "\n",
      "\n",
      "Before Pruning - heuristic = weight_of_evidence\n",
      "Accuracy for: testing 52.33% | training 92.63% | levels 16 | leafs 74\n",
      "After Pruning:\n",
      "Accuracy for: testing 77.91% | training 62.63% | levels 4 | leafs 3\n",
      "\n",
      "\n",
      "Before Pruning - heuristic = gini_pri\n",
      "Accuracy for: testing 47.67% | training 82.63% | levels 18 | leafs 80\n",
      "After Pruning:\n",
      "Accuracy for: testing 73.26% | training 51.58% | levels 2 | leafs 2\n",
      "\n",
      "\n",
      "Before Pruning - heuristic = relief\n",
      "Accuracy for: testing 53.49% | training 78.42% | levels 18 | leafs 71\n",
      "After Pruning:\n",
      "Accuracy for: testing 73.26% | training 51.58% | levels 2 | leafs 2\n",
      "\n",
      "\n",
      "Before Pruning - heuristic = relevance\n",
      "Accuracy for: testing 53.49% | training 87.37% | levels 18 | leafs 79\n",
      "After Pruning:\n",
      "Accuracy for: testing 73.26% | training 51.58% | levels 2 | leafs 2\n",
      "\n",
      "\n",
      "Before Pruning - heuristic = mdl_simple\n",
      "Accuracy for: testing 60.47% | training 98.95% | levels 12 | leafs 83\n",
      "After Pruning:\n",
      "Accuracy for: testing 53.49% | training 85.26% | levels 12 | leafs 57\n",
      "\n",
      "\n"
     ]
    }
   ],
   "source": [
    "train_tree_for_different_heuristics(cancer_training70, cancer_testing70, cancer_validation70)"
   ]
  },
  {
   "cell_type": "code",
   "execution_count": 29,
   "id": "sound-connection",
   "metadata": {},
   "outputs": [
    {
     "name": "stdout",
     "output_type": "stream",
     "text": [
      "Before Pruning - heuristic = gini_impurity_weighted\n",
      "Accuracy for: testing 67.24% | training 98.03% | levels 14 | leafs 78\n",
      "After Pruning:\n",
      "Accuracy for: testing 79.31% | training 71.43% | levels 6 | leafs 13\n",
      "\n",
      "\n",
      "Before Pruning - heuristic = info_gain\n",
      "Accuracy for: testing 60.34% | training 98.03% | levels 14 | leafs 75\n",
      "After Pruning:\n",
      "Accuracy for: testing 68.97% | training 88.67% | levels 12 | leafs 47\n",
      "\n",
      "\n",
      "Before Pruning - heuristic = information_gain_ratio\n",
      "Accuracy for: testing 65.52% | training 98.52% | levels 18 | leafs 73\n",
      "After Pruning:\n",
      "Accuracy for: testing 89.66% | training 79.31% | levels 14 | leafs 21\n",
      "\n",
      "\n",
      "Before Pruning - heuristic = distance_measure\n",
      "Accuracy for: testing 75.86% | training 71.92% | levels 14 | leafs 47\n",
      "After Pruning:\n",
      "Accuracy for: testing 74.14% | training 52.71% | levels 2 | leafs 3\n",
      "\n",
      "\n",
      "Before Pruning - heuristic = j_measure\n",
      "Accuracy for: testing 60.34% | training 98.03% | levels 14 | leafs 74\n",
      "After Pruning:\n",
      "Accuracy for: testing 68.97% | training 88.67% | levels 12 | leafs 46\n",
      "\n",
      "\n",
      "Before Pruning - heuristic = weight_of_evidence\n",
      "Accuracy for: testing 72.41% | training 93.10% | levels 18 | leafs 79\n",
      "After Pruning:\n",
      "Accuracy for: testing 82.76% | training 71.92% | levels 8 | leafs 6\n",
      "\n",
      "\n",
      "Before Pruning - heuristic = gini_pri\n",
      "Accuracy for: testing 55.17% | training 78.33% | levels 16 | leafs 68\n",
      "After Pruning:\n",
      "Accuracy for: testing 74.14% | training 52.71% | levels 2 | leafs 3\n",
      "\n",
      "\n",
      "Before Pruning - heuristic = relief\n",
      "Accuracy for: testing 55.17% | training 76.35% | levels 16 | leafs 63\n",
      "After Pruning:\n",
      "Accuracy for: testing 74.14% | training 52.71% | levels 2 | leafs 3\n",
      "\n",
      "\n",
      "Before Pruning - heuristic = relevance\n",
      "Accuracy for: testing 62.07% | training 74.38% | levels 18 | leafs 56\n",
      "After Pruning:\n",
      "Accuracy for: testing 74.14% | training 52.71% | levels 2 | leafs 3\n",
      "\n",
      "\n",
      "Before Pruning - heuristic = mdl_simple\n",
      "Accuracy for: testing 62.07% | training 97.04% | levels 12 | leafs 85\n",
      "After Pruning:\n",
      "Accuracy for: testing 72.41% | training 82.27% | levels 10 | leafs 49\n",
      "\n",
      "\n"
     ]
    }
   ],
   "source": [
    "train_tree_for_different_heuristics(cancer_training80, cancer_testing80, cancer_validation80)"
   ]
  },
  {
   "cell_type": "code",
   "execution_count": 30,
   "id": "dependent-reward",
   "metadata": {},
   "outputs": [
    {
     "name": "stdout",
     "output_type": "stream",
     "text": [
      "Before Pruning - heuristic = gini_impurity_weighted\n",
      "Accuracy for: testing 62.07% | training 96.15% | levels 12 | leafs 93\n",
      "After Pruning:\n",
      "Accuracy for: testing 79.31% | training 66.67% | levels 2 | leafs 2\n",
      "\n",
      "\n",
      "Before Pruning - heuristic = info_gain\n",
      "Accuracy for: testing 65.52% | training 97.01% | levels 12 | leafs 98\n",
      "After Pruning:\n",
      "Accuracy for: testing 75.86% | training 73.08% | levels 12 | leafs 25\n",
      "\n",
      "\n",
      "Before Pruning - heuristic = information_gain_ratio\n",
      "Accuracy for: testing 68.97% | training 96.58% | levels 16 | leafs 87\n",
      "After Pruning:\n",
      "Accuracy for: testing 79.31% | training 68.38% | levels 6 | leafs 6\n",
      "\n",
      "\n",
      "Before Pruning - heuristic = distance_measure\n",
      "Accuracy for: testing 55.17% | training 81.20% | levels 16 | leafs 101\n",
      "After Pruning:\n",
      "Accuracy for: testing 68.97% | training 61.54% | levels 16 | leafs 23\n",
      "\n",
      "\n",
      "Before Pruning - heuristic = j_measure\n",
      "Accuracy for: testing 65.52% | training 97.01% | levels 12 | leafs 93\n",
      "After Pruning:\n",
      "Accuracy for: testing 75.86% | training 73.08% | levels 12 | leafs 24\n",
      "\n",
      "\n",
      "Before Pruning - heuristic = weight_of_evidence\n",
      "Accuracy for: testing 51.72% | training 91.03% | levels 18 | leafs 102\n",
      "After Pruning:\n",
      "Accuracy for: testing 79.31% | training 72.65% | levels 18 | leafs 20\n",
      "\n",
      "\n",
      "Before Pruning - heuristic = gini_pri\n",
      "Accuracy for: testing 65.52% | training 79.49% | levels 16 | leafs 76\n",
      "After Pruning:\n",
      "Accuracy for: testing 68.97% | training 59.83% | levels 16 | leafs 24\n",
      "\n",
      "\n",
      "Before Pruning - heuristic = relief\n",
      "Accuracy for: testing 62.07% | training 69.66% | levels 16 | leafs 62\n",
      "After Pruning:\n",
      "Accuracy for: testing 58.62% | training 58.12% | levels 10 | leafs 21\n",
      "\n",
      "\n",
      "Before Pruning - heuristic = relevance\n",
      "Accuracy for: testing 55.17% | training 80.77% | levels 18 | leafs 77\n",
      "After Pruning:\n",
      "Accuracy for: testing 62.07% | training 63.25% | levels 18 | leafs 31\n",
      "\n",
      "\n",
      "Before Pruning - heuristic = mdl_simple\n",
      "Accuracy for: testing 58.62% | training 94.02% | levels 12 | leafs 102\n",
      "After Pruning:\n",
      "Accuracy for: testing 72.41% | training 79.91% | levels 12 | leafs 59\n",
      "\n",
      "\n"
     ]
    }
   ],
   "source": [
    "train_tree_for_different_heuristics(cancer_training90, cancer_testing90, cancer_validation90)"
   ]
  },
  {
   "cell_type": "markdown",
   "id": "automated-tulsa",
   "metadata": {},
   "source": [
    "# CMC Dataset"
   ]
  },
  {
   "cell_type": "markdown",
   "id": "loving-accreditation",
   "metadata": {},
   "source": [
    "## Dataset preparation"
   ]
  },
  {
   "cell_type": "code",
   "execution_count": 31,
   "id": "forbidden-museum",
   "metadata": {},
   "outputs": [
    {
     "data": {
      "text/html": [
       "<div>\n",
       "<style scoped>\n",
       "    .dataframe tbody tr th:only-of-type {\n",
       "        vertical-align: middle;\n",
       "    }\n",
       "\n",
       "    .dataframe tbody tr th {\n",
       "        vertical-align: top;\n",
       "    }\n",
       "\n",
       "    .dataframe thead th {\n",
       "        text-align: right;\n",
       "    }\n",
       "</style>\n",
       "<table border=\"1\" class=\"dataframe\">\n",
       "  <thead>\n",
       "    <tr style=\"text-align: right;\">\n",
       "      <th></th>\n",
       "      <th>age</th>\n",
       "      <th>education</th>\n",
       "      <th>husbandEducation</th>\n",
       "      <th>noChildren</th>\n",
       "      <th>religion</th>\n",
       "      <th>isWorking</th>\n",
       "      <th>husbandOccupation</th>\n",
       "      <th>livingStandard</th>\n",
       "      <th>mediaExposure</th>\n",
       "      <th>CLASS</th>\n",
       "    </tr>\n",
       "  </thead>\n",
       "  <tbody>\n",
       "    <tr>\n",
       "      <th>0</th>\n",
       "      <td>35</td>\n",
       "      <td>3</td>\n",
       "      <td>3</td>\n",
       "      <td>6</td>\n",
       "      <td>1</td>\n",
       "      <td>1</td>\n",
       "      <td>2</td>\n",
       "      <td>3</td>\n",
       "      <td>0</td>\n",
       "      <td>2</td>\n",
       "    </tr>\n",
       "    <tr>\n",
       "      <th>1</th>\n",
       "      <td>44</td>\n",
       "      <td>3</td>\n",
       "      <td>3</td>\n",
       "      <td>9</td>\n",
       "      <td>1</td>\n",
       "      <td>1</td>\n",
       "      <td>1</td>\n",
       "      <td>1</td>\n",
       "      <td>0</td>\n",
       "      <td>2</td>\n",
       "    </tr>\n",
       "    <tr>\n",
       "      <th>2</th>\n",
       "      <td>25</td>\n",
       "      <td>4</td>\n",
       "      <td>4</td>\n",
       "      <td>0</td>\n",
       "      <td>1</td>\n",
       "      <td>0</td>\n",
       "      <td>3</td>\n",
       "      <td>4</td>\n",
       "      <td>0</td>\n",
       "      <td>1</td>\n",
       "    </tr>\n",
       "    <tr>\n",
       "      <th>3</th>\n",
       "      <td>33</td>\n",
       "      <td>2</td>\n",
       "      <td>3</td>\n",
       "      <td>4</td>\n",
       "      <td>1</td>\n",
       "      <td>1</td>\n",
       "      <td>2</td>\n",
       "      <td>3</td>\n",
       "      <td>0</td>\n",
       "      <td>3</td>\n",
       "    </tr>\n",
       "    <tr>\n",
       "      <th>4</th>\n",
       "      <td>30</td>\n",
       "      <td>4</td>\n",
       "      <td>4</td>\n",
       "      <td>2</td>\n",
       "      <td>1</td>\n",
       "      <td>1</td>\n",
       "      <td>1</td>\n",
       "      <td>4</td>\n",
       "      <td>0</td>\n",
       "      <td>3</td>\n",
       "    </tr>\n",
       "  </tbody>\n",
       "</table>\n",
       "</div>"
      ],
      "text/plain": [
       "   age  education  husbandEducation  noChildren  religion  isWorking  \\\n",
       "0   35          3                 3           6         1          1   \n",
       "1   44          3                 3           9         1          1   \n",
       "2   25          4                 4           0         1          0   \n",
       "3   33          2                 3           4         1          1   \n",
       "4   30          4                 4           2         1          1   \n",
       "\n",
       "   husbandOccupation  livingStandard  mediaExposure  CLASS  \n",
       "0                  2               3              0      2  \n",
       "1                  1               1              0      2  \n",
       "2                  3               4              0      1  \n",
       "3                  2               3              0      3  \n",
       "4                  1               4              0      3  "
      ]
     },
     "execution_count": 31,
     "metadata": {},
     "output_type": "execute_result"
    }
   ],
   "source": [
    "cmc_dataset_path = 'data/cmc.data'\n",
    "cmc_dataset_labels = ['age','education','husbandEducation','noChildren','religion','isWorking','husbandOccupation','livingStandard', 'mediaExposure', 'CLASS']\n",
    "cmc_dataset = data_utils.preapare_dataset(cmc_dataset_path, cmc_dataset_labels)\n",
    "# cmc_dataset['CLASS'] = cmc_dataset['CLASS'].apply(str)\n",
    "cmc_dataset.head()"
   ]
  },
  {
   "cell_type": "code",
   "execution_count": 32,
   "id": "afraid-functionality",
   "metadata": {},
   "outputs": [
    {
     "data": {
      "text/html": [
       "<div>\n",
       "<style scoped>\n",
       "    .dataframe tbody tr th:only-of-type {\n",
       "        vertical-align: middle;\n",
       "    }\n",
       "\n",
       "    .dataframe tbody tr th {\n",
       "        vertical-align: top;\n",
       "    }\n",
       "\n",
       "    .dataframe thead th {\n",
       "        text-align: right;\n",
       "    }\n",
       "</style>\n",
       "<table border=\"1\" class=\"dataframe\">\n",
       "  <thead>\n",
       "    <tr style=\"text-align: right;\">\n",
       "      <th></th>\n",
       "      <th>age</th>\n",
       "      <th>education</th>\n",
       "      <th>husbandEducation</th>\n",
       "      <th>noChildren</th>\n",
       "      <th>religion</th>\n",
       "      <th>isWorking</th>\n",
       "      <th>husbandOccupation</th>\n",
       "      <th>livingStandard</th>\n",
       "      <th>mediaExposure</th>\n",
       "      <th>CLASS</th>\n",
       "    </tr>\n",
       "  </thead>\n",
       "  <tbody>\n",
       "    <tr>\n",
       "      <th>0</th>\n",
       "      <td>35</td>\n",
       "      <td>normal</td>\n",
       "      <td>normal</td>\n",
       "      <td>6</td>\n",
       "      <td>Islam</td>\n",
       "      <td>No</td>\n",
       "      <td>2</td>\n",
       "      <td>normal</td>\n",
       "      <td>Good</td>\n",
       "      <td>Long-term</td>\n",
       "    </tr>\n",
       "    <tr>\n",
       "      <th>1</th>\n",
       "      <td>44</td>\n",
       "      <td>normal</td>\n",
       "      <td>normal</td>\n",
       "      <td>9</td>\n",
       "      <td>Islam</td>\n",
       "      <td>No</td>\n",
       "      <td>1</td>\n",
       "      <td>low</td>\n",
       "      <td>Good</td>\n",
       "      <td>Long-term</td>\n",
       "    </tr>\n",
       "    <tr>\n",
       "      <th>2</th>\n",
       "      <td>25</td>\n",
       "      <td>high</td>\n",
       "      <td>high</td>\n",
       "      <td>0</td>\n",
       "      <td>Islam</td>\n",
       "      <td>Yes</td>\n",
       "      <td>3</td>\n",
       "      <td>high</td>\n",
       "      <td>Good</td>\n",
       "      <td>No-use</td>\n",
       "    </tr>\n",
       "    <tr>\n",
       "      <th>3</th>\n",
       "      <td>33</td>\n",
       "      <td>medium</td>\n",
       "      <td>normal</td>\n",
       "      <td>4</td>\n",
       "      <td>Islam</td>\n",
       "      <td>No</td>\n",
       "      <td>2</td>\n",
       "      <td>normal</td>\n",
       "      <td>Good</td>\n",
       "      <td>Short-term</td>\n",
       "    </tr>\n",
       "    <tr>\n",
       "      <th>4</th>\n",
       "      <td>30</td>\n",
       "      <td>high</td>\n",
       "      <td>high</td>\n",
       "      <td>2</td>\n",
       "      <td>Islam</td>\n",
       "      <td>No</td>\n",
       "      <td>1</td>\n",
       "      <td>high</td>\n",
       "      <td>Good</td>\n",
       "      <td>Short-term</td>\n",
       "    </tr>\n",
       "  </tbody>\n",
       "</table>\n",
       "</div>"
      ],
      "text/plain": [
       "   age education husbandEducation  noChildren religion isWorking  \\\n",
       "0   35    normal           normal           6    Islam        No   \n",
       "1   44    normal           normal           9    Islam        No   \n",
       "2   25      high             high           0    Islam       Yes   \n",
       "3   33    medium           normal           4    Islam        No   \n",
       "4   30      high             high           2    Islam        No   \n",
       "\n",
       "   husbandOccupation livingStandard mediaExposure       CLASS  \n",
       "0                  2         normal          Good   Long-term  \n",
       "1                  1            low          Good   Long-term  \n",
       "2                  3           high          Good      No-use  \n",
       "3                  2         normal          Good  Short-term  \n",
       "4                  1           high          Good  Short-term  "
      ]
     },
     "execution_count": 32,
     "metadata": {},
     "output_type": "execute_result"
    }
   ],
   "source": [
    "vals_to_replace_education = {1: 'low', 2:'medium', 3:'normal', 4:'high'}\n",
    "vals_to_replace_husbandEducation = {1: 'low', 2:'medium', 3:'normal', 4:'high'}\n",
    "vals_to_replace_religion = {0: 'Non-Islam', 1:'Islam'}\n",
    "vals_to_replace_isWorking = {0: 'Yes', 1:'No'}\n",
    "vals_to_replace_livingStandard= {1: 'low', 2:'medium', 3:'normal', 4:'high'}\n",
    "vals_to_replace_mediaExposure = {0: 'Good', 1:'Not good'}\n",
    "vals_to_replace_CLASS = {1: 'No-use', 2:'Long-term', 3: 'Short-term'}\n",
    "cmc_dataset['education'] = cmc_dataset['education'].map(vals_to_replace_education)\n",
    "cmc_dataset['husbandEducation'] = cmc_dataset['husbandEducation'].map(vals_to_replace_husbandEducation)\n",
    "cmc_dataset['religion'] = cmc_dataset['religion'].map(vals_to_replace_religion)\n",
    "cmc_dataset['isWorking'] = cmc_dataset['isWorking'].map(vals_to_replace_isWorking)\n",
    "cmc_dataset['livingStandard'] = cmc_dataset['livingStandard'].map(vals_to_replace_livingStandard)\n",
    "cmc_dataset['mediaExposure'] = cmc_dataset['mediaExposure'].map(vals_to_replace_mediaExposure)\n",
    "cmc_dataset['CLASS'] = cmc_dataset['CLASS'].map(vals_to_replace_CLASS)\n",
    "cmc_dataset.head()"
   ]
  },
  {
   "cell_type": "markdown",
   "id": "vulnerable-coupon",
   "metadata": {},
   "source": [
    "### Cmc 70%"
   ]
  },
  {
   "cell_type": "code",
   "execution_count": 33,
   "id": "guilty-hypothetical",
   "metadata": {},
   "outputs": [
    {
     "name": "stdout",
     "output_type": "stream",
     "text": [
      "No-use        301\n",
      "Short-term    231\n",
      "Long-term     155\n",
      "Name: CLASS, dtype: int64\n"
     ]
    },
    {
     "data": {
      "text/plain": [
       "<AxesSubplot:title={'center':'class'}>"
      ]
     },
     "execution_count": 33,
     "metadata": {},
     "output_type": "execute_result"
    },
    {
     "data": {
      "image/png": "[encoded data removed]",
      "text/plain": [
       "<Figure size 432x288 with 1 Axes>"
      ]
     },
     "metadata": {
      "needs_background": "light"
     },
     "output_type": "display_data"
    }
   ],
   "source": [
    "cmc_set_for_training70, cmc_testing70 = data_utils.data_split(cmc_dataset, 70)\n",
    "cmc_training70, cmc_validation70 = data_utils.split_training_data_for_pruning(cmc_set_for_training70)\n",
    "print(cmc_training70['CLASS'].value_counts())\n",
    "#This data seems to be balanced so dont need aditional balancing\n",
    "cmc_training70['CLASS'].value_counts().plot(kind='bar', title='class')"
   ]
  },
  {
   "cell_type": "markdown",
   "id": "unauthorized-abortion",
   "metadata": {},
   "source": [
    "## Cmc 80%"
   ]
  },
  {
   "cell_type": "code",
   "execution_count": 34,
   "id": "judicial-reaction",
   "metadata": {},
   "outputs": [
    {
     "name": "stdout",
     "output_type": "stream",
     "text": [
      "No-use        341\n",
      "Short-term    269\n",
      "Long-term     175\n",
      "Name: CLASS, dtype: int64\n"
     ]
    },
    {
     "data": {
      "text/plain": [
       "<AxesSubplot:title={'center':'class'}>"
      ]
     },
     "execution_count": 34,
     "metadata": {},
     "output_type": "execute_result"
    },
    {
     "data": {
      "image/png": "[encoded data removed]",
      "text/plain": [
       "<Figure size 432x288 with 1 Axes>"
      ]
     },
     "metadata": {
      "needs_background": "light"
     },
     "output_type": "display_data"
    }
   ],
   "source": [
    "cmc_set_for_training80, cmc_testing80 = data_utils.data_split(cmc_dataset, 80)\n",
    "cmc_training80, cmc_validation80 = data_utils.split_training_data_for_pruning(cmc_set_for_training80)\n",
    "print(cmc_training80['CLASS'].value_counts())\n",
    "#This data seems to be balanced so dont need aditional balancing\n",
    "cmc_training80['CLASS'].value_counts().plot(kind='bar', title='class')"
   ]
  },
  {
   "cell_type": "markdown",
   "id": "functional-twelve",
   "metadata": {},
   "source": [
    "## Cmc 90%"
   ]
  },
  {
   "cell_type": "code",
   "execution_count": 35,
   "id": "sacred-tender",
   "metadata": {},
   "outputs": [
    {
     "name": "stdout",
     "output_type": "stream",
     "text": [
      "No-use        383\n",
      "Short-term    306\n",
      "Long-term     194\n",
      "Name: CLASS, dtype: int64\n"
     ]
    },
    {
     "data": {
      "text/plain": [
       "<AxesSubplot:title={'center':'class'}>"
      ]
     },
     "execution_count": 35,
     "metadata": {},
     "output_type": "execute_result"
    },
    {
     "data": {
      "image/png": "[encoded data removed]",
      "text/plain": [
       "<Figure size 432x288 with 1 Axes>"
      ]
     },
     "metadata": {
      "needs_background": "light"
     },
     "output_type": "display_data"
    }
   ],
   "source": [
    "cmc_set_for_training90, cmc_testing90 = data_utils.data_split(cmc_dataset, 90)\n",
    "cmc_training90, cmc_validation90 = data_utils.split_training_data_for_pruning(cmc_set_for_training90)\n",
    "print(cmc_training90['CLASS'].value_counts())\n",
    "#This data seems to be balanced so dont need aditional balancing\n",
    "cmc_training90['CLASS'].value_counts().plot(kind='bar', title='class')"
   ]
  },
  {
   "cell_type": "markdown",
   "id": "blind-response",
   "metadata": {},
   "source": [
    "## Model Training"
   ]
  },
  {
   "cell_type": "code",
   "execution_count": 36,
   "id": "extraordinary-range",
   "metadata": {},
   "outputs": [
    {
     "name": "stdout",
     "output_type": "stream",
     "text": [
      "Before Pruning - heuristic = gini_impurity_weighted\n",
      "Accuracy for: testing 52.94% | training 80.49% | levels 24 | leafs 189\n",
      "After Pruning:\n",
      "Accuracy for: testing 51.81% | training 66.67% | levels 20 | leafs 74\n",
      "\n",
      "\n",
      "Before Pruning - heuristic = info_gain\n",
      "Accuracy for: testing 44.80% | training 71.32% | levels 40 | leafs 224\n",
      "After Pruning:\n",
      "Accuracy for: testing 45.48% | training 57.50% | levels 34 | leafs 110\n",
      "\n",
      "\n",
      "Before Pruning - heuristic = information_gain_ratio\n",
      "Accuracy for: testing 45.48% | training 70.60% | levels 40 | leafs 211\n",
      "After Pruning:\n",
      "Accuracy for: testing 44.34% | training 56.62% | levels 34 | leafs 118\n",
      "\n",
      "\n",
      "Before Pruning - heuristic = distance_measure\n",
      "Accuracy for: testing 37.10% | training 56.04% | levels 24 | leafs 156\n",
      "After Pruning:\n",
      "Accuracy for: testing 42.53% | training 49.34% | levels 24 | leafs 54\n",
      "\n",
      "\n",
      "Before Pruning - heuristic = j_measure\n",
      "Accuracy for: testing 44.80% | training 71.32% | levels 40 | leafs 224\n",
      "After Pruning:\n",
      "Accuracy for: testing 45.48% | training 57.50% | levels 34 | leafs 110\n",
      "\n",
      "\n",
      "Before Pruning - heuristic = weight_of_evidence\n",
      "Accuracy for: testing 46.83% | training 64.19% | levels 38 | leafs 177\n",
      "After Pruning:\n",
      "Accuracy for: testing 47.51% | training 55.31% | levels 36 | leafs 117\n",
      "\n",
      "\n",
      "Before Pruning - heuristic = gini_pri\n",
      "Accuracy for: testing 41.18% | training 70.74% | levels 28 | leafs 180\n",
      "After Pruning:\n",
      "Accuracy for: testing 42.31% | training 56.77% | levels 18 | leafs 86\n",
      "\n",
      "\n",
      "Before Pruning - heuristic = relief\n",
      "Accuracy for: testing 40.95% | training 70.31% | levels 28 | leafs 172\n",
      "After Pruning:\n",
      "Accuracy for: testing 42.31% | training 56.62% | levels 18 | leafs 74\n",
      "\n",
      "\n",
      "Before Pruning - heuristic = relevance\n",
      "Accuracy for: testing 42.53% | training 73.51% | levels 28 | leafs 188\n",
      "After Pruning:\n",
      "Accuracy for: testing 44.34% | training 57.21% | levels 18 | leafs 86\n",
      "\n",
      "\n",
      "Before Pruning - heuristic = mdl_simple\n",
      "Accuracy for: testing 37.56% | training 60.55% | levels 28 | leafs 121\n",
      "After Pruning:\n",
      "Accuracy for: testing 41.63% | training 54.00% | levels 14 | leafs 57\n",
      "\n",
      "\n"
     ]
    }
   ],
   "source": [
    "train_tree_for_different_heuristics(cmc_training70, cmc_testing70, cmc_validation70)"
   ]
  },
  {
   "cell_type": "code",
   "execution_count": 37,
   "id": "cardiac-analyst",
   "metadata": {},
   "outputs": [
    {
     "name": "stdout",
     "output_type": "stream",
     "text": [
      "Before Pruning - heuristic = gini_impurity_weighted\n",
      "Accuracy for: testing 48.47% | training 78.09% | levels 26 | leafs 185\n",
      "After Pruning:\n",
      "Accuracy for: testing 51.19% | training 68.92% | levels 26 | leafs 93\n",
      "\n",
      "\n",
      "Before Pruning - heuristic = info_gain\n",
      "Accuracy for: testing 46.78% | training 68.66% | levels 44 | leafs 221\n",
      "After Pruning:\n",
      "Accuracy for: testing 46.44% | training 57.45% | levels 34 | leafs 126\n",
      "\n",
      "\n",
      "Before Pruning - heuristic = information_gain_ratio\n",
      "Accuracy for: testing 46.10% | training 69.94% | levels 44 | leafs 223\n",
      "After Pruning:\n",
      "Accuracy for: testing 46.44% | training 58.22% | levels 36 | leafs 131\n",
      "\n",
      "\n",
      "Before Pruning - heuristic = distance_measure\n",
      "Accuracy for: testing 40.00% | training 56.94% | levels 38 | leafs 175\n",
      "After Pruning:\n",
      "Accuracy for: testing 47.12% | training 53.50% | levels 38 | leafs 131\n",
      "\n",
      "\n",
      "Before Pruning - heuristic = j_measure\n",
      "Accuracy for: testing 46.78% | training 68.66% | levels 44 | leafs 221\n",
      "After Pruning:\n",
      "Accuracy for: testing 46.44% | training 57.45% | levels 34 | leafs 126\n",
      "\n",
      "\n",
      "Before Pruning - heuristic = weight_of_evidence\n",
      "Accuracy for: testing 44.07% | training 64.59% | levels 42 | leafs 190\n",
      "After Pruning:\n",
      "Accuracy for: testing 44.75% | training 56.43% | levels 34 | leafs 115\n",
      "\n",
      "\n",
      "Before Pruning - heuristic = gini_pri\n",
      "Accuracy for: testing 43.39% | training 69.55% | levels 26 | leafs 183\n",
      "After Pruning:\n",
      "Accuracy for: testing 49.49% | training 62.42% | levels 26 | leafs 103\n",
      "\n",
      "\n",
      "Before Pruning - heuristic = relief\n",
      "Accuracy for: testing 45.42% | training 68.66% | levels 26 | leafs 171\n",
      "After Pruning:\n",
      "Accuracy for: testing 47.80% | training 64.08% | levels 26 | leafs 120\n",
      "\n",
      "\n",
      "Before Pruning - heuristic = relevance\n",
      "Accuracy for: testing 47.46% | training 72.10% | levels 26 | leafs 188\n",
      "After Pruning:\n",
      "Accuracy for: testing 43.73% | training 56.31% | levels 26 | leafs 65\n",
      "\n",
      "\n",
      "Before Pruning - heuristic = mdl_simple\n",
      "Accuracy for: testing 42.71% | training 59.87% | levels 26 | leafs 123\n",
      "After Pruning:\n",
      "Accuracy for: testing 45.08% | training 58.09% | levels 26 | leafs 87\n",
      "\n",
      "\n"
     ]
    }
   ],
   "source": [
    "train_tree_for_different_heuristics(cmc_training80, cmc_testing80, cmc_validation80)"
   ]
  },
  {
   "cell_type": "code",
   "execution_count": 38,
   "id": "stable-bobby",
   "metadata": {},
   "outputs": [
    {
     "name": "stdout",
     "output_type": "stream",
     "text": [
      "Before Pruning - heuristic = gini_impurity_weighted\n",
      "Accuracy for: testing 47.97% | training 76.78% | levels 26 | leafs 203\n",
      "After Pruning:\n",
      "Accuracy for: testing 49.32% | training 65.35% | levels 22 | leafs 84\n",
      "\n",
      "\n",
      "Before Pruning - heuristic = info_gain\n",
      "Accuracy for: testing 45.27% | training 65.23% | levels 48 | leafs 215\n",
      "After Pruning:\n",
      "Accuracy for: testing 39.86% | training 57.64% | levels 48 | leafs 139\n",
      "\n",
      "\n",
      "Before Pruning - heuristic = information_gain_ratio\n",
      "Accuracy for: testing 41.22% | training 64.89% | levels 48 | leafs 214\n",
      "After Pruning:\n",
      "Accuracy for: testing 38.51% | training 56.63% | levels 48 | leafs 133\n",
      "\n",
      "\n",
      "Before Pruning - heuristic = distance_measure\n",
      "Accuracy for: testing 32.43% | training 56.51% | levels 38 | leafs 181\n",
      "After Pruning:\n",
      "Accuracy for: testing 38.51% | training 49.04% | levels 24 | leafs 74\n",
      "\n",
      "\n",
      "Before Pruning - heuristic = j_measure\n",
      "Accuracy for: testing 45.27% | training 65.23% | levels 48 | leafs 215\n",
      "After Pruning:\n",
      "Accuracy for: testing 39.86% | training 57.64% | levels 48 | leafs 139\n",
      "\n",
      "\n",
      "Before Pruning - heuristic = weight_of_evidence\n",
      "Accuracy for: testing 44.59% | training 63.42% | levels 48 | leafs 192\n",
      "After Pruning:\n",
      "Accuracy for: testing 39.86% | training 57.08% | levels 48 | leafs 139\n",
      "\n",
      "\n",
      "Before Pruning - heuristic = gini_pri\n",
      "Accuracy for: testing 39.86% | training 69.88% | levels 26 | leafs 189\n",
      "After Pruning:\n",
      "Accuracy for: testing 41.89% | training 57.64% | levels 26 | leafs 72\n",
      "\n",
      "\n",
      "Before Pruning - heuristic = relief\n",
      "Accuracy for: testing 41.22% | training 69.08% | levels 26 | leafs 180\n",
      "After Pruning:\n",
      "Accuracy for: testing 43.92% | training 59.12% | levels 26 | leafs 87\n",
      "\n",
      "\n",
      "Before Pruning - heuristic = relevance\n",
      "Accuracy for: testing 41.89% | training 71.35% | levels 26 | leafs 194\n",
      "After Pruning:\n",
      "Accuracy for: testing 41.89% | training 59.80% | levels 26 | leafs 91\n",
      "\n",
      "\n",
      "Before Pruning - heuristic = mdl_simple\n",
      "Accuracy for: testing 39.86% | training 59.68% | levels 26 | leafs 131\n",
      "After Pruning:\n",
      "Accuracy for: testing 39.19% | training 56.40% | levels 26 | leafs 99\n",
      "\n",
      "\n"
     ]
    }
   ],
   "source": [
    "train_tree_for_different_heuristics(cmc_training90, cmc_testing90, cmc_validation90)"
   ]
  },
  {
   "cell_type": "markdown",
   "id": "likely-accountability",
   "metadata": {},
   "source": [
    "# Adult Dataset"
   ]
  },
  {
   "cell_type": "markdown",
   "id": "egyptian-graphics",
   "metadata": {},
   "source": [
    "## Data preparation"
   ]
  },
  {
   "cell_type": "code",
   "execution_count": 39,
   "id": "heavy-homeless",
   "metadata": {},
   "outputs": [
    {
     "data": {
      "text/html": [
       "<div>\n",
       "<style scoped>\n",
       "    .dataframe tbody tr th:only-of-type {\n",
       "        vertical-align: middle;\n",
       "    }\n",
       "\n",
       "    .dataframe tbody tr th {\n",
       "        vertical-align: top;\n",
       "    }\n",
       "\n",
       "    .dataframe thead th {\n",
       "        text-align: right;\n",
       "    }\n",
       "</style>\n",
       "<table border=\"1\" class=\"dataframe\">\n",
       "  <thead>\n",
       "    <tr style=\"text-align: right;\">\n",
       "      <th></th>\n",
       "      <th>age</th>\n",
       "      <th>workclass</th>\n",
       "      <th>fnlwgt</th>\n",
       "      <th>education</th>\n",
       "      <th>education-num</th>\n",
       "      <th>marital-status</th>\n",
       "      <th>occupation</th>\n",
       "      <th>relationship</th>\n",
       "      <th>race</th>\n",
       "      <th>sex</th>\n",
       "      <th>capital-gain</th>\n",
       "      <th>capital-loss</th>\n",
       "      <th>hourse-per-week</th>\n",
       "      <th>native-country</th>\n",
       "      <th>CLASS</th>\n",
       "    </tr>\n",
       "  </thead>\n",
       "  <tbody>\n",
       "    <tr>\n",
       "      <th>0</th>\n",
       "      <td>48</td>\n",
       "      <td>Local-gov</td>\n",
       "      <td>328610</td>\n",
       "      <td>Prof-school</td>\n",
       "      <td>15</td>\n",
       "      <td>Married-civ-spouse</td>\n",
       "      <td>Prof-specialty</td>\n",
       "      <td>Husband</td>\n",
       "      <td>White</td>\n",
       "      <td>Male</td>\n",
       "      <td>0</td>\n",
       "      <td>0</td>\n",
       "      <td>45</td>\n",
       "      <td>United-States</td>\n",
       "      <td>&gt;50K</td>\n",
       "    </tr>\n",
       "    <tr>\n",
       "      <th>1</th>\n",
       "      <td>62</td>\n",
       "      <td>Local-gov</td>\n",
       "      <td>68268</td>\n",
       "      <td>HS-grad</td>\n",
       "      <td>9</td>\n",
       "      <td>Married-civ-spouse</td>\n",
       "      <td>Transport-moving</td>\n",
       "      <td>Husband</td>\n",
       "      <td>White</td>\n",
       "      <td>Male</td>\n",
       "      <td>0</td>\n",
       "      <td>0</td>\n",
       "      <td>40</td>\n",
       "      <td>United-States</td>\n",
       "      <td>&lt;=50K</td>\n",
       "    </tr>\n",
       "    <tr>\n",
       "      <th>2</th>\n",
       "      <td>55</td>\n",
       "      <td>Private</td>\n",
       "      <td>28735</td>\n",
       "      <td>HS-grad</td>\n",
       "      <td>9</td>\n",
       "      <td>Divorced</td>\n",
       "      <td>Adm-clerical</td>\n",
       "      <td>Unmarried</td>\n",
       "      <td>Amer-Indian-Eskimo</td>\n",
       "      <td>Female</td>\n",
       "      <td>0</td>\n",
       "      <td>0</td>\n",
       "      <td>45</td>\n",
       "      <td>United-States</td>\n",
       "      <td>&lt;=50K</td>\n",
       "    </tr>\n",
       "    <tr>\n",
       "      <th>3</th>\n",
       "      <td>37</td>\n",
       "      <td>Self-emp-inc</td>\n",
       "      <td>26698</td>\n",
       "      <td>Some-college</td>\n",
       "      <td>10</td>\n",
       "      <td>Married-civ-spouse</td>\n",
       "      <td>Sales</td>\n",
       "      <td>Husband</td>\n",
       "      <td>White</td>\n",
       "      <td>Male</td>\n",
       "      <td>0</td>\n",
       "      <td>1485</td>\n",
       "      <td>44</td>\n",
       "      <td>United-States</td>\n",
       "      <td>&gt;50K</td>\n",
       "    </tr>\n",
       "    <tr>\n",
       "      <th>4</th>\n",
       "      <td>39</td>\n",
       "      <td>Private</td>\n",
       "      <td>37314</td>\n",
       "      <td>Masters</td>\n",
       "      <td>14</td>\n",
       "      <td>Never-married</td>\n",
       "      <td>Exec-managerial</td>\n",
       "      <td>Not-in-family</td>\n",
       "      <td>White</td>\n",
       "      <td>Male</td>\n",
       "      <td>0</td>\n",
       "      <td>0</td>\n",
       "      <td>50</td>\n",
       "      <td>United-States</td>\n",
       "      <td>&gt;50K</td>\n",
       "    </tr>\n",
       "  </tbody>\n",
       "</table>\n",
       "</div>"
      ],
      "text/plain": [
       "   age      workclass  fnlwgt      education  education-num  \\\n",
       "0   48      Local-gov  328610    Prof-school             15   \n",
       "1   62      Local-gov   68268        HS-grad              9   \n",
       "2   55        Private   28735        HS-grad              9   \n",
       "3   37   Self-emp-inc   26698   Some-college             10   \n",
       "4   39        Private   37314        Masters             14   \n",
       "\n",
       "        marital-status         occupation    relationship  \\\n",
       "0   Married-civ-spouse     Prof-specialty         Husband   \n",
       "1   Married-civ-spouse   Transport-moving         Husband   \n",
       "2             Divorced       Adm-clerical       Unmarried   \n",
       "3   Married-civ-spouse              Sales         Husband   \n",
       "4        Never-married    Exec-managerial   Not-in-family   \n",
       "\n",
       "                  race      sex  capital-gain  capital-loss  hourse-per-week  \\\n",
       "0                White     Male             0             0               45   \n",
       "1                White     Male             0             0               40   \n",
       "2   Amer-Indian-Eskimo   Female             0             0               45   \n",
       "3                White     Male             0          1485               44   \n",
       "4                White     Male             0             0               50   \n",
       "\n",
       "   native-country   CLASS  \n",
       "0   United-States    >50K  \n",
       "1   United-States   <=50K  \n",
       "2   United-States   <=50K  \n",
       "3   United-States    >50K  \n",
       "4   United-States    >50K  "
      ]
     },
     "execution_count": 39,
     "metadata": {},
     "output_type": "execute_result"
    }
   ],
   "source": [
    "adult_dataset_path = 'data/adult.data'\n",
    "adult_dataset_labels = ['age','workclass','fnlwgt','education','education-num','marital-status','occupation','relationship','race','sex','capital-gain','capital-loss','hourse-per-week','native-country','CLASS']\n",
    "adult_dataset = data_utils.preapare_dataset(adult_dataset_path, adult_dataset_labels)\n",
    "adult_dataset.head()"
   ]
  },
  {
   "cell_type": "code",
   "execution_count": 40,
   "id": "beneficial-devil",
   "metadata": {},
   "outputs": [
    {
     "data": {
      "text/html": [
       "<div>\n",
       "<style scoped>\n",
       "    .dataframe tbody tr th:only-of-type {\n",
       "        vertical-align: middle;\n",
       "    }\n",
       "\n",
       "    .dataframe tbody tr th {\n",
       "        vertical-align: top;\n",
       "    }\n",
       "\n",
       "    .dataframe thead th {\n",
       "        text-align: right;\n",
       "    }\n",
       "</style>\n",
       "<table border=\"1\" class=\"dataframe\">\n",
       "  <thead>\n",
       "    <tr style=\"text-align: right;\">\n",
       "      <th></th>\n",
       "      <th>age</th>\n",
       "      <th>workclass</th>\n",
       "      <th>education</th>\n",
       "      <th>education-num</th>\n",
       "      <th>marital-status</th>\n",
       "      <th>occupation</th>\n",
       "      <th>relationship</th>\n",
       "      <th>race</th>\n",
       "      <th>sex</th>\n",
       "      <th>hourse-per-week</th>\n",
       "      <th>native-country</th>\n",
       "      <th>CLASS</th>\n",
       "    </tr>\n",
       "  </thead>\n",
       "  <tbody>\n",
       "    <tr>\n",
       "      <th>0</th>\n",
       "      <td>48</td>\n",
       "      <td>Local-gov</td>\n",
       "      <td>Prof-school</td>\n",
       "      <td>15</td>\n",
       "      <td>Married-civ-spouse</td>\n",
       "      <td>Prof-specialty</td>\n",
       "      <td>Husband</td>\n",
       "      <td>White</td>\n",
       "      <td>Male</td>\n",
       "      <td>45</td>\n",
       "      <td>United-States</td>\n",
       "      <td>&gt;50K</td>\n",
       "    </tr>\n",
       "    <tr>\n",
       "      <th>1</th>\n",
       "      <td>62</td>\n",
       "      <td>Local-gov</td>\n",
       "      <td>HS-grad</td>\n",
       "      <td>9</td>\n",
       "      <td>Married-civ-spouse</td>\n",
       "      <td>Transport-moving</td>\n",
       "      <td>Husband</td>\n",
       "      <td>White</td>\n",
       "      <td>Male</td>\n",
       "      <td>40</td>\n",
       "      <td>United-States</td>\n",
       "      <td>&lt;=50K</td>\n",
       "    </tr>\n",
       "    <tr>\n",
       "      <th>2</th>\n",
       "      <td>55</td>\n",
       "      <td>Private</td>\n",
       "      <td>HS-grad</td>\n",
       "      <td>9</td>\n",
       "      <td>Divorced</td>\n",
       "      <td>Adm-clerical</td>\n",
       "      <td>Unmarried</td>\n",
       "      <td>Amer-Indian-Eskimo</td>\n",
       "      <td>Female</td>\n",
       "      <td>45</td>\n",
       "      <td>United-States</td>\n",
       "      <td>&lt;=50K</td>\n",
       "    </tr>\n",
       "    <tr>\n",
       "      <th>3</th>\n",
       "      <td>37</td>\n",
       "      <td>Self-emp-inc</td>\n",
       "      <td>Some-college</td>\n",
       "      <td>10</td>\n",
       "      <td>Married-civ-spouse</td>\n",
       "      <td>Sales</td>\n",
       "      <td>Husband</td>\n",
       "      <td>White</td>\n",
       "      <td>Male</td>\n",
       "      <td>44</td>\n",
       "      <td>United-States</td>\n",
       "      <td>&gt;50K</td>\n",
       "    </tr>\n",
       "    <tr>\n",
       "      <th>4</th>\n",
       "      <td>39</td>\n",
       "      <td>Private</td>\n",
       "      <td>Masters</td>\n",
       "      <td>14</td>\n",
       "      <td>Never-married</td>\n",
       "      <td>Exec-managerial</td>\n",
       "      <td>Not-in-family</td>\n",
       "      <td>White</td>\n",
       "      <td>Male</td>\n",
       "      <td>50</td>\n",
       "      <td>United-States</td>\n",
       "      <td>&gt;50K</td>\n",
       "    </tr>\n",
       "    <tr>\n",
       "      <th>...</th>\n",
       "      <td>...</td>\n",
       "      <td>...</td>\n",
       "      <td>...</td>\n",
       "      <td>...</td>\n",
       "      <td>...</td>\n",
       "      <td>...</td>\n",
       "      <td>...</td>\n",
       "      <td>...</td>\n",
       "      <td>...</td>\n",
       "      <td>...</td>\n",
       "      <td>...</td>\n",
       "      <td>...</td>\n",
       "    </tr>\n",
       "    <tr>\n",
       "      <th>32556</th>\n",
       "      <td>33</td>\n",
       "      <td>Private</td>\n",
       "      <td>Bachelors</td>\n",
       "      <td>13</td>\n",
       "      <td>Never-married</td>\n",
       "      <td>Exec-managerial</td>\n",
       "      <td>Other-relative</td>\n",
       "      <td>Asian-Pac-Islander</td>\n",
       "      <td>Female</td>\n",
       "      <td>40</td>\n",
       "      <td>Philippines</td>\n",
       "      <td>&lt;=50K</td>\n",
       "    </tr>\n",
       "    <tr>\n",
       "      <th>32557</th>\n",
       "      <td>38</td>\n",
       "      <td>Private</td>\n",
       "      <td>HS-grad</td>\n",
       "      <td>9</td>\n",
       "      <td>Married-civ-spouse</td>\n",
       "      <td>Sales</td>\n",
       "      <td>Husband</td>\n",
       "      <td>Black</td>\n",
       "      <td>Male</td>\n",
       "      <td>40</td>\n",
       "      <td>United-States</td>\n",
       "      <td>&gt;50K</td>\n",
       "    </tr>\n",
       "    <tr>\n",
       "      <th>32558</th>\n",
       "      <td>23</td>\n",
       "      <td>Private</td>\n",
       "      <td>HS-grad</td>\n",
       "      <td>9</td>\n",
       "      <td>Never-married</td>\n",
       "      <td>Handlers-cleaners</td>\n",
       "      <td>Own-child</td>\n",
       "      <td>White</td>\n",
       "      <td>Male</td>\n",
       "      <td>25</td>\n",
       "      <td>United-States</td>\n",
       "      <td>&lt;=50K</td>\n",
       "    </tr>\n",
       "    <tr>\n",
       "      <th>32559</th>\n",
       "      <td>22</td>\n",
       "      <td>?</td>\n",
       "      <td>Some-college</td>\n",
       "      <td>10</td>\n",
       "      <td>Never-married</td>\n",
       "      <td>?</td>\n",
       "      <td>Own-child</td>\n",
       "      <td>White</td>\n",
       "      <td>Female</td>\n",
       "      <td>20</td>\n",
       "      <td>United-States</td>\n",
       "      <td>&lt;=50K</td>\n",
       "    </tr>\n",
       "    <tr>\n",
       "      <th>32560</th>\n",
       "      <td>63</td>\n",
       "      <td>?</td>\n",
       "      <td>HS-grad</td>\n",
       "      <td>9</td>\n",
       "      <td>Married-civ-spouse</td>\n",
       "      <td>?</td>\n",
       "      <td>Husband</td>\n",
       "      <td>White</td>\n",
       "      <td>Male</td>\n",
       "      <td>55</td>\n",
       "      <td>United-States</td>\n",
       "      <td>&gt;50K</td>\n",
       "    </tr>\n",
       "  </tbody>\n",
       "</table>\n",
       "<p>32561 rows × 12 columns</p>\n",
       "</div>"
      ],
      "text/plain": [
       "       age     workclass     education  education-num      marital-status  \\\n",
       "0       48     Local-gov   Prof-school             15  Married-civ-spouse   \n",
       "1       62     Local-gov       HS-grad              9  Married-civ-spouse   \n",
       "2       55       Private       HS-grad              9            Divorced   \n",
       "3       37  Self-emp-inc  Some-college             10  Married-civ-spouse   \n",
       "4       39       Private       Masters             14       Never-married   \n",
       "...    ...           ...           ...            ...                 ...   \n",
       "32556   33       Private     Bachelors             13       Never-married   \n",
       "32557   38       Private       HS-grad              9  Married-civ-spouse   \n",
       "32558   23       Private       HS-grad              9       Never-married   \n",
       "32559   22             ?  Some-college             10       Never-married   \n",
       "32560   63             ?       HS-grad              9  Married-civ-spouse   \n",
       "\n",
       "              occupation    relationship                race     sex  \\\n",
       "0         Prof-specialty         Husband               White    Male   \n",
       "1       Transport-moving         Husband               White    Male   \n",
       "2           Adm-clerical       Unmarried  Amer-Indian-Eskimo  Female   \n",
       "3                  Sales         Husband               White    Male   \n",
       "4        Exec-managerial   Not-in-family               White    Male   \n",
       "...                  ...             ...                 ...     ...   \n",
       "32556    Exec-managerial  Other-relative  Asian-Pac-Islander  Female   \n",
       "32557              Sales         Husband               Black    Male   \n",
       "32558  Handlers-cleaners       Own-child               White    Male   \n",
       "32559                  ?       Own-child               White  Female   \n",
       "32560                  ?         Husband               White    Male   \n",
       "\n",
       "       hourse-per-week native-country  CLASS  \n",
       "0                   45  United-States   >50K  \n",
       "1                   40  United-States  <=50K  \n",
       "2                   45  United-States  <=50K  \n",
       "3                   44  United-States   >50K  \n",
       "4                   50  United-States   >50K  \n",
       "...                ...            ...    ...  \n",
       "32556               40    Philippines  <=50K  \n",
       "32557               40  United-States   >50K  \n",
       "32558               25  United-States  <=50K  \n",
       "32559               20  United-States  <=50K  \n",
       "32560               55  United-States   >50K  \n",
       "\n",
       "[32561 rows x 12 columns]"
      ]
     },
     "execution_count": 40,
     "metadata": {},
     "output_type": "execute_result"
    }
   ],
   "source": [
    "adult_dataset = adult_dataset[['age','workclass','education','education-num','marital-status','occupation','relationship','race','sex','hourse-per-week', 'native-country' ,'CLASS']]\n",
    "\n",
    "for element in list(adult_dataset):\n",
    "    if adult_dataset[element].dtype not in [np.float64, np.int64]:\n",
    "        adult_dataset[element] = adult_dataset[element].str.strip()\n",
    "\n",
    "adult_dataset['CLASS'] = adult_dataset['CLASS'].str.strip()\n",
    "adult_dataset.head()\n",
    "adult_dataset"
   ]
  },
  {
   "cell_type": "code",
   "execution_count": 41,
   "id": "dietary-shame",
   "metadata": {},
   "outputs": [
    {
     "data": {
      "text/html": [
       "<div>\n",
       "<style scoped>\n",
       "    .dataframe tbody tr th:only-of-type {\n",
       "        vertical-align: middle;\n",
       "    }\n",
       "\n",
       "    .dataframe tbody tr th {\n",
       "        vertical-align: top;\n",
       "    }\n",
       "\n",
       "    .dataframe thead th {\n",
       "        text-align: right;\n",
       "    }\n",
       "</style>\n",
       "<table border=\"1\" class=\"dataframe\">\n",
       "  <thead>\n",
       "    <tr style=\"text-align: right;\">\n",
       "      <th></th>\n",
       "      <th>index</th>\n",
       "      <th>age</th>\n",
       "      <th>workclass</th>\n",
       "      <th>education</th>\n",
       "      <th>education-num</th>\n",
       "      <th>marital-status</th>\n",
       "      <th>occupation</th>\n",
       "      <th>relationship</th>\n",
       "      <th>race</th>\n",
       "      <th>sex</th>\n",
       "      <th>hourse-per-week</th>\n",
       "      <th>native-country</th>\n",
       "      <th>CLASS</th>\n",
       "    </tr>\n",
       "  </thead>\n",
       "  <tbody>\n",
       "    <tr>\n",
       "      <th>0</th>\n",
       "      <td>0</td>\n",
       "      <td>48</td>\n",
       "      <td>Local-gov</td>\n",
       "      <td>Prof-school</td>\n",
       "      <td>15</td>\n",
       "      <td>Married-civ-spouse</td>\n",
       "      <td>Prof-specialty</td>\n",
       "      <td>Husband</td>\n",
       "      <td>White</td>\n",
       "      <td>Male</td>\n",
       "      <td>45</td>\n",
       "      <td>United-States</td>\n",
       "      <td>&gt;50K</td>\n",
       "    </tr>\n",
       "    <tr>\n",
       "      <th>1</th>\n",
       "      <td>1</td>\n",
       "      <td>62</td>\n",
       "      <td>Local-gov</td>\n",
       "      <td>HS-grad</td>\n",
       "      <td>9</td>\n",
       "      <td>Married-civ-spouse</td>\n",
       "      <td>Transport-moving</td>\n",
       "      <td>Husband</td>\n",
       "      <td>White</td>\n",
       "      <td>Male</td>\n",
       "      <td>40</td>\n",
       "      <td>United-States</td>\n",
       "      <td>&lt;=50K</td>\n",
       "    </tr>\n",
       "    <tr>\n",
       "      <th>2</th>\n",
       "      <td>2</td>\n",
       "      <td>55</td>\n",
       "      <td>Private</td>\n",
       "      <td>HS-grad</td>\n",
       "      <td>9</td>\n",
       "      <td>Divorced</td>\n",
       "      <td>Adm-clerical</td>\n",
       "      <td>Unmarried</td>\n",
       "      <td>Amer-Indian-Eskimo</td>\n",
       "      <td>Female</td>\n",
       "      <td>45</td>\n",
       "      <td>United-States</td>\n",
       "      <td>&lt;=50K</td>\n",
       "    </tr>\n",
       "    <tr>\n",
       "      <th>3</th>\n",
       "      <td>3</td>\n",
       "      <td>37</td>\n",
       "      <td>Self-emp-inc</td>\n",
       "      <td>Some-college</td>\n",
       "      <td>10</td>\n",
       "      <td>Married-civ-spouse</td>\n",
       "      <td>Sales</td>\n",
       "      <td>Husband</td>\n",
       "      <td>White</td>\n",
       "      <td>Male</td>\n",
       "      <td>44</td>\n",
       "      <td>United-States</td>\n",
       "      <td>&gt;50K</td>\n",
       "    </tr>\n",
       "    <tr>\n",
       "      <th>4</th>\n",
       "      <td>4</td>\n",
       "      <td>39</td>\n",
       "      <td>Private</td>\n",
       "      <td>Masters</td>\n",
       "      <td>14</td>\n",
       "      <td>Never-married</td>\n",
       "      <td>Exec-managerial</td>\n",
       "      <td>Not-in-family</td>\n",
       "      <td>White</td>\n",
       "      <td>Male</td>\n",
       "      <td>50</td>\n",
       "      <td>United-States</td>\n",
       "      <td>&gt;50K</td>\n",
       "    </tr>\n",
       "    <tr>\n",
       "      <th>...</th>\n",
       "      <td>...</td>\n",
       "      <td>...</td>\n",
       "      <td>...</td>\n",
       "      <td>...</td>\n",
       "      <td>...</td>\n",
       "      <td>...</td>\n",
       "      <td>...</td>\n",
       "      <td>...</td>\n",
       "      <td>...</td>\n",
       "      <td>...</td>\n",
       "      <td>...</td>\n",
       "      <td>...</td>\n",
       "      <td>...</td>\n",
       "    </tr>\n",
       "    <tr>\n",
       "      <th>30157</th>\n",
       "      <td>32554</td>\n",
       "      <td>24</td>\n",
       "      <td>Private</td>\n",
       "      <td>HS-grad</td>\n",
       "      <td>9</td>\n",
       "      <td>Never-married</td>\n",
       "      <td>Farming-fishing</td>\n",
       "      <td>Own-child</td>\n",
       "      <td>Black</td>\n",
       "      <td>Male</td>\n",
       "      <td>50</td>\n",
       "      <td>United-States</td>\n",
       "      <td>&lt;=50K</td>\n",
       "    </tr>\n",
       "    <tr>\n",
       "      <th>30158</th>\n",
       "      <td>32555</td>\n",
       "      <td>37</td>\n",
       "      <td>Private</td>\n",
       "      <td>HS-grad</td>\n",
       "      <td>9</td>\n",
       "      <td>Divorced</td>\n",
       "      <td>Farming-fishing</td>\n",
       "      <td>Not-in-family</td>\n",
       "      <td>White</td>\n",
       "      <td>Male</td>\n",
       "      <td>40</td>\n",
       "      <td>United-States</td>\n",
       "      <td>&lt;=50K</td>\n",
       "    </tr>\n",
       "    <tr>\n",
       "      <th>30159</th>\n",
       "      <td>32556</td>\n",
       "      <td>33</td>\n",
       "      <td>Private</td>\n",
       "      <td>Bachelors</td>\n",
       "      <td>13</td>\n",
       "      <td>Never-married</td>\n",
       "      <td>Exec-managerial</td>\n",
       "      <td>Other-relative</td>\n",
       "      <td>Asian-Pac-Islander</td>\n",
       "      <td>Female</td>\n",
       "      <td>40</td>\n",
       "      <td>Philippines</td>\n",
       "      <td>&lt;=50K</td>\n",
       "    </tr>\n",
       "    <tr>\n",
       "      <th>30160</th>\n",
       "      <td>32557</td>\n",
       "      <td>38</td>\n",
       "      <td>Private</td>\n",
       "      <td>HS-grad</td>\n",
       "      <td>9</td>\n",
       "      <td>Married-civ-spouse</td>\n",
       "      <td>Sales</td>\n",
       "      <td>Husband</td>\n",
       "      <td>Black</td>\n",
       "      <td>Male</td>\n",
       "      <td>40</td>\n",
       "      <td>United-States</td>\n",
       "      <td>&gt;50K</td>\n",
       "    </tr>\n",
       "    <tr>\n",
       "      <th>30161</th>\n",
       "      <td>32558</td>\n",
       "      <td>23</td>\n",
       "      <td>Private</td>\n",
       "      <td>HS-grad</td>\n",
       "      <td>9</td>\n",
       "      <td>Never-married</td>\n",
       "      <td>Handlers-cleaners</td>\n",
       "      <td>Own-child</td>\n",
       "      <td>White</td>\n",
       "      <td>Male</td>\n",
       "      <td>25</td>\n",
       "      <td>United-States</td>\n",
       "      <td>&lt;=50K</td>\n",
       "    </tr>\n",
       "  </tbody>\n",
       "</table>\n",
       "<p>30162 rows × 13 columns</p>\n",
       "</div>"
      ],
      "text/plain": [
       "       index  age     workclass     education  education-num  \\\n",
       "0          0   48     Local-gov   Prof-school             15   \n",
       "1          1   62     Local-gov       HS-grad              9   \n",
       "2          2   55       Private       HS-grad              9   \n",
       "3          3   37  Self-emp-inc  Some-college             10   \n",
       "4          4   39       Private       Masters             14   \n",
       "...      ...  ...           ...           ...            ...   \n",
       "30157  32554   24       Private       HS-grad              9   \n",
       "30158  32555   37       Private       HS-grad              9   \n",
       "30159  32556   33       Private     Bachelors             13   \n",
       "30160  32557   38       Private       HS-grad              9   \n",
       "30161  32558   23       Private       HS-grad              9   \n",
       "\n",
       "           marital-status         occupation    relationship  \\\n",
       "0      Married-civ-spouse     Prof-specialty         Husband   \n",
       "1      Married-civ-spouse   Transport-moving         Husband   \n",
       "2                Divorced       Adm-clerical       Unmarried   \n",
       "3      Married-civ-spouse              Sales         Husband   \n",
       "4           Never-married    Exec-managerial   Not-in-family   \n",
       "...                   ...                ...             ...   \n",
       "30157       Never-married    Farming-fishing       Own-child   \n",
       "30158            Divorced    Farming-fishing   Not-in-family   \n",
       "30159       Never-married    Exec-managerial  Other-relative   \n",
       "30160  Married-civ-spouse              Sales         Husband   \n",
       "30161       Never-married  Handlers-cleaners       Own-child   \n",
       "\n",
       "                     race     sex  hourse-per-week native-country  CLASS  \n",
       "0                   White    Male               45  United-States   >50K  \n",
       "1                   White    Male               40  United-States  <=50K  \n",
       "2      Amer-Indian-Eskimo  Female               45  United-States  <=50K  \n",
       "3                   White    Male               44  United-States   >50K  \n",
       "4                   White    Male               50  United-States   >50K  \n",
       "...                   ...     ...              ...            ...    ...  \n",
       "30157               Black    Male               50  United-States  <=50K  \n",
       "30158               White    Male               40  United-States  <=50K  \n",
       "30159  Asian-Pac-Islander  Female               40    Philippines  <=50K  \n",
       "30160               Black    Male               40  United-States   >50K  \n",
       "30161               White    Male               25  United-States  <=50K  \n",
       "\n",
       "[30162 rows x 13 columns]"
      ]
     },
     "execution_count": 41,
     "metadata": {},
     "output_type": "execute_result"
    }
   ],
   "source": [
    "adult_dataset.dropna(how='any', axis=0)\n",
    "indexNames = adult_dataset[(adult_dataset['workclass'] == '?') | (adult_dataset['education'] == '?') | (adult_dataset['marital-status'] == '?') | (adult_dataset['occupation'] == '?') | (adult_dataset['relationship'] == '?') | (adult_dataset['race'] == '?') | (adult_dataset['sex'] == '?') | (adult_dataset['native-country'] == '?') ].index\n",
    "# print(indexNames)\n",
    "adult_dataset.drop(indexNames, inplace=True)\n",
    "adult_dataset.head()\n",
    "adult_dataset.reset_index(inplace=True)\n",
    "adult_dataset"
   ]
  },
  {
   "cell_type": "markdown",
   "id": "occupational-canyon",
   "metadata": {},
   "source": [
    "### Adult 70%"
   ]
  },
  {
   "cell_type": "code",
   "execution_count": 51,
   "id": "excellent-central",
   "metadata": {},
   "outputs": [
    {
     "name": "stdout",
     "output_type": "stream",
     "text": [
      "<=50K    10543\n",
      ">50K      3532\n",
      "Name: CLASS, dtype: int64\n"
     ]
    },
    {
     "data": {
      "text/plain": [
       "<AxesSubplot:title={'center':'class'}>"
      ]
     },
     "execution_count": 51,
     "metadata": {},
     "output_type": "execute_result"
    },
    {
     "data": {
      "image/png": "[encoded data removed]",
      "text/plain": [
       "<Figure size 432x288 with 1 Axes>"
      ]
     },
     "metadata": {
      "needs_background": "light"
     },
     "output_type": "display_data"
    }
   ],
   "source": [
    "adult_set_for_training70, adult_testing70 = data_utils.data_split(adult_dataset, 70)\n",
    "adult_training70, adult_validation70 = data_utils.split_training_data_for_pruning(adult_set_for_training70)\n",
    "\n",
    "print(adult_training70['CLASS'].value_counts())\n",
    "adult_training70['CLASS'].value_counts().plot(kind='bar', title='class')"
   ]
  },
  {
   "cell_type": "code",
   "execution_count": 52,
   "id": "mature-cologne",
   "metadata": {},
   "outputs": [
    {
     "data": {
      "text/plain": [
       "<AxesSubplot:title={'center':'class'}>"
      ]
     },
     "execution_count": 52,
     "metadata": {},
     "output_type": "execute_result"
    },
    {
     "data": {
      "image/png": "[encoded data removed]",
      "text/plain": [
       "<Figure size 432x288 with 1 Axes>"
      ]
     },
     "metadata": {
      "needs_background": "light"
     },
     "output_type": "display_data"
    }
   ],
   "source": [
    "resampling_adult70 = adult_training70.copy()\n",
    "less_50k_part70 = resampling_adult70[resampling_adult70['CLASS'] == '<=50K']\n",
    "more_50k_part70 = resampling_adult70[resampling_adult70['CLASS'] == '>50K'] \n",
    "\n",
    "less_50k_part_downsampled70 = resample(less_50k_part70, \n",
    "                                 replace=False,    \n",
    "                                 n_samples=3532)\n",
    "\n",
    "# Combine minority class with downsampled majority class\n",
    "balanced_adult_training70 = pd.concat([less_50k_part_downsampled70, more_50k_part70])\n",
    "balanced_adult_training70 = balanced_adult_training70.reset_index(level=None, drop=True, inplace=False, col_level=0, col_fill='')\n",
    "balanced_adult_training70 = balanced_adult_training70.sample(frac=1).reset_index(drop=True)\n",
    "\n",
    "adult_training70 = balanced_adult_training70.copy()\n",
    "adult_training70['CLASS'].value_counts().plot(kind='bar', title='class')"
   ]
  },
  {
   "cell_type": "markdown",
   "id": "alternate-canberra",
   "metadata": {},
   "source": [
    "### Adult 80%"
   ]
  },
  {
   "cell_type": "code",
   "execution_count": 57,
   "id": "completed-liechtenstein",
   "metadata": {},
   "outputs": [
    {
     "name": "stdout",
     "output_type": "stream",
     "text": [
      "<=50K    12083\n",
      ">50K      4002\n",
      "Name: CLASS, dtype: int64\n"
     ]
    },
    {
     "data": {
      "text/plain": [
       "<AxesSubplot:title={'center':'class'}>"
      ]
     },
     "execution_count": 57,
     "metadata": {},
     "output_type": "execute_result"
    },
    {
     "data": {
      "image/png": "[encoded data removed]",
      "text/plain": [
       "<Figure size 432x288 with 1 Axes>"
      ]
     },
     "metadata": {
      "needs_background": "light"
     },
     "output_type": "display_data"
    }
   ],
   "source": [
    "adult_set_for_training80, adult_testing80 = data_utils.data_split(adult_dataset, 80)\n",
    "adult_training80, adult_validation80 = data_utils.split_training_data_for_pruning(adult_set_for_training80)\n",
    "\n",
    "print(adult_training80['CLASS'].value_counts())\n",
    "adult_training80['CLASS'].value_counts().plot(kind='bar', title='class')"
   ]
  },
  {
   "cell_type": "code",
   "execution_count": 58,
   "id": "stretch-northwest",
   "metadata": {},
   "outputs": [
    {
     "data": {
      "text/plain": [
       "<AxesSubplot:title={'center':'class'}>"
      ]
     },
     "execution_count": 58,
     "metadata": {},
     "output_type": "execute_result"
    },
    {
     "data": {
      "image/png": "[encoded data removed]",
      "text/plain": [
       "<Figure size 432x288 with 1 Axes>"
      ]
     },
     "metadata": {
      "needs_background": "light"
     },
     "output_type": "display_data"
    }
   ],
   "source": [
    "resampling_adult80 = adult_training80.copy()\n",
    "less_50k_part80 = resampling_adult80[resampling_adult80['CLASS'] == '<=50K']\n",
    "more_50k_part80 = resampling_adult80[resampling_adult80['CLASS'] == '>50K'] \n",
    "\n",
    "less_50k_part_downsampled80 = resample(less_50k_part80, \n",
    "                                 replace=False,    \n",
    "                                 n_samples=4002)\n",
    "\n",
    "# Combine minority class with downsampled majority class\n",
    "balanced_adult_training80 = pd.concat([less_50k_part_downsampled80, more_50k_part80])\n",
    "balanced_adult_training80 = balanced_adult_training80.reset_index(level=None, drop=True, inplace=False, col_level=0, col_fill='')\n",
    "balanced_adult_training80 = balanced_adult_training80.sample(frac=1).reset_index(drop=True)\n",
    "\n",
    "adult_training80 = balanced_adult_training80.copy()\n",
    "adult_training80['CLASS'].value_counts().plot(kind='bar', title='class')"
   ]
  },
  {
   "cell_type": "markdown",
   "id": "regular-journal",
   "metadata": {},
   "source": [
    "### Adult 90%"
   ]
  },
  {
   "cell_type": "code",
   "execution_count": 46,
   "id": "informal-tunnel",
   "metadata": {},
   "outputs": [
    {
     "name": "stdout",
     "output_type": "stream",
     "text": [
      "<=50K    13606\n",
      ">50K      4490\n",
      "Name: CLASS, dtype: int64\n"
     ]
    },
    {
     "data": {
      "text/plain": [
       "<AxesSubplot:title={'center':'class'}>"
      ]
     },
     "execution_count": 46,
     "metadata": {},
     "output_type": "execute_result"
    },
    {
     "data": {
      "image/png": "[encoded data removed]",
      "text/plain": [
       "<Figure size 432x288 with 1 Axes>"
      ]
     },
     "metadata": {
      "needs_background": "light"
     },
     "output_type": "display_data"
    }
   ],
   "source": [
    "adult_set_for_training90, adult_testing90 = data_utils.data_split(adult_dataset, 90)\n",
    "adult_training90, adult_validation90 = data_utils.split_training_data_for_pruning(adult_set_for_training90)\n",
    "\n",
    "print(adult_training90['CLASS'].value_counts())\n",
    "adult_training90['CLASS'].value_counts().plot(kind='bar', title='class')"
   ]
  },
  {
   "cell_type": "code",
   "execution_count": 47,
   "id": "egyptian-train",
   "metadata": {},
   "outputs": [
    {
     "data": {
      "text/plain": [
       "<AxesSubplot:title={'center':'class'}>"
      ]
     },
     "execution_count": 47,
     "metadata": {},
     "output_type": "execute_result"
    },
    {
     "data": {
      "image/png": "[encoded data removed]",
      "text/plain": [
       "<Figure size 432x288 with 1 Axes>"
      ]
     },
     "metadata": {
      "needs_background": "light"
     },
     "output_type": "display_data"
    }
   ],
   "source": [
    "resampling_adult90 = adult_training90.copy()\n",
    "less_50k_part90 = resampling_adult90[resampling_adult90['CLASS'] == '<=50K']\n",
    "more_50k_part90 = resampling_adult90[resampling_adult90['CLASS'] == '>50K'] \n",
    "\n",
    "less_50k_part_downsampled90 = resample(less_50k_part90, \n",
    "                                 replace=False,    \n",
    "                                 n_samples=4469)\n",
    "\n",
    "# Combine minority class with downsampled majority class\n",
    "balanced_adult_training90 = pd.concat([less_50k_part_downsampled90, more_50k_part90])\n",
    "balanced_adult_training90 = balanced_adult_training90.reset_index(level=None, drop=True, inplace=False, col_level=0, col_fill='')\n",
    "balanced_adult_training90 = balanced_adult_training90.sample(frac=1).reset_index(drop=True)\n",
    "\n",
    "adult_training90 = balanced_adult_training90.copy()\n",
    "adult_training90['CLASS'].value_counts().plot(kind='bar', title='class')"
   ]
  },
  {
   "cell_type": "markdown",
   "id": "periodic-pressing",
   "metadata": {},
   "source": [
    "## Model Training"
   ]
  },
  {
   "cell_type": "code",
   "execution_count": 53,
   "id": "spoken-attack",
   "metadata": {},
   "outputs": [
    {
     "name": "stdout",
     "output_type": "stream",
     "text": [
      "Before Pruning - heuristic = gini_impurity_weighted\n",
      "Accuracy for: testing 76.73% | training 81.68% | levels 22 | leafs 514\n",
      "After Pruning:\n",
      "Accuracy for: testing 79.78% | training 80.41% | levels 20 | leafs 202\n",
      "\n",
      "\n",
      "Before Pruning - heuristic = info_gain\n",
      "Accuracy for: testing 72.76% | training 53.36% | levels 52 | leafs 309\n",
      "After Pruning:\n",
      "Accuracy for: testing 74.81% | training 51.63% | levels 52 | leafs 137\n",
      "\n",
      "\n",
      "Before Pruning - heuristic = information_gain_ratio\n",
      "Accuracy for: testing 72.76% | training 53.36% | levels 52 | leafs 309\n",
      "After Pruning:\n",
      "Accuracy for: testing 74.81% | training 51.63% | levels 52 | leafs 137\n",
      "\n",
      "\n",
      "Before Pruning - heuristic = distance_measure\n",
      "Accuracy for: testing 70.73% | training 68.77% | levels 16 | leafs 271\n",
      "After Pruning:\n",
      "Accuracy for: testing 73.83% | training 58.34% | levels 12 | leafs 102\n",
      "\n",
      "\n",
      "Before Pruning - heuristic = j_measure\n",
      "Accuracy for: testing 72.76% | training 53.36% | levels 52 | leafs 309\n",
      "After Pruning:\n",
      "Accuracy for: testing 74.81% | training 51.63% | levels 52 | leafs 137\n",
      "\n",
      "\n",
      "Before Pruning - heuristic = weight_of_evidence\n",
      "Accuracy for: testing 72.76% | training 55.28% | levels 52 | leafs 299\n",
      "After Pruning:\n",
      "Accuracy for: testing 74.81% | training 51.63% | levels 52 | leafs 137\n",
      "\n",
      "\n",
      "Before Pruning - heuristic = gini_pri\n",
      "Accuracy for: testing 65.99% | training 70.06% | levels 14 | leafs 244\n",
      "After Pruning:\n",
      "Accuracy for: testing 72.33% | training 58.41% | levels 14 | leafs 118\n",
      "\n",
      "\n",
      "Before Pruning - heuristic = relief\n",
      "Accuracy for: testing 71.38% | training 68.08% | levels 12 | leafs 184\n",
      "After Pruning:\n",
      "Accuracy for: testing 72.34% | training 58.48% | levels 10 | leafs 113\n",
      "\n",
      "\n",
      "Before Pruning - heuristic = relevance\n",
      "Accuracy for: testing 67.05% | training 69.80% | levels 14 | leafs 192\n",
      "After Pruning:\n",
      "Accuracy for: testing 72.63% | training 58.59% | levels 14 | leafs 117\n",
      "\n",
      "\n",
      "Before Pruning - heuristic = mdl_simple\n",
      "Accuracy for: testing 75.94% | training 80.45% | levels 14 | leafs 558\n",
      "After Pruning:\n",
      "Accuracy for: testing 81.56% | training 74.31% | levels 12 | leafs 107\n",
      "\n",
      "\n"
     ]
    }
   ],
   "source": [
    "train_tree_for_different_heuristics(adult_training70, adult_testing70, adult_validation70)"
   ]
  },
  {
   "cell_type": "code",
   "execution_count": 59,
   "id": "checked-lightweight",
   "metadata": {},
   "outputs": [
    {
     "name": "stdout",
     "output_type": "stream",
     "text": [
      "Before Pruning - heuristic = gini_impurity_weighted\n",
      "Accuracy for: testing 75.92% | training 81.80% | levels 22 | leafs 507\n",
      "After Pruning:\n",
      "Accuracy for: testing 78.55% | training 79.97% | levels 18 | leafs 180\n",
      "\n",
      "\n",
      "Before Pruning - heuristic = info_gain\n",
      "Accuracy for: testing 71.56% | training 53.44% | levels 66 | leafs 290\n",
      "After Pruning:\n",
      "Accuracy for: testing 74.23% | training 53.37% | levels 66 | leafs 279\n",
      "\n",
      "\n",
      "Before Pruning - heuristic = information_gain_ratio\n",
      "Accuracy for: testing 71.56% | training 53.44% | levels 66 | leafs 290\n",
      "After Pruning:\n",
      "Accuracy for: testing 74.23% | training 53.37% | levels 66 | leafs 279\n",
      "\n",
      "\n",
      "Before Pruning - heuristic = distance_measure\n",
      "Accuracy for: testing 70.78% | training 71.84% | levels 14 | leafs 345\n",
      "After Pruning:\n",
      "Accuracy for: testing 73.55% | training 58.26% | levels 14 | leafs 104\n",
      "\n",
      "\n",
      "Before Pruning - heuristic = j_measure\n",
      "Accuracy for: testing 71.56% | training 53.44% | levels 66 | leafs 290\n",
      "After Pruning:\n",
      "Accuracy for: testing 74.23% | training 53.37% | levels 66 | leafs 279\n",
      "\n",
      "\n",
      "Before Pruning - heuristic = weight_of_evidence\n",
      "Accuracy for: testing 71.56% | training 55.85% | levels 66 | leafs 292\n",
      "After Pruning:\n",
      "Accuracy for: testing 74.23% | training 55.78% | levels 66 | leafs 281\n",
      "\n",
      "\n",
      "Before Pruning - heuristic = gini_pri\n",
      "Accuracy for: testing 68.16% | training 70.09% | levels 14 | leafs 206\n",
      "After Pruning:\n",
      "Accuracy for: testing 73.41% | training 58.35% | levels 14 | leafs 110\n",
      "\n",
      "\n",
      "Before Pruning - heuristic = relief\n",
      "Accuracy for: testing 67.55% | training 70.51% | levels 12 | leafs 298\n",
      "After Pruning:\n",
      "Accuracy for: testing 72.50% | training 58.36% | levels 10 | leafs 114\n",
      "\n",
      "\n",
      "Before Pruning - heuristic = relevance\n",
      "Accuracy for: testing 68.62% | training 69.93% | levels 18 | leafs 200\n",
      "After Pruning:\n",
      "Accuracy for: testing 73.94% | training 58.55% | levels 18 | leafs 127\n",
      "\n",
      "\n",
      "Before Pruning - heuristic = mdl_simple\n",
      "Accuracy for: testing 76.68% | training 80.60% | levels 12 | leafs 494\n",
      "After Pruning:\n",
      "Accuracy for: testing 81.52% | training 71.23% | levels 6 | leafs 84\n",
      "\n",
      "\n"
     ]
    }
   ],
   "source": [
    "train_tree_for_different_heuristics(adult_training80, adult_testing80, adult_validation80)"
   ]
  },
  {
   "cell_type": "code",
   "execution_count": 50,
   "id": "loose-sapphire",
   "metadata": {},
   "outputs": [
    {
     "name": "stdout",
     "output_type": "stream",
     "text": [
      "Before Pruning - heuristic = gini_impurity_weighted\n",
      "Accuracy for: testing 75.14% | training 80.90% | levels 20 | leafs 603\n",
      "After Pruning:\n",
      "Accuracy for: testing 78.75% | training 79.09% | levels 20 | leafs 177\n",
      "\n",
      "\n",
      "Before Pruning - heuristic = info_gain\n",
      "Accuracy for: testing 69.80% | training 53.95% | levels 58 | leafs 311\n",
      "After Pruning:\n",
      "Accuracy for: testing 74.38% | training 53.76% | levels 58 | leafs 277\n",
      "\n",
      "\n",
      "Before Pruning - heuristic = information_gain_ratio\n",
      "Accuracy for: testing 69.80% | training 53.95% | levels 58 | leafs 311\n",
      "After Pruning:\n",
      "Accuracy for: testing 74.38% | training 53.76% | levels 58 | leafs 277\n",
      "\n",
      "\n",
      "Before Pruning - heuristic = distance_measure\n",
      "Accuracy for: testing 68.45% | training 71.59% | levels 12 | leafs 441\n",
      "After Pruning:\n",
      "Accuracy for: testing 73.02% | training 58.03% | levels 12 | leafs 126\n",
      "\n",
      "\n",
      "Before Pruning - heuristic = j_measure\n",
      "Accuracy for: testing 69.80% | training 53.95% | levels 58 | leafs 311\n",
      "After Pruning:\n",
      "Accuracy for: testing 74.38% | training 53.76% | levels 58 | leafs 277\n",
      "\n",
      "\n",
      "Before Pruning - heuristic = weight_of_evidence\n",
      "Accuracy for: testing 67.52% | training 55.43% | levels 58 | leafs 314\n",
      "After Pruning:\n",
      "Accuracy for: testing 74.38% | training 55.03% | levels 58 | leafs 278\n",
      "\n",
      "\n",
      "Before Pruning - heuristic = gini_pri\n",
      "Accuracy for: testing 65.16% | training 69.55% | levels 14 | leafs 256\n",
      "After Pruning:\n",
      "Accuracy for: testing 70.10% | training 58.28% | levels 14 | leafs 131\n",
      "\n",
      "\n",
      "Before Pruning - heuristic = relief\n",
      "Accuracy for: testing 65.50% | training 69.90% | levels 12 | leafs 297\n",
      "After Pruning:\n",
      "Accuracy for: testing 70.30% | training 58.37% | levels 10 | leafs 137\n",
      "\n",
      "\n",
      "Before Pruning - heuristic = relevance\n",
      "Accuracy for: testing 66.92% | training 69.23% | levels 16 | leafs 179\n",
      "After Pruning:\n",
      "Accuracy for: testing 70.87% | training 58.39% | levels 16 | leafs 115\n",
      "\n",
      "\n",
      "Before Pruning - heuristic = mdl_simple\n",
      "Accuracy for: testing 74.88% | training 79.66% | levels 12 | leafs 519\n",
      "After Pruning:\n",
      "Accuracy for: testing 81.07% | training 70.60% | levels 6 | leafs 78\n",
      "\n",
      "\n"
     ]
    }
   ],
   "source": [
    "train_tree_for_different_heuristics(adult_training90, adult_testing90, adult_validation90)"
   ]
  }
 ],
 "metadata": {
  "kernelspec": {
   "display_name": "Python 3",
   "language": "python",
   "name": "python3"
  },
  "language_info": {
   "codemirror_mode": {
    "name": "ipython",
    "version": 3
   },
   "file_extension": ".py",
   "mimetype": "text/x-python",
   "name": "python",
   "nbconvert_exporter": "python",
   "pygments_lexer": "ipython3",
   "version": "3.8.10"
  }
 },
 "nbformat": 4,
 "nbformat_minor": 5
}
