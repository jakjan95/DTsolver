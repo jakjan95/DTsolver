{
 "cells": [
  {
   "cell_type": "code",
   "execution_count": 1,
   "id": "improving-hopkins",
   "metadata": {},
   "outputs": [
    {
     "data": {
      "text/html": [
       "<style>.container { width:100% !important; }</style>"
      ],
      "text/plain": [
       "<IPython.core.display.HTML object>"
      ]
     },
     "metadata": {},
     "output_type": "display_data"
    }
   ],
   "source": [
    "from IPython.core.display import display, HTML\n",
    "display(HTML(\"<style>.container { width:100% !important; }</style>\"))"
   ]
  },
  {
   "cell_type": "code",
   "execution_count": 2,
   "id": "sustained-making",
   "metadata": {},
   "outputs": [],
   "source": [
    "import src.data_utils as data_utils\n",
    "import src.tree_build as dt_tree\n",
    "import src.heurestics as dt_heur\n",
    "import src.tree_utils as tree_utils\n",
    "import src.dt_testing_utils as dt_testing\n",
    "import src.tree_pruning as tree_pruning\n",
    "\n",
    "from pprint import pprint\n",
    "import numpy as np\n",
    "import pandas as pd\n",
    "from sklearn.utils import resample"
   ]
  },
  {
   "cell_type": "markdown",
   "id": "unable-audio",
   "metadata": {},
   "source": [
    "## Utils"
   ]
  },
  {
   "cell_type": "code",
   "execution_count": 3,
   "id": "plastic-leonard",
   "metadata": {},
   "outputs": [],
   "source": [
    "def print_tree_informations(tree, training_data, testing_data):\n",
    "    accuracy_testing = tree_utils.tree_accuracy(testing_data, tree)\n",
    "    accuracy_training = tree_utils.tree_accuracy(training_data, tree)\n",
    "    levels = tree_utils.number_of_levels(tree)\n",
    "    leafs = tree_utils.number_of_leafs(tree)\n",
    "    print(\"Accuracy for: testing {0:.2f}% | training {1:.2f}% | levels {2} | leafs {3}\".format(accuracy_testing, accuracy_training,levels, leafs))"
   ]
  },
  {
   "cell_type": "code",
   "execution_count": 4,
   "id": "hungry-tactics",
   "metadata": {},
   "outputs": [],
   "source": [
    "#heuristics\n",
    "def train_and_prune_tree(heurestic, training_data, testing_data, validation_data):\n",
    "    print(\"Before Pruning - heuristic = {0}\".format(heurestic.__name__))\n",
    "    trained_tree = dt_tree.build_tree_generic(heurestic, training_data)\n",
    "    print_tree_informations(trained_tree, training_data, testing_data)\n",
    "#     pprint(trained_tree)\n",
    "    print(\"After Pruning:\")\n",
    "    pruned_trained_tree = tree_pruning.reduced_error_pruning(trained_tree, validation_data)\n",
    "    print_tree_informations(pruned_trained_tree, training_data, testing_data)\n",
    "    print('\\n')\n",
    "#     pprint(pruned_trained_tree)"
   ]
  },
  {
   "cell_type": "code",
   "execution_count": 5,
   "id": "powered-duncan",
   "metadata": {},
   "outputs": [],
   "source": [
    "default_heuristics = [dt_heur.gini_impurity_weighted, dt_heur.info_gain, dt_heur.information_gain_ratio,\n",
    "                      dt_heur.distance_measure, dt_heur.j_measure, dt_heur.weight_of_evidence,\n",
    "                      dt_heur.gini_pri, dt_heur.relief, dt_heur.relevance, dt_heur.mdl_simple]\n",
    "\n",
    "def train_tree_for_different_heuristics(training_data, testing_data, validation_data, heuristics = default_heuristics):\n",
    "    for heuristic in heuristics:\n",
    "        train_and_prune_tree(heuristic, training_data, testing_data, validation_data)"
   ]
  },
  {
   "cell_type": "markdown",
   "id": "abandoned-satin",
   "metadata": {},
   "source": [
    "# Car dataset"
   ]
  },
  {
   "cell_type": "markdown",
   "id": "sharing-envelope",
   "metadata": {},
   "source": [
    "## Dataset preparation"
   ]
  },
  {
   "cell_type": "code",
   "execution_count": 6,
   "id": "explicit-bermuda",
   "metadata": {},
   "outputs": [
    {
     "data": {
      "text/html": [
       "<div>\n",
       "<style scoped>\n",
       "    .dataframe tbody tr th:only-of-type {\n",
       "        vertical-align: middle;\n",
       "    }\n",
       "\n",
       "    .dataframe tbody tr th {\n",
       "        vertical-align: top;\n",
       "    }\n",
       "\n",
       "    .dataframe thead th {\n",
       "        text-align: right;\n",
       "    }\n",
       "</style>\n",
       "<table border=\"1\" class=\"dataframe\">\n",
       "  <thead>\n",
       "    <tr style=\"text-align: right;\">\n",
       "      <th></th>\n",
       "      <th>buying</th>\n",
       "      <th>maint</th>\n",
       "      <th>doors</th>\n",
       "      <th>persons</th>\n",
       "      <th>lug_boot</th>\n",
       "      <th>safety</th>\n",
       "      <th>CLASS</th>\n",
       "    </tr>\n",
       "  </thead>\n",
       "  <tbody>\n",
       "    <tr>\n",
       "      <th>0</th>\n",
       "      <td>vhigh</td>\n",
       "      <td>med</td>\n",
       "      <td>4</td>\n",
       "      <td>2</td>\n",
       "      <td>med</td>\n",
       "      <td>low</td>\n",
       "      <td>unacc</td>\n",
       "    </tr>\n",
       "    <tr>\n",
       "      <th>1</th>\n",
       "      <td>high</td>\n",
       "      <td>high</td>\n",
       "      <td>3</td>\n",
       "      <td>4</td>\n",
       "      <td>small</td>\n",
       "      <td>med</td>\n",
       "      <td>unacc</td>\n",
       "    </tr>\n",
       "    <tr>\n",
       "      <th>2</th>\n",
       "      <td>low</td>\n",
       "      <td>med</td>\n",
       "      <td>5more</td>\n",
       "      <td>2</td>\n",
       "      <td>med</td>\n",
       "      <td>low</td>\n",
       "      <td>unacc</td>\n",
       "    </tr>\n",
       "    <tr>\n",
       "      <th>3</th>\n",
       "      <td>med</td>\n",
       "      <td>med</td>\n",
       "      <td>2</td>\n",
       "      <td>more</td>\n",
       "      <td>med</td>\n",
       "      <td>low</td>\n",
       "      <td>unacc</td>\n",
       "    </tr>\n",
       "    <tr>\n",
       "      <th>4</th>\n",
       "      <td>med</td>\n",
       "      <td>med</td>\n",
       "      <td>5more</td>\n",
       "      <td>4</td>\n",
       "      <td>big</td>\n",
       "      <td>low</td>\n",
       "      <td>unacc</td>\n",
       "    </tr>\n",
       "  </tbody>\n",
       "</table>\n",
       "</div>"
      ],
      "text/plain": [
       "  buying maint  doors persons lug_boot safety  CLASS\n",
       "0  vhigh   med      4       2      med    low  unacc\n",
       "1   high  high      3       4    small    med  unacc\n",
       "2    low   med  5more       2      med    low  unacc\n",
       "3    med   med      2    more      med    low  unacc\n",
       "4    med   med  5more       4      big    low  unacc"
      ]
     },
     "execution_count": 6,
     "metadata": {},
     "output_type": "execute_result"
    }
   ],
   "source": [
    "car_dataset_path = 'data/car.data'\n",
    "car_dataset_labels = ['buying','maint','doors','persons','lug_boot','safety','CLASS']\n",
    "car_dataset = data_utils.preapare_dataset(car_dataset_path, car_dataset_labels)\n",
    "car_dataset.head()"
   ]
  },
  {
   "cell_type": "code",
   "execution_count": 7,
   "id": "invalid-holly",
   "metadata": {},
   "outputs": [
    {
     "name": "stdout",
     "output_type": "stream",
     "text": [
      "unacc    573\n",
      "acc      166\n",
      "good      34\n",
      "vgood     32\n",
      "Name: CLASS, dtype: int64\n"
     ]
    },
    {
     "data": {
      "text/plain": [
       "<AxesSubplot:title={'center':'class'}>"
      ]
     },
     "execution_count": 7,
     "metadata": {},
     "output_type": "execute_result"
    },
    {
     "data": {
      "image/png": "[encoded data removed]",
      "text/plain": [
       "<Figure size 432x288 with 1 Axes>"
      ]
     },
     "metadata": {
      "needs_background": "light"
     },
     "output_type": "display_data"
    }
   ],
   "source": [
    "car_set_for_training, car_testing = data_utils.data_split(car_dataset, 70)\n",
    "car_training, car_validation = data_utils.split_training_data_for_pruning(car_set_for_training)\n",
    "print(car_training['CLASS'].value_counts())\n",
    "car_training['CLASS'].value_counts().plot(kind='bar', title='class')"
   ]
  },
  {
   "cell_type": "code",
   "execution_count": 8,
   "id": "complicated-traffic",
   "metadata": {},
   "outputs": [
    {
     "data": {
      "text/html": [
       "<div>\n",
       "<style scoped>\n",
       "    .dataframe tbody tr th:only-of-type {\n",
       "        vertical-align: middle;\n",
       "    }\n",
       "\n",
       "    .dataframe tbody tr th {\n",
       "        vertical-align: top;\n",
       "    }\n",
       "\n",
       "    .dataframe thead th {\n",
       "        text-align: right;\n",
       "    }\n",
       "</style>\n",
       "<table border=\"1\" class=\"dataframe\">\n",
       "  <thead>\n",
       "    <tr style=\"text-align: right;\">\n",
       "      <th></th>\n",
       "      <th>buying</th>\n",
       "      <th>maint</th>\n",
       "      <th>doors</th>\n",
       "      <th>persons</th>\n",
       "      <th>lug_boot</th>\n",
       "      <th>safety</th>\n",
       "      <th>CLASS</th>\n",
       "    </tr>\n",
       "  </thead>\n",
       "  <tbody>\n",
       "    <tr>\n",
       "      <th>0</th>\n",
       "      <td>vhigh</td>\n",
       "      <td>med</td>\n",
       "      <td>4</td>\n",
       "      <td>2</td>\n",
       "      <td>med</td>\n",
       "      <td>low</td>\n",
       "      <td>unacc</td>\n",
       "    </tr>\n",
       "    <tr>\n",
       "      <th>1</th>\n",
       "      <td>high</td>\n",
       "      <td>high</td>\n",
       "      <td>3</td>\n",
       "      <td>4</td>\n",
       "      <td>small</td>\n",
       "      <td>med</td>\n",
       "      <td>unacc</td>\n",
       "    </tr>\n",
       "    <tr>\n",
       "      <th>2</th>\n",
       "      <td>low</td>\n",
       "      <td>med</td>\n",
       "      <td>5more</td>\n",
       "      <td>2</td>\n",
       "      <td>med</td>\n",
       "      <td>low</td>\n",
       "      <td>unacc</td>\n",
       "    </tr>\n",
       "    <tr>\n",
       "      <th>3</th>\n",
       "      <td>med</td>\n",
       "      <td>med</td>\n",
       "      <td>2</td>\n",
       "      <td>more</td>\n",
       "      <td>med</td>\n",
       "      <td>low</td>\n",
       "      <td>unacc</td>\n",
       "    </tr>\n",
       "    <tr>\n",
       "      <th>4</th>\n",
       "      <td>med</td>\n",
       "      <td>med</td>\n",
       "      <td>5more</td>\n",
       "      <td>4</td>\n",
       "      <td>big</td>\n",
       "      <td>low</td>\n",
       "      <td>unacc</td>\n",
       "    </tr>\n",
       "    <tr>\n",
       "      <th>...</th>\n",
       "      <td>...</td>\n",
       "      <td>...</td>\n",
       "      <td>...</td>\n",
       "      <td>...</td>\n",
       "      <td>...</td>\n",
       "      <td>...</td>\n",
       "      <td>...</td>\n",
       "    </tr>\n",
       "    <tr>\n",
       "      <th>800</th>\n",
       "      <td>med</td>\n",
       "      <td>med</td>\n",
       "      <td>3</td>\n",
       "      <td>more</td>\n",
       "      <td>med</td>\n",
       "      <td>high</td>\n",
       "      <td>vgood</td>\n",
       "    </tr>\n",
       "    <tr>\n",
       "      <th>801</th>\n",
       "      <td>med</td>\n",
       "      <td>low</td>\n",
       "      <td>5more</td>\n",
       "      <td>more</td>\n",
       "      <td>med</td>\n",
       "      <td>high</td>\n",
       "      <td>vgood</td>\n",
       "    </tr>\n",
       "    <tr>\n",
       "      <th>802</th>\n",
       "      <td>low</td>\n",
       "      <td>med</td>\n",
       "      <td>5more</td>\n",
       "      <td>2</td>\n",
       "      <td>small</td>\n",
       "      <td>low</td>\n",
       "      <td>unacc</td>\n",
       "    </tr>\n",
       "    <tr>\n",
       "      <th>803</th>\n",
       "      <td>med</td>\n",
       "      <td>med</td>\n",
       "      <td>4</td>\n",
       "      <td>2</td>\n",
       "      <td>big</td>\n",
       "      <td>high</td>\n",
       "      <td>unacc</td>\n",
       "    </tr>\n",
       "    <tr>\n",
       "      <th>804</th>\n",
       "      <td>low</td>\n",
       "      <td>low</td>\n",
       "      <td>3</td>\n",
       "      <td>more</td>\n",
       "      <td>big</td>\n",
       "      <td>high</td>\n",
       "      <td>vgood</td>\n",
       "    </tr>\n",
       "  </tbody>\n",
       "</table>\n",
       "<p>805 rows × 7 columns</p>\n",
       "</div>"
      ],
      "text/plain": [
       "    buying maint  doors persons lug_boot safety  CLASS\n",
       "0    vhigh   med      4       2      med    low  unacc\n",
       "1     high  high      3       4    small    med  unacc\n",
       "2      low   med  5more       2      med    low  unacc\n",
       "3      med   med      2    more      med    low  unacc\n",
       "4      med   med  5more       4      big    low  unacc\n",
       "..     ...   ...    ...     ...      ...    ...    ...\n",
       "800    med   med      3    more      med   high  vgood\n",
       "801    med   low  5more    more      med   high  vgood\n",
       "802    low   med  5more       2    small    low  unacc\n",
       "803    med   med      4       2      big   high  unacc\n",
       "804    low   low      3    more      big   high  vgood\n",
       "\n",
       "[805 rows x 7 columns]"
      ]
     },
     "execution_count": 8,
     "metadata": {},
     "output_type": "execute_result"
    }
   ],
   "source": [
    "car_training"
   ]
  },
  {
   "cell_type": "code",
   "execution_count": 9,
   "id": "affiliated-possible",
   "metadata": {},
   "outputs": [
    {
     "data": {
      "text/plain": [
       "<AxesSubplot:title={'center':'class'}>"
      ]
     },
     "execution_count": 9,
     "metadata": {},
     "output_type": "execute_result"
    },
    {
     "data": {
      "image/png": "[encoded data removed]",
      "text/plain": [
       "<Figure size 432x288 with 1 Axes>"
      ]
     },
     "metadata": {
      "needs_background": "light"
     },
     "output_type": "display_data"
    }
   ],
   "source": [
    "#Target for all 174\n",
    "resampling_car = car_training.copy()\n",
    "unacc_part = resampling_car[resampling_car['CLASS'] == 'unacc']\n",
    "acc_part = resampling_car[resampling_car['CLASS'] == 'acc'] \n",
    "vgood_part = resampling_car[resampling_car['CLASS'] == 'vgood'] \n",
    "good_part = resampling_car[resampling_car['CLASS'] == 'good'] \n",
    "\n",
    "\n",
    "unacc_downsample = resample(unacc_part, \n",
    "                                 replace=False,     \n",
    "                                 n_samples=174)\n",
    "\n",
    "vgood_part_upsampled = resample(vgood_part, \n",
    "                                 replace=True,     \n",
    "                                 n_samples=174)\n",
    "good_part_upsampled = resample(good_part, \n",
    "                                 replace=True,     \n",
    "                                 n_samples=174)\n",
    "\n",
    "# Combine majority class with upsamplet minority class\n",
    "balanced_car_training= pd.concat([unacc_downsample, acc_part, vgood_part_upsampled, good_part_upsampled])\n",
    "balanced_car_training = balanced_car_training.reset_index(level=None, drop=True, inplace=False, col_level=0, col_fill='')\n",
    "balanced_car_training = balanced_car_training.sample(frac=1).reset_index(drop=True)\n",
    "\n",
    "car_training = balanced_car_training.copy()\n",
    "car_training['CLASS'].value_counts().plot(kind='bar', title='class')"
   ]
  },
  {
   "cell_type": "code",
   "execution_count": 10,
   "id": "early-insertion",
   "metadata": {},
   "outputs": [
    {
     "data": {
      "text/html": [
       "<div>\n",
       "<style scoped>\n",
       "    .dataframe tbody tr th:only-of-type {\n",
       "        vertical-align: middle;\n",
       "    }\n",
       "\n",
       "    .dataframe tbody tr th {\n",
       "        vertical-align: top;\n",
       "    }\n",
       "\n",
       "    .dataframe thead th {\n",
       "        text-align: right;\n",
       "    }\n",
       "</style>\n",
       "<table border=\"1\" class=\"dataframe\">\n",
       "  <thead>\n",
       "    <tr style=\"text-align: right;\">\n",
       "      <th></th>\n",
       "      <th>buying</th>\n",
       "      <th>maint</th>\n",
       "      <th>doors</th>\n",
       "      <th>persons</th>\n",
       "      <th>lug_boot</th>\n",
       "      <th>safety</th>\n",
       "      <th>CLASS</th>\n",
       "    </tr>\n",
       "  </thead>\n",
       "  <tbody>\n",
       "    <tr>\n",
       "      <th>0</th>\n",
       "      <td>med</td>\n",
       "      <td>low</td>\n",
       "      <td>5more</td>\n",
       "      <td>more</td>\n",
       "      <td>small</td>\n",
       "      <td>low</td>\n",
       "      <td>unacc</td>\n",
       "    </tr>\n",
       "    <tr>\n",
       "      <th>1</th>\n",
       "      <td>low</td>\n",
       "      <td>high</td>\n",
       "      <td>3</td>\n",
       "      <td>4</td>\n",
       "      <td>big</td>\n",
       "      <td>high</td>\n",
       "      <td>vgood</td>\n",
       "    </tr>\n",
       "    <tr>\n",
       "      <th>2</th>\n",
       "      <td>vhigh</td>\n",
       "      <td>low</td>\n",
       "      <td>4</td>\n",
       "      <td>2</td>\n",
       "      <td>big</td>\n",
       "      <td>med</td>\n",
       "      <td>unacc</td>\n",
       "    </tr>\n",
       "    <tr>\n",
       "      <th>3</th>\n",
       "      <td>low</td>\n",
       "      <td>low</td>\n",
       "      <td>5more</td>\n",
       "      <td>more</td>\n",
       "      <td>big</td>\n",
       "      <td>med</td>\n",
       "      <td>good</td>\n",
       "    </tr>\n",
       "    <tr>\n",
       "      <th>4</th>\n",
       "      <td>high</td>\n",
       "      <td>low</td>\n",
       "      <td>3</td>\n",
       "      <td>more</td>\n",
       "      <td>med</td>\n",
       "      <td>med</td>\n",
       "      <td>acc</td>\n",
       "    </tr>\n",
       "  </tbody>\n",
       "</table>\n",
       "</div>"
      ],
      "text/plain": [
       "  buying maint  doors persons lug_boot safety  CLASS\n",
       "0    med   low  5more    more    small    low  unacc\n",
       "1    low  high      3       4      big   high  vgood\n",
       "2  vhigh   low      4       2      big    med  unacc\n",
       "3    low   low  5more    more      big    med   good\n",
       "4   high   low      3    more      med    med    acc"
      ]
     },
     "execution_count": 10,
     "metadata": {},
     "output_type": "execute_result"
    }
   ],
   "source": [
    "car_training.head()"
   ]
  },
  {
   "cell_type": "markdown",
   "id": "vanilla-banks",
   "metadata": {},
   "source": [
    "## Model Training"
   ]
  },
  {
   "cell_type": "code",
   "execution_count": 11,
   "id": "convenient-advertising",
   "metadata": {},
   "outputs": [
    {
     "name": "stdout",
     "output_type": "stream",
     "text": [
      "Before Pruning - heuristic = gini_impurity_weighted\n",
      "Accuracy for: testing 82.08% | training 97.09% | levels 10 | leafs 96\n",
      "After Pruning:\n",
      "Accuracy for: testing 82.47% | training 96.22% | levels 10 | leafs 88\n",
      "\n",
      "\n",
      "Before Pruning - heuristic = info_gain\n",
      "Accuracy for: testing 82.08% | training 97.09% | levels 10 | leafs 96\n",
      "After Pruning:\n",
      "Accuracy for: testing 82.47% | training 96.22% | levels 10 | leafs 88\n",
      "\n",
      "\n",
      "Before Pruning - heuristic = information_gain_ratio\n",
      "Accuracy for: testing 82.66% | training 95.35% | levels 10 | leafs 106\n",
      "After Pruning:\n",
      "Accuracy for: testing 83.43% | training 94.48% | levels 10 | leafs 102\n",
      "\n",
      "\n",
      "Before Pruning - heuristic = distance_measure\n",
      "Accuracy for: testing 52.22% | training 77.47% | levels 10 | leafs 173\n",
      "After Pruning:\n",
      "Accuracy for: testing 58.77% | training 63.08% | levels 10 | leafs 114\n",
      "\n",
      "\n",
      "Before Pruning - heuristic = j_measure\n",
      "Accuracy for: testing 82.47% | training 97.09% | levels 10 | leafs 95\n",
      "After Pruning:\n",
      "Accuracy for: testing 82.85% | training 96.51% | levels 10 | leafs 90\n",
      "\n",
      "\n",
      "Before Pruning - heuristic = weight_of_evidence\n",
      "Accuracy for: testing 74.18% | training 90.41% | levels 10 | leafs 128\n",
      "After Pruning:\n",
      "Accuracy for: testing 74.95% | training 87.50% | levels 10 | leafs 112\n",
      "\n",
      "\n",
      "Before Pruning - heuristic = gini_pri\n",
      "Accuracy for: testing 58.00% | training 78.78% | levels 10 | leafs 170\n",
      "After Pruning:\n",
      "Accuracy for: testing 62.62% | training 64.53% | levels 10 | leafs 111\n",
      "\n",
      "\n",
      "Before Pruning - heuristic = relief\n",
      "Accuracy for: testing 54.72% | training 77.62% | levels 10 | leafs 174\n",
      "After Pruning:\n",
      "Accuracy for: testing 60.69% | training 64.24% | levels 10 | leafs 117\n",
      "\n",
      "\n",
      "Before Pruning - heuristic = relevance\n",
      "Accuracy for: testing 53.76% | training 78.49% | levels 10 | leafs 165\n",
      "After Pruning:\n",
      "Accuracy for: testing 58.77% | training 64.53% | levels 10 | leafs 111\n",
      "\n",
      "\n",
      "Before Pruning - heuristic = mdl_simple\n",
      "Accuracy for: testing 81.70% | training 97.09% | levels 10 | leafs 96\n",
      "After Pruning:\n",
      "Accuracy for: testing 82.08% | training 96.37% | levels 10 | leafs 89\n",
      "\n",
      "\n"
     ]
    }
   ],
   "source": [
    "train_tree_for_different_heuristics(car_training, car_testing, car_validation)"
   ]
  },
  {
   "cell_type": "markdown",
   "id": "automated-tulsa",
   "metadata": {},
   "source": [
    "# CMC Dataset"
   ]
  },
  {
   "cell_type": "markdown",
   "id": "loving-accreditation",
   "metadata": {},
   "source": [
    "## Dataset preparation"
   ]
  },
  {
   "cell_type": "code",
   "execution_count": 12,
   "id": "forbidden-museum",
   "metadata": {},
   "outputs": [
    {
     "data": {
      "text/html": [
       "<div>\n",
       "<style scoped>\n",
       "    .dataframe tbody tr th:only-of-type {\n",
       "        vertical-align: middle;\n",
       "    }\n",
       "\n",
       "    .dataframe tbody tr th {\n",
       "        vertical-align: top;\n",
       "    }\n",
       "\n",
       "    .dataframe thead th {\n",
       "        text-align: right;\n",
       "    }\n",
       "</style>\n",
       "<table border=\"1\" class=\"dataframe\">\n",
       "  <thead>\n",
       "    <tr style=\"text-align: right;\">\n",
       "      <th></th>\n",
       "      <th>age</th>\n",
       "      <th>education</th>\n",
       "      <th>husbandEducation</th>\n",
       "      <th>noChildren</th>\n",
       "      <th>religion</th>\n",
       "      <th>isWorking</th>\n",
       "      <th>husbandOccupation</th>\n",
       "      <th>livingStandard</th>\n",
       "      <th>mediaExposure</th>\n",
       "      <th>CLASS</th>\n",
       "    </tr>\n",
       "  </thead>\n",
       "  <tbody>\n",
       "    <tr>\n",
       "      <th>0</th>\n",
       "      <td>30</td>\n",
       "      <td>4</td>\n",
       "      <td>4</td>\n",
       "      <td>1</td>\n",
       "      <td>1</td>\n",
       "      <td>1</td>\n",
       "      <td>1</td>\n",
       "      <td>4</td>\n",
       "      <td>0</td>\n",
       "      <td>3</td>\n",
       "    </tr>\n",
       "    <tr>\n",
       "      <th>1</th>\n",
       "      <td>43</td>\n",
       "      <td>3</td>\n",
       "      <td>3</td>\n",
       "      <td>6</td>\n",
       "      <td>1</td>\n",
       "      <td>0</td>\n",
       "      <td>3</td>\n",
       "      <td>2</td>\n",
       "      <td>0</td>\n",
       "      <td>2</td>\n",
       "    </tr>\n",
       "    <tr>\n",
       "      <th>2</th>\n",
       "      <td>36</td>\n",
       "      <td>2</td>\n",
       "      <td>1</td>\n",
       "      <td>6</td>\n",
       "      <td>1</td>\n",
       "      <td>1</td>\n",
       "      <td>2</td>\n",
       "      <td>1</td>\n",
       "      <td>0</td>\n",
       "      <td>2</td>\n",
       "    </tr>\n",
       "    <tr>\n",
       "      <th>3</th>\n",
       "      <td>41</td>\n",
       "      <td>2</td>\n",
       "      <td>4</td>\n",
       "      <td>1</td>\n",
       "      <td>1</td>\n",
       "      <td>1</td>\n",
       "      <td>2</td>\n",
       "      <td>3</td>\n",
       "      <td>0</td>\n",
       "      <td>1</td>\n",
       "    </tr>\n",
       "    <tr>\n",
       "      <th>4</th>\n",
       "      <td>39</td>\n",
       "      <td>3</td>\n",
       "      <td>4</td>\n",
       "      <td>3</td>\n",
       "      <td>1</td>\n",
       "      <td>1</td>\n",
       "      <td>1</td>\n",
       "      <td>4</td>\n",
       "      <td>0</td>\n",
       "      <td>1</td>\n",
       "    </tr>\n",
       "  </tbody>\n",
       "</table>\n",
       "</div>"
      ],
      "text/plain": [
       "   age  education  husbandEducation  noChildren  religion  isWorking  \\\n",
       "0   30          4                 4           1         1          1   \n",
       "1   43          3                 3           6         1          0   \n",
       "2   36          2                 1           6         1          1   \n",
       "3   41          2                 4           1         1          1   \n",
       "4   39          3                 4           3         1          1   \n",
       "\n",
       "   husbandOccupation  livingStandard  mediaExposure  CLASS  \n",
       "0                  1               4              0      3  \n",
       "1                  3               2              0      2  \n",
       "2                  2               1              0      2  \n",
       "3                  2               3              0      1  \n",
       "4                  1               4              0      1  "
      ]
     },
     "execution_count": 12,
     "metadata": {},
     "output_type": "execute_result"
    }
   ],
   "source": [
    "cmc_dataset_path = 'data/cmc.data'\n",
    "cmc_dataset_labels = ['age','education','husbandEducation','noChildren','religion','isWorking','husbandOccupation','livingStandard', 'mediaExposure', 'CLASS']\n",
    "cmc_dataset = data_utils.preapare_dataset(cmc_dataset_path, cmc_dataset_labels)\n",
    "# cmc_dataset['CLASS'] = cmc_dataset['CLASS'].apply(str)\n",
    "cmc_dataset.head()"
   ]
  },
  {
   "cell_type": "code",
   "execution_count": 13,
   "id": "guilty-hypothetical",
   "metadata": {},
   "outputs": [
    {
     "name": "stdout",
     "output_type": "stream",
     "text": [
      "1    287\n",
      "3    228\n",
      "2    172\n",
      "Name: CLASS, dtype: int64\n"
     ]
    },
    {
     "data": {
      "text/plain": [
       "<AxesSubplot:title={'center':'class'}>"
      ]
     },
     "execution_count": 13,
     "metadata": {},
     "output_type": "execute_result"
    },
    {
     "data": {
      "image/png": "[encoded data removed]",
      "text/plain": [
       "<Figure size 432x288 with 1 Axes>"
      ]
     },
     "metadata": {
      "needs_background": "light"
     },
     "output_type": "display_data"
    }
   ],
   "source": [
    "cmc_set_for_training, cmc_testing = data_utils.data_split(cmc_dataset, 70)\n",
    "cmc_training, cmc_validation = data_utils.split_training_data_for_pruning(cmc_set_for_training)\n",
    "print(cmc_training['CLASS'].value_counts())\n",
    "#This data seems to be balanced so dont need aditional balancing\n",
    "cmc_training['CLASS'].value_counts().plot(kind='bar', title='class')"
   ]
  },
  {
   "cell_type": "markdown",
   "id": "blind-response",
   "metadata": {},
   "source": [
    "## Model Training"
   ]
  },
  {
   "cell_type": "code",
   "execution_count": 14,
   "id": "extraordinary-range",
   "metadata": {},
   "outputs": [
    {
     "name": "stdout",
     "output_type": "stream",
     "text": [
      "Before Pruning - heuristic = gini_impurity_weighted\n",
      "Accuracy for: testing 47.74% | training 81.08% | levels 30 | leafs 157\n",
      "After Pruning:\n",
      "Accuracy for: testing 58.37% | training 64.34% | levels 28 | leafs 49\n",
      "\n",
      "\n",
      "Before Pruning - heuristic = info_gain\n",
      "Accuracy for: testing 45.48% | training 55.02% | levels 62 | leafs 194\n",
      "After Pruning:\n",
      "Accuracy for: testing 42.53% | training 48.03% | levels 46 | leafs 88\n",
      "\n",
      "\n",
      "Before Pruning - heuristic = information_gain_ratio\n",
      "Accuracy for: testing 43.89% | training 56.77% | levels 62 | leafs 196\n",
      "After Pruning:\n",
      "Accuracy for: testing 42.08% | training 48.76% | levels 44 | leafs 88\n",
      "\n",
      "\n",
      "Before Pruning - heuristic = distance_measure\n",
      "Accuracy for: testing 42.76% | training 51.82% | levels 38 | leafs 125\n",
      "After Pruning:\n",
      "Accuracy for: testing 44.57% | training 43.38% | levels 20 | leafs 21\n",
      "\n",
      "\n",
      "Before Pruning - heuristic = j_measure\n",
      "Accuracy for: testing 45.48% | training 55.02% | levels 62 | leafs 194\n",
      "After Pruning:\n",
      "Accuracy for: testing 42.53% | training 48.03% | levels 46 | leafs 88\n",
      "\n",
      "\n",
      "Before Pruning - heuristic = weight_of_evidence\n",
      "Accuracy for: testing 45.02% | training 58.81% | levels 62 | leafs 188\n",
      "After Pruning:\n",
      "Accuracy for: testing 42.76% | training 49.93% | levels 42 | leafs 95\n",
      "\n",
      "\n",
      "Before Pruning - heuristic = gini_pri\n",
      "Accuracy for: testing 50.90% | training 69.58% | levels 34 | leafs 122\n",
      "After Pruning:\n",
      "Accuracy for: testing 51.58% | training 56.33% | levels 24 | leafs 44\n",
      "\n",
      "\n",
      "Before Pruning - heuristic = relief\n",
      "Accuracy for: testing 50.90% | training 69.58% | levels 34 | leafs 122\n",
      "After Pruning:\n",
      "Accuracy for: testing 51.58% | training 56.33% | levels 24 | leafs 44\n",
      "\n",
      "\n",
      "Before Pruning - heuristic = relevance\n",
      "Accuracy for: testing 51.58% | training 69.58% | levels 36 | leafs 117\n",
      "After Pruning:\n",
      "Accuracy for: testing 51.58% | training 56.33% | levels 24 | leafs 43\n",
      "\n",
      "\n",
      "Before Pruning - heuristic = mdl_simple\n",
      "Accuracy for: testing 48.42% | training 70.74% | levels 34 | leafs 127\n",
      "After Pruning:\n",
      "Accuracy for: testing 51.58% | training 56.48% | levels 24 | leafs 40\n",
      "\n",
      "\n"
     ]
    }
   ],
   "source": [
    "train_tree_for_different_heuristics(cmc_training, cmc_testing, cmc_validation)"
   ]
  },
  {
   "cell_type": "markdown",
   "id": "likely-accountability",
   "metadata": {},
   "source": [
    "# Adult Dataset"
   ]
  },
  {
   "cell_type": "markdown",
   "id": "egyptian-graphics",
   "metadata": {},
   "source": [
    "## Data preparation"
   ]
  },
  {
   "cell_type": "code",
   "execution_count": 15,
   "id": "heavy-homeless",
   "metadata": {},
   "outputs": [
    {
     "data": {
      "text/html": [
       "<div>\n",
       "<style scoped>\n",
       "    .dataframe tbody tr th:only-of-type {\n",
       "        vertical-align: middle;\n",
       "    }\n",
       "\n",
       "    .dataframe tbody tr th {\n",
       "        vertical-align: top;\n",
       "    }\n",
       "\n",
       "    .dataframe thead th {\n",
       "        text-align: right;\n",
       "    }\n",
       "</style>\n",
       "<table border=\"1\" class=\"dataframe\">\n",
       "  <thead>\n",
       "    <tr style=\"text-align: right;\">\n",
       "      <th></th>\n",
       "      <th>age</th>\n",
       "      <th>workclass</th>\n",
       "      <th>fnlwgt</th>\n",
       "      <th>education</th>\n",
       "      <th>education-num</th>\n",
       "      <th>marital-status</th>\n",
       "      <th>occupation</th>\n",
       "      <th>relationship</th>\n",
       "      <th>race</th>\n",
       "      <th>sex</th>\n",
       "      <th>capital-gain</th>\n",
       "      <th>capital-loss</th>\n",
       "      <th>hourse-per-week</th>\n",
       "      <th>native-country</th>\n",
       "      <th>CLASS</th>\n",
       "    </tr>\n",
       "  </thead>\n",
       "  <tbody>\n",
       "    <tr>\n",
       "      <th>0</th>\n",
       "      <td>34</td>\n",
       "      <td>State-gov</td>\n",
       "      <td>252529</td>\n",
       "      <td>Bachelors</td>\n",
       "      <td>13</td>\n",
       "      <td>Never-married</td>\n",
       "      <td>Prof-specialty</td>\n",
       "      <td>Not-in-family</td>\n",
       "      <td>White</td>\n",
       "      <td>Male</td>\n",
       "      <td>0</td>\n",
       "      <td>0</td>\n",
       "      <td>48</td>\n",
       "      <td>United-States</td>\n",
       "      <td>&lt;=50K</td>\n",
       "    </tr>\n",
       "    <tr>\n",
       "      <th>1</th>\n",
       "      <td>31</td>\n",
       "      <td>Private</td>\n",
       "      <td>187560</td>\n",
       "      <td>HS-grad</td>\n",
       "      <td>9</td>\n",
       "      <td>Never-married</td>\n",
       "      <td>Adm-clerical</td>\n",
       "      <td>Not-in-family</td>\n",
       "      <td>White</td>\n",
       "      <td>Male</td>\n",
       "      <td>2174</td>\n",
       "      <td>0</td>\n",
       "      <td>40</td>\n",
       "      <td>United-States</td>\n",
       "      <td>&lt;=50K</td>\n",
       "    </tr>\n",
       "    <tr>\n",
       "      <th>2</th>\n",
       "      <td>50</td>\n",
       "      <td>Private</td>\n",
       "      <td>287927</td>\n",
       "      <td>HS-grad</td>\n",
       "      <td>9</td>\n",
       "      <td>Married-civ-spouse</td>\n",
       "      <td>Prof-specialty</td>\n",
       "      <td>Wife</td>\n",
       "      <td>White</td>\n",
       "      <td>Female</td>\n",
       "      <td>0</td>\n",
       "      <td>0</td>\n",
       "      <td>16</td>\n",
       "      <td>United-States</td>\n",
       "      <td>&lt;=50K</td>\n",
       "    </tr>\n",
       "    <tr>\n",
       "      <th>3</th>\n",
       "      <td>51</td>\n",
       "      <td>Private</td>\n",
       "      <td>175339</td>\n",
       "      <td>Bachelors</td>\n",
       "      <td>13</td>\n",
       "      <td>Married-civ-spouse</td>\n",
       "      <td>Sales</td>\n",
       "      <td>Husband</td>\n",
       "      <td>White</td>\n",
       "      <td>Male</td>\n",
       "      <td>0</td>\n",
       "      <td>0</td>\n",
       "      <td>47</td>\n",
       "      <td>United-States</td>\n",
       "      <td>&gt;50K</td>\n",
       "    </tr>\n",
       "    <tr>\n",
       "      <th>4</th>\n",
       "      <td>24</td>\n",
       "      <td>Private</td>\n",
       "      <td>198148</td>\n",
       "      <td>Some-college</td>\n",
       "      <td>10</td>\n",
       "      <td>Never-married</td>\n",
       "      <td>Other-service</td>\n",
       "      <td>Own-child</td>\n",
       "      <td>White</td>\n",
       "      <td>Male</td>\n",
       "      <td>0</td>\n",
       "      <td>0</td>\n",
       "      <td>30</td>\n",
       "      <td>United-States</td>\n",
       "      <td>&lt;=50K</td>\n",
       "    </tr>\n",
       "  </tbody>\n",
       "</table>\n",
       "</div>"
      ],
      "text/plain": [
       "   age   workclass  fnlwgt      education  education-num       marital-status  \\\n",
       "0   34   State-gov  252529      Bachelors             13        Never-married   \n",
       "1   31     Private  187560        HS-grad              9        Never-married   \n",
       "2   50     Private  287927        HS-grad              9   Married-civ-spouse   \n",
       "3   51     Private  175339      Bachelors             13   Married-civ-spouse   \n",
       "4   24     Private  198148   Some-college             10        Never-married   \n",
       "\n",
       "        occupation    relationship    race      sex  capital-gain  \\\n",
       "0   Prof-specialty   Not-in-family   White     Male             0   \n",
       "1     Adm-clerical   Not-in-family   White     Male          2174   \n",
       "2   Prof-specialty            Wife   White   Female             0   \n",
       "3            Sales         Husband   White     Male             0   \n",
       "4    Other-service       Own-child   White     Male             0   \n",
       "\n",
       "   capital-loss  hourse-per-week  native-country   CLASS  \n",
       "0             0               48   United-States   <=50K  \n",
       "1             0               40   United-States   <=50K  \n",
       "2             0               16   United-States   <=50K  \n",
       "3             0               47   United-States    >50K  \n",
       "4             0               30   United-States   <=50K  "
      ]
     },
     "execution_count": 15,
     "metadata": {},
     "output_type": "execute_result"
    }
   ],
   "source": [
    "\"\"\"\n",
    "TODO:\n",
    "Drop rows with invalid values like '?'\n",
    "\"\"\"\n",
    "adult_dataset_path = 'data/adult.data'\n",
    "adult_dataset_labels = ['age','workclass','fnlwgt','education','education-num','marital-status','occupation','relationship','race','sex','capital-gain','capital-loss','hourse-per-week','native-country','CLASS']\n",
    "adult_dataset = data_utils.preapare_dataset(adult_dataset_path, adult_dataset_labels)\n",
    "adult_dataset.head()"
   ]
  },
  {
   "cell_type": "code",
   "execution_count": 16,
   "id": "beneficial-devil",
   "metadata": {},
   "outputs": [
    {
     "data": {
      "text/html": [
       "<div>\n",
       "<style scoped>\n",
       "    .dataframe tbody tr th:only-of-type {\n",
       "        vertical-align: middle;\n",
       "    }\n",
       "\n",
       "    .dataframe tbody tr th {\n",
       "        vertical-align: top;\n",
       "    }\n",
       "\n",
       "    .dataframe thead th {\n",
       "        text-align: right;\n",
       "    }\n",
       "</style>\n",
       "<table border=\"1\" class=\"dataframe\">\n",
       "  <thead>\n",
       "    <tr style=\"text-align: right;\">\n",
       "      <th></th>\n",
       "      <th>age</th>\n",
       "      <th>workclass</th>\n",
       "      <th>education</th>\n",
       "      <th>education-num</th>\n",
       "      <th>marital-status</th>\n",
       "      <th>occupation</th>\n",
       "      <th>relationship</th>\n",
       "      <th>race</th>\n",
       "      <th>sex</th>\n",
       "      <th>hourse-per-week</th>\n",
       "      <th>CLASS</th>\n",
       "    </tr>\n",
       "  </thead>\n",
       "  <tbody>\n",
       "    <tr>\n",
       "      <th>0</th>\n",
       "      <td>34</td>\n",
       "      <td>State-gov</td>\n",
       "      <td>Bachelors</td>\n",
       "      <td>13</td>\n",
       "      <td>Never-married</td>\n",
       "      <td>Prof-specialty</td>\n",
       "      <td>Not-in-family</td>\n",
       "      <td>White</td>\n",
       "      <td>Male</td>\n",
       "      <td>48</td>\n",
       "      <td>&lt;=50K</td>\n",
       "    </tr>\n",
       "    <tr>\n",
       "      <th>1</th>\n",
       "      <td>31</td>\n",
       "      <td>Private</td>\n",
       "      <td>HS-grad</td>\n",
       "      <td>9</td>\n",
       "      <td>Never-married</td>\n",
       "      <td>Adm-clerical</td>\n",
       "      <td>Not-in-family</td>\n",
       "      <td>White</td>\n",
       "      <td>Male</td>\n",
       "      <td>40</td>\n",
       "      <td>&lt;=50K</td>\n",
       "    </tr>\n",
       "    <tr>\n",
       "      <th>2</th>\n",
       "      <td>50</td>\n",
       "      <td>Private</td>\n",
       "      <td>HS-grad</td>\n",
       "      <td>9</td>\n",
       "      <td>Married-civ-spouse</td>\n",
       "      <td>Prof-specialty</td>\n",
       "      <td>Wife</td>\n",
       "      <td>White</td>\n",
       "      <td>Female</td>\n",
       "      <td>16</td>\n",
       "      <td>&lt;=50K</td>\n",
       "    </tr>\n",
       "    <tr>\n",
       "      <th>3</th>\n",
       "      <td>51</td>\n",
       "      <td>Private</td>\n",
       "      <td>Bachelors</td>\n",
       "      <td>13</td>\n",
       "      <td>Married-civ-spouse</td>\n",
       "      <td>Sales</td>\n",
       "      <td>Husband</td>\n",
       "      <td>White</td>\n",
       "      <td>Male</td>\n",
       "      <td>47</td>\n",
       "      <td>&gt;50K</td>\n",
       "    </tr>\n",
       "    <tr>\n",
       "      <th>4</th>\n",
       "      <td>24</td>\n",
       "      <td>Private</td>\n",
       "      <td>Some-college</td>\n",
       "      <td>10</td>\n",
       "      <td>Never-married</td>\n",
       "      <td>Other-service</td>\n",
       "      <td>Own-child</td>\n",
       "      <td>White</td>\n",
       "      <td>Male</td>\n",
       "      <td>30</td>\n",
       "      <td>&lt;=50K</td>\n",
       "    </tr>\n",
       "  </tbody>\n",
       "</table>\n",
       "</div>"
      ],
      "text/plain": [
       "   age  workclass     education  education-num      marital-status  \\\n",
       "0   34  State-gov     Bachelors             13       Never-married   \n",
       "1   31    Private       HS-grad              9       Never-married   \n",
       "2   50    Private       HS-grad              9  Married-civ-spouse   \n",
       "3   51    Private     Bachelors             13  Married-civ-spouse   \n",
       "4   24    Private  Some-college             10       Never-married   \n",
       "\n",
       "       occupation   relationship   race     sex  hourse-per-week  CLASS  \n",
       "0  Prof-specialty  Not-in-family  White    Male               48  <=50K  \n",
       "1    Adm-clerical  Not-in-family  White    Male               40  <=50K  \n",
       "2  Prof-specialty           Wife  White  Female               16  <=50K  \n",
       "3           Sales        Husband  White    Male               47   >50K  \n",
       "4   Other-service      Own-child  White    Male               30  <=50K  "
      ]
     },
     "execution_count": 16,
     "metadata": {},
     "output_type": "execute_result"
    }
   ],
   "source": [
    "adult_dataset = adult_dataset[['age','workclass','education','education-num','marital-status','occupation','relationship','race','sex','hourse-per-week','CLASS']]\n",
    "\n",
    "for element in list(adult_dataset):\n",
    "    if adult_dataset[element].dtype not in [np.float64, np.int64]:\n",
    "        adult_dataset[element] = adult_dataset[element].str.strip()\n",
    "\n",
    "adult_dataset['CLASS'] = adult_dataset['CLASS'].str.strip()\n",
    "adult_dataset.head()"
   ]
  },
  {
   "cell_type": "code",
   "execution_count": 17,
   "id": "excellent-central",
   "metadata": {},
   "outputs": [
    {
     "name": "stdout",
     "output_type": "stream",
     "text": [
      "<=50K    11550\n",
      ">50K      3644\n",
      "Name: CLASS, dtype: int64\n"
     ]
    },
    {
     "data": {
      "text/plain": [
       "<AxesSubplot:title={'center':'class'}>"
      ]
     },
     "execution_count": 17,
     "metadata": {},
     "output_type": "execute_result"
    },
    {
     "data": {
      "image/png": "[encoded data removed]",
      "text/plain": [
       "<Figure size 432x288 with 1 Axes>"
      ]
     },
     "metadata": {
      "needs_background": "light"
     },
     "output_type": "display_data"
    }
   ],
   "source": [
    "adult_set_for_training, adult_testing = data_utils.data_split(adult_dataset, 70)\n",
    "adult_training, adult_validation = data_utils.split_training_data_for_pruning(adult_set_for_training)\n",
    "\n",
    "print(adult_training['CLASS'].value_counts())\n",
    "adult_training['CLASS'].value_counts().plot(kind='bar', title='class')"
   ]
  },
  {
   "cell_type": "code",
   "execution_count": 18,
   "id": "mature-cologne",
   "metadata": {},
   "outputs": [
    {
     "data": {
      "text/plain": [
       "<AxesSubplot:title={'center':'class'}>"
      ]
     },
     "execution_count": 18,
     "metadata": {},
     "output_type": "execute_result"
    },
    {
     "data": {
      "image/png": "[encoded data removed]",
      "text/plain": [
       "<Figure size 432x288 with 1 Axes>"
      ]
     },
     "metadata": {
      "needs_background": "light"
     },
     "output_type": "display_data"
    }
   ],
   "source": [
    "resampling_adult = adult_training.copy()\n",
    "less_50k_part = resampling_adult[resampling_adult['CLASS'] == '<=50K']\n",
    "more_50k_part = resampling_adult[resampling_adult['CLASS'] == '>50K'] \n",
    "\n",
    "less_50k_part_downsampled = resample(less_50k_part, \n",
    "                                 replace=False,    \n",
    "                                 n_samples=3706)\n",
    "\n",
    "# Combine minority class with downsampled majority class\n",
    "balanced_adult_training = pd.concat([less_50k_part_downsampled, more_50k_part])\n",
    "balanced_adult_training = balanced_adult_training.reset_index(level=None, drop=True, inplace=False, col_level=0, col_fill='')\n",
    "balanced_adult_training = balanced_adult_training.sample(frac=1).reset_index(drop=True)\n",
    "\n",
    "adult_training = balanced_adult_training.copy()\n",
    "adult_training['CLASS'].value_counts().plot(kind='bar', title='class')"
   ]
  },
  {
   "cell_type": "markdown",
   "id": "periodic-pressing",
   "metadata": {},
   "source": [
    "## Model Training"
   ]
  },
  {
   "cell_type": "code",
   "execution_count": 19,
   "id": "spoken-attack",
   "metadata": {},
   "outputs": [
    {
     "name": "stdout",
     "output_type": "stream",
     "text": [
      "Before Pruning - heuristic = gini_impurity_weighted\n",
      "Accuracy for: testing 77.33% | training 82.20% | levels 24 | leafs 432\n",
      "After Pruning:\n",
      "Accuracy for: testing 79.18% | training 80.16% | levels 24 | leafs 173\n",
      "\n",
      "\n",
      "Before Pruning - heuristic = info_gain\n",
      "Accuracy for: testing 66.47% | training 70.18% | levels 212 | leafs 345\n",
      "After Pruning:\n",
      "Accuracy for: testing 75.71% | training 50.42% | levels 2 | leafs 2\n",
      "\n",
      "\n",
      "Before Pruning - heuristic = information_gain_ratio\n",
      "Accuracy for: testing 66.23% | training 69.82% | levels 214 | leafs 329\n",
      "After Pruning:\n",
      "Accuracy for: testing 75.71% | training 50.42% | levels 2 | leafs 2\n",
      "\n",
      "\n",
      "Before Pruning - heuristic = distance_measure\n",
      "Accuracy for: testing 70.43% | training 72.60% | levels 14 | leafs 345\n",
      "After Pruning:\n",
      "Accuracy for: testing 74.86% | training 58.90% | levels 14 | leafs 105\n",
      "\n",
      "\n",
      "Before Pruning - heuristic = j_measure\n",
      "Accuracy for: testing 66.47% | training 70.18% | levels 212 | leafs 345\n",
      "After Pruning:\n",
      "Accuracy for: testing 75.71% | training 50.42% | levels 2 | leafs 2\n",
      "\n",
      "\n",
      "Before Pruning - heuristic = weight_of_evidence\n",
      "Accuracy for: testing 68.07% | training 71.44% | levels 214 | leafs 302\n",
      "After Pruning:\n",
      "Accuracy for: testing 75.71% | training 50.42% | levels 2 | leafs 2\n",
      "\n",
      "\n",
      "Before Pruning - heuristic = gini_pri\n",
      "Accuracy for: testing 68.03% | training 70.95% | levels 12 | leafs 228\n",
      "After Pruning:\n",
      "Accuracy for: testing 73.80% | training 59.05% | levels 12 | leafs 105\n",
      "\n",
      "\n",
      "Before Pruning - heuristic = relief\n",
      "Accuracy for: testing 70.33% | training 70.87% | levels 10 | leafs 246\n",
      "After Pruning:\n",
      "Accuracy for: testing 74.33% | training 58.39% | levels 8 | leafs 87\n",
      "\n",
      "\n",
      "Before Pruning - heuristic = relevance\n",
      "Accuracy for: testing 69.98% | training 70.64% | levels 14 | leafs 156\n",
      "After Pruning:\n",
      "Accuracy for: testing 75.08% | training 59.13% | levels 14 | leafs 89\n",
      "\n",
      "\n",
      "Before Pruning - heuristic = mdl_simple\n",
      "Accuracy for: testing 77.11% | training 80.75% | levels 10 | leafs 427\n",
      "After Pruning:\n",
      "Accuracy for: testing 81.29% | training 71.18% | levels 10 | leafs 114\n",
      "\n",
      "\n"
     ]
    }
   ],
   "source": [
    "train_tree_for_different_heuristics(adult_training, adult_testing, adult_validation)"
   ]
  }
 ],
 "metadata": {
  "kernelspec": {
   "display_name": "Python 3",
   "language": "python",
   "name": "python3"
  },
  "language_info": {
   "codemirror_mode": {
    "name": "ipython",
    "version": 3
   },
   "file_extension": ".py",
   "mimetype": "text/x-python",
   "name": "python",
   "nbconvert_exporter": "python",
   "pygments_lexer": "ipython3",
   "version": "3.8.5"
  }
 },
 "nbformat": 4,
 "nbformat_minor": 5
}
