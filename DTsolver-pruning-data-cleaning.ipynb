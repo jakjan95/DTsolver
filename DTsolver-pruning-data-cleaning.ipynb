{
 "cells": [
  {
   "cell_type": "code",
   "execution_count": 1,
   "id": "improving-hopkins",
   "metadata": {},
   "outputs": [
    {
     "data": {
      "text/html": [
       "<style>.container { width:100% !important; }</style>"
      ],
      "text/plain": [
       "<IPython.core.display.HTML object>"
      ]
     },
     "metadata": {},
     "output_type": "display_data"
    }
   ],
   "source": [
    "from IPython.core.display import display, HTML\n",
    "display(HTML(\"<style>.container { width:100% !important; }</style>\"))"
   ]
  },
  {
   "cell_type": "code",
   "execution_count": 2,
   "id": "sustained-making",
   "metadata": {},
   "outputs": [],
   "source": [
    "import src.data_utils as data_utils\n",
    "import src.tree_build as dt_tree\n",
    "import src.heurestics as dt_heur\n",
    "import src.tree_utils as tree_utils\n",
    "import src.dt_testing_utils as dt_testing\n",
    "import src.tree_pruning as tree_pruning\n",
    "\n",
    "from pprint import pprint\n",
    "import numpy as np\n",
    "import pandas as pd\n",
    "from sklearn.utils import resample"
   ]
  },
  {
   "cell_type": "markdown",
   "id": "unable-audio",
   "metadata": {},
   "source": [
    "## Utils"
   ]
  },
  {
   "cell_type": "code",
   "execution_count": 3,
   "id": "plastic-leonard",
   "metadata": {},
   "outputs": [],
   "source": [
    "def print_tree_informations(tree, training_data, testing_data):\n",
    "    accuracy_testing = tree_utils.tree_accuracy(testing_data, tree)\n",
    "    accuracy_training = tree_utils.tree_accuracy(training_data, tree)\n",
    "    levels = tree_utils.number_of_levels(tree)\n",
    "    leafs = tree_utils.number_of_leafs(tree)\n",
    "    print(\"Accuracy for: testing {0:.2f}% | training {1:.2f}% | levels {2} | leafs {3}\".format(accuracy_testing, accuracy_training,levels, leafs))"
   ]
  },
  {
   "cell_type": "code",
   "execution_count": 4,
   "id": "hungry-tactics",
   "metadata": {},
   "outputs": [],
   "source": [
    "#heuristics\n",
    "def train_and_prune_tree(heurestic, training_data, testing_data, validation_data):\n",
    "    print(\"Before Pruning - heuristic = {0}\".format(heurestic.__name__))\n",
    "    trained_tree = dt_tree.build_tree_generic(heurestic, training_data)\n",
    "    print_tree_informations(trained_tree, training_data, testing_data)\n",
    "#     pprint(trained_tree)\n",
    "    print(\"After Pruning:\")\n",
    "    pruned_trained_tree = tree_pruning.reduced_error_pruning(trained_tree, validation_data)\n",
    "    print_tree_informations(pruned_trained_tree, training_data, testing_data)\n",
    "    print('\\n')\n",
    "#     pprint(pruned_trained_tree)"
   ]
  },
  {
   "cell_type": "code",
   "execution_count": 5,
   "id": "powered-duncan",
   "metadata": {},
   "outputs": [],
   "source": [
    "default_heuristics = [dt_heur.gini_impurity_weighted, dt_heur.info_gain, dt_heur.information_gain_ratio,\n",
    "                      dt_heur.distance_measure, dt_heur.j_measure, dt_heur.weight_of_evidence,\n",
    "                      dt_heur.gini_pri, dt_heur.relief, dt_heur.relevance, dt_heur.mdl_simple]\n",
    "\n",
    "def train_tree_for_different_heuristics(training_data, testing_data, validation_data, heuristics = default_heuristics):\n",
    "    for heuristic in heuristics:\n",
    "        train_and_prune_tree(heuristic, training_data, testing_data, validation_data)"
   ]
  },
  {
   "cell_type": "markdown",
   "id": "abandoned-satin",
   "metadata": {},
   "source": [
    "# Car dataset"
   ]
  },
  {
   "cell_type": "markdown",
   "id": "sharing-envelope",
   "metadata": {},
   "source": [
    "## Dataset preparation"
   ]
  },
  {
   "cell_type": "code",
   "execution_count": 6,
   "id": "explicit-bermuda",
   "metadata": {},
   "outputs": [
    {
     "data": {
      "text/html": [
       "<div>\n",
       "<style scoped>\n",
       "    .dataframe tbody tr th:only-of-type {\n",
       "        vertical-align: middle;\n",
       "    }\n",
       "\n",
       "    .dataframe tbody tr th {\n",
       "        vertical-align: top;\n",
       "    }\n",
       "\n",
       "    .dataframe thead th {\n",
       "        text-align: right;\n",
       "    }\n",
       "</style>\n",
       "<table border=\"1\" class=\"dataframe\">\n",
       "  <thead>\n",
       "    <tr style=\"text-align: right;\">\n",
       "      <th></th>\n",
       "      <th>buying</th>\n",
       "      <th>maint</th>\n",
       "      <th>doors</th>\n",
       "      <th>persons</th>\n",
       "      <th>lug_boot</th>\n",
       "      <th>safety</th>\n",
       "      <th>CLASS</th>\n",
       "    </tr>\n",
       "  </thead>\n",
       "  <tbody>\n",
       "    <tr>\n",
       "      <th>0</th>\n",
       "      <td>low</td>\n",
       "      <td>low</td>\n",
       "      <td>2</td>\n",
       "      <td>more</td>\n",
       "      <td>med</td>\n",
       "      <td>low</td>\n",
       "      <td>unacc</td>\n",
       "    </tr>\n",
       "    <tr>\n",
       "      <th>1</th>\n",
       "      <td>vhigh</td>\n",
       "      <td>vhigh</td>\n",
       "      <td>2</td>\n",
       "      <td>4</td>\n",
       "      <td>big</td>\n",
       "      <td>med</td>\n",
       "      <td>unacc</td>\n",
       "    </tr>\n",
       "    <tr>\n",
       "      <th>2</th>\n",
       "      <td>high</td>\n",
       "      <td>high</td>\n",
       "      <td>2</td>\n",
       "      <td>more</td>\n",
       "      <td>small</td>\n",
       "      <td>med</td>\n",
       "      <td>unacc</td>\n",
       "    </tr>\n",
       "    <tr>\n",
       "      <th>3</th>\n",
       "      <td>high</td>\n",
       "      <td>med</td>\n",
       "      <td>5more</td>\n",
       "      <td>more</td>\n",
       "      <td>med</td>\n",
       "      <td>med</td>\n",
       "      <td>acc</td>\n",
       "    </tr>\n",
       "    <tr>\n",
       "      <th>4</th>\n",
       "      <td>med</td>\n",
       "      <td>med</td>\n",
       "      <td>5more</td>\n",
       "      <td>more</td>\n",
       "      <td>big</td>\n",
       "      <td>low</td>\n",
       "      <td>unacc</td>\n",
       "    </tr>\n",
       "  </tbody>\n",
       "</table>\n",
       "</div>"
      ],
      "text/plain": [
       "  buying  maint  doors persons lug_boot safety  CLASS\n",
       "0    low    low      2    more      med    low  unacc\n",
       "1  vhigh  vhigh      2       4      big    med  unacc\n",
       "2   high   high      2    more    small    med  unacc\n",
       "3   high    med  5more    more      med    med    acc\n",
       "4    med    med  5more    more      big    low  unacc"
      ]
     },
     "execution_count": 6,
     "metadata": {},
     "output_type": "execute_result"
    }
   ],
   "source": [
    "car_dataset_path = 'data/car.data'\n",
    "car_dataset_labels = ['buying','maint','doors','persons','lug_boot','safety','CLASS']\n",
    "car_dataset = data_utils.preapare_dataset(car_dataset_path, car_dataset_labels)\n",
    "car_dataset.head()"
   ]
  },
  {
   "cell_type": "markdown",
   "id": "enormous-faith",
   "metadata": {},
   "source": [
    "### Car 70%"
   ]
  },
  {
   "cell_type": "code",
   "execution_count": 7,
   "id": "invalid-holly",
   "metadata": {},
   "outputs": [
    {
     "name": "stdout",
     "output_type": "stream",
     "text": [
      "unacc    588\n",
      "acc      158\n",
      "good      33\n",
      "vgood     26\n",
      "Name: CLASS, dtype: int64\n"
     ]
    },
    {
     "data": {
      "text/plain": [
       "<AxesSubplot:title={'center':'class'}>"
      ]
     },
     "execution_count": 7,
     "metadata": {},
     "output_type": "execute_result"
    },
    {
     "data": {
      "image/png": "[encoded data removed]",
      "text/plain": [
       "<Figure size 432x288 with 1 Axes>"
      ]
     },
     "metadata": {
      "needs_background": "light"
     },
     "output_type": "display_data"
    }
   ],
   "source": [
    "car_set_for_training70, car_testing70 = data_utils.data_split(car_dataset, 70)\n",
    "car_training70, car_validation70 = data_utils.split_training_data_for_pruning(car_set_for_training70)\n",
    "print(car_training70['CLASS'].value_counts())\n",
    "car_training70['CLASS'].value_counts().plot(kind='bar', title='class')"
   ]
  },
  {
   "cell_type": "code",
   "execution_count": null,
   "id": "complicated-traffic",
   "metadata": {},
   "outputs": [],
   "source": [
    "# car_training"
   ]
  },
  {
   "cell_type": "code",
   "execution_count": 8,
   "id": "affiliated-possible",
   "metadata": {},
   "outputs": [
    {
     "name": "stdout",
     "output_type": "stream",
     "text": [
      "158\n"
     ]
    },
    {
     "data": {
      "text/plain": [
       "<AxesSubplot:title={'center':'class'}>"
      ]
     },
     "execution_count": 8,
     "metadata": {},
     "output_type": "execute_result"
    },
    {
     "data": {
      "image/png": "[encoded data removed]",
      "text/plain": [
       "<Figure size 432x288 with 1 Axes>"
      ]
     },
     "metadata": {
      "needs_background": "light"
     },
     "output_type": "display_data"
    }
   ],
   "source": [
    "#Target for all 174\n",
    "resampling_car70 = car_training70.copy()\n",
    "unacc_part70 = resampling_car70[resampling_car70['CLASS'] == 'unacc']\n",
    "acc_part70 = resampling_car70[resampling_car70['CLASS'] == 'acc'] \n",
    "print(len(acc_part70))\n",
    "vgood_part70 = resampling_car70[resampling_car70['CLASS'] == 'vgood'] \n",
    "good_part70 = resampling_car70[resampling_car70['CLASS'] == 'good'] \n",
    "\n",
    "\n",
    "unacc_downsample70 = resample(unacc_part70, \n",
    "                                 replace=False,     \n",
    "                                 n_samples=179)\n",
    "\n",
    "vgood_part_upsampled70 = resample(vgood_part70, \n",
    "                                 replace=True,     \n",
    "                                 n_samples=179)\n",
    "good_part_upsampled70 = resample(good_part70, \n",
    "                                 replace=True,     \n",
    "                                 n_samples=179)\n",
    "\n",
    "# Combine majority class with upsamplet minority class\n",
    "balanced_car_training70 = pd.concat([unacc_downsample70, acc_part70, vgood_part_upsampled70, good_part_upsampled70])\n",
    "balanced_car_training70 = balanced_car_training70.reset_index(level=None, drop=True, inplace=False, col_level=0, col_fill='')\n",
    "balanced_car_training70 = balanced_car_training70.sample(frac=1).reset_index(drop=True)\n",
    "\n",
    "car_training70 = balanced_car_training70.copy()\n",
    "car_training70['CLASS'].value_counts().plot(kind='bar', title='class')"
   ]
  },
  {
   "cell_type": "code",
   "execution_count": null,
   "id": "early-insertion",
   "metadata": {},
   "outputs": [],
   "source": [
    "car_training70.head()"
   ]
  },
  {
   "cell_type": "markdown",
   "id": "wireless-thermal",
   "metadata": {},
   "source": [
    "### Dataset 80%"
   ]
  },
  {
   "cell_type": "code",
   "execution_count": 9,
   "id": "second-index",
   "metadata": {},
   "outputs": [
    {
     "name": "stdout",
     "output_type": "stream",
     "text": [
      "unacc    667\n",
      "acc      188\n",
      "good      37\n",
      "vgood     29\n",
      "Name: CLASS, dtype: int64\n"
     ]
    },
    {
     "data": {
      "text/plain": [
       "<AxesSubplot:title={'center':'class'}>"
      ]
     },
     "execution_count": 9,
     "metadata": {},
     "output_type": "execute_result"
    },
    {
     "data": {
      "image/png": "[encoded data removed]",
      "text/plain": [
       "<Figure size 432x288 with 1 Axes>"
      ]
     },
     "metadata": {
      "needs_background": "light"
     },
     "output_type": "display_data"
    }
   ],
   "source": [
    "car_set_for_training80, car_testing80 = data_utils.data_split(car_dataset, 80)\n",
    "car_training80, car_validation80 = data_utils.split_training_data_for_pruning(car_set_for_training80)\n",
    "print(car_training80['CLASS'].value_counts())\n",
    "car_training80['CLASS'].value_counts().plot(kind='bar', title='class')"
   ]
  },
  {
   "cell_type": "code",
   "execution_count": null,
   "id": "applied-component",
   "metadata": {},
   "outputs": [],
   "source": [
    "# car_training80"
   ]
  },
  {
   "cell_type": "code",
   "execution_count": 10,
   "id": "interracial-basic",
   "metadata": {},
   "outputs": [
    {
     "data": {
      "text/plain": [
       "<AxesSubplot:title={'center':'class'}>"
      ]
     },
     "execution_count": 10,
     "metadata": {},
     "output_type": "execute_result"
    },
    {
     "data": {
      "image/png": "[encoded data removed]",
      "text/plain": [
       "<Figure size 432x288 with 1 Axes>"
      ]
     },
     "metadata": {
      "needs_background": "light"
     },
     "output_type": "display_data"
    }
   ],
   "source": [
    "#Target for all 318\n",
    "resampling_car80 = car_training80.copy()\n",
    "unacc_part80 = resampling_car80[resampling_car80['CLASS'] == 'unacc']\n",
    "acc_part80 = resampling_car80[resampling_car80['CLASS'] == 'acc'] \n",
    "vgood_part80 = resampling_car80[resampling_car80['CLASS'] == 'vgood'] \n",
    "good_part80 = resampling_car80[resampling_car80['CLASS'] == 'good'] \n",
    "\n",
    "\n",
    "unacc_downsample80 = resample(unacc_part80, \n",
    "                                 replace=False,     \n",
    "                                 n_samples=200)\n",
    "\n",
    "vgood_part_upsampled80 = resample(vgood_part80, \n",
    "                                 replace=True,     \n",
    "                                 n_samples=200)\n",
    "good_part_upsampled80 = resample(good_part80, \n",
    "                                 replace=True,     \n",
    "                                 n_samples=200)\n",
    "\n",
    "# Combine majority class with upsamplet minority class\n",
    "balanced_car_training80 = pd.concat([unacc_downsample80, acc_part80, vgood_part_upsampled80, good_part_upsampled80])\n",
    "balanced_car_training80 = balanced_car_training80.reset_index(level=None, drop=True, inplace=False, col_level=0, col_fill='')\n",
    "balanced_car_training80 = balanced_car_training80.sample(frac=1).reset_index(drop=True)\n",
    "\n",
    "car_training80 = balanced_car_training80.copy()\n",
    "car_training80['CLASS'].value_counts().plot(kind='bar', title='class')"
   ]
  },
  {
   "cell_type": "code",
   "execution_count": null,
   "id": "consecutive-purchase",
   "metadata": {},
   "outputs": [],
   "source": [
    "# car_training80.head()"
   ]
  },
  {
   "cell_type": "markdown",
   "id": "broadband-cleveland",
   "metadata": {},
   "source": [
    "### Dataset 90%"
   ]
  },
  {
   "cell_type": "code",
   "execution_count": 11,
   "id": "meaningful-plumbing",
   "metadata": {},
   "outputs": [
    {
     "name": "stdout",
     "output_type": "stream",
     "text": [
      "unacc    739\n",
      "acc      219\n",
      "good      42\n",
      "vgood     36\n",
      "Name: CLASS, dtype: int64\n"
     ]
    },
    {
     "data": {
      "text/plain": [
       "<AxesSubplot:title={'center':'class'}>"
      ]
     },
     "execution_count": 11,
     "metadata": {},
     "output_type": "execute_result"
    },
    {
     "data": {
      "image/png": "[encoded data removed]",
      "text/plain": [
       "<Figure size 432x288 with 1 Axes>"
      ]
     },
     "metadata": {
      "needs_background": "light"
     },
     "output_type": "display_data"
    }
   ],
   "source": [
    "car_set_for_training90, car_testing90 = data_utils.data_split(car_dataset, 90)\n",
    "car_training90, car_validation90 = data_utils.split_training_data_for_pruning(car_set_for_training90)\n",
    "print(car_training90['CLASS'].value_counts())\n",
    "car_training90['CLASS'].value_counts().plot(kind='bar', title='class')"
   ]
  },
  {
   "cell_type": "code",
   "execution_count": 12,
   "id": "identical-spider",
   "metadata": {},
   "outputs": [
    {
     "data": {
      "text/plain": [
       "<AxesSubplot:title={'center':'class'}>"
      ]
     },
     "execution_count": 12,
     "metadata": {},
     "output_type": "execute_result"
    },
    {
     "data": {
      "image/png": "[encoded data removed]",
      "text/plain": [
       "<Figure size 432x288 with 1 Axes>"
      ]
     },
     "metadata": {
      "needs_background": "light"
     },
     "output_type": "display_data"
    }
   ],
   "source": [
    "#Target for all 352?\n",
    "resampling_car90 = car_training90.copy()\n",
    "unacc_part90 = resampling_car90[resampling_car90['CLASS'] == 'unacc']\n",
    "acc_part90 = resampling_car90[resampling_car90['CLASS'] == 'acc']\n",
    "vgood_part90 = resampling_car90[resampling_car90['CLASS'] == 'vgood'] \n",
    "good_part90 = resampling_car90[resampling_car90['CLASS'] == 'good'] \n",
    "\n",
    "\n",
    "unacc_downsample90 = resample(unacc_part90, \n",
    "                                 replace=False,     \n",
    "                                 n_samples=227)\n",
    "\n",
    "vgood_part_upsampled90 = resample(vgood_part90, \n",
    "                                 replace=True,     \n",
    "                                 n_samples=227)\n",
    "good_part_upsampled90 = resample(good_part90, \n",
    "                                 replace=True,     \n",
    "                                 n_samples=227)\n",
    "\n",
    "# Combine majority class with upsamplet minority class\n",
    "balanced_car_training90 = pd.concat([unacc_downsample90, acc_part90, vgood_part_upsampled90, good_part_upsampled90])\n",
    "balanced_car_training90 = balanced_car_training90.reset_index(level=None, drop=True, inplace=False, col_level=0, col_fill='')\n",
    "balanced_car_training90 = balanced_car_training90.sample(frac=1).reset_index(drop=True)\n",
    "\n",
    "car_training90 = balanced_car_training90.copy()\n",
    "car_training90['CLASS'].value_counts().plot(kind='bar', title='class')"
   ]
  },
  {
   "cell_type": "code",
   "execution_count": null,
   "id": "going-journal",
   "metadata": {},
   "outputs": [],
   "source": [
    "# car_training90"
   ]
  },
  {
   "cell_type": "markdown",
   "id": "vanilla-banks",
   "metadata": {},
   "source": [
    "## Model Training"
   ]
  },
  {
   "cell_type": "code",
   "execution_count": null,
   "id": "convenient-advertising",
   "metadata": {},
   "outputs": [],
   "source": [
    "train_tree_for_different_heuristics(car_training70, car_testing70, car_validation70)"
   ]
  },
  {
   "cell_type": "code",
   "execution_count": null,
   "id": "opponent-outreach",
   "metadata": {},
   "outputs": [],
   "source": [
    "train_tree_for_different_heuristics(car_training80, car_testing80, car_validation80)"
   ]
  },
  {
   "cell_type": "code",
   "execution_count": null,
   "id": "corresponding-beauty",
   "metadata": {},
   "outputs": [],
   "source": [
    "train_tree_for_different_heuristics(car_training90, car_testing90, car_validation90)"
   ]
  },
  {
   "cell_type": "markdown",
   "id": "seven-passage",
   "metadata": {},
   "source": [
    "# Cancer Dataset"
   ]
  },
  {
   "cell_type": "markdown",
   "id": "serious-ancient",
   "metadata": {},
   "source": [
    "# Dataset preparation"
   ]
  },
  {
   "cell_type": "code",
   "execution_count": 13,
   "id": "smart-steam",
   "metadata": {},
   "outputs": [
    {
     "data": {
      "text/html": [
       "<div>\n",
       "<style scoped>\n",
       "    .dataframe tbody tr th:only-of-type {\n",
       "        vertical-align: middle;\n",
       "    }\n",
       "\n",
       "    .dataframe tbody tr th {\n",
       "        vertical-align: top;\n",
       "    }\n",
       "\n",
       "    .dataframe thead th {\n",
       "        text-align: right;\n",
       "    }\n",
       "</style>\n",
       "<table border=\"1\" class=\"dataframe\">\n",
       "  <thead>\n",
       "    <tr style=\"text-align: right;\">\n",
       "      <th></th>\n",
       "      <th>age</th>\n",
       "      <th>menopause</th>\n",
       "      <th>tumor-size</th>\n",
       "      <th>inv-nodes</th>\n",
       "      <th>node-caps</th>\n",
       "      <th>deg-malig</th>\n",
       "      <th>breast</th>\n",
       "      <th>breast-quad</th>\n",
       "      <th>irradiat</th>\n",
       "      <th>CLASS</th>\n",
       "    </tr>\n",
       "  </thead>\n",
       "  <tbody>\n",
       "    <tr>\n",
       "      <th>0</th>\n",
       "      <td>30-39</td>\n",
       "      <td>premeno</td>\n",
       "      <td>35-39</td>\n",
       "      <td>9-11</td>\n",
       "      <td>yes</td>\n",
       "      <td>3</td>\n",
       "      <td>left</td>\n",
       "      <td>left_low</td>\n",
       "      <td>no</td>\n",
       "      <td>recurrence-events</td>\n",
       "    </tr>\n",
       "    <tr>\n",
       "      <th>1</th>\n",
       "      <td>50-59</td>\n",
       "      <td>ge40</td>\n",
       "      <td>25-29</td>\n",
       "      <td>0-2</td>\n",
       "      <td>no</td>\n",
       "      <td>2</td>\n",
       "      <td>left</td>\n",
       "      <td>left_low</td>\n",
       "      <td>no</td>\n",
       "      <td>no-recurrence-events</td>\n",
       "    </tr>\n",
       "    <tr>\n",
       "      <th>2</th>\n",
       "      <td>50-59</td>\n",
       "      <td>ge40</td>\n",
       "      <td>25-29</td>\n",
       "      <td>0-2</td>\n",
       "      <td>no</td>\n",
       "      <td>3</td>\n",
       "      <td>left</td>\n",
       "      <td>right_up</td>\n",
       "      <td>no</td>\n",
       "      <td>no-recurrence-events</td>\n",
       "    </tr>\n",
       "    <tr>\n",
       "      <th>3</th>\n",
       "      <td>60-69</td>\n",
       "      <td>ge40</td>\n",
       "      <td>25-29</td>\n",
       "      <td>0-2</td>\n",
       "      <td>no</td>\n",
       "      <td>2</td>\n",
       "      <td>left</td>\n",
       "      <td>left_low</td>\n",
       "      <td>no</td>\n",
       "      <td>no-recurrence-events</td>\n",
       "    </tr>\n",
       "    <tr>\n",
       "      <th>4</th>\n",
       "      <td>60-69</td>\n",
       "      <td>ge40</td>\n",
       "      <td>10-14</td>\n",
       "      <td>0-2</td>\n",
       "      <td>no</td>\n",
       "      <td>1</td>\n",
       "      <td>left</td>\n",
       "      <td>left_up</td>\n",
       "      <td>no</td>\n",
       "      <td>no-recurrence-events</td>\n",
       "    </tr>\n",
       "    <tr>\n",
       "      <th>...</th>\n",
       "      <td>...</td>\n",
       "      <td>...</td>\n",
       "      <td>...</td>\n",
       "      <td>...</td>\n",
       "      <td>...</td>\n",
       "      <td>...</td>\n",
       "      <td>...</td>\n",
       "      <td>...</td>\n",
       "      <td>...</td>\n",
       "      <td>...</td>\n",
       "    </tr>\n",
       "    <tr>\n",
       "      <th>281</th>\n",
       "      <td>70-79</td>\n",
       "      <td>ge40</td>\n",
       "      <td>40-44</td>\n",
       "      <td>0-2</td>\n",
       "      <td>no</td>\n",
       "      <td>1</td>\n",
       "      <td>right</td>\n",
       "      <td>right_up</td>\n",
       "      <td>no</td>\n",
       "      <td>no-recurrence-events</td>\n",
       "    </tr>\n",
       "    <tr>\n",
       "      <th>282</th>\n",
       "      <td>40-49</td>\n",
       "      <td>premeno</td>\n",
       "      <td>20-24</td>\n",
       "      <td>3-5</td>\n",
       "      <td>yes</td>\n",
       "      <td>2</td>\n",
       "      <td>left</td>\n",
       "      <td>left_low</td>\n",
       "      <td>yes</td>\n",
       "      <td>recurrence-events</td>\n",
       "    </tr>\n",
       "    <tr>\n",
       "      <th>283</th>\n",
       "      <td>40-49</td>\n",
       "      <td>premeno</td>\n",
       "      <td>30-34</td>\n",
       "      <td>0-2</td>\n",
       "      <td>no</td>\n",
       "      <td>2</td>\n",
       "      <td>right</td>\n",
       "      <td>right_low</td>\n",
       "      <td>no</td>\n",
       "      <td>no-recurrence-events</td>\n",
       "    </tr>\n",
       "    <tr>\n",
       "      <th>284</th>\n",
       "      <td>60-69</td>\n",
       "      <td>ge40</td>\n",
       "      <td>30-34</td>\n",
       "      <td>3-5</td>\n",
       "      <td>yes</td>\n",
       "      <td>2</td>\n",
       "      <td>left</td>\n",
       "      <td>central</td>\n",
       "      <td>yes</td>\n",
       "      <td>recurrence-events</td>\n",
       "    </tr>\n",
       "    <tr>\n",
       "      <th>285</th>\n",
       "      <td>40-49</td>\n",
       "      <td>premeno</td>\n",
       "      <td>25-29</td>\n",
       "      <td>0-2</td>\n",
       "      <td>no</td>\n",
       "      <td>2</td>\n",
       "      <td>right</td>\n",
       "      <td>left_up</td>\n",
       "      <td>no</td>\n",
       "      <td>no-recurrence-events</td>\n",
       "    </tr>\n",
       "  </tbody>\n",
       "</table>\n",
       "<p>286 rows × 10 columns</p>\n",
       "</div>"
      ],
      "text/plain": [
       "       age menopause tumor-size inv-nodes node-caps  deg-malig breast  \\\n",
       "0    30-39   premeno      35-39      9-11       yes          3   left   \n",
       "1    50-59      ge40      25-29       0-2        no          2   left   \n",
       "2    50-59      ge40      25-29       0-2        no          3   left   \n",
       "3    60-69      ge40      25-29       0-2        no          2   left   \n",
       "4    60-69      ge40      10-14       0-2        no          1   left   \n",
       "..     ...       ...        ...       ...       ...        ...    ...   \n",
       "281  70-79      ge40      40-44       0-2        no          1  right   \n",
       "282  40-49   premeno      20-24       3-5       yes          2   left   \n",
       "283  40-49   premeno      30-34       0-2        no          2  right   \n",
       "284  60-69      ge40      30-34       3-5       yes          2   left   \n",
       "285  40-49   premeno      25-29       0-2        no          2  right   \n",
       "\n",
       "    breast-quad irradiat                 CLASS  \n",
       "0      left_low       no     recurrence-events  \n",
       "1      left_low       no  no-recurrence-events  \n",
       "2      right_up       no  no-recurrence-events  \n",
       "3      left_low       no  no-recurrence-events  \n",
       "4       left_up       no  no-recurrence-events  \n",
       "..          ...      ...                   ...  \n",
       "281    right_up       no  no-recurrence-events  \n",
       "282    left_low      yes     recurrence-events  \n",
       "283   right_low       no  no-recurrence-events  \n",
       "284     central      yes     recurrence-events  \n",
       "285     left_up       no  no-recurrence-events  \n",
       "\n",
       "[286 rows x 10 columns]"
      ]
     },
     "execution_count": 13,
     "metadata": {},
     "output_type": "execute_result"
    }
   ],
   "source": [
    "cancer_dataset_path = 'data/breast-cancer.data'\n",
    "cancer_dataset_labels = ['CLASS','age','menopause','tumor-size','inv-nodes','node-caps','deg-malig','breast', 'breast-quad', 'irradiat']\n",
    "cancer_dataset = data_utils.preapare_dataset(cancer_dataset_path, cancer_dataset_labels)\n",
    "cancer_dataset = cancer_dataset[['age','menopause','tumor-size','inv-nodes', 'node-caps','deg-malig','breast', 'breast-quad', 'irradiat', 'CLASS']]\n",
    "# cancer_dataset.head()\n",
    "cancer_dataset"
   ]
  },
  {
   "cell_type": "markdown",
   "id": "annual-utilization",
   "metadata": {},
   "source": [
    "### Cancer 70%"
   ]
  },
  {
   "cell_type": "code",
   "execution_count": 14,
   "id": "welcome-consultation",
   "metadata": {},
   "outputs": [
    {
     "name": "stdout",
     "output_type": "stream",
     "text": [
      "no-recurrence-events    89\n",
      "recurrence-events       44\n",
      "Name: CLASS, dtype: int64\n"
     ]
    },
    {
     "data": {
      "text/plain": [
       "<AxesSubplot:title={'center':'class'}>"
      ]
     },
     "execution_count": 14,
     "metadata": {},
     "output_type": "execute_result"
    },
    {
     "data": {
      "image/png": "[encoded data removed]",
      "text/plain": [
       "<Figure size 432x288 with 1 Axes>"
      ]
     },
     "metadata": {
      "needs_background": "light"
     },
     "output_type": "display_data"
    }
   ],
   "source": [
    "cancer_set_for_training70, cancer_testing70 = data_utils.data_split(cancer_dataset, 70)\n",
    "cancer_training70, cancer_validation70 = data_utils.split_training_data_for_pruning(cancer_set_for_training70)\n",
    "print(cancer_training70['CLASS'].value_counts())\n",
    "cancer_training70['CLASS'].value_counts().plot(kind='bar', title='class')"
   ]
  },
  {
   "cell_type": "code",
   "execution_count": 15,
   "id": "complete-certification",
   "metadata": {},
   "outputs": [
    {
     "data": {
      "text/plain": [
       "<AxesSubplot:title={'center':'class'}>"
      ]
     },
     "execution_count": 15,
     "metadata": {},
     "output_type": "execute_result"
    },
    {
     "data": {
      "image/png": "[encoded data removed]",
      "text/plain": [
       "<Figure size 432x288 with 1 Axes>"
      ]
     },
     "metadata": {
      "needs_background": "light"
     },
     "output_type": "display_data"
    }
   ],
   "source": [
    "#Target for all 174\n",
    "resampling_cancer70 = cancer_training70.copy()\n",
    "recurrence_events_part70 = resampling_cancer70[resampling_cancer70['CLASS'] == 'recurrence-events']\n",
    "no_recurrence_events_part70 = resampling_cancer70[resampling_cancer70['CLASS'] == 'no-recurrence-events'] \n",
    "\n",
    "recurrence_events_part_upsampled70 = resample(recurrence_events_part70, \n",
    "                                 replace=True,     \n",
    "                                 n_samples=96)\n",
    "\n",
    "# Combine majority class with upsamplet minority class\n",
    "balanced_cnacer_training70 = pd.concat([recurrence_events_part_upsampled70, no_recurrence_events_part70])\n",
    "balanced_cnacer_training70 = balanced_cnacer_training70.reset_index(level=None, drop=True, inplace=False, col_level=0, col_fill='')\n",
    "balanced_cnacer_training70 = balanced_cnacer_training70.sample(frac=1).reset_index(drop=True)\n",
    "\n",
    "cancer_training70 = balanced_cnacer_training70.copy()\n",
    "cancer_training70['CLASS'].value_counts().plot(kind='bar', title='class')"
   ]
  },
  {
   "cell_type": "markdown",
   "id": "preliminary-macro",
   "metadata": {},
   "source": [
    "### Cancer 80%"
   ]
  },
  {
   "cell_type": "code",
   "execution_count": 16,
   "id": "significant-outside",
   "metadata": {},
   "outputs": [
    {
     "name": "stdout",
     "output_type": "stream",
     "text": [
      "no-recurrence-events    104\n",
      "recurrence-events        47\n",
      "Name: CLASS, dtype: int64\n"
     ]
    },
    {
     "data": {
      "text/plain": [
       "<AxesSubplot:title={'center':'class'}>"
      ]
     },
     "execution_count": 16,
     "metadata": {},
     "output_type": "execute_result"
    },
    {
     "data": {
      "image/png": "[encoded data removed]",
      "text/plain": [
       "<Figure size 432x288 with 1 Axes>"
      ]
     },
     "metadata": {
      "needs_background": "light"
     },
     "output_type": "display_data"
    }
   ],
   "source": [
    "cancer_set_for_training80, cancer_testing80 = data_utils.data_split(cancer_dataset, 80)\n",
    "cancer_training80, cancer_validation80 = data_utils.split_training_data_for_pruning(cancer_set_for_training80)\n",
    "print(cancer_training80['CLASS'].value_counts())\n",
    "cancer_training80['CLASS'].value_counts().plot(kind='bar', title='class')"
   ]
  },
  {
   "cell_type": "code",
   "execution_count": 17,
   "id": "black-lindsay",
   "metadata": {},
   "outputs": [
    {
     "data": {
      "text/plain": [
       "<AxesSubplot:title={'center':'class'}>"
      ]
     },
     "execution_count": 17,
     "metadata": {},
     "output_type": "execute_result"
    },
    {
     "data": {
      "image/png": "[encoded data removed]",
      "text/plain": [
       "<Figure size 432x288 with 1 Axes>"
      ]
     },
     "metadata": {
      "needs_background": "light"
     },
     "output_type": "display_data"
    }
   ],
   "source": [
    "#Target for all 174\n",
    "resampling_cancer80 = cancer_training80.copy()\n",
    "recurrence_events_part80 = resampling_cancer80[resampling_cancer80['CLASS'] == 'recurrence-events']\n",
    "no_recurrence_events_part80 = resampling_cancer80[resampling_cancer80['CLASS'] == 'no-recurrence-events'] \n",
    "\n",
    "recurrence_events_part_upsampled80 = resample(recurrence_events_part80, \n",
    "                                 replace=True,     \n",
    "                                 n_samples=99)\n",
    "\n",
    "# Combine majority class with upsamplet minority class\n",
    "balanced_cnacer_training80 = pd.concat([recurrence_events_part_upsampled80, no_recurrence_events_part80])\n",
    "balanced_cnacer_training80 = balanced_cnacer_training80.reset_index(level=None, drop=True, inplace=False, col_level=0, col_fill='')\n",
    "balanced_cnacer_training80 = balanced_cnacer_training80.sample(frac=1).reset_index(drop=True)\n",
    "\n",
    "cancer_training80 = balanced_cnacer_training80.copy()\n",
    "cancer_training80['CLASS'].value_counts().plot(kind='bar', title='class')"
   ]
  },
  {
   "cell_type": "markdown",
   "id": "micro-volume",
   "metadata": {},
   "source": [
    "### Cancer 90%"
   ]
  },
  {
   "cell_type": "code",
   "execution_count": 18,
   "id": "broken-eagle",
   "metadata": {},
   "outputs": [
    {
     "name": "stdout",
     "output_type": "stream",
     "text": [
      "no-recurrence-events    121\n",
      "recurrence-events        50\n",
      "Name: CLASS, dtype: int64\n"
     ]
    },
    {
     "data": {
      "text/plain": [
       "<AxesSubplot:title={'center':'class'}>"
      ]
     },
     "execution_count": 18,
     "metadata": {},
     "output_type": "execute_result"
    },
    {
     "data": {
      "image/png": "[encoded data removed]",
      "text/plain": [
       "<Figure size 432x288 with 1 Axes>"
      ]
     },
     "metadata": {
      "needs_background": "light"
     },
     "output_type": "display_data"
    }
   ],
   "source": [
    "cancer_set_for_training90, cancer_testing90 = data_utils.data_split(cancer_dataset, 90)\n",
    "cancer_training90, cancer_validation90 = data_utils.split_training_data_for_pruning(cancer_set_for_training90)\n",
    "print(cancer_training90['CLASS'].value_counts())\n",
    "cancer_training90['CLASS'].value_counts().plot(kind='bar', title='class')"
   ]
  },
  {
   "cell_type": "code",
   "execution_count": 19,
   "id": "stupid-netscape",
   "metadata": {},
   "outputs": [
    {
     "data": {
      "text/plain": [
       "<AxesSubplot:title={'center':'class'}>"
      ]
     },
     "execution_count": 19,
     "metadata": {},
     "output_type": "execute_result"
    },
    {
     "data": {
      "image/png": "[encoded data removed]",
      "text/plain": [
       "<Figure size 432x288 with 1 Axes>"
      ]
     },
     "metadata": {
      "needs_background": "light"
     },
     "output_type": "display_data"
    }
   ],
   "source": [
    "\n",
    "#Target for all 174\n",
    "resampling_cancer90 = cancer_training90.copy()\n",
    "recurrence_events_part90 = resampling_cancer90[resampling_cancer90['CLASS'] == 'recurrence-events']\n",
    "no_recurrence_events_part90 = resampling_cancer90[resampling_cancer90['CLASS'] == 'no-recurrence-events'] \n",
    "\n",
    "recurrence_events_part_upsampled90 = resample(recurrence_events_part90, \n",
    "                                 replace=True,     \n",
    "                                 n_samples=116)\n",
    "\n",
    "# Combine majority class with upsamplet minority class\n",
    "balanced_cnacer_training90 = pd.concat([recurrence_events_part_upsampled90, no_recurrence_events_part90])\n",
    "balanced_cnacer_training90 = balanced_cnacer_training90.reset_index(level=None, drop=True, inplace=False, col_level=0, col_fill='')\n",
    "balanced_cnacer_training90 = balanced_cnacer_training90.sample(frac=1).reset_index(drop=True)\n",
    "\n",
    "cancer_training90 = balanced_cnacer_training90.copy()\n",
    "cancer_training90['CLASS'].value_counts().plot(kind='bar', title='class')"
   ]
  },
  {
   "cell_type": "markdown",
   "id": "military-shadow",
   "metadata": {},
   "source": [
    "## Model Training"
   ]
  },
  {
   "cell_type": "code",
   "execution_count": null,
   "id": "hungry-carter",
   "metadata": {},
   "outputs": [],
   "source": [
    "train_tree_for_different_heuristics(cancer_training70, cancer_testing70, cancer_validation70)"
   ]
  },
  {
   "cell_type": "code",
   "execution_count": null,
   "id": "sound-connection",
   "metadata": {},
   "outputs": [],
   "source": [
    "train_tree_for_different_heuristics(cancer_training80, cancer_testing80, cancer_validation80)"
   ]
  },
  {
   "cell_type": "code",
   "execution_count": null,
   "id": "dependent-reward",
   "metadata": {},
   "outputs": [],
   "source": [
    "train_tree_for_different_heuristics(cancer_training90, cancer_testing90, cancer_validation90)"
   ]
  },
  {
   "cell_type": "markdown",
   "id": "automated-tulsa",
   "metadata": {},
   "source": [
    "# CMC Dataset"
   ]
  },
  {
   "cell_type": "markdown",
   "id": "loving-accreditation",
   "metadata": {},
   "source": [
    "## Dataset preparation"
   ]
  },
  {
   "cell_type": "code",
   "execution_count": 20,
   "id": "forbidden-museum",
   "metadata": {},
   "outputs": [
    {
     "data": {
      "text/html": [
       "<div>\n",
       "<style scoped>\n",
       "    .dataframe tbody tr th:only-of-type {\n",
       "        vertical-align: middle;\n",
       "    }\n",
       "\n",
       "    .dataframe tbody tr th {\n",
       "        vertical-align: top;\n",
       "    }\n",
       "\n",
       "    .dataframe thead th {\n",
       "        text-align: right;\n",
       "    }\n",
       "</style>\n",
       "<table border=\"1\" class=\"dataframe\">\n",
       "  <thead>\n",
       "    <tr style=\"text-align: right;\">\n",
       "      <th></th>\n",
       "      <th>age</th>\n",
       "      <th>education</th>\n",
       "      <th>husbandEducation</th>\n",
       "      <th>noChildren</th>\n",
       "      <th>religion</th>\n",
       "      <th>isWorking</th>\n",
       "      <th>husbandOccupation</th>\n",
       "      <th>livingStandard</th>\n",
       "      <th>mediaExposure</th>\n",
       "      <th>CLASS</th>\n",
       "    </tr>\n",
       "  </thead>\n",
       "  <tbody>\n",
       "    <tr>\n",
       "      <th>0</th>\n",
       "      <td>39</td>\n",
       "      <td>3</td>\n",
       "      <td>4</td>\n",
       "      <td>3</td>\n",
       "      <td>1</td>\n",
       "      <td>1</td>\n",
       "      <td>1</td>\n",
       "      <td>4</td>\n",
       "      <td>0</td>\n",
       "      <td>1</td>\n",
       "    </tr>\n",
       "    <tr>\n",
       "      <th>1</th>\n",
       "      <td>46</td>\n",
       "      <td>4</td>\n",
       "      <td>4</td>\n",
       "      <td>4</td>\n",
       "      <td>1</td>\n",
       "      <td>1</td>\n",
       "      <td>1</td>\n",
       "      <td>4</td>\n",
       "      <td>0</td>\n",
       "      <td>2</td>\n",
       "    </tr>\n",
       "    <tr>\n",
       "      <th>2</th>\n",
       "      <td>38</td>\n",
       "      <td>4</td>\n",
       "      <td>4</td>\n",
       "      <td>6</td>\n",
       "      <td>1</td>\n",
       "      <td>1</td>\n",
       "      <td>2</td>\n",
       "      <td>4</td>\n",
       "      <td>0</td>\n",
       "      <td>3</td>\n",
       "    </tr>\n",
       "    <tr>\n",
       "      <th>3</th>\n",
       "      <td>38</td>\n",
       "      <td>4</td>\n",
       "      <td>4</td>\n",
       "      <td>3</td>\n",
       "      <td>1</td>\n",
       "      <td>0</td>\n",
       "      <td>1</td>\n",
       "      <td>4</td>\n",
       "      <td>0</td>\n",
       "      <td>2</td>\n",
       "    </tr>\n",
       "    <tr>\n",
       "      <th>4</th>\n",
       "      <td>49</td>\n",
       "      <td>3</td>\n",
       "      <td>4</td>\n",
       "      <td>5</td>\n",
       "      <td>1</td>\n",
       "      <td>1</td>\n",
       "      <td>1</td>\n",
       "      <td>4</td>\n",
       "      <td>0</td>\n",
       "      <td>1</td>\n",
       "    </tr>\n",
       "  </tbody>\n",
       "</table>\n",
       "</div>"
      ],
      "text/plain": [
       "   age  education  husbandEducation  noChildren  religion  isWorking  \\\n",
       "0   39          3                 4           3         1          1   \n",
       "1   46          4                 4           4         1          1   \n",
       "2   38          4                 4           6         1          1   \n",
       "3   38          4                 4           3         1          0   \n",
       "4   49          3                 4           5         1          1   \n",
       "\n",
       "   husbandOccupation  livingStandard  mediaExposure  CLASS  \n",
       "0                  1               4              0      1  \n",
       "1                  1               4              0      2  \n",
       "2                  2               4              0      3  \n",
       "3                  1               4              0      2  \n",
       "4                  1               4              0      1  "
      ]
     },
     "execution_count": 20,
     "metadata": {},
     "output_type": "execute_result"
    }
   ],
   "source": [
    "cmc_dataset_path = 'data/cmc.data'\n",
    "cmc_dataset_labels = ['age','education','husbandEducation','noChildren','religion','isWorking','husbandOccupation','livingStandard', 'mediaExposure', 'CLASS']\n",
    "cmc_dataset = data_utils.preapare_dataset(cmc_dataset_path, cmc_dataset_labels)\n",
    "# cmc_dataset['CLASS'] = cmc_dataset['CLASS'].apply(str)\n",
    "cmc_dataset.head()"
   ]
  },
  {
   "cell_type": "code",
   "execution_count": 21,
   "id": "afraid-functionality",
   "metadata": {},
   "outputs": [
    {
     "data": {
      "text/html": [
       "<div>\n",
       "<style scoped>\n",
       "    .dataframe tbody tr th:only-of-type {\n",
       "        vertical-align: middle;\n",
       "    }\n",
       "\n",
       "    .dataframe tbody tr th {\n",
       "        vertical-align: top;\n",
       "    }\n",
       "\n",
       "    .dataframe thead th {\n",
       "        text-align: right;\n",
       "    }\n",
       "</style>\n",
       "<table border=\"1\" class=\"dataframe\">\n",
       "  <thead>\n",
       "    <tr style=\"text-align: right;\">\n",
       "      <th></th>\n",
       "      <th>age</th>\n",
       "      <th>education</th>\n",
       "      <th>husbandEducation</th>\n",
       "      <th>noChildren</th>\n",
       "      <th>religion</th>\n",
       "      <th>isWorking</th>\n",
       "      <th>husbandOccupation</th>\n",
       "      <th>livingStandard</th>\n",
       "      <th>mediaExposure</th>\n",
       "      <th>CLASS</th>\n",
       "    </tr>\n",
       "  </thead>\n",
       "  <tbody>\n",
       "    <tr>\n",
       "      <th>0</th>\n",
       "      <td>39</td>\n",
       "      <td>normal</td>\n",
       "      <td>high</td>\n",
       "      <td>3</td>\n",
       "      <td>Islam</td>\n",
       "      <td>No</td>\n",
       "      <td>1</td>\n",
       "      <td>high</td>\n",
       "      <td>Good</td>\n",
       "      <td>No-use</td>\n",
       "    </tr>\n",
       "    <tr>\n",
       "      <th>1</th>\n",
       "      <td>46</td>\n",
       "      <td>high</td>\n",
       "      <td>high</td>\n",
       "      <td>4</td>\n",
       "      <td>Islam</td>\n",
       "      <td>No</td>\n",
       "      <td>1</td>\n",
       "      <td>high</td>\n",
       "      <td>Good</td>\n",
       "      <td>Long-term</td>\n",
       "    </tr>\n",
       "    <tr>\n",
       "      <th>2</th>\n",
       "      <td>38</td>\n",
       "      <td>high</td>\n",
       "      <td>high</td>\n",
       "      <td>6</td>\n",
       "      <td>Islam</td>\n",
       "      <td>No</td>\n",
       "      <td>2</td>\n",
       "      <td>high</td>\n",
       "      <td>Good</td>\n",
       "      <td>Short-term</td>\n",
       "    </tr>\n",
       "    <tr>\n",
       "      <th>3</th>\n",
       "      <td>38</td>\n",
       "      <td>high</td>\n",
       "      <td>high</td>\n",
       "      <td>3</td>\n",
       "      <td>Islam</td>\n",
       "      <td>Yes</td>\n",
       "      <td>1</td>\n",
       "      <td>high</td>\n",
       "      <td>Good</td>\n",
       "      <td>Long-term</td>\n",
       "    </tr>\n",
       "    <tr>\n",
       "      <th>4</th>\n",
       "      <td>49</td>\n",
       "      <td>normal</td>\n",
       "      <td>high</td>\n",
       "      <td>5</td>\n",
       "      <td>Islam</td>\n",
       "      <td>No</td>\n",
       "      <td>1</td>\n",
       "      <td>high</td>\n",
       "      <td>Good</td>\n",
       "      <td>No-use</td>\n",
       "    </tr>\n",
       "  </tbody>\n",
       "</table>\n",
       "</div>"
      ],
      "text/plain": [
       "   age education husbandEducation  noChildren religion isWorking  \\\n",
       "0   39    normal             high           3    Islam        No   \n",
       "1   46      high             high           4    Islam        No   \n",
       "2   38      high             high           6    Islam        No   \n",
       "3   38      high             high           3    Islam       Yes   \n",
       "4   49    normal             high           5    Islam        No   \n",
       "\n",
       "   husbandOccupation livingStandard mediaExposure       CLASS  \n",
       "0                  1           high          Good      No-use  \n",
       "1                  1           high          Good   Long-term  \n",
       "2                  2           high          Good  Short-term  \n",
       "3                  1           high          Good   Long-term  \n",
       "4                  1           high          Good      No-use  "
      ]
     },
     "execution_count": 21,
     "metadata": {},
     "output_type": "execute_result"
    }
   ],
   "source": [
    "vals_to_replace_education = {1: 'low', 2:'medium', 3:'normal', 4:'high'}\n",
    "vals_to_replace_husbandEducation = {1: 'low', 2:'medium', 3:'normal', 4:'high'}\n",
    "vals_to_replace_religion = {0: 'Non-Islam', 1:'Islam'}\n",
    "vals_to_replace_isWorking = {0: 'Yes', 1:'No'}\n",
    "vals_to_replace_livingStandard= {1: 'low', 2:'medium', 3:'normal', 4:'high'}\n",
    "vals_to_replace_mediaExposure = {0: 'Good', 1:'Not good'}\n",
    "vals_to_replace_CLASS = {1: 'No-use', 2:'Long-term', 3: 'Short-term'}\n",
    "cmc_dataset['education'] = cmc_dataset['education'].map(vals_to_replace_education)\n",
    "cmc_dataset['husbandEducation'] = cmc_dataset['husbandEducation'].map(vals_to_replace_husbandEducation)\n",
    "cmc_dataset['religion'] = cmc_dataset['religion'].map(vals_to_replace_religion)\n",
    "cmc_dataset['isWorking'] = cmc_dataset['isWorking'].map(vals_to_replace_isWorking)\n",
    "cmc_dataset['livingStandard'] = cmc_dataset['livingStandard'].map(vals_to_replace_livingStandard)\n",
    "cmc_dataset['mediaExposure'] = cmc_dataset['mediaExposure'].map(vals_to_replace_mediaExposure)\n",
    "cmc_dataset['CLASS'] = cmc_dataset['CLASS'].map(vals_to_replace_CLASS)\n",
    "cmc_dataset.head()"
   ]
  },
  {
   "cell_type": "markdown",
   "id": "vulnerable-coupon",
   "metadata": {},
   "source": [
    "### Cmc 70%"
   ]
  },
  {
   "cell_type": "code",
   "execution_count": 22,
   "id": "guilty-hypothetical",
   "metadata": {},
   "outputs": [
    {
     "name": "stdout",
     "output_type": "stream",
     "text": [
      "No-use        287\n",
      "Short-term    240\n",
      "Long-term     160\n",
      "Name: CLASS, dtype: int64\n"
     ]
    },
    {
     "data": {
      "text/plain": [
       "<AxesSubplot:title={'center':'class'}>"
      ]
     },
     "execution_count": 22,
     "metadata": {},
     "output_type": "execute_result"
    },
    {
     "data": {
      "image/png": "[encoded data removed]",
      "text/plain": [
       "<Figure size 432x288 with 1 Axes>"
      ]
     },
     "metadata": {
      "needs_background": "light"
     },
     "output_type": "display_data"
    }
   ],
   "source": [
    "cmc_set_for_training70, cmc_testing70 = data_utils.data_split(cmc_dataset, 70)\n",
    "cmc_training70, cmc_validation70 = data_utils.split_training_data_for_pruning(cmc_set_for_training70)\n",
    "print(cmc_training70['CLASS'].value_counts())\n",
    "#This data seems to be balanced so dont need aditional balancing\n",
    "cmc_training70['CLASS'].value_counts().plot(kind='bar', title='class')"
   ]
  },
  {
   "cell_type": "markdown",
   "id": "unauthorized-abortion",
   "metadata": {},
   "source": [
    "## Cmc 80%"
   ]
  },
  {
   "cell_type": "code",
   "execution_count": 23,
   "id": "judicial-reaction",
   "metadata": {},
   "outputs": [
    {
     "name": "stdout",
     "output_type": "stream",
     "text": [
      "No-use        325\n",
      "Short-term    276\n",
      "Long-term     184\n",
      "Name: CLASS, dtype: int64\n"
     ]
    },
    {
     "data": {
      "text/plain": [
       "<AxesSubplot:title={'center':'class'}>"
      ]
     },
     "execution_count": 23,
     "metadata": {},
     "output_type": "execute_result"
    },
    {
     "data": {
      "image/png": "[encoded data removed]",
      "text/plain": [
       "<Figure size 432x288 with 1 Axes>"
      ]
     },
     "metadata": {
      "needs_background": "light"
     },
     "output_type": "display_data"
    }
   ],
   "source": [
    "cmc_set_for_training80, cmc_testing80 = data_utils.data_split(cmc_dataset, 80)\n",
    "cmc_training80, cmc_validation80 = data_utils.split_training_data_for_pruning(cmc_set_for_training80)\n",
    "print(cmc_training80['CLASS'].value_counts())\n",
    "#This data seems to be balanced so dont need aditional balancing\n",
    "cmc_training80['CLASS'].value_counts().plot(kind='bar', title='class')"
   ]
  },
  {
   "cell_type": "markdown",
   "id": "functional-twelve",
   "metadata": {},
   "source": [
    "## Cmc 90%"
   ]
  },
  {
   "cell_type": "code",
   "execution_count": 24,
   "id": "sacred-tender",
   "metadata": {},
   "outputs": [
    {
     "name": "stdout",
     "output_type": "stream",
     "text": [
      "No-use        369\n",
      "Short-term    311\n",
      "Long-term     203\n",
      "Name: CLASS, dtype: int64\n"
     ]
    },
    {
     "data": {
      "text/plain": [
       "<AxesSubplot:title={'center':'class'}>"
      ]
     },
     "execution_count": 24,
     "metadata": {},
     "output_type": "execute_result"
    },
    {
     "data": {
      "image/png": "[encoded data removed]",
      "text/plain": [
       "<Figure size 432x288 with 1 Axes>"
      ]
     },
     "metadata": {
      "needs_background": "light"
     },
     "output_type": "display_data"
    }
   ],
   "source": [
    "cmc_set_for_training90, cmc_testing90 = data_utils.data_split(cmc_dataset, 90)\n",
    "cmc_training90, cmc_validation90 = data_utils.split_training_data_for_pruning(cmc_set_for_training90)\n",
    "print(cmc_training90['CLASS'].value_counts())\n",
    "#This data seems to be balanced so dont need aditional balancing\n",
    "cmc_training90['CLASS'].value_counts().plot(kind='bar', title='class')"
   ]
  },
  {
   "cell_type": "markdown",
   "id": "blind-response",
   "metadata": {},
   "source": [
    "## Model Training"
   ]
  },
  {
   "cell_type": "code",
   "execution_count": null,
   "id": "extraordinary-range",
   "metadata": {},
   "outputs": [],
   "source": [
    "train_tree_for_different_heuristics(cmc_training70, cmc_testing70, cmc_validation70)"
   ]
  },
  {
   "cell_type": "code",
   "execution_count": null,
   "id": "cardiac-analyst",
   "metadata": {},
   "outputs": [],
   "source": [
    "train_tree_for_different_heuristics(cmc_training80, cmc_testing80, cmc_validation80)"
   ]
  },
  {
   "cell_type": "code",
   "execution_count": null,
   "id": "stable-bobby",
   "metadata": {},
   "outputs": [],
   "source": [
    "train_tree_for_different_heuristics(cmc_training90, cmc_testing90, cmc_validation90)"
   ]
  },
  {
   "cell_type": "markdown",
   "id": "likely-accountability",
   "metadata": {},
   "source": [
    "# Adult Dataset"
   ]
  },
  {
   "cell_type": "markdown",
   "id": "egyptian-graphics",
   "metadata": {},
   "source": [
    "## Data preparation"
   ]
  },
  {
   "cell_type": "code",
   "execution_count": 25,
   "id": "heavy-homeless",
   "metadata": {},
   "outputs": [
    {
     "data": {
      "text/html": [
       "<div>\n",
       "<style scoped>\n",
       "    .dataframe tbody tr th:only-of-type {\n",
       "        vertical-align: middle;\n",
       "    }\n",
       "\n",
       "    .dataframe tbody tr th {\n",
       "        vertical-align: top;\n",
       "    }\n",
       "\n",
       "    .dataframe thead th {\n",
       "        text-align: right;\n",
       "    }\n",
       "</style>\n",
       "<table border=\"1\" class=\"dataframe\">\n",
       "  <thead>\n",
       "    <tr style=\"text-align: right;\">\n",
       "      <th></th>\n",
       "      <th>age</th>\n",
       "      <th>workclass</th>\n",
       "      <th>fnlwgt</th>\n",
       "      <th>education</th>\n",
       "      <th>education-num</th>\n",
       "      <th>marital-status</th>\n",
       "      <th>occupation</th>\n",
       "      <th>relationship</th>\n",
       "      <th>race</th>\n",
       "      <th>sex</th>\n",
       "      <th>capital-gain</th>\n",
       "      <th>capital-loss</th>\n",
       "      <th>hourse-per-week</th>\n",
       "      <th>native-country</th>\n",
       "      <th>CLASS</th>\n",
       "    </tr>\n",
       "  </thead>\n",
       "  <tbody>\n",
       "    <tr>\n",
       "      <th>0</th>\n",
       "      <td>57</td>\n",
       "      <td>Private</td>\n",
       "      <td>74156</td>\n",
       "      <td>HS-grad</td>\n",
       "      <td>9</td>\n",
       "      <td>Married-civ-spouse</td>\n",
       "      <td>Other-service</td>\n",
       "      <td>Husband</td>\n",
       "      <td>White</td>\n",
       "      <td>Male</td>\n",
       "      <td>0</td>\n",
       "      <td>0</td>\n",
       "      <td>30</td>\n",
       "      <td>United-States</td>\n",
       "      <td>&lt;=50K</td>\n",
       "    </tr>\n",
       "    <tr>\n",
       "      <th>1</th>\n",
       "      <td>32</td>\n",
       "      <td>Private</td>\n",
       "      <td>70985</td>\n",
       "      <td>Assoc-voc</td>\n",
       "      <td>11</td>\n",
       "      <td>Married-civ-spouse</td>\n",
       "      <td>Machine-op-inspct</td>\n",
       "      <td>Husband</td>\n",
       "      <td>White</td>\n",
       "      <td>Male</td>\n",
       "      <td>0</td>\n",
       "      <td>0</td>\n",
       "      <td>40</td>\n",
       "      <td>United-States</td>\n",
       "      <td>&lt;=50K</td>\n",
       "    </tr>\n",
       "    <tr>\n",
       "      <th>2</th>\n",
       "      <td>44</td>\n",
       "      <td>?</td>\n",
       "      <td>268804</td>\n",
       "      <td>HS-grad</td>\n",
       "      <td>9</td>\n",
       "      <td>Married-civ-spouse</td>\n",
       "      <td>?</td>\n",
       "      <td>Husband</td>\n",
       "      <td>Black</td>\n",
       "      <td>Male</td>\n",
       "      <td>0</td>\n",
       "      <td>0</td>\n",
       "      <td>30</td>\n",
       "      <td>United-States</td>\n",
       "      <td>&lt;=50K</td>\n",
       "    </tr>\n",
       "    <tr>\n",
       "      <th>3</th>\n",
       "      <td>27</td>\n",
       "      <td>Private</td>\n",
       "      <td>205440</td>\n",
       "      <td>10th</td>\n",
       "      <td>6</td>\n",
       "      <td>Married-civ-spouse</td>\n",
       "      <td>Machine-op-inspct</td>\n",
       "      <td>Husband</td>\n",
       "      <td>White</td>\n",
       "      <td>Male</td>\n",
       "      <td>0</td>\n",
       "      <td>0</td>\n",
       "      <td>40</td>\n",
       "      <td>United-States</td>\n",
       "      <td>&lt;=50K</td>\n",
       "    </tr>\n",
       "    <tr>\n",
       "      <th>4</th>\n",
       "      <td>50</td>\n",
       "      <td>Private</td>\n",
       "      <td>31621</td>\n",
       "      <td>HS-grad</td>\n",
       "      <td>9</td>\n",
       "      <td>Married-civ-spouse</td>\n",
       "      <td>Craft-repair</td>\n",
       "      <td>Husband</td>\n",
       "      <td>White</td>\n",
       "      <td>Male</td>\n",
       "      <td>0</td>\n",
       "      <td>0</td>\n",
       "      <td>40</td>\n",
       "      <td>United-States</td>\n",
       "      <td>&gt;50K</td>\n",
       "    </tr>\n",
       "  </tbody>\n",
       "</table>\n",
       "</div>"
      ],
      "text/plain": [
       "   age workclass  fnlwgt   education  education-num       marital-status  \\\n",
       "0   57   Private   74156     HS-grad              9   Married-civ-spouse   \n",
       "1   32   Private   70985   Assoc-voc             11   Married-civ-spouse   \n",
       "2   44         ?  268804     HS-grad              9   Married-civ-spouse   \n",
       "3   27   Private  205440        10th              6   Married-civ-spouse   \n",
       "4   50   Private   31621     HS-grad              9   Married-civ-spouse   \n",
       "\n",
       "           occupation relationship    race    sex  capital-gain  capital-loss  \\\n",
       "0       Other-service      Husband   White   Male             0             0   \n",
       "1   Machine-op-inspct      Husband   White   Male             0             0   \n",
       "2                   ?      Husband   Black   Male             0             0   \n",
       "3   Machine-op-inspct      Husband   White   Male             0             0   \n",
       "4        Craft-repair      Husband   White   Male             0             0   \n",
       "\n",
       "   hourse-per-week  native-country   CLASS  \n",
       "0               30   United-States   <=50K  \n",
       "1               40   United-States   <=50K  \n",
       "2               30   United-States   <=50K  \n",
       "3               40   United-States   <=50K  \n",
       "4               40   United-States    >50K  "
      ]
     },
     "execution_count": 25,
     "metadata": {},
     "output_type": "execute_result"
    }
   ],
   "source": [
    "adult_dataset_path = 'data/adult.data'\n",
    "adult_dataset_labels = ['age','workclass','fnlwgt','education','education-num','marital-status','occupation','relationship','race','sex','capital-gain','capital-loss','hourse-per-week','native-country','CLASS']\n",
    "adult_dataset = data_utils.preapare_dataset(adult_dataset_path, adult_dataset_labels)\n",
    "adult_dataset.head()"
   ]
  },
  {
   "cell_type": "code",
   "execution_count": 26,
   "id": "beneficial-devil",
   "metadata": {},
   "outputs": [
    {
     "data": {
      "text/html": [
       "<div>\n",
       "<style scoped>\n",
       "    .dataframe tbody tr th:only-of-type {\n",
       "        vertical-align: middle;\n",
       "    }\n",
       "\n",
       "    .dataframe tbody tr th {\n",
       "        vertical-align: top;\n",
       "    }\n",
       "\n",
       "    .dataframe thead th {\n",
       "        text-align: right;\n",
       "    }\n",
       "</style>\n",
       "<table border=\"1\" class=\"dataframe\">\n",
       "  <thead>\n",
       "    <tr style=\"text-align: right;\">\n",
       "      <th></th>\n",
       "      <th>age</th>\n",
       "      <th>workclass</th>\n",
       "      <th>education</th>\n",
       "      <th>education-num</th>\n",
       "      <th>marital-status</th>\n",
       "      <th>occupation</th>\n",
       "      <th>relationship</th>\n",
       "      <th>race</th>\n",
       "      <th>sex</th>\n",
       "      <th>hourse-per-week</th>\n",
       "      <th>native-country</th>\n",
       "      <th>CLASS</th>\n",
       "    </tr>\n",
       "  </thead>\n",
       "  <tbody>\n",
       "    <tr>\n",
       "      <th>0</th>\n",
       "      <td>57</td>\n",
       "      <td>Private</td>\n",
       "      <td>HS-grad</td>\n",
       "      <td>9</td>\n",
       "      <td>Married-civ-spouse</td>\n",
       "      <td>Other-service</td>\n",
       "      <td>Husband</td>\n",
       "      <td>White</td>\n",
       "      <td>Male</td>\n",
       "      <td>30</td>\n",
       "      <td>United-States</td>\n",
       "      <td>&lt;=50K</td>\n",
       "    </tr>\n",
       "    <tr>\n",
       "      <th>1</th>\n",
       "      <td>32</td>\n",
       "      <td>Private</td>\n",
       "      <td>Assoc-voc</td>\n",
       "      <td>11</td>\n",
       "      <td>Married-civ-spouse</td>\n",
       "      <td>Machine-op-inspct</td>\n",
       "      <td>Husband</td>\n",
       "      <td>White</td>\n",
       "      <td>Male</td>\n",
       "      <td>40</td>\n",
       "      <td>United-States</td>\n",
       "      <td>&lt;=50K</td>\n",
       "    </tr>\n",
       "    <tr>\n",
       "      <th>2</th>\n",
       "      <td>44</td>\n",
       "      <td>?</td>\n",
       "      <td>HS-grad</td>\n",
       "      <td>9</td>\n",
       "      <td>Married-civ-spouse</td>\n",
       "      <td>?</td>\n",
       "      <td>Husband</td>\n",
       "      <td>Black</td>\n",
       "      <td>Male</td>\n",
       "      <td>30</td>\n",
       "      <td>United-States</td>\n",
       "      <td>&lt;=50K</td>\n",
       "    </tr>\n",
       "    <tr>\n",
       "      <th>3</th>\n",
       "      <td>27</td>\n",
       "      <td>Private</td>\n",
       "      <td>10th</td>\n",
       "      <td>6</td>\n",
       "      <td>Married-civ-spouse</td>\n",
       "      <td>Machine-op-inspct</td>\n",
       "      <td>Husband</td>\n",
       "      <td>White</td>\n",
       "      <td>Male</td>\n",
       "      <td>40</td>\n",
       "      <td>United-States</td>\n",
       "      <td>&lt;=50K</td>\n",
       "    </tr>\n",
       "    <tr>\n",
       "      <th>4</th>\n",
       "      <td>50</td>\n",
       "      <td>Private</td>\n",
       "      <td>HS-grad</td>\n",
       "      <td>9</td>\n",
       "      <td>Married-civ-spouse</td>\n",
       "      <td>Craft-repair</td>\n",
       "      <td>Husband</td>\n",
       "      <td>White</td>\n",
       "      <td>Male</td>\n",
       "      <td>40</td>\n",
       "      <td>United-States</td>\n",
       "      <td>&gt;50K</td>\n",
       "    </tr>\n",
       "    <tr>\n",
       "      <th>...</th>\n",
       "      <td>...</td>\n",
       "      <td>...</td>\n",
       "      <td>...</td>\n",
       "      <td>...</td>\n",
       "      <td>...</td>\n",
       "      <td>...</td>\n",
       "      <td>...</td>\n",
       "      <td>...</td>\n",
       "      <td>...</td>\n",
       "      <td>...</td>\n",
       "      <td>...</td>\n",
       "      <td>...</td>\n",
       "    </tr>\n",
       "    <tr>\n",
       "      <th>32556</th>\n",
       "      <td>54</td>\n",
       "      <td>Private</td>\n",
       "      <td>Bachelors</td>\n",
       "      <td>13</td>\n",
       "      <td>Married-civ-spouse</td>\n",
       "      <td>Exec-managerial</td>\n",
       "      <td>Husband</td>\n",
       "      <td>Asian-Pac-Islander</td>\n",
       "      <td>Male</td>\n",
       "      <td>60</td>\n",
       "      <td>South</td>\n",
       "      <td>&gt;50K</td>\n",
       "    </tr>\n",
       "    <tr>\n",
       "      <th>32557</th>\n",
       "      <td>25</td>\n",
       "      <td>Private</td>\n",
       "      <td>Bachelors</td>\n",
       "      <td>13</td>\n",
       "      <td>Married-civ-spouse</td>\n",
       "      <td>Craft-repair</td>\n",
       "      <td>Husband</td>\n",
       "      <td>White</td>\n",
       "      <td>Male</td>\n",
       "      <td>60</td>\n",
       "      <td>United-States</td>\n",
       "      <td>&gt;50K</td>\n",
       "    </tr>\n",
       "    <tr>\n",
       "      <th>32558</th>\n",
       "      <td>23</td>\n",
       "      <td>Private</td>\n",
       "      <td>12th</td>\n",
       "      <td>8</td>\n",
       "      <td>Never-married</td>\n",
       "      <td>Handlers-cleaners</td>\n",
       "      <td>Own-child</td>\n",
       "      <td>Amer-Indian-Eskimo</td>\n",
       "      <td>Male</td>\n",
       "      <td>40</td>\n",
       "      <td>United-States</td>\n",
       "      <td>&lt;=50K</td>\n",
       "    </tr>\n",
       "    <tr>\n",
       "      <th>32559</th>\n",
       "      <td>44</td>\n",
       "      <td>Local-gov</td>\n",
       "      <td>Masters</td>\n",
       "      <td>14</td>\n",
       "      <td>Married-civ-spouse</td>\n",
       "      <td>Prof-specialty</td>\n",
       "      <td>Husband</td>\n",
       "      <td>White</td>\n",
       "      <td>Male</td>\n",
       "      <td>40</td>\n",
       "      <td>United-States</td>\n",
       "      <td>&gt;50K</td>\n",
       "    </tr>\n",
       "    <tr>\n",
       "      <th>32560</th>\n",
       "      <td>51</td>\n",
       "      <td>Self-emp-inc</td>\n",
       "      <td>Some-college</td>\n",
       "      <td>10</td>\n",
       "      <td>Divorced</td>\n",
       "      <td>Exec-managerial</td>\n",
       "      <td>Unmarried</td>\n",
       "      <td>White</td>\n",
       "      <td>Female</td>\n",
       "      <td>50</td>\n",
       "      <td>United-States</td>\n",
       "      <td>&lt;=50K</td>\n",
       "    </tr>\n",
       "  </tbody>\n",
       "</table>\n",
       "<p>32561 rows × 12 columns</p>\n",
       "</div>"
      ],
      "text/plain": [
       "       age     workclass     education  education-num      marital-status  \\\n",
       "0       57       Private       HS-grad              9  Married-civ-spouse   \n",
       "1       32       Private     Assoc-voc             11  Married-civ-spouse   \n",
       "2       44             ?       HS-grad              9  Married-civ-spouse   \n",
       "3       27       Private          10th              6  Married-civ-spouse   \n",
       "4       50       Private       HS-grad              9  Married-civ-spouse   \n",
       "...    ...           ...           ...            ...                 ...   \n",
       "32556   54       Private     Bachelors             13  Married-civ-spouse   \n",
       "32557   25       Private     Bachelors             13  Married-civ-spouse   \n",
       "32558   23       Private          12th              8       Never-married   \n",
       "32559   44     Local-gov       Masters             14  Married-civ-spouse   \n",
       "32560   51  Self-emp-inc  Some-college             10            Divorced   \n",
       "\n",
       "              occupation relationship                race     sex  \\\n",
       "0          Other-service      Husband               White    Male   \n",
       "1      Machine-op-inspct      Husband               White    Male   \n",
       "2                      ?      Husband               Black    Male   \n",
       "3      Machine-op-inspct      Husband               White    Male   \n",
       "4           Craft-repair      Husband               White    Male   \n",
       "...                  ...          ...                 ...     ...   \n",
       "32556    Exec-managerial      Husband  Asian-Pac-Islander    Male   \n",
       "32557       Craft-repair      Husband               White    Male   \n",
       "32558  Handlers-cleaners    Own-child  Amer-Indian-Eskimo    Male   \n",
       "32559     Prof-specialty      Husband               White    Male   \n",
       "32560    Exec-managerial    Unmarried               White  Female   \n",
       "\n",
       "       hourse-per-week native-country  CLASS  \n",
       "0                   30  United-States  <=50K  \n",
       "1                   40  United-States  <=50K  \n",
       "2                   30  United-States  <=50K  \n",
       "3                   40  United-States  <=50K  \n",
       "4                   40  United-States   >50K  \n",
       "...                ...            ...    ...  \n",
       "32556               60          South   >50K  \n",
       "32557               60  United-States   >50K  \n",
       "32558               40  United-States  <=50K  \n",
       "32559               40  United-States   >50K  \n",
       "32560               50  United-States  <=50K  \n",
       "\n",
       "[32561 rows x 12 columns]"
      ]
     },
     "execution_count": 26,
     "metadata": {},
     "output_type": "execute_result"
    }
   ],
   "source": [
    "adult_dataset = adult_dataset[['age','workclass','education','education-num','marital-status','occupation','relationship','race','sex','hourse-per-week', 'native-country' ,'CLASS']]\n",
    "\n",
    "for element in list(adult_dataset):\n",
    "    if adult_dataset[element].dtype not in [np.float64, np.int64]:\n",
    "        adult_dataset[element] = adult_dataset[element].str.strip()\n",
    "\n",
    "adult_dataset['CLASS'] = adult_dataset['CLASS'].str.strip()\n",
    "adult_dataset.head()\n",
    "adult_dataset"
   ]
  },
  {
   "cell_type": "code",
   "execution_count": 27,
   "id": "dietary-shame",
   "metadata": {},
   "outputs": [
    {
     "data": {
      "text/html": [
       "<div>\n",
       "<style scoped>\n",
       "    .dataframe tbody tr th:only-of-type {\n",
       "        vertical-align: middle;\n",
       "    }\n",
       "\n",
       "    .dataframe tbody tr th {\n",
       "        vertical-align: top;\n",
       "    }\n",
       "\n",
       "    .dataframe thead th {\n",
       "        text-align: right;\n",
       "    }\n",
       "</style>\n",
       "<table border=\"1\" class=\"dataframe\">\n",
       "  <thead>\n",
       "    <tr style=\"text-align: right;\">\n",
       "      <th></th>\n",
       "      <th>index</th>\n",
       "      <th>age</th>\n",
       "      <th>workclass</th>\n",
       "      <th>education</th>\n",
       "      <th>education-num</th>\n",
       "      <th>marital-status</th>\n",
       "      <th>occupation</th>\n",
       "      <th>relationship</th>\n",
       "      <th>race</th>\n",
       "      <th>sex</th>\n",
       "      <th>hourse-per-week</th>\n",
       "      <th>native-country</th>\n",
       "      <th>CLASS</th>\n",
       "    </tr>\n",
       "  </thead>\n",
       "  <tbody>\n",
       "    <tr>\n",
       "      <th>0</th>\n",
       "      <td>0</td>\n",
       "      <td>57</td>\n",
       "      <td>Private</td>\n",
       "      <td>HS-grad</td>\n",
       "      <td>9</td>\n",
       "      <td>Married-civ-spouse</td>\n",
       "      <td>Other-service</td>\n",
       "      <td>Husband</td>\n",
       "      <td>White</td>\n",
       "      <td>Male</td>\n",
       "      <td>30</td>\n",
       "      <td>United-States</td>\n",
       "      <td>&lt;=50K</td>\n",
       "    </tr>\n",
       "    <tr>\n",
       "      <th>1</th>\n",
       "      <td>1</td>\n",
       "      <td>32</td>\n",
       "      <td>Private</td>\n",
       "      <td>Assoc-voc</td>\n",
       "      <td>11</td>\n",
       "      <td>Married-civ-spouse</td>\n",
       "      <td>Machine-op-inspct</td>\n",
       "      <td>Husband</td>\n",
       "      <td>White</td>\n",
       "      <td>Male</td>\n",
       "      <td>40</td>\n",
       "      <td>United-States</td>\n",
       "      <td>&lt;=50K</td>\n",
       "    </tr>\n",
       "    <tr>\n",
       "      <th>2</th>\n",
       "      <td>3</td>\n",
       "      <td>27</td>\n",
       "      <td>Private</td>\n",
       "      <td>10th</td>\n",
       "      <td>6</td>\n",
       "      <td>Married-civ-spouse</td>\n",
       "      <td>Machine-op-inspct</td>\n",
       "      <td>Husband</td>\n",
       "      <td>White</td>\n",
       "      <td>Male</td>\n",
       "      <td>40</td>\n",
       "      <td>United-States</td>\n",
       "      <td>&lt;=50K</td>\n",
       "    </tr>\n",
       "    <tr>\n",
       "      <th>3</th>\n",
       "      <td>4</td>\n",
       "      <td>50</td>\n",
       "      <td>Private</td>\n",
       "      <td>HS-grad</td>\n",
       "      <td>9</td>\n",
       "      <td>Married-civ-spouse</td>\n",
       "      <td>Craft-repair</td>\n",
       "      <td>Husband</td>\n",
       "      <td>White</td>\n",
       "      <td>Male</td>\n",
       "      <td>40</td>\n",
       "      <td>United-States</td>\n",
       "      <td>&gt;50K</td>\n",
       "    </tr>\n",
       "    <tr>\n",
       "      <th>4</th>\n",
       "      <td>5</td>\n",
       "      <td>26</td>\n",
       "      <td>Private</td>\n",
       "      <td>HS-grad</td>\n",
       "      <td>9</td>\n",
       "      <td>Never-married</td>\n",
       "      <td>Craft-repair</td>\n",
       "      <td>Own-child</td>\n",
       "      <td>White</td>\n",
       "      <td>Male</td>\n",
       "      <td>40</td>\n",
       "      <td>United-States</td>\n",
       "      <td>&lt;=50K</td>\n",
       "    </tr>\n",
       "    <tr>\n",
       "      <th>...</th>\n",
       "      <td>...</td>\n",
       "      <td>...</td>\n",
       "      <td>...</td>\n",
       "      <td>...</td>\n",
       "      <td>...</td>\n",
       "      <td>...</td>\n",
       "      <td>...</td>\n",
       "      <td>...</td>\n",
       "      <td>...</td>\n",
       "      <td>...</td>\n",
       "      <td>...</td>\n",
       "      <td>...</td>\n",
       "      <td>...</td>\n",
       "    </tr>\n",
       "    <tr>\n",
       "      <th>30157</th>\n",
       "      <td>32556</td>\n",
       "      <td>54</td>\n",
       "      <td>Private</td>\n",
       "      <td>Bachelors</td>\n",
       "      <td>13</td>\n",
       "      <td>Married-civ-spouse</td>\n",
       "      <td>Exec-managerial</td>\n",
       "      <td>Husband</td>\n",
       "      <td>Asian-Pac-Islander</td>\n",
       "      <td>Male</td>\n",
       "      <td>60</td>\n",
       "      <td>South</td>\n",
       "      <td>&gt;50K</td>\n",
       "    </tr>\n",
       "    <tr>\n",
       "      <th>30158</th>\n",
       "      <td>32557</td>\n",
       "      <td>25</td>\n",
       "      <td>Private</td>\n",
       "      <td>Bachelors</td>\n",
       "      <td>13</td>\n",
       "      <td>Married-civ-spouse</td>\n",
       "      <td>Craft-repair</td>\n",
       "      <td>Husband</td>\n",
       "      <td>White</td>\n",
       "      <td>Male</td>\n",
       "      <td>60</td>\n",
       "      <td>United-States</td>\n",
       "      <td>&gt;50K</td>\n",
       "    </tr>\n",
       "    <tr>\n",
       "      <th>30159</th>\n",
       "      <td>32558</td>\n",
       "      <td>23</td>\n",
       "      <td>Private</td>\n",
       "      <td>12th</td>\n",
       "      <td>8</td>\n",
       "      <td>Never-married</td>\n",
       "      <td>Handlers-cleaners</td>\n",
       "      <td>Own-child</td>\n",
       "      <td>Amer-Indian-Eskimo</td>\n",
       "      <td>Male</td>\n",
       "      <td>40</td>\n",
       "      <td>United-States</td>\n",
       "      <td>&lt;=50K</td>\n",
       "    </tr>\n",
       "    <tr>\n",
       "      <th>30160</th>\n",
       "      <td>32559</td>\n",
       "      <td>44</td>\n",
       "      <td>Local-gov</td>\n",
       "      <td>Masters</td>\n",
       "      <td>14</td>\n",
       "      <td>Married-civ-spouse</td>\n",
       "      <td>Prof-specialty</td>\n",
       "      <td>Husband</td>\n",
       "      <td>White</td>\n",
       "      <td>Male</td>\n",
       "      <td>40</td>\n",
       "      <td>United-States</td>\n",
       "      <td>&gt;50K</td>\n",
       "    </tr>\n",
       "    <tr>\n",
       "      <th>30161</th>\n",
       "      <td>32560</td>\n",
       "      <td>51</td>\n",
       "      <td>Self-emp-inc</td>\n",
       "      <td>Some-college</td>\n",
       "      <td>10</td>\n",
       "      <td>Divorced</td>\n",
       "      <td>Exec-managerial</td>\n",
       "      <td>Unmarried</td>\n",
       "      <td>White</td>\n",
       "      <td>Female</td>\n",
       "      <td>50</td>\n",
       "      <td>United-States</td>\n",
       "      <td>&lt;=50K</td>\n",
       "    </tr>\n",
       "  </tbody>\n",
       "</table>\n",
       "<p>30162 rows × 13 columns</p>\n",
       "</div>"
      ],
      "text/plain": [
       "       index  age     workclass     education  education-num  \\\n",
       "0          0   57       Private       HS-grad              9   \n",
       "1          1   32       Private     Assoc-voc             11   \n",
       "2          3   27       Private          10th              6   \n",
       "3          4   50       Private       HS-grad              9   \n",
       "4          5   26       Private       HS-grad              9   \n",
       "...      ...  ...           ...           ...            ...   \n",
       "30157  32556   54       Private     Bachelors             13   \n",
       "30158  32557   25       Private     Bachelors             13   \n",
       "30159  32558   23       Private          12th              8   \n",
       "30160  32559   44     Local-gov       Masters             14   \n",
       "30161  32560   51  Self-emp-inc  Some-college             10   \n",
       "\n",
       "           marital-status         occupation relationship                race  \\\n",
       "0      Married-civ-spouse      Other-service      Husband               White   \n",
       "1      Married-civ-spouse  Machine-op-inspct      Husband               White   \n",
       "2      Married-civ-spouse  Machine-op-inspct      Husband               White   \n",
       "3      Married-civ-spouse       Craft-repair      Husband               White   \n",
       "4           Never-married       Craft-repair    Own-child               White   \n",
       "...                   ...                ...          ...                 ...   \n",
       "30157  Married-civ-spouse    Exec-managerial      Husband  Asian-Pac-Islander   \n",
       "30158  Married-civ-spouse       Craft-repair      Husband               White   \n",
       "30159       Never-married  Handlers-cleaners    Own-child  Amer-Indian-Eskimo   \n",
       "30160  Married-civ-spouse     Prof-specialty      Husband               White   \n",
       "30161            Divorced    Exec-managerial    Unmarried               White   \n",
       "\n",
       "          sex  hourse-per-week native-country  CLASS  \n",
       "0        Male               30  United-States  <=50K  \n",
       "1        Male               40  United-States  <=50K  \n",
       "2        Male               40  United-States  <=50K  \n",
       "3        Male               40  United-States   >50K  \n",
       "4        Male               40  United-States  <=50K  \n",
       "...       ...              ...            ...    ...  \n",
       "30157    Male               60          South   >50K  \n",
       "30158    Male               60  United-States   >50K  \n",
       "30159    Male               40  United-States  <=50K  \n",
       "30160    Male               40  United-States   >50K  \n",
       "30161  Female               50  United-States  <=50K  \n",
       "\n",
       "[30162 rows x 13 columns]"
      ]
     },
     "execution_count": 27,
     "metadata": {},
     "output_type": "execute_result"
    }
   ],
   "source": [
    "adult_dataset.dropna(how='any', axis=0)\n",
    "indexNames = adult_dataset[(adult_dataset['workclass'] == '?') | (adult_dataset['education'] == '?') | (adult_dataset['marital-status'] == '?') | (adult_dataset['occupation'] == '?') | (adult_dataset['relationship'] == '?') | (adult_dataset['race'] == '?') | (adult_dataset['sex'] == '?') | (adult_dataset['native-country'] == '?') ].index\n",
    "# print(indexNames)\n",
    "adult_dataset.drop(indexNames, inplace=True)\n",
    "adult_dataset.head()\n",
    "adult_dataset.reset_index(inplace=True)\n",
    "adult_dataset"
   ]
  },
  {
   "cell_type": "markdown",
   "id": "occupational-canyon",
   "metadata": {},
   "source": [
    "### Adult 70%"
   ]
  },
  {
   "cell_type": "code",
   "execution_count": 28,
   "id": "excellent-central",
   "metadata": {},
   "outputs": [
    {
     "name": "stdout",
     "output_type": "stream",
     "text": [
      "<=50K    10558\n",
      ">50K      3517\n",
      "Name: CLASS, dtype: int64\n"
     ]
    },
    {
     "data": {
      "text/plain": [
       "<AxesSubplot:title={'center':'class'}>"
      ]
     },
     "execution_count": 28,
     "metadata": {},
     "output_type": "execute_result"
    },
    {
     "data": {
      "image/png": "[encoded data removed]",
      "text/plain": [
       "<Figure size 432x288 with 1 Axes>"
      ]
     },
     "metadata": {
      "needs_background": "light"
     },
     "output_type": "display_data"
    }
   ],
   "source": [
    "adult_set_for_training70, adult_testing70 = data_utils.data_split(adult_dataset, 70)\n",
    "adult_training70, adult_validation70 = data_utils.split_training_data_for_pruning(adult_set_for_training70)\n",
    "\n",
    "print(adult_training70['CLASS'].value_counts())\n",
    "adult_training70['CLASS'].value_counts().plot(kind='bar', title='class')"
   ]
  },
  {
   "cell_type": "code",
   "execution_count": 29,
   "id": "mature-cologne",
   "metadata": {},
   "outputs": [
    {
     "data": {
      "text/plain": [
       "<AxesSubplot:title={'center':'class'}>"
      ]
     },
     "execution_count": 29,
     "metadata": {},
     "output_type": "execute_result"
    },
    {
     "data": {
      "image/png": "[encoded data removed]",
      "text/plain": [
       "<Figure size 432x288 with 1 Axes>"
      ]
     },
     "metadata": {
      "needs_background": "light"
     },
     "output_type": "display_data"
    }
   ],
   "source": [
    "resampling_adult70 = adult_training70.copy()\n",
    "less_50k_part70 = resampling_adult70[resampling_adult70['CLASS'] == '<=50K']\n",
    "more_50k_part70 = resampling_adult70[resampling_adult70['CLASS'] == '>50K'] \n",
    "\n",
    "less_50k_part_downsampled70 = resample(less_50k_part70, \n",
    "                                 replace=False,    \n",
    "                                 n_samples=3528)\n",
    "\n",
    "# Combine minority class with downsampled majority class\n",
    "balanced_adult_training70 = pd.concat([less_50k_part_downsampled70, more_50k_part70])\n",
    "balanced_adult_training70 = balanced_adult_training70.reset_index(level=None, drop=True, inplace=False, col_level=0, col_fill='')\n",
    "balanced_adult_training70 = balanced_adult_training70.sample(frac=1).reset_index(drop=True)\n",
    "\n",
    "adult_training70 = balanced_adult_training70.copy()\n",
    "adult_training70['CLASS'].value_counts().plot(kind='bar', title='class')"
   ]
  },
  {
   "cell_type": "markdown",
   "id": "alternate-canberra",
   "metadata": {},
   "source": [
    "### Adult 80%"
   ]
  },
  {
   "cell_type": "code",
   "execution_count": 30,
   "id": "completed-liechtenstein",
   "metadata": {},
   "outputs": [
    {
     "name": "stdout",
     "output_type": "stream",
     "text": [
      "<=50K    12070\n",
      ">50K      4015\n",
      "Name: CLASS, dtype: int64\n"
     ]
    },
    {
     "data": {
      "text/plain": [
       "<AxesSubplot:title={'center':'class'}>"
      ]
     },
     "execution_count": 30,
     "metadata": {},
     "output_type": "execute_result"
    },
    {
     "data": {
      "image/png": "[encoded data removed]",
      "text/plain": [
       "<Figure size 432x288 with 1 Axes>"
      ]
     },
     "metadata": {
      "needs_background": "light"
     },
     "output_type": "display_data"
    }
   ],
   "source": [
    "adult_set_for_training80, adult_testing80 = data_utils.data_split(adult_dataset, 80)\n",
    "adult_training80, adult_validation80 = data_utils.split_training_data_for_pruning(adult_set_for_training80)\n",
    "\n",
    "print(adult_training80['CLASS'].value_counts())\n",
    "adult_training80['CLASS'].value_counts().plot(kind='bar', title='class')"
   ]
  },
  {
   "cell_type": "code",
   "execution_count": 31,
   "id": "stretch-northwest",
   "metadata": {},
   "outputs": [
    {
     "data": {
      "text/plain": [
       "<AxesSubplot:title={'center':'class'}>"
      ]
     },
     "execution_count": 31,
     "metadata": {},
     "output_type": "execute_result"
    },
    {
     "data": {
      "image/png": "[encoded data removed]",
      "text/plain": [
       "<Figure size 432x288 with 1 Axes>"
      ]
     },
     "metadata": {
      "needs_background": "light"
     },
     "output_type": "display_data"
    }
   ],
   "source": [
    "resampling_adult80 = adult_training80.copy()\n",
    "less_50k_part80 = resampling_adult80[resampling_adult80['CLASS'] == '<=50K']\n",
    "more_50k_part80 = resampling_adult80[resampling_adult80['CLASS'] == '>50K'] \n",
    "\n",
    "less_50k_part_downsampled80 = resample(less_50k_part80, \n",
    "                                 replace=False,    \n",
    "                                 n_samples=3980)\n",
    "\n",
    "# Combine minority class with downsampled majority class\n",
    "balanced_adult_training80 = pd.concat([less_50k_part_downsampled80, more_50k_part80])\n",
    "balanced_adult_training80 = balanced_adult_training80.reset_index(level=None, drop=True, inplace=False, col_level=0, col_fill='')\n",
    "balanced_adult_training80 = balanced_adult_training80.sample(frac=1).reset_index(drop=True)\n",
    "\n",
    "adult_training80 = balanced_adult_training80.copy()\n",
    "adult_training80['CLASS'].value_counts().plot(kind='bar', title='class')"
   ]
  },
  {
   "cell_type": "markdown",
   "id": "regular-journal",
   "metadata": {},
   "source": [
    "### Adult 90%"
   ]
  },
  {
   "cell_type": "code",
   "execution_count": 32,
   "id": "informal-tunnel",
   "metadata": {},
   "outputs": [
    {
     "name": "stdout",
     "output_type": "stream",
     "text": [
      "<=50K    13598\n",
      ">50K      4498\n",
      "Name: CLASS, dtype: int64\n"
     ]
    },
    {
     "data": {
      "text/plain": [
       "<AxesSubplot:title={'center':'class'}>"
      ]
     },
     "execution_count": 32,
     "metadata": {},
     "output_type": "execute_result"
    },
    {
     "data": {
      "image/png": "[encoded data removed]",
      "text/plain": [
       "<Figure size 432x288 with 1 Axes>"
      ]
     },
     "metadata": {
      "needs_background": "light"
     },
     "output_type": "display_data"
    }
   ],
   "source": [
    "adult_set_for_training90, adult_testing90 = data_utils.data_split(adult_dataset, 90)\n",
    "adult_training90, adult_validation90 = data_utils.split_training_data_for_pruning(adult_set_for_training90)\n",
    "\n",
    "print(adult_training90['CLASS'].value_counts())\n",
    "adult_training90['CLASS'].value_counts().plot(kind='bar', title='class')"
   ]
  },
  {
   "cell_type": "code",
   "execution_count": 33,
   "id": "egyptian-train",
   "metadata": {},
   "outputs": [
    {
     "data": {
      "text/plain": [
       "<AxesSubplot:title={'center':'class'}>"
      ]
     },
     "execution_count": 33,
     "metadata": {},
     "output_type": "execute_result"
    },
    {
     "data": {
      "image/png": "[encoded data removed]",
      "text/plain": [
       "<Figure size 432x288 with 1 Axes>"
      ]
     },
     "metadata": {
      "needs_background": "light"
     },
     "output_type": "display_data"
    }
   ],
   "source": [
    "resampling_adult90 = adult_training90.copy()\n",
    "less_50k_part90 = resampling_adult90[resampling_adult90['CLASS'] == '<=50K']\n",
    "more_50k_part90 = resampling_adult90[resampling_adult90['CLASS'] == '>50K'] \n",
    "\n",
    "less_50k_part_downsampled90 = resample(less_50k_part90, \n",
    "                                 replace=False,    \n",
    "                                 n_samples=4469)\n",
    "\n",
    "# Combine minority class with downsampled majority class\n",
    "balanced_adult_training90 = pd.concat([less_50k_part_downsampled90, more_50k_part90])\n",
    "balanced_adult_training90 = balanced_adult_training90.reset_index(level=None, drop=True, inplace=False, col_level=0, col_fill='')\n",
    "balanced_adult_training90 = balanced_adult_training90.sample(frac=1).reset_index(drop=True)\n",
    "\n",
    "adult_training90 = balanced_adult_training90.copy()\n",
    "adult_training90['CLASS'].value_counts().plot(kind='bar', title='class')"
   ]
  },
  {
   "cell_type": "markdown",
   "id": "periodic-pressing",
   "metadata": {},
   "source": [
    "## Model Training"
   ]
  },
  {
   "cell_type": "code",
   "execution_count": null,
   "id": "spoken-attack",
   "metadata": {},
   "outputs": [],
   "source": [
    "train_tree_for_different_heuristics(adult_training70, adult_testing70, adult_validation70)"
   ]
  },
  {
   "cell_type": "code",
   "execution_count": null,
   "id": "checked-lightweight",
   "metadata": {},
   "outputs": [],
   "source": [
    "train_tree_for_different_heuristics(adult_training80, adult_testing80, adult_validation80)"
   ]
  },
  {
   "cell_type": "code",
   "execution_count": null,
   "id": "loose-sapphire",
   "metadata": {},
   "outputs": [],
   "source": [
    "train_tree_for_different_heuristics(adult_training90, adult_testing90, adult_validation90)"
   ]
  }
 ],
 "metadata": {
  "kernelspec": {
   "display_name": "Python 3",
   "language": "python",
   "name": "python3"
  },
  "language_info": {
   "codemirror_mode": {
    "name": "ipython",
    "version": 3
   },
   "file_extension": ".py",
   "mimetype": "text/x-python",
   "name": "python",
   "nbconvert_exporter": "python",
   "pygments_lexer": "ipython3",
   "version": "3.8.10"
  }
 },
 "nbformat": 4,
 "nbformat_minor": 5
}
