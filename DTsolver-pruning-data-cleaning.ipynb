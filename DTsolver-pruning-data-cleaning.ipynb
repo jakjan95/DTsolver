{
 "cells": [
  {
   "cell_type": "code",
   "execution_count": 1,
   "id": "improving-hopkins",
   "metadata": {},
   "outputs": [
    {
     "data": {
      "text/html": [
       "<style>.container { width:100% !important; }</style>"
      ],
      "text/plain": [
       "<IPython.core.display.HTML object>"
      ]
     },
     "metadata": {},
     "output_type": "display_data"
    }
   ],
   "source": [
    "from IPython.core.display import display, HTML\n",
    "display(HTML(\"<style>.container { width:100% !important; }</style>\"))"
   ]
  },
  {
   "cell_type": "code",
   "execution_count": 2,
   "id": "sustained-making",
   "metadata": {},
   "outputs": [],
   "source": [
    "import src.data_utils as data_utils\n",
    "import src.tree_build as dt_tree\n",
    "import src.heurestics as dt_heur\n",
    "import src.tree_utils as tree_utils\n",
    "import src.dt_testing_utils as dt_testing\n",
    "import src.tree_pruning as tree_pruning\n",
    "\n",
    "from pprint import pprint\n",
    "import numpy as np\n",
    "import pandas as pd\n",
    "from sklearn.utils import resample"
   ]
  },
  {
   "cell_type": "markdown",
   "id": "unable-audio",
   "metadata": {},
   "source": [
    "## Utils"
   ]
  },
  {
   "cell_type": "code",
   "execution_count": 3,
   "id": "plastic-leonard",
   "metadata": {},
   "outputs": [],
   "source": [
    "def print_tree_informations(tree, training_data, testing_data):\n",
    "    accuracy_testing = tree_utils.tree_accuracy(testing_data, tree)\n",
    "    accuracy_training = tree_utils.tree_accuracy(training_data, tree)\n",
    "    levels = tree_utils.number_of_levels(tree)\n",
    "    leafs = tree_utils.number_of_leafs(tree)\n",
    "    print(\"Accuracy for: testing {0:.2f}% | training {1:.2f}% | levels {2} | leafs {3}\".format(accuracy_testing, accuracy_training,levels, leafs))"
   ]
  },
  {
   "cell_type": "code",
   "execution_count": 4,
   "id": "hungry-tactics",
   "metadata": {},
   "outputs": [],
   "source": [
    "#heuristics\n",
    "def train_and_prune_tree(heurestic, training_data, testing_data, validation_data):\n",
    "    print(\"Before Pruning - heuristic = {0}\".format(heurestic.__name__))\n",
    "    trained_tree = dt_tree.build_tree_generic(heurestic, training_data)\n",
    "    print_tree_informations(trained_tree, training_data, testing_data)\n",
    "#     pprint(trained_tree)\n",
    "    print(\"After Pruning:\")\n",
    "    pruned_trained_tree = tree_pruning.reduced_error_pruning(trained_tree, validation_data)\n",
    "    print_tree_informations(pruned_trained_tree, training_data, testing_data)\n",
    "    print('\\n')\n",
    "#     pprint(pruned_trained_tree)"
   ]
  },
  {
   "cell_type": "code",
   "execution_count": 5,
   "id": "powered-duncan",
   "metadata": {},
   "outputs": [],
   "source": [
    "default_heuristics = [dt_heur.gini_impurity_weighted, dt_heur.info_gain, dt_heur.information_gain_ratio,\n",
    "                      dt_heur.distance_measure, dt_heur.j_measure, dt_heur.weight_of_evidence,\n",
    "                      dt_heur.gini_pri, dt_heur.relief, dt_heur.relevance, dt_heur.mdl_simple]\n",
    "\n",
    "def train_tree_for_different_heuristics(training_data, testing_data, validation_data, heuristics = default_heuristics):\n",
    "    for heuristic in heuristics:\n",
    "        train_and_prune_tree(heuristic, training_data, testing_data, validation_data)"
   ]
  },
  {
   "cell_type": "markdown",
   "id": "abandoned-satin",
   "metadata": {},
   "source": [
    "# Car dataset"
   ]
  },
  {
   "cell_type": "markdown",
   "id": "sharing-envelope",
   "metadata": {},
   "source": [
    "## Dataset preparation"
   ]
  },
  {
   "cell_type": "code",
   "execution_count": 6,
   "id": "explicit-bermuda",
   "metadata": {},
   "outputs": [
    {
     "data": {
      "text/html": [
       "<div>\n",
       "<style scoped>\n",
       "    .dataframe tbody tr th:only-of-type {\n",
       "        vertical-align: middle;\n",
       "    }\n",
       "\n",
       "    .dataframe tbody tr th {\n",
       "        vertical-align: top;\n",
       "    }\n",
       "\n",
       "    .dataframe thead th {\n",
       "        text-align: right;\n",
       "    }\n",
       "</style>\n",
       "<table border=\"1\" class=\"dataframe\">\n",
       "  <thead>\n",
       "    <tr style=\"text-align: right;\">\n",
       "      <th></th>\n",
       "      <th>buying</th>\n",
       "      <th>maint</th>\n",
       "      <th>doors</th>\n",
       "      <th>persons</th>\n",
       "      <th>lug_boot</th>\n",
       "      <th>safety</th>\n",
       "      <th>CLASS</th>\n",
       "    </tr>\n",
       "  </thead>\n",
       "  <tbody>\n",
       "    <tr>\n",
       "      <th>0</th>\n",
       "      <td>high</td>\n",
       "      <td>med</td>\n",
       "      <td>3</td>\n",
       "      <td>4</td>\n",
       "      <td>big</td>\n",
       "      <td>high</td>\n",
       "      <td>acc</td>\n",
       "    </tr>\n",
       "    <tr>\n",
       "      <th>1</th>\n",
       "      <td>med</td>\n",
       "      <td>high</td>\n",
       "      <td>5more</td>\n",
       "      <td>2</td>\n",
       "      <td>small</td>\n",
       "      <td>med</td>\n",
       "      <td>unacc</td>\n",
       "    </tr>\n",
       "    <tr>\n",
       "      <th>2</th>\n",
       "      <td>vhigh</td>\n",
       "      <td>high</td>\n",
       "      <td>3</td>\n",
       "      <td>2</td>\n",
       "      <td>big</td>\n",
       "      <td>low</td>\n",
       "      <td>unacc</td>\n",
       "    </tr>\n",
       "    <tr>\n",
       "      <th>3</th>\n",
       "      <td>med</td>\n",
       "      <td>high</td>\n",
       "      <td>3</td>\n",
       "      <td>more</td>\n",
       "      <td>small</td>\n",
       "      <td>med</td>\n",
       "      <td>unacc</td>\n",
       "    </tr>\n",
       "    <tr>\n",
       "      <th>4</th>\n",
       "      <td>high</td>\n",
       "      <td>med</td>\n",
       "      <td>2</td>\n",
       "      <td>4</td>\n",
       "      <td>big</td>\n",
       "      <td>high</td>\n",
       "      <td>acc</td>\n",
       "    </tr>\n",
       "  </tbody>\n",
       "</table>\n",
       "</div>"
      ],
      "text/plain": [
       "  buying maint  doors persons lug_boot safety  CLASS\n",
       "0   high   med      3       4      big   high    acc\n",
       "1    med  high  5more       2    small    med  unacc\n",
       "2  vhigh  high      3       2      big    low  unacc\n",
       "3    med  high      3    more    small    med  unacc\n",
       "4   high   med      2       4      big   high    acc"
      ]
     },
     "execution_count": 6,
     "metadata": {},
     "output_type": "execute_result"
    }
   ],
   "source": [
    "car_dataset_path = 'data/car.data'\n",
    "car_dataset_labels = ['buying','maint','doors','persons','lug_boot','safety','CLASS']\n",
    "car_dataset = data_utils.preapare_dataset(car_dataset_path, car_dataset_labels)\n",
    "car_dataset.head()"
   ]
  },
  {
   "cell_type": "markdown",
   "id": "enormous-faith",
   "metadata": {},
   "source": [
    "### Car 70%"
   ]
  },
  {
   "cell_type": "code",
   "execution_count": 7,
   "id": "invalid-holly",
   "metadata": {},
   "outputs": [
    {
     "name": "stdout",
     "output_type": "stream",
     "text": [
      "unacc    562\n",
      "acc      180\n",
      "good      32\n",
      "vgood     31\n",
      "Name: CLASS, dtype: int64\n"
     ]
    },
    {
     "data": {
      "text/plain": [
       "<AxesSubplot:title={'center':'class'}>"
      ]
     },
     "execution_count": 7,
     "metadata": {},
     "output_type": "execute_result"
    },
    {
     "data": {
      "image/png": "[encoded data removed]",
      "text/plain": [
       "<Figure size 432x288 with 1 Axes>"
      ]
     },
     "metadata": {
      "needs_background": "light"
     },
     "output_type": "display_data"
    }
   ],
   "source": [
    "car_set_for_training70, car_testing70 = data_utils.data_split(car_dataset, 70)\n",
    "car_training70, car_validation70 = data_utils.split_training_data_for_pruning(car_set_for_training70)\n",
    "print(car_training70['CLASS'].value_counts())\n",
    "car_training70['CLASS'].value_counts().plot(kind='bar', title='class')"
   ]
  },
  {
   "cell_type": "code",
   "execution_count": 8,
   "id": "complicated-traffic",
   "metadata": {},
   "outputs": [],
   "source": [
    "# car_training"
   ]
  },
  {
   "cell_type": "code",
   "execution_count": 9,
   "id": "affiliated-possible",
   "metadata": {},
   "outputs": [
    {
     "name": "stdout",
     "output_type": "stream",
     "text": [
      "180\n"
     ]
    },
    {
     "data": {
      "text/plain": [
       "<AxesSubplot:title={'center':'class'}>"
      ]
     },
     "execution_count": 9,
     "metadata": {},
     "output_type": "execute_result"
    },
    {
     "data": {
      "image/png": "[encoded data removed]",
      "text/plain": [
       "<Figure size 432x288 with 1 Axes>"
      ]
     },
     "metadata": {
      "needs_background": "light"
     },
     "output_type": "display_data"
    }
   ],
   "source": [
    "#Target for all 174\n",
    "resampling_car70 = car_training70.copy()\n",
    "unacc_part70 = resampling_car70[resampling_car70['CLASS'] == 'unacc']\n",
    "acc_part70 = resampling_car70[resampling_car70['CLASS'] == 'acc'] \n",
    "print(len(acc_part70))\n",
    "vgood_part70 = resampling_car70[resampling_car70['CLASS'] == 'vgood'] \n",
    "good_part70 = resampling_car70[resampling_car70['CLASS'] == 'good'] \n",
    "\n",
    "\n",
    "unacc_downsample70 = resample(unacc_part70, \n",
    "                                 replace=False,     \n",
    "                                 n_samples=179)\n",
    "\n",
    "vgood_part_upsampled70 = resample(vgood_part70, \n",
    "                                 replace=True,     \n",
    "                                 n_samples=179)\n",
    "good_part_upsampled70 = resample(good_part70, \n",
    "                                 replace=True,     \n",
    "                                 n_samples=179)\n",
    "\n",
    "# Combine majority class with upsamplet minority class\n",
    "balanced_car_training70 = pd.concat([unacc_downsample70, acc_part70, vgood_part_upsampled70, good_part_upsampled70])\n",
    "balanced_car_training70 = balanced_car_training70.reset_index(level=None, drop=True, inplace=False, col_level=0, col_fill='')\n",
    "balanced_car_training70 = balanced_car_training70.sample(frac=1).reset_index(drop=True)\n",
    "\n",
    "car_training70 = balanced_car_training70.copy()\n",
    "car_training70['CLASS'].value_counts().plot(kind='bar', title='class')"
   ]
  },
  {
   "cell_type": "code",
   "execution_count": 10,
   "id": "early-insertion",
   "metadata": {},
   "outputs": [
    {
     "data": {
      "text/html": [
       "<div>\n",
       "<style scoped>\n",
       "    .dataframe tbody tr th:only-of-type {\n",
       "        vertical-align: middle;\n",
       "    }\n",
       "\n",
       "    .dataframe tbody tr th {\n",
       "        vertical-align: top;\n",
       "    }\n",
       "\n",
       "    .dataframe thead th {\n",
       "        text-align: right;\n",
       "    }\n",
       "</style>\n",
       "<table border=\"1\" class=\"dataframe\">\n",
       "  <thead>\n",
       "    <tr style=\"text-align: right;\">\n",
       "      <th></th>\n",
       "      <th>buying</th>\n",
       "      <th>maint</th>\n",
       "      <th>doors</th>\n",
       "      <th>persons</th>\n",
       "      <th>lug_boot</th>\n",
       "      <th>safety</th>\n",
       "      <th>CLASS</th>\n",
       "    </tr>\n",
       "  </thead>\n",
       "  <tbody>\n",
       "    <tr>\n",
       "      <th>0</th>\n",
       "      <td>med</td>\n",
       "      <td>med</td>\n",
       "      <td>3</td>\n",
       "      <td>2</td>\n",
       "      <td>med</td>\n",
       "      <td>med</td>\n",
       "      <td>unacc</td>\n",
       "    </tr>\n",
       "    <tr>\n",
       "      <th>1</th>\n",
       "      <td>high</td>\n",
       "      <td>med</td>\n",
       "      <td>3</td>\n",
       "      <td>2</td>\n",
       "      <td>med</td>\n",
       "      <td>low</td>\n",
       "      <td>unacc</td>\n",
       "    </tr>\n",
       "    <tr>\n",
       "      <th>2</th>\n",
       "      <td>low</td>\n",
       "      <td>high</td>\n",
       "      <td>5more</td>\n",
       "      <td>more</td>\n",
       "      <td>small</td>\n",
       "      <td>high</td>\n",
       "      <td>acc</td>\n",
       "    </tr>\n",
       "    <tr>\n",
       "      <th>3</th>\n",
       "      <td>high</td>\n",
       "      <td>vhigh</td>\n",
       "      <td>5more</td>\n",
       "      <td>more</td>\n",
       "      <td>small</td>\n",
       "      <td>high</td>\n",
       "      <td>unacc</td>\n",
       "    </tr>\n",
       "    <tr>\n",
       "      <th>4</th>\n",
       "      <td>low</td>\n",
       "      <td>high</td>\n",
       "      <td>2</td>\n",
       "      <td>4</td>\n",
       "      <td>big</td>\n",
       "      <td>med</td>\n",
       "      <td>acc</td>\n",
       "    </tr>\n",
       "  </tbody>\n",
       "</table>\n",
       "</div>"
      ],
      "text/plain": [
       "  buying  maint  doors persons lug_boot safety  CLASS\n",
       "0    med    med      3       2      med    med  unacc\n",
       "1   high    med      3       2      med    low  unacc\n",
       "2    low   high  5more    more    small   high    acc\n",
       "3   high  vhigh  5more    more    small   high  unacc\n",
       "4    low   high      2       4      big    med    acc"
      ]
     },
     "execution_count": 10,
     "metadata": {},
     "output_type": "execute_result"
    }
   ],
   "source": [
    "car_training70.head()"
   ]
  },
  {
   "cell_type": "markdown",
   "id": "wireless-thermal",
   "metadata": {},
   "source": [
    "### Dataset 80%"
   ]
  },
  {
   "cell_type": "code",
   "execution_count": 11,
   "id": "second-index",
   "metadata": {},
   "outputs": [
    {
     "name": "stdout",
     "output_type": "stream",
     "text": [
      "unacc    644\n",
      "acc      208\n",
      "good      36\n",
      "vgood     33\n",
      "Name: CLASS, dtype: int64\n"
     ]
    },
    {
     "data": {
      "text/plain": [
       "<AxesSubplot:title={'center':'class'}>"
      ]
     },
     "execution_count": 11,
     "metadata": {},
     "output_type": "execute_result"
    },
    {
     "data": {
      "image/png": "[encoded data removed]",
      "text/plain": [
       "<Figure size 432x288 with 1 Axes>"
      ]
     },
     "metadata": {
      "needs_background": "light"
     },
     "output_type": "display_data"
    }
   ],
   "source": [
    "car_set_for_training80, car_testing80 = data_utils.data_split(car_dataset, 80)\n",
    "car_training80, car_validation80 = data_utils.split_training_data_for_pruning(car_set_for_training80)\n",
    "print(car_training80['CLASS'].value_counts())\n",
    "car_training80['CLASS'].value_counts().plot(kind='bar', title='class')"
   ]
  },
  {
   "cell_type": "code",
   "execution_count": 12,
   "id": "applied-component",
   "metadata": {},
   "outputs": [],
   "source": [
    "# car_training80"
   ]
  },
  {
   "cell_type": "code",
   "execution_count": 13,
   "id": "interracial-basic",
   "metadata": {},
   "outputs": [
    {
     "data": {
      "text/plain": [
       "<AxesSubplot:title={'center':'class'}>"
      ]
     },
     "execution_count": 13,
     "metadata": {},
     "output_type": "execute_result"
    },
    {
     "data": {
      "image/png": "[encoded data removed]",
      "text/plain": [
       "<Figure size 432x288 with 1 Axes>"
      ]
     },
     "metadata": {
      "needs_background": "light"
     },
     "output_type": "display_data"
    }
   ],
   "source": [
    "#Target for all 318\n",
    "resampling_car80 = car_training80.copy()\n",
    "unacc_part80 = resampling_car80[resampling_car80['CLASS'] == 'unacc']\n",
    "acc_part80 = resampling_car80[resampling_car80['CLASS'] == 'acc'] \n",
    "vgood_part80 = resampling_car80[resampling_car80['CLASS'] == 'vgood'] \n",
    "good_part80 = resampling_car80[resampling_car80['CLASS'] == 'good'] \n",
    "\n",
    "\n",
    "unacc_downsample80 = resample(unacc_part80, \n",
    "                                 replace=False,     \n",
    "                                 n_samples=200)\n",
    "\n",
    "vgood_part_upsampled80 = resample(vgood_part80, \n",
    "                                 replace=True,     \n",
    "                                 n_samples=200)\n",
    "good_part_upsampled80 = resample(good_part80, \n",
    "                                 replace=True,     \n",
    "                                 n_samples=200)\n",
    "\n",
    "# Combine majority class with upsamplet minority class\n",
    "balanced_car_training80 = pd.concat([unacc_downsample80, acc_part80, vgood_part_upsampled80, good_part_upsampled80])\n",
    "balanced_car_training80 = balanced_car_training80.reset_index(level=None, drop=True, inplace=False, col_level=0, col_fill='')\n",
    "balanced_car_training80 = balanced_car_training80.sample(frac=1).reset_index(drop=True)\n",
    "\n",
    "car_training80 = balanced_car_training80.copy()\n",
    "car_training80['CLASS'].value_counts().plot(kind='bar', title='class')"
   ]
  },
  {
   "cell_type": "code",
   "execution_count": 14,
   "id": "consecutive-purchase",
   "metadata": {},
   "outputs": [],
   "source": [
    "# car_training80.head()"
   ]
  },
  {
   "cell_type": "markdown",
   "id": "broadband-cleveland",
   "metadata": {},
   "source": [
    "### Dataset 90%"
   ]
  },
  {
   "cell_type": "code",
   "execution_count": 15,
   "id": "meaningful-plumbing",
   "metadata": {},
   "outputs": [
    {
     "name": "stdout",
     "output_type": "stream",
     "text": [
      "unacc    716\n",
      "acc      241\n",
      "good      40\n",
      "vgood     39\n",
      "Name: CLASS, dtype: int64\n"
     ]
    },
    {
     "data": {
      "text/plain": [
       "<AxesSubplot:title={'center':'class'}>"
      ]
     },
     "execution_count": 15,
     "metadata": {},
     "output_type": "execute_result"
    },
    {
     "data": {
      "image/png": "[encoded data removed]",
      "text/plain": [
       "<Figure size 432x288 with 1 Axes>"
      ]
     },
     "metadata": {
      "needs_background": "light"
     },
     "output_type": "display_data"
    }
   ],
   "source": [
    "car_set_for_training90, car_testing90 = data_utils.data_split(car_dataset, 90)\n",
    "car_training90, car_validation90 = data_utils.split_training_data_for_pruning(car_set_for_training90)\n",
    "print(car_training90['CLASS'].value_counts())\n",
    "car_training90['CLASS'].value_counts().plot(kind='bar', title='class')"
   ]
  },
  {
   "cell_type": "code",
   "execution_count": 16,
   "id": "identical-spider",
   "metadata": {},
   "outputs": [
    {
     "data": {
      "text/plain": [
       "<AxesSubplot:title={'center':'class'}>"
      ]
     },
     "execution_count": 16,
     "metadata": {},
     "output_type": "execute_result"
    },
    {
     "data": {
      "image/png": "[encoded data removed]",
      "text/plain": [
       "<Figure size 432x288 with 1 Axes>"
      ]
     },
     "metadata": {
      "needs_background": "light"
     },
     "output_type": "display_data"
    }
   ],
   "source": [
    "#Target for all 352?\n",
    "resampling_car90 = car_training90.copy()\n",
    "unacc_part90 = resampling_car90[resampling_car90['CLASS'] == 'unacc']\n",
    "acc_part90 = resampling_car90[resampling_car90['CLASS'] == 'acc']\n",
    "vgood_part90 = resampling_car90[resampling_car90['CLASS'] == 'vgood'] \n",
    "good_part90 = resampling_car90[resampling_car90['CLASS'] == 'good'] \n",
    "\n",
    "\n",
    "unacc_downsample90 = resample(unacc_part90, \n",
    "                                 replace=False,     \n",
    "                                 n_samples=227)\n",
    "\n",
    "vgood_part_upsampled90 = resample(vgood_part90, \n",
    "                                 replace=True,     \n",
    "                                 n_samples=227)\n",
    "good_part_upsampled90 = resample(good_part90, \n",
    "                                 replace=True,     \n",
    "                                 n_samples=227)\n",
    "\n",
    "# Combine majority class with upsamplet minority class\n",
    "balanced_car_training90 = pd.concat([unacc_downsample90, acc_part90, vgood_part_upsampled90, good_part_upsampled90])\n",
    "balanced_car_training90 = balanced_car_training90.reset_index(level=None, drop=True, inplace=False, col_level=0, col_fill='')\n",
    "balanced_car_training90 = balanced_car_training90.sample(frac=1).reset_index(drop=True)\n",
    "\n",
    "car_training90 = balanced_car_training90.copy()\n",
    "car_training90['CLASS'].value_counts().plot(kind='bar', title='class')"
   ]
  },
  {
   "cell_type": "code",
   "execution_count": 17,
   "id": "going-journal",
   "metadata": {},
   "outputs": [],
   "source": [
    "# car_training90"
   ]
  },
  {
   "cell_type": "markdown",
   "id": "vanilla-banks",
   "metadata": {},
   "source": [
    "## Model Training"
   ]
  },
  {
   "cell_type": "code",
   "execution_count": 18,
   "id": "convenient-advertising",
   "metadata": {},
   "outputs": [
    {
     "name": "stdout",
     "output_type": "stream",
     "text": [
      "Before Pruning - heuristic = gini_impurity_weighted\n",
      "Accuracy for: testing 85.16% | training 96.37% | levels 10 | leafs 117\n",
      "After Pruning:\n",
      "Accuracy for: testing 85.36% | training 94.00% | levels 10 | leafs 105\n",
      "\n",
      "\n",
      "Before Pruning - heuristic = info_gain\n",
      "Accuracy for: testing 85.16% | training 96.51% | levels 10 | leafs 117\n",
      "After Pruning:\n",
      "Accuracy for: testing 86.32% | training 93.44% | levels 10 | leafs 104\n",
      "\n",
      "\n",
      "Before Pruning - heuristic = information_gain_ratio\n",
      "Accuracy for: testing 84.59% | training 96.79% | levels 10 | leafs 118\n",
      "After Pruning:\n",
      "Accuracy for: testing 85.93% | training 94.56% | levels 10 | leafs 105\n",
      "\n",
      "\n",
      "Before Pruning - heuristic = distance_measure\n",
      "Accuracy for: testing 54.91% | training 78.10% | levels 10 | leafs 167\n",
      "After Pruning:\n",
      "Accuracy for: testing 60.31% | training 64.30% | levels 10 | leafs 112\n",
      "\n",
      "\n",
      "Before Pruning - heuristic = j_measure\n",
      "Accuracy for: testing 85.16% | training 96.51% | levels 10 | leafs 116\n",
      "After Pruning:\n",
      "Accuracy for: testing 86.32% | training 93.44% | levels 10 | leafs 103\n",
      "\n",
      "\n",
      "Before Pruning - heuristic = weight_of_evidence\n",
      "Accuracy for: testing 75.14% | training 89.82% | levels 10 | leafs 134\n",
      "After Pruning:\n",
      "Accuracy for: testing 75.34% | training 87.17% | levels 10 | leafs 111\n",
      "\n",
      "\n",
      "Before Pruning - heuristic = gini_pri\n",
      "Accuracy for: testing 59.92% | training 79.08% | levels 10 | leafs 155\n",
      "After Pruning:\n",
      "Accuracy for: testing 63.58% | training 65.69% | levels 10 | leafs 107\n",
      "\n",
      "\n",
      "Before Pruning - heuristic = relief\n",
      "Accuracy for: testing 57.42% | training 78.24% | levels 10 | leafs 161\n",
      "After Pruning:\n",
      "Accuracy for: testing 60.31% | training 65.97% | levels 10 | leafs 114\n",
      "\n",
      "\n",
      "Before Pruning - heuristic = relevance\n",
      "Accuracy for: testing 58.57% | training 78.24% | levels 10 | leafs 169\n",
      "After Pruning:\n",
      "Accuracy for: testing 62.81% | training 65.97% | levels 10 | leafs 122\n",
      "\n",
      "\n",
      "Before Pruning - heuristic = mdl_simple\n",
      "Accuracy for: testing 78.03% | training 96.51% | levels 10 | leafs 126\n",
      "After Pruning:\n",
      "Accuracy for: testing 78.23% | training 93.03% | levels 10 | leafs 116\n",
      "\n",
      "\n"
     ]
    }
   ],
   "source": [
    "train_tree_for_different_heuristics(car_training70, car_testing70, car_validation70)"
   ]
  },
  {
   "cell_type": "code",
   "execution_count": 19,
   "id": "opponent-outreach",
   "metadata": {},
   "outputs": [
    {
     "name": "stdout",
     "output_type": "stream",
     "text": [
      "Before Pruning - heuristic = gini_impurity_weighted\n",
      "Accuracy for: testing 85.55% | training 96.66% | levels 10 | leafs 113\n",
      "After Pruning:\n",
      "Accuracy for: testing 86.71% | training 92.95% | levels 10 | leafs 92\n",
      "\n",
      "\n",
      "Before Pruning - heuristic = info_gain\n",
      "Accuracy for: testing 85.26% | training 97.03% | levels 10 | leafs 113\n",
      "After Pruning:\n",
      "Accuracy for: testing 86.42% | training 93.69% | levels 10 | leafs 95\n",
      "\n",
      "\n",
      "Before Pruning - heuristic = information_gain_ratio\n",
      "Accuracy for: testing 85.55% | training 97.28% | levels 10 | leafs 110\n",
      "After Pruning:\n",
      "Accuracy for: testing 88.15% | training 93.94% | levels 10 | leafs 96\n",
      "\n",
      "\n",
      "Before Pruning - heuristic = distance_measure\n",
      "Accuracy for: testing 50.87% | training 75.37% | levels 10 | leafs 180\n",
      "After Pruning:\n",
      "Accuracy for: testing 58.09% | training 58.54% | levels 10 | leafs 107\n",
      "\n",
      "\n",
      "Before Pruning - heuristic = j_measure\n",
      "Accuracy for: testing 84.97% | training 97.03% | levels 10 | leafs 111\n",
      "After Pruning:\n",
      "Accuracy for: testing 86.42% | training 93.69% | levels 10 | leafs 95\n",
      "\n",
      "\n",
      "Before Pruning - heuristic = weight_of_evidence\n",
      "Accuracy for: testing 74.57% | training 88.61% | levels 10 | leafs 139\n",
      "After Pruning:\n",
      "Accuracy for: testing 74.28% | training 84.16% | levels 10 | leafs 107\n",
      "\n",
      "\n",
      "Before Pruning - heuristic = gini_pri\n",
      "Accuracy for: testing 49.13% | training 75.62% | levels 10 | leafs 174\n",
      "After Pruning:\n",
      "Accuracy for: testing 54.05% | training 60.89% | levels 10 | leafs 109\n",
      "\n",
      "\n",
      "Before Pruning - heuristic = relief\n",
      "Accuracy for: testing 47.98% | training 75.62% | levels 10 | leafs 182\n",
      "After Pruning:\n",
      "Accuracy for: testing 53.47% | training 60.27% | levels 10 | leafs 114\n",
      "\n",
      "\n",
      "Before Pruning - heuristic = relevance\n",
      "Accuracy for: testing 54.62% | training 75.74% | levels 10 | leafs 177\n",
      "After Pruning:\n",
      "Accuracy for: testing 58.96% | training 60.40% | levels 10 | leafs 109\n",
      "\n",
      "\n",
      "Before Pruning - heuristic = mdl_simple\n",
      "Accuracy for: testing 83.24% | training 97.15% | levels 10 | leafs 114\n",
      "After Pruning:\n",
      "Accuracy for: testing 86.42% | training 93.94% | levels 10 | leafs 93\n",
      "\n",
      "\n"
     ]
    }
   ],
   "source": [
    "train_tree_for_different_heuristics(car_training80, car_testing80, car_validation80)"
   ]
  },
  {
   "cell_type": "code",
   "execution_count": 20,
   "id": "corresponding-beauty",
   "metadata": {},
   "outputs": [
    {
     "name": "stdout",
     "output_type": "stream",
     "text": [
      "Before Pruning - heuristic = gini_impurity_weighted\n",
      "Accuracy for: testing 85.55% | training 96.64% | levels 10 | leafs 106\n",
      "After Pruning:\n",
      "Accuracy for: testing 85.55% | training 94.69% | levels 10 | leafs 94\n",
      "\n",
      "\n",
      "Before Pruning - heuristic = info_gain\n",
      "Accuracy for: testing 88.44% | training 96.85% | levels 10 | leafs 116\n",
      "After Pruning:\n",
      "Accuracy for: testing 88.44% | training 96.64% | levels 10 | leafs 110\n",
      "\n",
      "\n",
      "Before Pruning - heuristic = information_gain_ratio\n",
      "Accuracy for: testing 85.55% | training 96.53% | levels 10 | leafs 100\n",
      "After Pruning:\n",
      "Accuracy for: testing 86.13% | training 94.47% | levels 10 | leafs 92\n",
      "\n",
      "\n",
      "Before Pruning - heuristic = distance_measure\n",
      "Accuracy for: testing 46.82% | training 72.99% | levels 10 | leafs 186\n",
      "After Pruning:\n",
      "Accuracy for: testing 53.18% | training 60.95% | levels 10 | leafs 131\n",
      "\n",
      "\n",
      "Before Pruning - heuristic = j_measure\n",
      "Accuracy for: testing 88.44% | training 96.85% | levels 10 | leafs 114\n",
      "After Pruning:\n",
      "Accuracy for: testing 88.44% | training 96.64% | levels 10 | leafs 110\n",
      "\n",
      "\n",
      "Before Pruning - heuristic = weight_of_evidence\n",
      "Accuracy for: testing 76.88% | training 86.01% | levels 10 | leafs 132\n",
      "After Pruning:\n",
      "Accuracy for: testing 76.30% | training 83.19% | levels 10 | leafs 106\n",
      "\n",
      "\n",
      "Before Pruning - heuristic = gini_pri\n",
      "Accuracy for: testing 52.60% | training 74.73% | levels 10 | leafs 183\n",
      "After Pruning:\n",
      "Accuracy for: testing 55.49% | training 62.26% | levels 10 | leafs 136\n",
      "\n",
      "\n",
      "Before Pruning - heuristic = relief\n",
      "Accuracy for: testing 47.40% | training 73.32% | levels 10 | leafs 184\n",
      "After Pruning:\n",
      "Accuracy for: testing 52.60% | training 61.39% | levels 10 | leafs 132\n",
      "\n",
      "\n",
      "Before Pruning - heuristic = relevance\n",
      "Accuracy for: testing 52.02% | training 74.95% | levels 10 | leafs 174\n",
      "After Pruning:\n",
      "Accuracy for: testing 57.23% | training 63.23% | levels 10 | leafs 129\n",
      "\n",
      "\n",
      "Before Pruning - heuristic = mdl_simple\n",
      "Accuracy for: testing 87.86% | training 96.85% | levels 10 | leafs 121\n",
      "After Pruning:\n",
      "Accuracy for: testing 87.86% | training 96.64% | levels 10 | leafs 115\n",
      "\n",
      "\n"
     ]
    }
   ],
   "source": [
    "train_tree_for_different_heuristics(car_training90, car_testing90, car_validation90)"
   ]
  },
  {
   "cell_type": "markdown",
   "id": "seven-passage",
   "metadata": {},
   "source": [
    "# Cancer Dataset"
   ]
  },
  {
   "cell_type": "markdown",
   "id": "serious-ancient",
   "metadata": {},
   "source": [
    "# Dataset preparation"
   ]
  },
  {
   "cell_type": "code",
   "execution_count": 21,
   "id": "smart-steam",
   "metadata": {},
   "outputs": [
    {
     "data": {
      "text/html": [
       "<div>\n",
       "<style scoped>\n",
       "    .dataframe tbody tr th:only-of-type {\n",
       "        vertical-align: middle;\n",
       "    }\n",
       "\n",
       "    .dataframe tbody tr th {\n",
       "        vertical-align: top;\n",
       "    }\n",
       "\n",
       "    .dataframe thead th {\n",
       "        text-align: right;\n",
       "    }\n",
       "</style>\n",
       "<table border=\"1\" class=\"dataframe\">\n",
       "  <thead>\n",
       "    <tr style=\"text-align: right;\">\n",
       "      <th></th>\n",
       "      <th>age</th>\n",
       "      <th>menopause</th>\n",
       "      <th>tumor-size</th>\n",
       "      <th>inv-nodes</th>\n",
       "      <th>node-caps</th>\n",
       "      <th>deg-malig</th>\n",
       "      <th>breast</th>\n",
       "      <th>breast-quad</th>\n",
       "      <th>irradiat</th>\n",
       "      <th>CLASS</th>\n",
       "    </tr>\n",
       "  </thead>\n",
       "  <tbody>\n",
       "    <tr>\n",
       "      <th>0</th>\n",
       "      <td>30-39</td>\n",
       "      <td>premeno</td>\n",
       "      <td>40-44</td>\n",
       "      <td>0-2</td>\n",
       "      <td>no</td>\n",
       "      <td>1</td>\n",
       "      <td>left</td>\n",
       "      <td>left_up</td>\n",
       "      <td>no</td>\n",
       "      <td>recurrence-events</td>\n",
       "    </tr>\n",
       "    <tr>\n",
       "      <th>1</th>\n",
       "      <td>50-59</td>\n",
       "      <td>premeno</td>\n",
       "      <td>30-34</td>\n",
       "      <td>0-2</td>\n",
       "      <td>no</td>\n",
       "      <td>3</td>\n",
       "      <td>right</td>\n",
       "      <td>left_up</td>\n",
       "      <td>yes</td>\n",
       "      <td>recurrence-events</td>\n",
       "    </tr>\n",
       "    <tr>\n",
       "      <th>2</th>\n",
       "      <td>60-69</td>\n",
       "      <td>ge40</td>\n",
       "      <td>25-29</td>\n",
       "      <td>3-5</td>\n",
       "      <td>?</td>\n",
       "      <td>1</td>\n",
       "      <td>right</td>\n",
       "      <td>left_low</td>\n",
       "      <td>yes</td>\n",
       "      <td>no-recurrence-events</td>\n",
       "    </tr>\n",
       "    <tr>\n",
       "      <th>3</th>\n",
       "      <td>50-59</td>\n",
       "      <td>ge40</td>\n",
       "      <td>20-24</td>\n",
       "      <td>0-2</td>\n",
       "      <td>no</td>\n",
       "      <td>1</td>\n",
       "      <td>right</td>\n",
       "      <td>left_low</td>\n",
       "      <td>no</td>\n",
       "      <td>no-recurrence-events</td>\n",
       "    </tr>\n",
       "    <tr>\n",
       "      <th>4</th>\n",
       "      <td>30-39</td>\n",
       "      <td>premeno</td>\n",
       "      <td>30-34</td>\n",
       "      <td>0-2</td>\n",
       "      <td>no</td>\n",
       "      <td>2</td>\n",
       "      <td>left</td>\n",
       "      <td>left_up</td>\n",
       "      <td>no</td>\n",
       "      <td>no-recurrence-events</td>\n",
       "    </tr>\n",
       "    <tr>\n",
       "      <th>...</th>\n",
       "      <td>...</td>\n",
       "      <td>...</td>\n",
       "      <td>...</td>\n",
       "      <td>...</td>\n",
       "      <td>...</td>\n",
       "      <td>...</td>\n",
       "      <td>...</td>\n",
       "      <td>...</td>\n",
       "      <td>...</td>\n",
       "      <td>...</td>\n",
       "    </tr>\n",
       "    <tr>\n",
       "      <th>281</th>\n",
       "      <td>50-59</td>\n",
       "      <td>ge40</td>\n",
       "      <td>25-29</td>\n",
       "      <td>0-2</td>\n",
       "      <td>no</td>\n",
       "      <td>1</td>\n",
       "      <td>left</td>\n",
       "      <td>right_low</td>\n",
       "      <td>no</td>\n",
       "      <td>no-recurrence-events</td>\n",
       "    </tr>\n",
       "    <tr>\n",
       "      <th>282</th>\n",
       "      <td>50-59</td>\n",
       "      <td>ge40</td>\n",
       "      <td>30-34</td>\n",
       "      <td>9-11</td>\n",
       "      <td>?</td>\n",
       "      <td>3</td>\n",
       "      <td>left</td>\n",
       "      <td>left_up</td>\n",
       "      <td>yes</td>\n",
       "      <td>no-recurrence-events</td>\n",
       "    </tr>\n",
       "    <tr>\n",
       "      <th>283</th>\n",
       "      <td>60-69</td>\n",
       "      <td>ge40</td>\n",
       "      <td>40-44</td>\n",
       "      <td>3-5</td>\n",
       "      <td>yes</td>\n",
       "      <td>3</td>\n",
       "      <td>right</td>\n",
       "      <td>left_low</td>\n",
       "      <td>no</td>\n",
       "      <td>recurrence-events</td>\n",
       "    </tr>\n",
       "    <tr>\n",
       "      <th>284</th>\n",
       "      <td>40-49</td>\n",
       "      <td>premeno</td>\n",
       "      <td>30-34</td>\n",
       "      <td>0-2</td>\n",
       "      <td>no</td>\n",
       "      <td>1</td>\n",
       "      <td>right</td>\n",
       "      <td>left_up</td>\n",
       "      <td>no</td>\n",
       "      <td>no-recurrence-events</td>\n",
       "    </tr>\n",
       "    <tr>\n",
       "      <th>285</th>\n",
       "      <td>50-59</td>\n",
       "      <td>ge40</td>\n",
       "      <td>15-19</td>\n",
       "      <td>0-2</td>\n",
       "      <td>no</td>\n",
       "      <td>2</td>\n",
       "      <td>right</td>\n",
       "      <td>left_low</td>\n",
       "      <td>no</td>\n",
       "      <td>no-recurrence-events</td>\n",
       "    </tr>\n",
       "  </tbody>\n",
       "</table>\n",
       "<p>286 rows × 10 columns</p>\n",
       "</div>"
      ],
      "text/plain": [
       "       age menopause tumor-size inv-nodes node-caps  deg-malig breast  \\\n",
       "0    30-39   premeno      40-44       0-2        no          1   left   \n",
       "1    50-59   premeno      30-34       0-2        no          3  right   \n",
       "2    60-69      ge40      25-29       3-5         ?          1  right   \n",
       "3    50-59      ge40      20-24       0-2        no          1  right   \n",
       "4    30-39   premeno      30-34       0-2        no          2   left   \n",
       "..     ...       ...        ...       ...       ...        ...    ...   \n",
       "281  50-59      ge40      25-29       0-2        no          1   left   \n",
       "282  50-59      ge40      30-34      9-11         ?          3   left   \n",
       "283  60-69      ge40      40-44       3-5       yes          3  right   \n",
       "284  40-49   premeno      30-34       0-2        no          1  right   \n",
       "285  50-59      ge40      15-19       0-2        no          2  right   \n",
       "\n",
       "    breast-quad irradiat                 CLASS  \n",
       "0       left_up       no     recurrence-events  \n",
       "1       left_up      yes     recurrence-events  \n",
       "2      left_low      yes  no-recurrence-events  \n",
       "3      left_low       no  no-recurrence-events  \n",
       "4       left_up       no  no-recurrence-events  \n",
       "..          ...      ...                   ...  \n",
       "281   right_low       no  no-recurrence-events  \n",
       "282     left_up      yes  no-recurrence-events  \n",
       "283    left_low       no     recurrence-events  \n",
       "284     left_up       no  no-recurrence-events  \n",
       "285    left_low       no  no-recurrence-events  \n",
       "\n",
       "[286 rows x 10 columns]"
      ]
     },
     "execution_count": 21,
     "metadata": {},
     "output_type": "execute_result"
    }
   ],
   "source": [
    "cancer_dataset_path = 'data/breast-cancer.data'\n",
    "cancer_dataset_labels = ['CLASS','age','menopause','tumor-size','inv-nodes','node-caps','deg-malig','breast', 'breast-quad', 'irradiat']\n",
    "cancer_dataset = data_utils.preapare_dataset(cancer_dataset_path, cancer_dataset_labels)\n",
    "cancer_dataset = cancer_dataset[['age','menopause','tumor-size','inv-nodes', 'node-caps','deg-malig','breast', 'breast-quad', 'irradiat', 'CLASS']]\n",
    "# cancer_dataset.head()\n",
    "cancer_dataset"
   ]
  },
  {
   "cell_type": "markdown",
   "id": "annual-utilization",
   "metadata": {},
   "source": [
    "### Cancer 70%"
   ]
  },
  {
   "cell_type": "code",
   "execution_count": 22,
   "id": "welcome-consultation",
   "metadata": {},
   "outputs": [
    {
     "name": "stdout",
     "output_type": "stream",
     "text": [
      "no-recurrence-events    88\n",
      "recurrence-events       45\n",
      "Name: CLASS, dtype: int64\n"
     ]
    },
    {
     "data": {
      "text/plain": [
       "<AxesSubplot:title={'center':'class'}>"
      ]
     },
     "execution_count": 22,
     "metadata": {},
     "output_type": "execute_result"
    },
    {
     "data": {
      "image/png": "[encoded data removed]",
      "text/plain": [
       "<Figure size 432x288 with 1 Axes>"
      ]
     },
     "metadata": {
      "needs_background": "light"
     },
     "output_type": "display_data"
    }
   ],
   "source": [
    "cancer_set_for_training70, cancer_testing70 = data_utils.data_split(cancer_dataset, 70)\n",
    "cancer_training70, cancer_validation70 = data_utils.split_training_data_for_pruning(cancer_set_for_training70)\n",
    "print(cancer_training70['CLASS'].value_counts())\n",
    "cancer_training70['CLASS'].value_counts().plot(kind='bar', title='class')"
   ]
  },
  {
   "cell_type": "code",
   "execution_count": 23,
   "id": "complete-certification",
   "metadata": {},
   "outputs": [
    {
     "data": {
      "text/plain": [
       "<AxesSubplot:title={'center':'class'}>"
      ]
     },
     "execution_count": 23,
     "metadata": {},
     "output_type": "execute_result"
    },
    {
     "data": {
      "image/png": "[encoded data removed]",
      "text/plain": [
       "<Figure size 432x288 with 1 Axes>"
      ]
     },
     "metadata": {
      "needs_background": "light"
     },
     "output_type": "display_data"
    }
   ],
   "source": [
    "#Target for all 174\n",
    "resampling_cancer70 = cancer_training70.copy()\n",
    "recurrence_events_part70 = resampling_cancer70[resampling_cancer70['CLASS'] == 'recurrence-events']\n",
    "no_recurrence_events_part70 = resampling_cancer70[resampling_cancer70['CLASS'] == 'no-recurrence-events'] \n",
    "\n",
    "recurrence_events_part_upsampled70 = resample(recurrence_events_part70, \n",
    "                                 replace=True,     \n",
    "                                 n_samples=96)\n",
    "\n",
    "# Combine majority class with upsamplet minority class\n",
    "balanced_cnacer_training70 = pd.concat([recurrence_events_part_upsampled70, no_recurrence_events_part70])\n",
    "balanced_cnacer_training70 = balanced_cnacer_training70.reset_index(level=None, drop=True, inplace=False, col_level=0, col_fill='')\n",
    "balanced_cnacer_training70 = balanced_cnacer_training70.sample(frac=1).reset_index(drop=True)\n",
    "\n",
    "cancer_training70 = balanced_cnacer_training70.copy()\n",
    "cancer_training70['CLASS'].value_counts().plot(kind='bar', title='class')"
   ]
  },
  {
   "cell_type": "markdown",
   "id": "preliminary-macro",
   "metadata": {},
   "source": [
    "### Cancer 80%"
   ]
  },
  {
   "cell_type": "code",
   "execution_count": 24,
   "id": "significant-outside",
   "metadata": {},
   "outputs": [
    {
     "name": "stdout",
     "output_type": "stream",
     "text": [
      "no-recurrence-events    103\n",
      "recurrence-events        48\n",
      "Name: CLASS, dtype: int64\n"
     ]
    },
    {
     "data": {
      "text/plain": [
       "<AxesSubplot:title={'center':'class'}>"
      ]
     },
     "execution_count": 24,
     "metadata": {},
     "output_type": "execute_result"
    },
    {
     "data": {
      "image/png": "[encoded data removed]",
      "text/plain": [
       "<Figure size 432x288 with 1 Axes>"
      ]
     },
     "metadata": {
      "needs_background": "light"
     },
     "output_type": "display_data"
    }
   ],
   "source": [
    "cancer_set_for_training80, cancer_testing80 = data_utils.data_split(cancer_dataset, 80)\n",
    "cancer_training80, cancer_validation80 = data_utils.split_training_data_for_pruning(cancer_set_for_training80)\n",
    "print(cancer_training80['CLASS'].value_counts())\n",
    "cancer_training80['CLASS'].value_counts().plot(kind='bar', title='class')"
   ]
  },
  {
   "cell_type": "code",
   "execution_count": 25,
   "id": "black-lindsay",
   "metadata": {},
   "outputs": [
    {
     "data": {
      "text/plain": [
       "<AxesSubplot:title={'center':'class'}>"
      ]
     },
     "execution_count": 25,
     "metadata": {},
     "output_type": "execute_result"
    },
    {
     "data": {
      "image/png": "[encoded data removed]",
      "text/plain": [
       "<Figure size 432x288 with 1 Axes>"
      ]
     },
     "metadata": {
      "needs_background": "light"
     },
     "output_type": "display_data"
    }
   ],
   "source": [
    "#Target for all 174\n",
    "resampling_cancer80 = cancer_training80.copy()\n",
    "recurrence_events_part80 = resampling_cancer80[resampling_cancer80['CLASS'] == 'recurrence-events']\n",
    "no_recurrence_events_part80 = resampling_cancer80[resampling_cancer80['CLASS'] == 'no-recurrence-events'] \n",
    "\n",
    "recurrence_events_part_upsampled80 = resample(recurrence_events_part80, \n",
    "                                 replace=True,     \n",
    "                                 n_samples=99)\n",
    "\n",
    "# Combine majority class with upsamplet minority class\n",
    "balanced_cnacer_training80 = pd.concat([recurrence_events_part_upsampled80, no_recurrence_events_part80])\n",
    "balanced_cnacer_training80 = balanced_cnacer_training80.reset_index(level=None, drop=True, inplace=False, col_level=0, col_fill='')\n",
    "balanced_cnacer_training80 = balanced_cnacer_training80.sample(frac=1).reset_index(drop=True)\n",
    "\n",
    "cancer_training80 = balanced_cnacer_training80.copy()\n",
    "cancer_training80['CLASS'].value_counts().plot(kind='bar', title='class')"
   ]
  },
  {
   "cell_type": "markdown",
   "id": "micro-volume",
   "metadata": {},
   "source": [
    "### Cancer 90%"
   ]
  },
  {
   "cell_type": "code",
   "execution_count": 26,
   "id": "broken-eagle",
   "metadata": {},
   "outputs": [
    {
     "name": "stdout",
     "output_type": "stream",
     "text": [
      "no-recurrence-events    116\n",
      "recurrence-events        55\n",
      "Name: CLASS, dtype: int64\n"
     ]
    },
    {
     "data": {
      "text/plain": [
       "<AxesSubplot:title={'center':'class'}>"
      ]
     },
     "execution_count": 26,
     "metadata": {},
     "output_type": "execute_result"
    },
    {
     "data": {
      "image/png": "[encoded data removed]",
      "text/plain": [
       "<Figure size 432x288 with 1 Axes>"
      ]
     },
     "metadata": {
      "needs_background": "light"
     },
     "output_type": "display_data"
    }
   ],
   "source": [
    "cancer_set_for_training90, cancer_testing90 = data_utils.data_split(cancer_dataset, 90)\n",
    "cancer_training90, cancer_validation90 = data_utils.split_training_data_for_pruning(cancer_set_for_training90)\n",
    "print(cancer_training90['CLASS'].value_counts())\n",
    "cancer_training90['CLASS'].value_counts().plot(kind='bar', title='class')"
   ]
  },
  {
   "cell_type": "code",
   "execution_count": 27,
   "id": "stupid-netscape",
   "metadata": {},
   "outputs": [
    {
     "data": {
      "text/plain": [
       "<AxesSubplot:title={'center':'class'}>"
      ]
     },
     "execution_count": 27,
     "metadata": {},
     "output_type": "execute_result"
    },
    {
     "data": {
      "image/png": "[encoded data removed]",
      "text/plain": [
       "<Figure size 432x288 with 1 Axes>"
      ]
     },
     "metadata": {
      "needs_background": "light"
     },
     "output_type": "display_data"
    }
   ],
   "source": [
    "\n",
    "#Target for all 174\n",
    "resampling_cancer90 = cancer_training90.copy()\n",
    "recurrence_events_part90 = resampling_cancer90[resampling_cancer90['CLASS'] == 'recurrence-events']\n",
    "no_recurrence_events_part90 = resampling_cancer90[resampling_cancer90['CLASS'] == 'no-recurrence-events'] \n",
    "\n",
    "recurrence_events_part_upsampled90 = resample(recurrence_events_part90, \n",
    "                                 replace=True,     \n",
    "                                 n_samples=116)\n",
    "\n",
    "# Combine majority class with upsamplet minority class\n",
    "balanced_cnacer_training90 = pd.concat([recurrence_events_part_upsampled90, no_recurrence_events_part90])\n",
    "balanced_cnacer_training90 = balanced_cnacer_training90.reset_index(level=None, drop=True, inplace=False, col_level=0, col_fill='')\n",
    "balanced_cnacer_training90 = balanced_cnacer_training90.sample(frac=1).reset_index(drop=True)\n",
    "\n",
    "cancer_training90 = balanced_cnacer_training90.copy()\n",
    "cancer_training90['CLASS'].value_counts().plot(kind='bar', title='class')"
   ]
  },
  {
   "cell_type": "markdown",
   "id": "military-shadow",
   "metadata": {},
   "source": [
    "## Model Training"
   ]
  },
  {
   "cell_type": "code",
   "execution_count": 28,
   "id": "hungry-carter",
   "metadata": {},
   "outputs": [
    {
     "name": "stdout",
     "output_type": "stream",
     "text": [
      "Before Pruning - heuristic = gini_impurity_weighted\n",
      "Accuracy for: testing 60.47% | training 99.46% | levels 10 | leafs 69\n",
      "After Pruning:\n",
      "Accuracy for: testing 70.93% | training 80.98% | levels 10 | leafs 29\n",
      "\n",
      "\n",
      "Before Pruning - heuristic = info_gain\n",
      "Accuracy for: testing 54.65% | training 99.46% | levels 12 | leafs 64\n",
      "After Pruning:\n",
      "Accuracy for: testing 60.47% | training 86.96% | levels 12 | leafs 38\n",
      "\n",
      "\n",
      "Before Pruning - heuristic = information_gain_ratio\n",
      "Accuracy for: testing 55.81% | training 99.46% | levels 16 | leafs 54\n",
      "After Pruning:\n",
      "Accuracy for: testing 70.93% | training 80.98% | levels 14 | leafs 29\n",
      "\n",
      "\n",
      "Before Pruning - heuristic = distance_measure\n",
      "Accuracy for: testing 47.67% | training 76.09% | levels 14 | leafs 57\n",
      "After Pruning:\n",
      "Accuracy for: testing 52.33% | training 55.98% | levels 12 | leafs 12\n",
      "\n",
      "\n",
      "Before Pruning - heuristic = j_measure\n",
      "Accuracy for: testing 56.98% | training 99.46% | levels 12 | leafs 63\n",
      "After Pruning:\n",
      "Accuracy for: testing 62.79% | training 86.96% | levels 12 | leafs 37\n",
      "\n",
      "\n",
      "Before Pruning - heuristic = weight_of_evidence\n",
      "Accuracy for: testing 53.49% | training 97.28% | levels 16 | leafs 68\n",
      "After Pruning:\n",
      "Accuracy for: testing 75.58% | training 64.67% | levels 8 | leafs 8\n",
      "\n",
      "\n",
      "Before Pruning - heuristic = gini_pri\n",
      "Accuracy for: testing 61.63% | training 83.70% | levels 16 | leafs 67\n",
      "After Pruning:\n",
      "Accuracy for: testing 55.81% | training 63.59% | levels 16 | leafs 26\n",
      "\n",
      "\n",
      "Before Pruning - heuristic = relief\n",
      "Accuracy for: testing 51.16% | training 76.09% | levels 16 | leafs 53\n",
      "After Pruning:\n",
      "Accuracy for: testing 52.33% | training 61.41% | levels 14 | leafs 20\n",
      "\n",
      "\n",
      "Before Pruning - heuristic = relevance\n",
      "Accuracy for: testing 55.81% | training 76.63% | levels 18 | leafs 51\n",
      "After Pruning:\n",
      "Accuracy for: testing 52.33% | training 61.41% | levels 14 | leafs 20\n",
      "\n",
      "\n",
      "Before Pruning - heuristic = mdl_simple\n",
      "Accuracy for: testing 55.81% | training 99.46% | levels 12 | leafs 71\n",
      "After Pruning:\n",
      "Accuracy for: testing 50.00% | training 85.33% | levels 8 | leafs 46\n",
      "\n",
      "\n"
     ]
    }
   ],
   "source": [
    "train_tree_for_different_heuristics(cancer_training70, cancer_testing70, cancer_validation70)"
   ]
  },
  {
   "cell_type": "code",
   "execution_count": 29,
   "id": "sound-connection",
   "metadata": {},
   "outputs": [
    {
     "name": "stdout",
     "output_type": "stream",
     "text": [
      "Before Pruning - heuristic = gini_impurity_weighted\n",
      "Accuracy for: testing 56.90% | training 99.01% | levels 10 | leafs 67\n",
      "After Pruning:\n",
      "Accuracy for: testing 68.97% | training 73.27% | levels 4 | leafs 5\n",
      "\n",
      "\n",
      "Before Pruning - heuristic = info_gain\n",
      "Accuracy for: testing 53.45% | training 98.51% | levels 12 | leafs 70\n",
      "After Pruning:\n",
      "Accuracy for: testing 68.97% | training 72.77% | levels 4 | leafs 4\n",
      "\n",
      "\n",
      "Before Pruning - heuristic = information_gain_ratio\n",
      "Accuracy for: testing 50.00% | training 98.51% | levels 18 | leafs 69\n",
      "After Pruning:\n",
      "Accuracy for: testing 68.97% | training 73.27% | levels 6 | leafs 7\n",
      "\n",
      "\n",
      "Before Pruning - heuristic = distance_measure\n",
      "Accuracy for: testing 36.21% | training 80.69% | levels 16 | leafs 81\n",
      "After Pruning:\n",
      "Accuracy for: testing 58.62% | training 60.89% | levels 16 | leafs 24\n",
      "\n",
      "\n",
      "Before Pruning - heuristic = j_measure\n",
      "Accuracy for: testing 53.45% | training 98.51% | levels 12 | leafs 70\n",
      "After Pruning:\n",
      "Accuracy for: testing 68.97% | training 72.77% | levels 4 | leafs 4\n",
      "\n",
      "\n",
      "Before Pruning - heuristic = weight_of_evidence\n",
      "Accuracy for: testing 56.90% | training 96.04% | levels 16 | leafs 81\n",
      "After Pruning:\n",
      "Accuracy for: testing 68.97% | training 75.74% | levels 14 | leafs 18\n",
      "\n",
      "\n",
      "Before Pruning - heuristic = gini_pri\n",
      "Accuracy for: testing 34.48% | training 84.16% | levels 16 | leafs 86\n",
      "After Pruning:\n",
      "Accuracy for: testing 62.07% | training 59.90% | levels 14 | leafs 15\n",
      "\n",
      "\n",
      "Before Pruning - heuristic = relief\n",
      "Accuracy for: testing 48.28% | training 86.14% | levels 16 | leafs 78\n",
      "After Pruning:\n",
      "Accuracy for: testing 65.52% | training 70.79% | levels 14 | leafs 27\n",
      "\n",
      "\n",
      "Before Pruning - heuristic = relevance\n",
      "Accuracy for: testing 53.45% | training 83.66% | levels 18 | leafs 72\n",
      "After Pruning:\n",
      "Accuracy for: testing 65.52% | training 72.28% | levels 16 | leafs 35\n",
      "\n",
      "\n",
      "Before Pruning - heuristic = mdl_simple\n",
      "Accuracy for: testing 63.79% | training 98.02% | levels 10 | leafs 73\n",
      "After Pruning:\n",
      "Accuracy for: testing 72.41% | training 76.73% | levels 6 | leafs 18\n",
      "\n",
      "\n"
     ]
    }
   ],
   "source": [
    "train_tree_for_different_heuristics(cancer_training80, cancer_testing80, cancer_validation80)"
   ]
  },
  {
   "cell_type": "code",
   "execution_count": 30,
   "id": "dependent-reward",
   "metadata": {},
   "outputs": [
    {
     "name": "stdout",
     "output_type": "stream",
     "text": [
      "Before Pruning - heuristic = gini_impurity_weighted\n",
      "Accuracy for: testing 68.97% | training 98.28% | levels 12 | leafs 72\n",
      "After Pruning:\n",
      "Accuracy for: testing 75.86% | training 75.86% | levels 8 | leafs 17\n",
      "\n",
      "\n",
      "Before Pruning - heuristic = info_gain\n",
      "Accuracy for: testing 62.07% | training 98.71% | levels 12 | leafs 76\n",
      "After Pruning:\n",
      "Accuracy for: testing 72.41% | training 78.02% | levels 8 | leafs 20\n",
      "\n",
      "\n",
      "Before Pruning - heuristic = information_gain_ratio\n",
      "Accuracy for: testing 62.07% | training 99.14% | levels 16 | leafs 77\n",
      "After Pruning:\n",
      "Accuracy for: testing 62.07% | training 70.26% | levels 6 | leafs 7\n",
      "\n",
      "\n",
      "Before Pruning - heuristic = distance_measure\n",
      "Accuracy for: testing 44.83% | training 79.31% | levels 16 | leafs 86\n",
      "After Pruning:\n",
      "Accuracy for: testing 55.17% | training 67.24% | levels 14 | leafs 41\n",
      "\n",
      "\n",
      "Before Pruning - heuristic = j_measure\n",
      "Accuracy for: testing 62.07% | training 98.71% | levels 12 | leafs 75\n",
      "After Pruning:\n",
      "Accuracy for: testing 72.41% | training 78.02% | levels 8 | leafs 20\n",
      "\n",
      "\n",
      "Before Pruning - heuristic = weight_of_evidence\n",
      "Accuracy for: testing 51.72% | training 93.97% | levels 18 | leafs 93\n",
      "After Pruning:\n",
      "Accuracy for: testing 62.07% | training 70.26% | levels 6 | leafs 6\n",
      "\n",
      "\n",
      "Before Pruning - heuristic = gini_pri\n",
      "Accuracy for: testing 62.07% | training 80.60% | levels 14 | leafs 66\n",
      "After Pruning:\n",
      "Accuracy for: testing 55.17% | training 73.71% | levels 14 | leafs 45\n",
      "\n",
      "\n",
      "Before Pruning - heuristic = relief\n",
      "Accuracy for: testing 58.62% | training 81.47% | levels 14 | leafs 74\n",
      "After Pruning:\n",
      "Accuracy for: testing 51.72% | training 76.72% | levels 14 | leafs 52\n",
      "\n",
      "\n",
      "Before Pruning - heuristic = relevance\n",
      "Accuracy for: testing 51.72% | training 76.72% | levels 18 | leafs 63\n",
      "After Pruning:\n",
      "Accuracy for: testing 62.07% | training 64.22% | levels 16 | leafs 24\n",
      "\n",
      "\n",
      "Before Pruning - heuristic = mdl_simple\n",
      "Accuracy for: testing 65.52% | training 97.41% | levels 12 | leafs 89\n",
      "After Pruning:\n",
      "Accuracy for: testing 72.41% | training 75.86% | levels 8 | leafs 28\n",
      "\n",
      "\n"
     ]
    }
   ],
   "source": [
    "train_tree_for_different_heuristics(cancer_training90, cancer_testing90, cancer_validation90)"
   ]
  },
  {
   "cell_type": "markdown",
   "id": "automated-tulsa",
   "metadata": {},
   "source": [
    "# CMC Dataset"
   ]
  },
  {
   "cell_type": "markdown",
   "id": "loving-accreditation",
   "metadata": {},
   "source": [
    "## Dataset preparation"
   ]
  },
  {
   "cell_type": "code",
   "execution_count": 31,
   "id": "forbidden-museum",
   "metadata": {},
   "outputs": [
    {
     "data": {
      "text/html": [
       "<div>\n",
       "<style scoped>\n",
       "    .dataframe tbody tr th:only-of-type {\n",
       "        vertical-align: middle;\n",
       "    }\n",
       "\n",
       "    .dataframe tbody tr th {\n",
       "        vertical-align: top;\n",
       "    }\n",
       "\n",
       "    .dataframe thead th {\n",
       "        text-align: right;\n",
       "    }\n",
       "</style>\n",
       "<table border=\"1\" class=\"dataframe\">\n",
       "  <thead>\n",
       "    <tr style=\"text-align: right;\">\n",
       "      <th></th>\n",
       "      <th>age</th>\n",
       "      <th>education</th>\n",
       "      <th>husbandEducation</th>\n",
       "      <th>noChildren</th>\n",
       "      <th>religion</th>\n",
       "      <th>isWorking</th>\n",
       "      <th>husbandOccupation</th>\n",
       "      <th>livingStandard</th>\n",
       "      <th>mediaExposure</th>\n",
       "      <th>CLASS</th>\n",
       "    </tr>\n",
       "  </thead>\n",
       "  <tbody>\n",
       "    <tr>\n",
       "      <th>0</th>\n",
       "      <td>25</td>\n",
       "      <td>3</td>\n",
       "      <td>4</td>\n",
       "      <td>0</td>\n",
       "      <td>1</td>\n",
       "      <td>1</td>\n",
       "      <td>1</td>\n",
       "      <td>3</td>\n",
       "      <td>0</td>\n",
       "      <td>1</td>\n",
       "    </tr>\n",
       "    <tr>\n",
       "      <th>1</th>\n",
       "      <td>25</td>\n",
       "      <td>3</td>\n",
       "      <td>3</td>\n",
       "      <td>1</td>\n",
       "      <td>1</td>\n",
       "      <td>1</td>\n",
       "      <td>3</td>\n",
       "      <td>2</td>\n",
       "      <td>0</td>\n",
       "      <td>1</td>\n",
       "    </tr>\n",
       "    <tr>\n",
       "      <th>2</th>\n",
       "      <td>28</td>\n",
       "      <td>2</td>\n",
       "      <td>3</td>\n",
       "      <td>1</td>\n",
       "      <td>1</td>\n",
       "      <td>1</td>\n",
       "      <td>3</td>\n",
       "      <td>1</td>\n",
       "      <td>0</td>\n",
       "      <td>1</td>\n",
       "    </tr>\n",
       "    <tr>\n",
       "      <th>3</th>\n",
       "      <td>28</td>\n",
       "      <td>4</td>\n",
       "      <td>4</td>\n",
       "      <td>1</td>\n",
       "      <td>0</td>\n",
       "      <td>1</td>\n",
       "      <td>1</td>\n",
       "      <td>3</td>\n",
       "      <td>0</td>\n",
       "      <td>1</td>\n",
       "    </tr>\n",
       "    <tr>\n",
       "      <th>4</th>\n",
       "      <td>23</td>\n",
       "      <td>3</td>\n",
       "      <td>4</td>\n",
       "      <td>1</td>\n",
       "      <td>1</td>\n",
       "      <td>1</td>\n",
       "      <td>2</td>\n",
       "      <td>3</td>\n",
       "      <td>0</td>\n",
       "      <td>3</td>\n",
       "    </tr>\n",
       "  </tbody>\n",
       "</table>\n",
       "</div>"
      ],
      "text/plain": [
       "   age  education  husbandEducation  noChildren  religion  isWorking  \\\n",
       "0   25          3                 4           0         1          1   \n",
       "1   25          3                 3           1         1          1   \n",
       "2   28          2                 3           1         1          1   \n",
       "3   28          4                 4           1         0          1   \n",
       "4   23          3                 4           1         1          1   \n",
       "\n",
       "   husbandOccupation  livingStandard  mediaExposure  CLASS  \n",
       "0                  1               3              0      1  \n",
       "1                  3               2              0      1  \n",
       "2                  3               1              0      1  \n",
       "3                  1               3              0      1  \n",
       "4                  2               3              0      3  "
      ]
     },
     "execution_count": 31,
     "metadata": {},
     "output_type": "execute_result"
    }
   ],
   "source": [
    "cmc_dataset_path = 'data/cmc.data'\n",
    "cmc_dataset_labels = ['age','education','husbandEducation','noChildren','religion','isWorking','husbandOccupation','livingStandard', 'mediaExposure', 'CLASS']\n",
    "cmc_dataset = data_utils.preapare_dataset(cmc_dataset_path, cmc_dataset_labels)\n",
    "# cmc_dataset['CLASS'] = cmc_dataset['CLASS'].apply(str)\n",
    "cmc_dataset.head()"
   ]
  },
  {
   "cell_type": "code",
   "execution_count": 32,
   "id": "afraid-functionality",
   "metadata": {},
   "outputs": [
    {
     "data": {
      "text/html": [
       "<div>\n",
       "<style scoped>\n",
       "    .dataframe tbody tr th:only-of-type {\n",
       "        vertical-align: middle;\n",
       "    }\n",
       "\n",
       "    .dataframe tbody tr th {\n",
       "        vertical-align: top;\n",
       "    }\n",
       "\n",
       "    .dataframe thead th {\n",
       "        text-align: right;\n",
       "    }\n",
       "</style>\n",
       "<table border=\"1\" class=\"dataframe\">\n",
       "  <thead>\n",
       "    <tr style=\"text-align: right;\">\n",
       "      <th></th>\n",
       "      <th>age</th>\n",
       "      <th>education</th>\n",
       "      <th>husbandEducation</th>\n",
       "      <th>noChildren</th>\n",
       "      <th>religion</th>\n",
       "      <th>isWorking</th>\n",
       "      <th>husbandOccupation</th>\n",
       "      <th>livingStandard</th>\n",
       "      <th>mediaExposure</th>\n",
       "      <th>CLASS</th>\n",
       "    </tr>\n",
       "  </thead>\n",
       "  <tbody>\n",
       "    <tr>\n",
       "      <th>0</th>\n",
       "      <td>25</td>\n",
       "      <td>normal</td>\n",
       "      <td>high</td>\n",
       "      <td>0</td>\n",
       "      <td>Islam</td>\n",
       "      <td>No</td>\n",
       "      <td>1</td>\n",
       "      <td>normal</td>\n",
       "      <td>Good</td>\n",
       "      <td>No-use</td>\n",
       "    </tr>\n",
       "    <tr>\n",
       "      <th>1</th>\n",
       "      <td>25</td>\n",
       "      <td>normal</td>\n",
       "      <td>normal</td>\n",
       "      <td>1</td>\n",
       "      <td>Islam</td>\n",
       "      <td>No</td>\n",
       "      <td>3</td>\n",
       "      <td>medium</td>\n",
       "      <td>Good</td>\n",
       "      <td>No-use</td>\n",
       "    </tr>\n",
       "    <tr>\n",
       "      <th>2</th>\n",
       "      <td>28</td>\n",
       "      <td>medium</td>\n",
       "      <td>normal</td>\n",
       "      <td>1</td>\n",
       "      <td>Islam</td>\n",
       "      <td>No</td>\n",
       "      <td>3</td>\n",
       "      <td>low</td>\n",
       "      <td>Good</td>\n",
       "      <td>No-use</td>\n",
       "    </tr>\n",
       "    <tr>\n",
       "      <th>3</th>\n",
       "      <td>28</td>\n",
       "      <td>high</td>\n",
       "      <td>high</td>\n",
       "      <td>1</td>\n",
       "      <td>Non-Islam</td>\n",
       "      <td>No</td>\n",
       "      <td>1</td>\n",
       "      <td>normal</td>\n",
       "      <td>Good</td>\n",
       "      <td>No-use</td>\n",
       "    </tr>\n",
       "    <tr>\n",
       "      <th>4</th>\n",
       "      <td>23</td>\n",
       "      <td>normal</td>\n",
       "      <td>high</td>\n",
       "      <td>1</td>\n",
       "      <td>Islam</td>\n",
       "      <td>No</td>\n",
       "      <td>2</td>\n",
       "      <td>normal</td>\n",
       "      <td>Good</td>\n",
       "      <td>Short-term</td>\n",
       "    </tr>\n",
       "  </tbody>\n",
       "</table>\n",
       "</div>"
      ],
      "text/plain": [
       "   age education husbandEducation  noChildren   religion isWorking  \\\n",
       "0   25    normal             high           0      Islam        No   \n",
       "1   25    normal           normal           1      Islam        No   \n",
       "2   28    medium           normal           1      Islam        No   \n",
       "3   28      high             high           1  Non-Islam        No   \n",
       "4   23    normal             high           1      Islam        No   \n",
       "\n",
       "   husbandOccupation livingStandard mediaExposure       CLASS  \n",
       "0                  1         normal          Good      No-use  \n",
       "1                  3         medium          Good      No-use  \n",
       "2                  3            low          Good      No-use  \n",
       "3                  1         normal          Good      No-use  \n",
       "4                  2         normal          Good  Short-term  "
      ]
     },
     "execution_count": 32,
     "metadata": {},
     "output_type": "execute_result"
    }
   ],
   "source": [
    "vals_to_replace_education = {1: 'low', 2:'medium', 3:'normal', 4:'high'}\n",
    "vals_to_replace_husbandEducation = {1: 'low', 2:'medium', 3:'normal', 4:'high'}\n",
    "vals_to_replace_religion = {0: 'Non-Islam', 1:'Islam'}\n",
    "vals_to_replace_isWorking = {0: 'Yes', 1:'No'}\n",
    "vals_to_replace_livingStandard= {1: 'low', 2:'medium', 3:'normal', 4:'high'}\n",
    "vals_to_replace_mediaExposure = {0: 'Good', 1:'Not good'}\n",
    "vals_to_replace_CLASS = {1: 'No-use', 2:'Long-term', 3: 'Short-term'}\n",
    "cmc_dataset['education'] = cmc_dataset['education'].map(vals_to_replace_education)\n",
    "cmc_dataset['husbandEducation'] = cmc_dataset['husbandEducation'].map(vals_to_replace_husbandEducation)\n",
    "cmc_dataset['religion'] = cmc_dataset['religion'].map(vals_to_replace_religion)\n",
    "cmc_dataset['isWorking'] = cmc_dataset['isWorking'].map(vals_to_replace_isWorking)\n",
    "cmc_dataset['livingStandard'] = cmc_dataset['livingStandard'].map(vals_to_replace_livingStandard)\n",
    "cmc_dataset['mediaExposure'] = cmc_dataset['mediaExposure'].map(vals_to_replace_mediaExposure)\n",
    "cmc_dataset['CLASS'] = cmc_dataset['CLASS'].map(vals_to_replace_CLASS)\n",
    "cmc_dataset.head()"
   ]
  },
  {
   "cell_type": "markdown",
   "id": "vulnerable-coupon",
   "metadata": {},
   "source": [
    "### Cmc 70%"
   ]
  },
  {
   "cell_type": "code",
   "execution_count": 33,
   "id": "guilty-hypothetical",
   "metadata": {},
   "outputs": [
    {
     "name": "stdout",
     "output_type": "stream",
     "text": [
      "No-use        296\n",
      "Short-term    238\n",
      "Long-term     153\n",
      "Name: CLASS, dtype: int64\n"
     ]
    },
    {
     "data": {
      "text/plain": [
       "<AxesSubplot:title={'center':'class'}>"
      ]
     },
     "execution_count": 33,
     "metadata": {},
     "output_type": "execute_result"
    },
    {
     "data": {
      "image/png": "[encoded data removed]",
      "text/plain": [
       "<Figure size 432x288 with 1 Axes>"
      ]
     },
     "metadata": {
      "needs_background": "light"
     },
     "output_type": "display_data"
    }
   ],
   "source": [
    "cmc_set_for_training70, cmc_testing70 = data_utils.data_split(cmc_dataset, 70)\n",
    "cmc_training70, cmc_validation70 = data_utils.split_training_data_for_pruning(cmc_set_for_training70)\n",
    "print(cmc_training70['CLASS'].value_counts())\n",
    "#This data seems to be balanced so dont need aditional balancing\n",
    "cmc_training70['CLASS'].value_counts().plot(kind='bar', title='class')"
   ]
  },
  {
   "cell_type": "markdown",
   "id": "unauthorized-abortion",
   "metadata": {},
   "source": [
    "## Cmc 80%"
   ]
  },
  {
   "cell_type": "code",
   "execution_count": 34,
   "id": "judicial-reaction",
   "metadata": {},
   "outputs": [
    {
     "name": "stdout",
     "output_type": "stream",
     "text": [
      "No-use        339\n",
      "Short-term    270\n",
      "Long-term     176\n",
      "Name: CLASS, dtype: int64\n"
     ]
    },
    {
     "data": {
      "text/plain": [
       "<AxesSubplot:title={'center':'class'}>"
      ]
     },
     "execution_count": 34,
     "metadata": {},
     "output_type": "execute_result"
    },
    {
     "data": {
      "image/png": "[encoded data removed]",
      "text/plain": [
       "<Figure size 432x288 with 1 Axes>"
      ]
     },
     "metadata": {
      "needs_background": "light"
     },
     "output_type": "display_data"
    }
   ],
   "source": [
    "cmc_set_for_training80, cmc_testing80 = data_utils.data_split(cmc_dataset, 80)\n",
    "cmc_training80, cmc_validation80 = data_utils.split_training_data_for_pruning(cmc_set_for_training80)\n",
    "print(cmc_training80['CLASS'].value_counts())\n",
    "#This data seems to be balanced so dont need aditional balancing\n",
    "cmc_training80['CLASS'].value_counts().plot(kind='bar', title='class')"
   ]
  },
  {
   "cell_type": "markdown",
   "id": "functional-twelve",
   "metadata": {},
   "source": [
    "## Cmc 90%"
   ]
  },
  {
   "cell_type": "code",
   "execution_count": 35,
   "id": "sacred-tender",
   "metadata": {},
   "outputs": [
    {
     "name": "stdout",
     "output_type": "stream",
     "text": [
      "No-use        381\n",
      "Short-term    303\n",
      "Long-term     199\n",
      "Name: CLASS, dtype: int64\n"
     ]
    },
    {
     "data": {
      "text/plain": [
       "<AxesSubplot:title={'center':'class'}>"
      ]
     },
     "execution_count": 35,
     "metadata": {},
     "output_type": "execute_result"
    },
    {
     "data": {
      "image/png": "[encoded data removed]",
      "text/plain": [
       "<Figure size 432x288 with 1 Axes>"
      ]
     },
     "metadata": {
      "needs_background": "light"
     },
     "output_type": "display_data"
    }
   ],
   "source": [
    "cmc_set_for_training90, cmc_testing90 = data_utils.data_split(cmc_dataset, 90)\n",
    "cmc_training90, cmc_validation90 = data_utils.split_training_data_for_pruning(cmc_set_for_training90)\n",
    "print(cmc_training90['CLASS'].value_counts())\n",
    "#This data seems to be balanced so dont need aditional balancing\n",
    "cmc_training90['CLASS'].value_counts().plot(kind='bar', title='class')"
   ]
  },
  {
   "cell_type": "markdown",
   "id": "blind-response",
   "metadata": {},
   "source": [
    "## Model Training"
   ]
  },
  {
   "cell_type": "code",
   "execution_count": 36,
   "id": "extraordinary-range",
   "metadata": {},
   "outputs": [
    {
     "name": "stdout",
     "output_type": "stream",
     "text": [
      "Before Pruning - heuristic = gini_impurity_weighted\n",
      "Accuracy for: testing 49.10% | training 80.06% | levels 28 | leafs 174\n",
      "After Pruning:\n",
      "Accuracy for: testing 53.17% | training 58.22% | levels 12 | leafs 40\n",
      "\n",
      "\n",
      "Before Pruning - heuristic = info_gain\n",
      "Accuracy for: testing 43.89% | training 72.34% | levels 40 | leafs 216\n",
      "After Pruning:\n",
      "Accuracy for: testing 45.02% | training 45.41% | levels 24 | leafs 23\n",
      "\n",
      "\n",
      "Before Pruning - heuristic = information_gain_ratio\n",
      "Accuracy for: testing 44.80% | training 70.01% | levels 42 | leafs 208\n",
      "After Pruning:\n",
      "Accuracy for: testing 44.57% | training 45.85% | levels 26 | leafs 41\n",
      "\n",
      "\n",
      "Before Pruning - heuristic = distance_measure\n",
      "Accuracy for: testing 43.21% | training 55.60% | levels 28 | leafs 158\n",
      "After Pruning:\n",
      "Accuracy for: testing 44.12% | training 48.33% | levels 22 | leafs 62\n",
      "\n",
      "\n",
      "Before Pruning - heuristic = j_measure\n",
      "Accuracy for: testing 43.67% | training 72.34% | levels 40 | leafs 217\n",
      "After Pruning:\n",
      "Accuracy for: testing 45.02% | training 45.41% | levels 24 | leafs 23\n",
      "\n",
      "\n",
      "Before Pruning - heuristic = weight_of_evidence\n",
      "Accuracy for: testing 47.96% | training 65.07% | levels 40 | leafs 190\n",
      "After Pruning:\n",
      "Accuracy for: testing 45.25% | training 45.41% | levels 26 | leafs 34\n",
      "\n",
      "\n",
      "Before Pruning - heuristic = gini_pri\n",
      "Accuracy for: testing 45.70% | training 71.03% | levels 30 | leafs 167\n",
      "After Pruning:\n",
      "Accuracy for: testing 47.29% | training 59.24% | levels 22 | leafs 93\n",
      "\n",
      "\n",
      "Before Pruning - heuristic = relief\n",
      "Accuracy for: testing 46.38% | training 70.89% | levels 30 | leafs 174\n",
      "After Pruning:\n",
      "Accuracy for: testing 48.19% | training 58.37% | levels 22 | leafs 94\n",
      "\n",
      "\n",
      "Before Pruning - heuristic = relevance\n",
      "Accuracy for: testing 42.53% | training 72.93% | levels 30 | leafs 173\n",
      "After Pruning:\n",
      "Accuracy for: testing 44.12% | training 58.22% | levels 20 | leafs 79\n",
      "\n",
      "\n",
      "Before Pruning - heuristic = mdl_simple\n",
      "Accuracy for: testing 44.12% | training 59.83% | levels 22 | leafs 121\n",
      "After Pruning:\n",
      "Accuracy for: testing 48.19% | training 50.66% | levels 22 | leafs 50\n",
      "\n",
      "\n"
     ]
    }
   ],
   "source": [
    "train_tree_for_different_heuristics(cmc_training70, cmc_testing70, cmc_validation70)"
   ]
  },
  {
   "cell_type": "code",
   "execution_count": 37,
   "id": "cardiac-analyst",
   "metadata": {},
   "outputs": [
    {
     "name": "stdout",
     "output_type": "stream",
     "text": [
      "Before Pruning - heuristic = gini_impurity_weighted\n",
      "Accuracy for: testing 45.76% | training 78.34% | levels 26 | leafs 190\n",
      "After Pruning:\n",
      "Accuracy for: testing 49.83% | training 61.53% | levels 20 | leafs 68\n",
      "\n",
      "\n",
      "Before Pruning - heuristic = info_gain\n",
      "Accuracy for: testing 37.97% | training 68.28% | levels 40 | leafs 214\n",
      "After Pruning:\n",
      "Accuracy for: testing 44.41% | training 56.94% | levels 38 | leafs 120\n",
      "\n",
      "\n",
      "Before Pruning - heuristic = information_gain_ratio\n",
      "Accuracy for: testing 41.69% | training 68.92% | levels 42 | leafs 215\n",
      "After Pruning:\n",
      "Accuracy for: testing 43.05% | training 60.38% | levels 40 | leafs 146\n",
      "\n",
      "\n",
      "Before Pruning - heuristic = distance_measure\n",
      "Accuracy for: testing 38.31% | training 54.65% | levels 30 | leafs 157\n",
      "After Pruning:\n",
      "Accuracy for: testing 43.05% | training 49.55% | levels 20 | leafs 75\n",
      "\n",
      "\n",
      "Before Pruning - heuristic = j_measure\n",
      "Accuracy for: testing 37.97% | training 68.28% | levels 40 | leafs 214\n",
      "After Pruning:\n",
      "Accuracy for: testing 44.41% | training 56.94% | levels 38 | leafs 120\n",
      "\n",
      "\n",
      "Before Pruning - heuristic = weight_of_evidence\n",
      "Accuracy for: testing 46.44% | training 63.31% | levels 42 | leafs 185\n",
      "After Pruning:\n",
      "Accuracy for: testing 49.49% | training 58.47% | levels 40 | leafs 138\n",
      "\n",
      "\n",
      "Before Pruning - heuristic = gini_pri\n",
      "Accuracy for: testing 39.66% | training 68.54% | levels 28 | leafs 170\n",
      "After Pruning:\n",
      "Accuracy for: testing 43.05% | training 56.94% | levels 24 | leafs 79\n",
      "\n",
      "\n",
      "Before Pruning - heuristic = relief\n",
      "Accuracy for: testing 43.39% | training 68.41% | levels 28 | leafs 170\n",
      "After Pruning:\n",
      "Accuracy for: testing 44.41% | training 55.54% | levels 24 | leafs 81\n",
      "\n",
      "\n",
      "Before Pruning - heuristic = relevance\n",
      "Accuracy for: testing 38.98% | training 70.70% | levels 28 | leafs 175\n",
      "After Pruning:\n",
      "Accuracy for: testing 41.02% | training 59.24% | levels 24 | leafs 94\n",
      "\n",
      "\n",
      "Before Pruning - heuristic = mdl_simple\n",
      "Accuracy for: testing 40.00% | training 58.09% | levels 20 | leafs 123\n",
      "After Pruning:\n",
      "Accuracy for: testing 43.39% | training 48.92% | levels 14 | leafs 36\n",
      "\n",
      "\n"
     ]
    }
   ],
   "source": [
    "train_tree_for_different_heuristics(cmc_training80, cmc_testing80, cmc_validation80)"
   ]
  },
  {
   "cell_type": "code",
   "execution_count": 38,
   "id": "stable-bobby",
   "metadata": {},
   "outputs": [
    {
     "name": "stdout",
     "output_type": "stream",
     "text": [
      "Before Pruning - heuristic = gini_impurity_weighted\n",
      "Accuracy for: testing 50.68% | training 77.01% | levels 34 | leafs 195\n",
      "After Pruning:\n",
      "Accuracy for: testing 43.92% | training 56.06% | levels 16 | leafs 34\n",
      "\n",
      "\n",
      "Before Pruning - heuristic = info_gain\n",
      "Accuracy for: testing 40.54% | training 67.61% | levels 42 | leafs 233\n",
      "After Pruning:\n",
      "Accuracy for: testing 41.22% | training 53.34% | levels 38 | leafs 112\n",
      "\n",
      "\n",
      "Before Pruning - heuristic = information_gain_ratio\n",
      "Accuracy for: testing 44.59% | training 66.02% | levels 42 | leafs 223\n",
      "After Pruning:\n",
      "Accuracy for: testing 43.24% | training 53.91% | levels 38 | leafs 121\n",
      "\n",
      "\n",
      "Before Pruning - heuristic = distance_measure\n",
      "Accuracy for: testing 35.14% | training 55.38% | levels 26 | leafs 174\n",
      "After Pruning:\n",
      "Accuracy for: testing 41.22% | training 49.49% | levels 26 | leafs 73\n",
      "\n",
      "\n",
      "Before Pruning - heuristic = j_measure\n",
      "Accuracy for: testing 40.54% | training 67.61% | levels 42 | leafs 234\n",
      "After Pruning:\n",
      "Accuracy for: testing 41.22% | training 53.57% | levels 38 | leafs 115\n",
      "\n",
      "\n",
      "Before Pruning - heuristic = weight_of_evidence\n",
      "Accuracy for: testing 47.97% | training 62.51% | levels 42 | leafs 195\n",
      "After Pruning:\n",
      "Accuracy for: testing 46.62% | training 54.25% | levels 38 | leafs 120\n",
      "\n",
      "\n",
      "Before Pruning - heuristic = gini_pri\n",
      "Accuracy for: testing 42.57% | training 68.18% | levels 30 | leafs 175\n",
      "After Pruning:\n",
      "Accuracy for: testing 45.95% | training 56.17% | levels 20 | leafs 86\n",
      "\n",
      "\n",
      "Before Pruning - heuristic = relief\n",
      "Accuracy for: testing 43.24% | training 67.72% | levels 30 | leafs 177\n",
      "After Pruning:\n",
      "Accuracy for: testing 46.62% | training 55.61% | levels 20 | leafs 77\n",
      "\n",
      "\n",
      "Before Pruning - heuristic = relevance\n",
      "Accuracy for: testing 40.54% | training 70.22% | levels 30 | leafs 186\n",
      "After Pruning:\n",
      "Accuracy for: testing 39.86% | training 60.48% | levels 20 | leafs 100\n",
      "\n",
      "\n",
      "Before Pruning - heuristic = mdl_simple\n",
      "Accuracy for: testing 49.32% | training 57.64% | levels 24 | leafs 126\n",
      "After Pruning:\n",
      "Accuracy for: testing 44.59% | training 48.70% | levels 16 | leafs 32\n",
      "\n",
      "\n"
     ]
    }
   ],
   "source": [
    "train_tree_for_different_heuristics(cmc_training90, cmc_testing90, cmc_validation90)"
   ]
  },
  {
   "cell_type": "markdown",
   "id": "likely-accountability",
   "metadata": {},
   "source": [
    "# Adult Dataset"
   ]
  },
  {
   "cell_type": "markdown",
   "id": "egyptian-graphics",
   "metadata": {},
   "source": [
    "## Data preparation"
   ]
  },
  {
   "cell_type": "code",
   "execution_count": 39,
   "id": "heavy-homeless",
   "metadata": {},
   "outputs": [
    {
     "data": {
      "text/html": [
       "<div>\n",
       "<style scoped>\n",
       "    .dataframe tbody tr th:only-of-type {\n",
       "        vertical-align: middle;\n",
       "    }\n",
       "\n",
       "    .dataframe tbody tr th {\n",
       "        vertical-align: top;\n",
       "    }\n",
       "\n",
       "    .dataframe thead th {\n",
       "        text-align: right;\n",
       "    }\n",
       "</style>\n",
       "<table border=\"1\" class=\"dataframe\">\n",
       "  <thead>\n",
       "    <tr style=\"text-align: right;\">\n",
       "      <th></th>\n",
       "      <th>age</th>\n",
       "      <th>workclass</th>\n",
       "      <th>fnlwgt</th>\n",
       "      <th>education</th>\n",
       "      <th>education-num</th>\n",
       "      <th>marital-status</th>\n",
       "      <th>occupation</th>\n",
       "      <th>relationship</th>\n",
       "      <th>race</th>\n",
       "      <th>sex</th>\n",
       "      <th>capital-gain</th>\n",
       "      <th>capital-loss</th>\n",
       "      <th>hourse-per-week</th>\n",
       "      <th>native-country</th>\n",
       "      <th>CLASS</th>\n",
       "    </tr>\n",
       "  </thead>\n",
       "  <tbody>\n",
       "    <tr>\n",
       "      <th>0</th>\n",
       "      <td>24</td>\n",
       "      <td>Private</td>\n",
       "      <td>64167</td>\n",
       "      <td>Assoc-voc</td>\n",
       "      <td>11</td>\n",
       "      <td>Never-married</td>\n",
       "      <td>Tech-support</td>\n",
       "      <td>Unmarried</td>\n",
       "      <td>Black</td>\n",
       "      <td>Female</td>\n",
       "      <td>0</td>\n",
       "      <td>0</td>\n",
       "      <td>40</td>\n",
       "      <td>United-States</td>\n",
       "      <td>&lt;=50K</td>\n",
       "    </tr>\n",
       "    <tr>\n",
       "      <th>1</th>\n",
       "      <td>35</td>\n",
       "      <td>Private</td>\n",
       "      <td>227571</td>\n",
       "      <td>7th-8th</td>\n",
       "      <td>4</td>\n",
       "      <td>Married-civ-spouse</td>\n",
       "      <td>Handlers-cleaners</td>\n",
       "      <td>Husband</td>\n",
       "      <td>White</td>\n",
       "      <td>Male</td>\n",
       "      <td>0</td>\n",
       "      <td>0</td>\n",
       "      <td>40</td>\n",
       "      <td>Mexico</td>\n",
       "      <td>&lt;=50K</td>\n",
       "    </tr>\n",
       "    <tr>\n",
       "      <th>2</th>\n",
       "      <td>35</td>\n",
       "      <td>Federal-gov</td>\n",
       "      <td>39207</td>\n",
       "      <td>HS-grad</td>\n",
       "      <td>9</td>\n",
       "      <td>Never-married</td>\n",
       "      <td>Adm-clerical</td>\n",
       "      <td>Not-in-family</td>\n",
       "      <td>White</td>\n",
       "      <td>Male</td>\n",
       "      <td>0</td>\n",
       "      <td>0</td>\n",
       "      <td>40</td>\n",
       "      <td>United-States</td>\n",
       "      <td>&lt;=50K</td>\n",
       "    </tr>\n",
       "    <tr>\n",
       "      <th>3</th>\n",
       "      <td>38</td>\n",
       "      <td>Private</td>\n",
       "      <td>223433</td>\n",
       "      <td>HS-grad</td>\n",
       "      <td>9</td>\n",
       "      <td>Never-married</td>\n",
       "      <td>Machine-op-inspct</td>\n",
       "      <td>Not-in-family</td>\n",
       "      <td>White</td>\n",
       "      <td>Male</td>\n",
       "      <td>0</td>\n",
       "      <td>0</td>\n",
       "      <td>40</td>\n",
       "      <td>United-States</td>\n",
       "      <td>&lt;=50K</td>\n",
       "    </tr>\n",
       "    <tr>\n",
       "      <th>4</th>\n",
       "      <td>59</td>\n",
       "      <td>Private</td>\n",
       "      <td>147989</td>\n",
       "      <td>HS-grad</td>\n",
       "      <td>9</td>\n",
       "      <td>Married-civ-spouse</td>\n",
       "      <td>Machine-op-inspct</td>\n",
       "      <td>Husband</td>\n",
       "      <td>White</td>\n",
       "      <td>Male</td>\n",
       "      <td>0</td>\n",
       "      <td>0</td>\n",
       "      <td>40</td>\n",
       "      <td>?</td>\n",
       "      <td>&lt;=50K</td>\n",
       "    </tr>\n",
       "  </tbody>\n",
       "</table>\n",
       "</div>"
      ],
      "text/plain": [
       "   age     workclass  fnlwgt   education  education-num       marital-status  \\\n",
       "0   24       Private   64167   Assoc-voc             11        Never-married   \n",
       "1   35       Private  227571     7th-8th              4   Married-civ-spouse   \n",
       "2   35   Federal-gov   39207     HS-grad              9        Never-married   \n",
       "3   38       Private  223433     HS-grad              9        Never-married   \n",
       "4   59       Private  147989     HS-grad              9   Married-civ-spouse   \n",
       "\n",
       "           occupation    relationship    race      sex  capital-gain  \\\n",
       "0        Tech-support       Unmarried   Black   Female             0   \n",
       "1   Handlers-cleaners         Husband   White     Male             0   \n",
       "2        Adm-clerical   Not-in-family   White     Male             0   \n",
       "3   Machine-op-inspct   Not-in-family   White     Male             0   \n",
       "4   Machine-op-inspct         Husband   White     Male             0   \n",
       "\n",
       "   capital-loss  hourse-per-week  native-country   CLASS  \n",
       "0             0               40   United-States   <=50K  \n",
       "1             0               40          Mexico   <=50K  \n",
       "2             0               40   United-States   <=50K  \n",
       "3             0               40   United-States   <=50K  \n",
       "4             0               40               ?   <=50K  "
      ]
     },
     "execution_count": 39,
     "metadata": {},
     "output_type": "execute_result"
    }
   ],
   "source": [
    "adult_dataset_path = 'data/adult.data'\n",
    "adult_dataset_labels = ['age','workclass','fnlwgt','education','education-num','marital-status','occupation','relationship','race','sex','capital-gain','capital-loss','hourse-per-week','native-country','CLASS']\n",
    "adult_dataset = data_utils.preapare_dataset(adult_dataset_path, adult_dataset_labels)\n",
    "adult_dataset.head()"
   ]
  },
  {
   "cell_type": "code",
   "execution_count": 40,
   "id": "beneficial-devil",
   "metadata": {},
   "outputs": [
    {
     "data": {
      "text/html": [
       "<div>\n",
       "<style scoped>\n",
       "    .dataframe tbody tr th:only-of-type {\n",
       "        vertical-align: middle;\n",
       "    }\n",
       "\n",
       "    .dataframe tbody tr th {\n",
       "        vertical-align: top;\n",
       "    }\n",
       "\n",
       "    .dataframe thead th {\n",
       "        text-align: right;\n",
       "    }\n",
       "</style>\n",
       "<table border=\"1\" class=\"dataframe\">\n",
       "  <thead>\n",
       "    <tr style=\"text-align: right;\">\n",
       "      <th></th>\n",
       "      <th>age</th>\n",
       "      <th>workclass</th>\n",
       "      <th>education</th>\n",
       "      <th>education-num</th>\n",
       "      <th>marital-status</th>\n",
       "      <th>occupation</th>\n",
       "      <th>relationship</th>\n",
       "      <th>race</th>\n",
       "      <th>sex</th>\n",
       "      <th>hourse-per-week</th>\n",
       "      <th>native-country</th>\n",
       "      <th>CLASS</th>\n",
       "    </tr>\n",
       "  </thead>\n",
       "  <tbody>\n",
       "    <tr>\n",
       "      <th>0</th>\n",
       "      <td>24</td>\n",
       "      <td>Private</td>\n",
       "      <td>Assoc-voc</td>\n",
       "      <td>11</td>\n",
       "      <td>Never-married</td>\n",
       "      <td>Tech-support</td>\n",
       "      <td>Unmarried</td>\n",
       "      <td>Black</td>\n",
       "      <td>Female</td>\n",
       "      <td>40</td>\n",
       "      <td>United-States</td>\n",
       "      <td>&lt;=50K</td>\n",
       "    </tr>\n",
       "    <tr>\n",
       "      <th>1</th>\n",
       "      <td>35</td>\n",
       "      <td>Private</td>\n",
       "      <td>7th-8th</td>\n",
       "      <td>4</td>\n",
       "      <td>Married-civ-spouse</td>\n",
       "      <td>Handlers-cleaners</td>\n",
       "      <td>Husband</td>\n",
       "      <td>White</td>\n",
       "      <td>Male</td>\n",
       "      <td>40</td>\n",
       "      <td>Mexico</td>\n",
       "      <td>&lt;=50K</td>\n",
       "    </tr>\n",
       "    <tr>\n",
       "      <th>2</th>\n",
       "      <td>35</td>\n",
       "      <td>Federal-gov</td>\n",
       "      <td>HS-grad</td>\n",
       "      <td>9</td>\n",
       "      <td>Never-married</td>\n",
       "      <td>Adm-clerical</td>\n",
       "      <td>Not-in-family</td>\n",
       "      <td>White</td>\n",
       "      <td>Male</td>\n",
       "      <td>40</td>\n",
       "      <td>United-States</td>\n",
       "      <td>&lt;=50K</td>\n",
       "    </tr>\n",
       "    <tr>\n",
       "      <th>3</th>\n",
       "      <td>38</td>\n",
       "      <td>Private</td>\n",
       "      <td>HS-grad</td>\n",
       "      <td>9</td>\n",
       "      <td>Never-married</td>\n",
       "      <td>Machine-op-inspct</td>\n",
       "      <td>Not-in-family</td>\n",
       "      <td>White</td>\n",
       "      <td>Male</td>\n",
       "      <td>40</td>\n",
       "      <td>United-States</td>\n",
       "      <td>&lt;=50K</td>\n",
       "    </tr>\n",
       "    <tr>\n",
       "      <th>4</th>\n",
       "      <td>59</td>\n",
       "      <td>Private</td>\n",
       "      <td>HS-grad</td>\n",
       "      <td>9</td>\n",
       "      <td>Married-civ-spouse</td>\n",
       "      <td>Machine-op-inspct</td>\n",
       "      <td>Husband</td>\n",
       "      <td>White</td>\n",
       "      <td>Male</td>\n",
       "      <td>40</td>\n",
       "      <td>?</td>\n",
       "      <td>&lt;=50K</td>\n",
       "    </tr>\n",
       "    <tr>\n",
       "      <th>...</th>\n",
       "      <td>...</td>\n",
       "      <td>...</td>\n",
       "      <td>...</td>\n",
       "      <td>...</td>\n",
       "      <td>...</td>\n",
       "      <td>...</td>\n",
       "      <td>...</td>\n",
       "      <td>...</td>\n",
       "      <td>...</td>\n",
       "      <td>...</td>\n",
       "      <td>...</td>\n",
       "      <td>...</td>\n",
       "    </tr>\n",
       "    <tr>\n",
       "      <th>32556</th>\n",
       "      <td>46</td>\n",
       "      <td>Private</td>\n",
       "      <td>Assoc-acdm</td>\n",
       "      <td>12</td>\n",
       "      <td>Never-married</td>\n",
       "      <td>Adm-clerical</td>\n",
       "      <td>Not-in-family</td>\n",
       "      <td>White</td>\n",
       "      <td>Female</td>\n",
       "      <td>47</td>\n",
       "      <td>Cuba</td>\n",
       "      <td>&lt;=50K</td>\n",
       "    </tr>\n",
       "    <tr>\n",
       "      <th>32557</th>\n",
       "      <td>23</td>\n",
       "      <td>Private</td>\n",
       "      <td>Some-college</td>\n",
       "      <td>10</td>\n",
       "      <td>Never-married</td>\n",
       "      <td>Other-service</td>\n",
       "      <td>Not-in-family</td>\n",
       "      <td>Black</td>\n",
       "      <td>Male</td>\n",
       "      <td>25</td>\n",
       "      <td>United-States</td>\n",
       "      <td>&lt;=50K</td>\n",
       "    </tr>\n",
       "    <tr>\n",
       "      <th>32558</th>\n",
       "      <td>30</td>\n",
       "      <td>State-gov</td>\n",
       "      <td>Assoc-voc</td>\n",
       "      <td>11</td>\n",
       "      <td>Married-civ-spouse</td>\n",
       "      <td>Protective-serv</td>\n",
       "      <td>Husband</td>\n",
       "      <td>White</td>\n",
       "      <td>Male</td>\n",
       "      <td>40</td>\n",
       "      <td>United-States</td>\n",
       "      <td>&lt;=50K</td>\n",
       "    </tr>\n",
       "    <tr>\n",
       "      <th>32559</th>\n",
       "      <td>23</td>\n",
       "      <td>Private</td>\n",
       "      <td>HS-grad</td>\n",
       "      <td>9</td>\n",
       "      <td>Never-married</td>\n",
       "      <td>Adm-clerical</td>\n",
       "      <td>Not-in-family</td>\n",
       "      <td>White</td>\n",
       "      <td>Female</td>\n",
       "      <td>40</td>\n",
       "      <td>United-States</td>\n",
       "      <td>&lt;=50K</td>\n",
       "    </tr>\n",
       "    <tr>\n",
       "      <th>32560</th>\n",
       "      <td>37</td>\n",
       "      <td>State-gov</td>\n",
       "      <td>HS-grad</td>\n",
       "      <td>9</td>\n",
       "      <td>Married-civ-spouse</td>\n",
       "      <td>Adm-clerical</td>\n",
       "      <td>Husband</td>\n",
       "      <td>White</td>\n",
       "      <td>Male</td>\n",
       "      <td>40</td>\n",
       "      <td>United-States</td>\n",
       "      <td>&lt;=50K</td>\n",
       "    </tr>\n",
       "  </tbody>\n",
       "</table>\n",
       "<p>32561 rows × 12 columns</p>\n",
       "</div>"
      ],
      "text/plain": [
       "       age    workclass     education  education-num      marital-status  \\\n",
       "0       24      Private     Assoc-voc             11       Never-married   \n",
       "1       35      Private       7th-8th              4  Married-civ-spouse   \n",
       "2       35  Federal-gov       HS-grad              9       Never-married   \n",
       "3       38      Private       HS-grad              9       Never-married   \n",
       "4       59      Private       HS-grad              9  Married-civ-spouse   \n",
       "...    ...          ...           ...            ...                 ...   \n",
       "32556   46      Private    Assoc-acdm             12       Never-married   \n",
       "32557   23      Private  Some-college             10       Never-married   \n",
       "32558   30    State-gov     Assoc-voc             11  Married-civ-spouse   \n",
       "32559   23      Private       HS-grad              9       Never-married   \n",
       "32560   37    State-gov       HS-grad              9  Married-civ-spouse   \n",
       "\n",
       "              occupation   relationship   race     sex  hourse-per-week  \\\n",
       "0           Tech-support      Unmarried  Black  Female               40   \n",
       "1      Handlers-cleaners        Husband  White    Male               40   \n",
       "2           Adm-clerical  Not-in-family  White    Male               40   \n",
       "3      Machine-op-inspct  Not-in-family  White    Male               40   \n",
       "4      Machine-op-inspct        Husband  White    Male               40   \n",
       "...                  ...            ...    ...     ...              ...   \n",
       "32556       Adm-clerical  Not-in-family  White  Female               47   \n",
       "32557      Other-service  Not-in-family  Black    Male               25   \n",
       "32558    Protective-serv        Husband  White    Male               40   \n",
       "32559       Adm-clerical  Not-in-family  White  Female               40   \n",
       "32560       Adm-clerical        Husband  White    Male               40   \n",
       "\n",
       "      native-country  CLASS  \n",
       "0      United-States  <=50K  \n",
       "1             Mexico  <=50K  \n",
       "2      United-States  <=50K  \n",
       "3      United-States  <=50K  \n",
       "4                  ?  <=50K  \n",
       "...              ...    ...  \n",
       "32556           Cuba  <=50K  \n",
       "32557  United-States  <=50K  \n",
       "32558  United-States  <=50K  \n",
       "32559  United-States  <=50K  \n",
       "32560  United-States  <=50K  \n",
       "\n",
       "[32561 rows x 12 columns]"
      ]
     },
     "execution_count": 40,
     "metadata": {},
     "output_type": "execute_result"
    }
   ],
   "source": [
    "adult_dataset = adult_dataset[['age','workclass','education','education-num','marital-status','occupation','relationship','race','sex','hourse-per-week', 'native-country' ,'CLASS']]\n",
    "\n",
    "for element in list(adult_dataset):\n",
    "    if adult_dataset[element].dtype not in [np.float64, np.int64]:\n",
    "        adult_dataset[element] = adult_dataset[element].str.strip()\n",
    "\n",
    "adult_dataset['CLASS'] = adult_dataset['CLASS'].str.strip()\n",
    "adult_dataset.head()\n",
    "adult_dataset"
   ]
  },
  {
   "cell_type": "code",
   "execution_count": 41,
   "id": "dietary-shame",
   "metadata": {},
   "outputs": [
    {
     "data": {
      "text/html": [
       "<div>\n",
       "<style scoped>\n",
       "    .dataframe tbody tr th:only-of-type {\n",
       "        vertical-align: middle;\n",
       "    }\n",
       "\n",
       "    .dataframe tbody tr th {\n",
       "        vertical-align: top;\n",
       "    }\n",
       "\n",
       "    .dataframe thead th {\n",
       "        text-align: right;\n",
       "    }\n",
       "</style>\n",
       "<table border=\"1\" class=\"dataframe\">\n",
       "  <thead>\n",
       "    <tr style=\"text-align: right;\">\n",
       "      <th></th>\n",
       "      <th>age</th>\n",
       "      <th>workclass</th>\n",
       "      <th>education</th>\n",
       "      <th>education-num</th>\n",
       "      <th>marital-status</th>\n",
       "      <th>occupation</th>\n",
       "      <th>relationship</th>\n",
       "      <th>race</th>\n",
       "      <th>sex</th>\n",
       "      <th>hourse-per-week</th>\n",
       "      <th>native-country</th>\n",
       "      <th>CLASS</th>\n",
       "    </tr>\n",
       "  </thead>\n",
       "  <tbody>\n",
       "    <tr>\n",
       "      <th>0</th>\n",
       "      <td>24</td>\n",
       "      <td>Private</td>\n",
       "      <td>Assoc-voc</td>\n",
       "      <td>11</td>\n",
       "      <td>Never-married</td>\n",
       "      <td>Tech-support</td>\n",
       "      <td>Unmarried</td>\n",
       "      <td>Black</td>\n",
       "      <td>Female</td>\n",
       "      <td>40</td>\n",
       "      <td>United-States</td>\n",
       "      <td>&lt;=50K</td>\n",
       "    </tr>\n",
       "    <tr>\n",
       "      <th>1</th>\n",
       "      <td>35</td>\n",
       "      <td>Private</td>\n",
       "      <td>7th-8th</td>\n",
       "      <td>4</td>\n",
       "      <td>Married-civ-spouse</td>\n",
       "      <td>Handlers-cleaners</td>\n",
       "      <td>Husband</td>\n",
       "      <td>White</td>\n",
       "      <td>Male</td>\n",
       "      <td>40</td>\n",
       "      <td>Mexico</td>\n",
       "      <td>&lt;=50K</td>\n",
       "    </tr>\n",
       "    <tr>\n",
       "      <th>2</th>\n",
       "      <td>35</td>\n",
       "      <td>Federal-gov</td>\n",
       "      <td>HS-grad</td>\n",
       "      <td>9</td>\n",
       "      <td>Never-married</td>\n",
       "      <td>Adm-clerical</td>\n",
       "      <td>Not-in-family</td>\n",
       "      <td>White</td>\n",
       "      <td>Male</td>\n",
       "      <td>40</td>\n",
       "      <td>United-States</td>\n",
       "      <td>&lt;=50K</td>\n",
       "    </tr>\n",
       "    <tr>\n",
       "      <th>3</th>\n",
       "      <td>38</td>\n",
       "      <td>Private</td>\n",
       "      <td>HS-grad</td>\n",
       "      <td>9</td>\n",
       "      <td>Never-married</td>\n",
       "      <td>Machine-op-inspct</td>\n",
       "      <td>Not-in-family</td>\n",
       "      <td>White</td>\n",
       "      <td>Male</td>\n",
       "      <td>40</td>\n",
       "      <td>United-States</td>\n",
       "      <td>&lt;=50K</td>\n",
       "    </tr>\n",
       "    <tr>\n",
       "      <th>5</th>\n",
       "      <td>50</td>\n",
       "      <td>Private</td>\n",
       "      <td>Bachelors</td>\n",
       "      <td>13</td>\n",
       "      <td>Married-civ-spouse</td>\n",
       "      <td>Sales</td>\n",
       "      <td>Husband</td>\n",
       "      <td>White</td>\n",
       "      <td>Male</td>\n",
       "      <td>40</td>\n",
       "      <td>United-States</td>\n",
       "      <td>&lt;=50K</td>\n",
       "    </tr>\n",
       "    <tr>\n",
       "      <th>...</th>\n",
       "      <td>...</td>\n",
       "      <td>...</td>\n",
       "      <td>...</td>\n",
       "      <td>...</td>\n",
       "      <td>...</td>\n",
       "      <td>...</td>\n",
       "      <td>...</td>\n",
       "      <td>...</td>\n",
       "      <td>...</td>\n",
       "      <td>...</td>\n",
       "      <td>...</td>\n",
       "      <td>...</td>\n",
       "    </tr>\n",
       "    <tr>\n",
       "      <th>32556</th>\n",
       "      <td>46</td>\n",
       "      <td>Private</td>\n",
       "      <td>Assoc-acdm</td>\n",
       "      <td>12</td>\n",
       "      <td>Never-married</td>\n",
       "      <td>Adm-clerical</td>\n",
       "      <td>Not-in-family</td>\n",
       "      <td>White</td>\n",
       "      <td>Female</td>\n",
       "      <td>47</td>\n",
       "      <td>Cuba</td>\n",
       "      <td>&lt;=50K</td>\n",
       "    </tr>\n",
       "    <tr>\n",
       "      <th>32557</th>\n",
       "      <td>23</td>\n",
       "      <td>Private</td>\n",
       "      <td>Some-college</td>\n",
       "      <td>10</td>\n",
       "      <td>Never-married</td>\n",
       "      <td>Other-service</td>\n",
       "      <td>Not-in-family</td>\n",
       "      <td>Black</td>\n",
       "      <td>Male</td>\n",
       "      <td>25</td>\n",
       "      <td>United-States</td>\n",
       "      <td>&lt;=50K</td>\n",
       "    </tr>\n",
       "    <tr>\n",
       "      <th>32558</th>\n",
       "      <td>30</td>\n",
       "      <td>State-gov</td>\n",
       "      <td>Assoc-voc</td>\n",
       "      <td>11</td>\n",
       "      <td>Married-civ-spouse</td>\n",
       "      <td>Protective-serv</td>\n",
       "      <td>Husband</td>\n",
       "      <td>White</td>\n",
       "      <td>Male</td>\n",
       "      <td>40</td>\n",
       "      <td>United-States</td>\n",
       "      <td>&lt;=50K</td>\n",
       "    </tr>\n",
       "    <tr>\n",
       "      <th>32559</th>\n",
       "      <td>23</td>\n",
       "      <td>Private</td>\n",
       "      <td>HS-grad</td>\n",
       "      <td>9</td>\n",
       "      <td>Never-married</td>\n",
       "      <td>Adm-clerical</td>\n",
       "      <td>Not-in-family</td>\n",
       "      <td>White</td>\n",
       "      <td>Female</td>\n",
       "      <td>40</td>\n",
       "      <td>United-States</td>\n",
       "      <td>&lt;=50K</td>\n",
       "    </tr>\n",
       "    <tr>\n",
       "      <th>32560</th>\n",
       "      <td>37</td>\n",
       "      <td>State-gov</td>\n",
       "      <td>HS-grad</td>\n",
       "      <td>9</td>\n",
       "      <td>Married-civ-spouse</td>\n",
       "      <td>Adm-clerical</td>\n",
       "      <td>Husband</td>\n",
       "      <td>White</td>\n",
       "      <td>Male</td>\n",
       "      <td>40</td>\n",
       "      <td>United-States</td>\n",
       "      <td>&lt;=50K</td>\n",
       "    </tr>\n",
       "  </tbody>\n",
       "</table>\n",
       "<p>30162 rows × 12 columns</p>\n",
       "</div>"
      ],
      "text/plain": [
       "       age    workclass     education  education-num      marital-status  \\\n",
       "0       24      Private     Assoc-voc             11       Never-married   \n",
       "1       35      Private       7th-8th              4  Married-civ-spouse   \n",
       "2       35  Federal-gov       HS-grad              9       Never-married   \n",
       "3       38      Private       HS-grad              9       Never-married   \n",
       "5       50      Private     Bachelors             13  Married-civ-spouse   \n",
       "...    ...          ...           ...            ...                 ...   \n",
       "32556   46      Private    Assoc-acdm             12       Never-married   \n",
       "32557   23      Private  Some-college             10       Never-married   \n",
       "32558   30    State-gov     Assoc-voc             11  Married-civ-spouse   \n",
       "32559   23      Private       HS-grad              9       Never-married   \n",
       "32560   37    State-gov       HS-grad              9  Married-civ-spouse   \n",
       "\n",
       "              occupation   relationship   race     sex  hourse-per-week  \\\n",
       "0           Tech-support      Unmarried  Black  Female               40   \n",
       "1      Handlers-cleaners        Husband  White    Male               40   \n",
       "2           Adm-clerical  Not-in-family  White    Male               40   \n",
       "3      Machine-op-inspct  Not-in-family  White    Male               40   \n",
       "5                  Sales        Husband  White    Male               40   \n",
       "...                  ...            ...    ...     ...              ...   \n",
       "32556       Adm-clerical  Not-in-family  White  Female               47   \n",
       "32557      Other-service  Not-in-family  Black    Male               25   \n",
       "32558    Protective-serv        Husband  White    Male               40   \n",
       "32559       Adm-clerical  Not-in-family  White  Female               40   \n",
       "32560       Adm-clerical        Husband  White    Male               40   \n",
       "\n",
       "      native-country  CLASS  \n",
       "0      United-States  <=50K  \n",
       "1             Mexico  <=50K  \n",
       "2      United-States  <=50K  \n",
       "3      United-States  <=50K  \n",
       "5      United-States  <=50K  \n",
       "...              ...    ...  \n",
       "32556           Cuba  <=50K  \n",
       "32557  United-States  <=50K  \n",
       "32558  United-States  <=50K  \n",
       "32559  United-States  <=50K  \n",
       "32560  United-States  <=50K  \n",
       "\n",
       "[30162 rows x 12 columns]"
      ]
     },
     "execution_count": 41,
     "metadata": {},
     "output_type": "execute_result"
    }
   ],
   "source": [
    "adult_dataset.dropna(how='any', axis=0)\n",
    "indexNames = adult_dataset[(adult_dataset['workclass'] == '?') | (adult_dataset['education'] == '?') | (adult_dataset['marital-status'] == '?') | (adult_dataset['occupation'] == '?') | (adult_dataset['relationship'] == '?') | (adult_dataset['race'] == '?') | (adult_dataset['sex'] == '?') | (adult_dataset['native-country'] == '?') ].index\n",
    "# print(indexNames)\n",
    "adult_dataset.drop(indexNames, inplace=True)\n",
    "adult_dataset.head()\n",
    "adult_dataset.reset_index(inplace=False)\n",
    "adult_dataset"
   ]
  },
  {
   "cell_type": "markdown",
   "id": "occupational-canyon",
   "metadata": {},
   "source": [
    "### Adult 70%"
   ]
  },
  {
   "cell_type": "code",
   "execution_count": 42,
   "id": "excellent-central",
   "metadata": {},
   "outputs": [
    {
     "name": "stdout",
     "output_type": "stream",
     "text": [
      "<=50K    10574\n",
      ">50K      3501\n",
      "Name: CLASS, dtype: int64\n"
     ]
    },
    {
     "data": {
      "text/plain": [
       "<AxesSubplot:title={'center':'class'}>"
      ]
     },
     "execution_count": 42,
     "metadata": {},
     "output_type": "execute_result"
    },
    {
     "data": {
      "image/png": "[encoded data removed]",
      "text/plain": [
       "<Figure size 432x288 with 1 Axes>"
      ]
     },
     "metadata": {
      "needs_background": "light"
     },
     "output_type": "display_data"
    }
   ],
   "source": [
    "adult_set_for_training70, adult_testing70 = data_utils.data_split(adult_dataset, 70)\n",
    "adult_training70, adult_validation70 = data_utils.split_training_data_for_pruning(adult_set_for_training70)\n",
    "\n",
    "print(adult_training70['CLASS'].value_counts())\n",
    "adult_training70['CLASS'].value_counts().plot(kind='bar', title='class')"
   ]
  },
  {
   "cell_type": "code",
   "execution_count": 43,
   "id": "mature-cologne",
   "metadata": {},
   "outputs": [
    {
     "data": {
      "text/plain": [
       "<AxesSubplot:title={'center':'class'}>"
      ]
     },
     "execution_count": 43,
     "metadata": {},
     "output_type": "execute_result"
    },
    {
     "data": {
      "image/png": "[encoded data removed]",
      "text/plain": [
       "<Figure size 432x288 with 1 Axes>"
      ]
     },
     "metadata": {
      "needs_background": "light"
     },
     "output_type": "display_data"
    }
   ],
   "source": [
    "resampling_adult70 = adult_training70.copy()\n",
    "less_50k_part70 = resampling_adult70[resampling_adult70['CLASS'] == '<=50K']\n",
    "more_50k_part70 = resampling_adult70[resampling_adult70['CLASS'] == '>50K'] \n",
    "\n",
    "less_50k_part_downsampled70 = resample(less_50k_part70, \n",
    "                                 replace=False,    \n",
    "                                 n_samples=3532)\n",
    "\n",
    "# Combine minority class with downsampled majority class\n",
    "balanced_adult_training70 = pd.concat([less_50k_part_downsampled70, more_50k_part70])\n",
    "balanced_adult_training70 = balanced_adult_training70.reset_index(level=None, drop=True, inplace=False, col_level=0, col_fill='')\n",
    "balanced_adult_training70 = balanced_adult_training70.sample(frac=1).reset_index(drop=True)\n",
    "\n",
    "adult_training70 = balanced_adult_training70.copy()\n",
    "adult_training70['CLASS'].value_counts().plot(kind='bar', title='class')"
   ]
  },
  {
   "cell_type": "markdown",
   "id": "alternate-canberra",
   "metadata": {},
   "source": [
    "### Adult 80%"
   ]
  },
  {
   "cell_type": "code",
   "execution_count": 44,
   "id": "completed-liechtenstein",
   "metadata": {},
   "outputs": [
    {
     "name": "stdout",
     "output_type": "stream",
     "text": [
      "<=50K    12049\n",
      ">50K      4036\n",
      "Name: CLASS, dtype: int64\n"
     ]
    },
    {
     "data": {
      "text/plain": [
       "<AxesSubplot:title={'center':'class'}>"
      ]
     },
     "execution_count": 44,
     "metadata": {},
     "output_type": "execute_result"
    },
    {
     "data": {
      "image/png": "[encoded data removed]",
      "text/plain": [
       "<Figure size 432x288 with 1 Axes>"
      ]
     },
     "metadata": {
      "needs_background": "light"
     },
     "output_type": "display_data"
    }
   ],
   "source": [
    "adult_set_for_training80, adult_testing80 = data_utils.data_split(adult_dataset, 80)\n",
    "adult_training80, adult_validation80 = data_utils.split_training_data_for_pruning(adult_set_for_training80)\n",
    "\n",
    "print(adult_training80['CLASS'].value_counts())\n",
    "adult_training80['CLASS'].value_counts().plot(kind='bar', title='class')"
   ]
  },
  {
   "cell_type": "code",
   "execution_count": 45,
   "id": "stretch-northwest",
   "metadata": {},
   "outputs": [
    {
     "data": {
      "text/plain": [
       "<AxesSubplot:title={'center':'class'}>"
      ]
     },
     "execution_count": 45,
     "metadata": {},
     "output_type": "execute_result"
    },
    {
     "data": {
      "image/png": "[encoded data removed]",
      "text/plain": [
       "<Figure size 432x288 with 1 Axes>"
      ]
     },
     "metadata": {
      "needs_background": "light"
     },
     "output_type": "display_data"
    }
   ],
   "source": [
    "resampling_adult80 = adult_training80.copy()\n",
    "less_50k_part80 = resampling_adult80[resampling_adult80['CLASS'] == '<=50K']\n",
    "more_50k_part80 = resampling_adult80[resampling_adult80['CLASS'] == '>50K'] \n",
    "\n",
    "less_50k_part_downsampled80 = resample(less_50k_part80, \n",
    "                                 replace=False,    \n",
    "                                 n_samples=4002)\n",
    "\n",
    "# Combine minority class with downsampled majority class\n",
    "balanced_adult_training80 = pd.concat([less_50k_part_downsampled80, more_50k_part80])\n",
    "balanced_adult_training80 = balanced_adult_training80.reset_index(level=None, drop=True, inplace=False, col_level=0, col_fill='')\n",
    "balanced_adult_training80 = balanced_adult_training80.sample(frac=1).reset_index(drop=True)\n",
    "\n",
    "adult_training80 = balanced_adult_training80.copy()\n",
    "adult_training80['CLASS'].value_counts().plot(kind='bar', title='class')"
   ]
  },
  {
   "cell_type": "markdown",
   "id": "regular-journal",
   "metadata": {},
   "source": [
    "### Adult 90%"
   ]
  },
  {
   "cell_type": "code",
   "execution_count": 46,
   "id": "informal-tunnel",
   "metadata": {},
   "outputs": [
    {
     "name": "stdout",
     "output_type": "stream",
     "text": [
      "<=50K    13571\n",
      ">50K      4525\n",
      "Name: CLASS, dtype: int64\n"
     ]
    },
    {
     "data": {
      "text/plain": [
       "<AxesSubplot:title={'center':'class'}>"
      ]
     },
     "execution_count": 46,
     "metadata": {},
     "output_type": "execute_result"
    },
    {
     "data": {
      "image/png": "[encoded data removed]",
      "text/plain": [
       "<Figure size 432x288 with 1 Axes>"
      ]
     },
     "metadata": {
      "needs_background": "light"
     },
     "output_type": "display_data"
    }
   ],
   "source": [
    "adult_set_for_training90, adult_testing90 = data_utils.data_split(adult_dataset, 90)\n",
    "adult_training90, adult_validation90 = data_utils.split_training_data_for_pruning(adult_set_for_training90)\n",
    "\n",
    "print(adult_training90['CLASS'].value_counts())\n",
    "adult_training90['CLASS'].value_counts().plot(kind='bar', title='class')"
   ]
  },
  {
   "cell_type": "code",
   "execution_count": 47,
   "id": "egyptian-train",
   "metadata": {},
   "outputs": [
    {
     "data": {
      "text/plain": [
       "<AxesSubplot:title={'center':'class'}>"
      ]
     },
     "execution_count": 47,
     "metadata": {},
     "output_type": "execute_result"
    },
    {
     "data": {
      "image/png": "[encoded data removed]",
      "text/plain": [
       "<Figure size 432x288 with 1 Axes>"
      ]
     },
     "metadata": {
      "needs_background": "light"
     },
     "output_type": "display_data"
    }
   ],
   "source": [
    "resampling_adult90 = adult_training90.copy()\n",
    "less_50k_part90 = resampling_adult90[resampling_adult90['CLASS'] == '<=50K']\n",
    "more_50k_part90 = resampling_adult90[resampling_adult90['CLASS'] == '>50K'] \n",
    "\n",
    "less_50k_part_downsampled90 = resample(less_50k_part90, \n",
    "                                 replace=False,    \n",
    "                                 n_samples=4469)\n",
    "\n",
    "# Combine minority class with downsampled majority class\n",
    "balanced_adult_training90 = pd.concat([less_50k_part_downsampled90, more_50k_part90])\n",
    "balanced_adult_training90 = balanced_adult_training90.reset_index(level=None, drop=True, inplace=False, col_level=0, col_fill='')\n",
    "balanced_adult_training90 = balanced_adult_training90.sample(frac=1).reset_index(drop=True)\n",
    "\n",
    "adult_training90 = balanced_adult_training90.copy()\n",
    "adult_training90['CLASS'].value_counts().plot(kind='bar', title='class')"
   ]
  },
  {
   "cell_type": "markdown",
   "id": "periodic-pressing",
   "metadata": {},
   "source": [
    "## Model Training"
   ]
  },
  {
   "cell_type": "code",
   "execution_count": 48,
   "id": "spoken-attack",
   "metadata": {},
   "outputs": [
    {
     "name": "stdout",
     "output_type": "stream",
     "text": [
      "Before Pruning - heuristic = gini_impurity_weighted\n",
      "Accuracy for: testing 77.59% | training 81.91% | levels 22 | leafs 436\n",
      "After Pruning:\n",
      "Accuracy for: testing 79.71% | training 80.83% | levels 22 | leafs 198\n",
      "\n",
      "\n",
      "Before Pruning - heuristic = info_gain\n",
      "Accuracy for: testing 64.89% | training 71.58% | levels 108 | leafs 279\n",
      "After Pruning:\n",
      "Accuracy for: testing 75.12% | training 50.22% | levels 2 | leafs 2\n",
      "\n",
      "\n",
      "Before Pruning - heuristic = information_gain_ratio\n",
      "Accuracy for: testing 65.13% | training 70.91% | levels 108 | leafs 271\n",
      "After Pruning:\n",
      "Accuracy for: testing 75.12% | training 50.22% | levels 2 | leafs 2\n",
      "\n",
      "\n",
      "Before Pruning - heuristic = distance_measure\n",
      "Accuracy for: testing 67.45% | training 71.69% | levels 16 | leafs 369\n",
      "After Pruning:\n",
      "Accuracy for: testing 74.13% | training 59.15% | levels 16 | leafs 126\n",
      "\n",
      "\n",
      "Before Pruning - heuristic = j_measure\n",
      "Accuracy for: testing 64.89% | training 71.58% | levels 108 | leafs 279\n",
      "After Pruning:\n",
      "Accuracy for: testing 75.12% | training 50.22% | levels 2 | leafs 2\n",
      "\n",
      "\n",
      "Before Pruning - heuristic = weight_of_evidence\n",
      "Accuracy for: testing 66.42% | training 73.17% | levels 108 | leafs 262\n",
      "After Pruning:\n",
      "Accuracy for: testing 75.12% | training 50.22% | levels 2 | leafs 2\n",
      "\n",
      "\n",
      "Before Pruning - heuristic = gini_pri\n",
      "Accuracy for: testing 66.13% | training 70.37% | levels 14 | leafs 259\n",
      "After Pruning:\n",
      "Accuracy for: testing 72.20% | training 58.87% | levels 14 | leafs 126\n",
      "\n",
      "\n",
      "Before Pruning - heuristic = relief\n",
      "Accuracy for: testing 66.91% | training 70.84% | levels 12 | leafs 270\n",
      "After Pruning:\n",
      "Accuracy for: testing 72.42% | training 58.78% | levels 12 | leafs 116\n",
      "\n",
      "\n",
      "Before Pruning - heuristic = relevance\n",
      "Accuracy for: testing 67.91% | training 70.41% | levels 18 | leafs 209\n",
      "After Pruning:\n",
      "Accuracy for: testing 73.36% | training 59.36% | levels 18 | leafs 122\n",
      "\n",
      "\n",
      "Before Pruning - heuristic = mdl_simple\n",
      "Accuracy for: testing 75.85% | training 81.07% | levels 14 | leafs 457\n",
      "After Pruning:\n",
      "Accuracy for: testing 81.42% | training 71.65% | levels 8 | leafs 97\n",
      "\n",
      "\n"
     ]
    }
   ],
   "source": [
    "train_tree_for_different_heuristics(adult_training70, adult_testing70, adult_validation70)"
   ]
  },
  {
   "cell_type": "code",
   "execution_count": 49,
   "id": "checked-lightweight",
   "metadata": {},
   "outputs": [
    {
     "name": "stdout",
     "output_type": "stream",
     "text": [
      "Before Pruning - heuristic = gini_impurity_weighted\n",
      "Accuracy for: testing 77.95% | training 81.35% | levels 26 | leafs 507\n",
      "After Pruning:\n",
      "Accuracy for: testing 79.53% | training 80.22% | levels 20 | leafs 201\n",
      "\n",
      "\n",
      "Before Pruning - heuristic = info_gain\n",
      "Accuracy for: testing 65.56% | training 71.32% | levels 98 | leafs 303\n",
      "After Pruning:\n",
      "Accuracy for: testing 73.11% | training 50.85% | levels 34 | leafs 26\n",
      "\n",
      "\n",
      "Before Pruning - heuristic = information_gain_ratio\n",
      "Accuracy for: testing 64.98% | training 70.40% | levels 98 | leafs 292\n",
      "After Pruning:\n",
      "Accuracy for: testing 73.11% | training 50.85% | levels 34 | leafs 26\n",
      "\n",
      "\n",
      "Before Pruning - heuristic = distance_measure\n",
      "Accuracy for: testing 70.18% | training 68.06% | levels 16 | leafs 227\n",
      "After Pruning:\n",
      "Accuracy for: testing 73.18% | training 58.81% | levels 14 | leafs 117\n",
      "\n",
      "\n",
      "Before Pruning - heuristic = j_measure\n",
      "Accuracy for: testing 65.56% | training 71.32% | levels 98 | leafs 303\n",
      "After Pruning:\n",
      "Accuracy for: testing 73.11% | training 50.85% | levels 34 | leafs 26\n",
      "\n",
      "\n",
      "Before Pruning - heuristic = weight_of_evidence\n",
      "Accuracy for: testing 68.09% | training 73.55% | levels 96 | leafs 277\n",
      "After Pruning:\n",
      "Accuracy for: testing 73.20% | training 51.48% | levels 34 | leafs 27\n",
      "\n",
      "\n",
      "Before Pruning - heuristic = gini_pri\n",
      "Accuracy for: testing 66.72% | training 69.61% | levels 14 | leafs 255\n",
      "After Pruning:\n",
      "Accuracy for: testing 72.24% | training 58.68% | levels 14 | leafs 116\n",
      "\n",
      "\n",
      "Before Pruning - heuristic = relief\n",
      "Accuracy for: testing 68.14% | training 70.05% | levels 12 | leafs 281\n",
      "After Pruning:\n",
      "Accuracy for: testing 73.11% | training 58.62% | levels 10 | leafs 108\n",
      "\n",
      "\n",
      "Before Pruning - heuristic = relevance\n",
      "Accuracy for: testing 66.42% | training 68.95% | levels 16 | leafs 186\n",
      "After Pruning:\n",
      "Accuracy for: testing 72.19% | training 58.60% | levels 14 | leafs 108\n",
      "\n",
      "\n",
      "Before Pruning - heuristic = mdl_simple\n",
      "Accuracy for: testing 77.18% | training 80.31% | levels 12 | leafs 465\n",
      "After Pruning:\n",
      "Accuracy for: testing 81.35% | training 71.26% | levels 6 | leafs 97\n",
      "\n",
      "\n"
     ]
    }
   ],
   "source": [
    "train_tree_for_different_heuristics(adult_training80, adult_testing80, adult_validation80)"
   ]
  },
  {
   "cell_type": "code",
   "execution_count": 50,
   "id": "loose-sapphire",
   "metadata": {},
   "outputs": [
    {
     "name": "stdout",
     "output_type": "stream",
     "text": [
      "Before Pruning - heuristic = gini_impurity_weighted\n",
      "Accuracy for: testing 78.32% | training 81.33% | levels 26 | leafs 573\n",
      "After Pruning:\n",
      "Accuracy for: testing 81.34% | training 79.49% | levels 18 | leafs 220\n",
      "\n",
      "\n",
      "Before Pruning - heuristic = info_gain\n",
      "Accuracy for: testing 65.83% | training 71.03% | levels 104 | leafs 305\n",
      "After Pruning:\n",
      "Accuracy for: testing 73.19% | training 51.05% | levels 28 | leafs 26\n",
      "\n",
      "\n",
      "Before Pruning - heuristic = information_gain_ratio\n",
      "Accuracy for: testing 65.89% | training 70.80% | levels 104 | leafs 294\n",
      "After Pruning:\n",
      "Accuracy for: testing 73.19% | training 51.05% | levels 28 | leafs 26\n",
      "\n",
      "\n",
      "Before Pruning - heuristic = distance_measure\n",
      "Accuracy for: testing 71.63% | training 67.79% | levels 14 | leafs 225\n",
      "After Pruning:\n",
      "Accuracy for: testing 73.12% | training 67.12% | levels 14 | leafs 126\n",
      "\n",
      "\n",
      "Before Pruning - heuristic = j_measure\n",
      "Accuracy for: testing 65.83% | training 71.03% | levels 104 | leafs 305\n",
      "After Pruning:\n",
      "Accuracy for: testing 73.19% | training 51.05% | levels 28 | leafs 26\n",
      "\n",
      "\n",
      "Before Pruning - heuristic = weight_of_evidence\n",
      "Accuracy for: testing 68.98% | training 73.46% | levels 104 | leafs 302\n",
      "After Pruning:\n",
      "Accuracy for: testing 73.19% | training 51.05% | levels 28 | leafs 26\n",
      "\n",
      "\n",
      "Before Pruning - heuristic = gini_pri\n",
      "Accuracy for: testing 67.92% | training 69.54% | levels 14 | leafs 208\n",
      "After Pruning:\n",
      "Accuracy for: testing 73.75% | training 58.76% | levels 14 | leafs 126\n",
      "\n",
      "\n",
      "Before Pruning - heuristic = relief\n",
      "Accuracy for: testing 71.10% | training 67.24% | levels 12 | leafs 165\n",
      "After Pruning:\n",
      "Accuracy for: testing 71.96% | training 67.01% | levels 10 | leafs 129\n",
      "\n",
      "\n",
      "Before Pruning - heuristic = relevance\n",
      "Accuracy for: testing 67.98% | training 69.48% | levels 18 | leafs 193\n",
      "After Pruning:\n",
      "Accuracy for: testing 73.78% | training 58.92% | levels 18 | leafs 118\n",
      "\n",
      "\n",
      "Before Pruning - heuristic = mdl_simple\n",
      "Accuracy for: testing 79.35% | training 80.22% | levels 14 | leafs 513\n",
      "After Pruning:\n",
      "Accuracy for: testing 81.70% | training 70.85% | levels 6 | leafs 110\n",
      "\n",
      "\n"
     ]
    }
   ],
   "source": [
    "train_tree_for_different_heuristics(adult_training90, adult_testing90, adult_validation90)"
   ]
  }
 ],
 "metadata": {
  "kernelspec": {
   "display_name": "Python 3",
   "language": "python",
   "name": "python3"
  },
  "language_info": {
   "codemirror_mode": {
    "name": "ipython",
    "version": 3
   },
   "file_extension": ".py",
   "mimetype": "text/x-python",
   "name": "python",
   "nbconvert_exporter": "python",
   "pygments_lexer": "ipython3",
   "version": "3.8.10"
  }
 },
 "nbformat": 4,
 "nbformat_minor": 5
}
